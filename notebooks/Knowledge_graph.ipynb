{
  "nbformat": 4,
  "nbformat_minor": 0,
  "metadata": {
    "colab": {
      "provenance": [],
      "toc_visible": true
    },
    "kernelspec": {
      "name": "python3",
      "display_name": "Python 3"
    }
  },
  "cells": [
    {
      "cell_type": "markdown",
      "metadata": {
        "id": "ZOU0_UQN_1t7"
      },
      "source": [
        "#Extract graphs for 2 time period"
      ]
    },
    {
      "cell_type": "code",
      "metadata": {
        "id": "t_eVPdjfA4Nj"
      },
      "source": [
        "import requests\n",
        "import pandas as pd\n",
        "from collections import OrderedDict\n",
        "import numpy as np\n",
        "from itertools import permutations \n",
        "import tqdm"
      ],
      "execution_count": null,
      "outputs": []
    },
    {
      "cell_type": "code",
      "metadata": {
        "id": "3oxnTrRN5hVk"
      },
      "source": [
        "# cluster1 = ['http://dbpedia.org/resource/PHP']\n",
        "# cluster2 = ['http://dbpedia.org/resource/JavaScript']\n",
        "\n",
        "# cluster1 = ['http://dbpedia.org/resource/PHP', 'http://dbpedia.org/resource/ECMAScript']\n",
        "# cluster2 = ['http://dbpedia.org/resource/JavaScript', 'http://dbpedia.org/resource/Dynamic_HTML', 'http://dbpedia.org/resource/PHP']\n",
        "\n",
        "# cluster1 = ['http://dbpedia.org/resource/Fortran', 'http://dbpedia.org/resource/JavaScript', 'http://dbpedia.org/resource/PHP', 'http://dbpedia.org/resource/C++']\n",
        "# cluster2 = ['http://dbpedia.org/resource/ECMAScript', 'http://dbpedia.org/resource/JavaScript', 'http://dbpedia.org/resource/Dynamic_HTML', 'http://dbpedia.org/resource/VBScript']"
      ],
      "execution_count": null,
      "outputs": []
    },
    {
      "cell_type": "code",
      "metadata": {
        "id": "ChKzjbzCmSDi"
      },
      "source": [
        "# getPathsBetweenTwoNodes Function returns dataframe of All possible paths between two Nodes\n",
        "def getPathsBetweenTwoNodes(A, B): \n",
        "  url = 'http://dbpedia.org/sparql/'\n",
        "  query = \"\"\"\n",
        "  SELECT *\n",
        "  WHERE\n",
        "  {\n",
        "    {\n",
        "    <\"\"\" + A + \"\"\">  ?r1 <\"\"\" + B + \"\"\"> .\n",
        "    }\n",
        "    UNION\n",
        "    {\n",
        "      <\"\"\" + A + \"\"\"> ?r1 ?node1 .\n",
        "      ?node1 ?r2 <\"\"\" + B + \"\"\"> .\n",
        "    }\n",
        "    UNION\n",
        "    {\n",
        "      <\"\"\" + A + \"\"\"> ?r1 ?node1 .\n",
        "      ?node1 ?r2 ?node2 .\n",
        "      ?node2 ?r3 <\"\"\" + B + \"\"\"> .\n",
        "    }\n",
        "    # Add additional UNION for each length of path you want up to your upper bound\n",
        "  }\n",
        "  \"\"\"\n",
        "  print(query)\n",
        "  r = requests.get(url, params = {'format': 'json', 'query': query})\n",
        "  data = r.json()\n",
        "\n",
        "  subgraph = []\n",
        "  for item in data['results']['bindings']:\n",
        "      subgraph.append(OrderedDict({\n",
        "        'source_node': A, \n",
        "        'r1': item['r1']['value'],\n",
        "        'node1': item['node1']['value']\n",
        "            if 'node1' in item else \"\",\n",
        "        'r2': item['r2']['value']\n",
        "            if 'r2' in item else \"\",\n",
        "        'node2': item['node2']['value']\n",
        "            if 'node2' in item else \"\",\n",
        "        'r3': item['r3']['value']\n",
        "            if 'r3' in item else \"\",\n",
        "        'target_node': B\n",
        "        }))\n",
        "\n",
        "  df = pd.DataFrame(subgraph)\n",
        "  return df"
      ],
      "execution_count": null,
      "outputs": []
    },
    {
      "cell_type": "code",
      "metadata": {
        "colab": {
          "base_uri": "https://localhost:8080/"
        },
        "id": "Sm_fv9f3jyDV",
        "outputId": "cae4ce64-b942-476d-8936-cc0233cd2519"
      },
      "source": [
        "getPathsBetweenTwoNodes('http://dbpedia.org/resource/PHP', 'http://dbpedia.org/resource/JavaScript')"
      ],
      "execution_count": null,
      "outputs": [
        {
          "output_type": "stream",
          "text": [
            "\n",
            "  SELECT *\n",
            "  WHERE\n",
            "  {\n",
            "    {\n",
            "    <http://dbpedia.org/resource/PHP>  ?r1 <http://dbpedia.org/resource/JavaScript> .\n",
            "    }\n",
            "    UNION\n",
            "    {\n",
            "      <http://dbpedia.org/resource/PHP> ?r1 ?node1 .\n",
            "      ?node1 ?r2 <http://dbpedia.org/resource/JavaScript> .\n",
            "    }\n",
            "    UNION\n",
            "    {\n",
            "      <http://dbpedia.org/resource/PHP> ?r1 ?node1 .\n",
            "      ?node1 ?r2 ?node2 .\n",
            "      ?node2 ?r3 <http://dbpedia.org/resource/JavaScript> .\n",
            "    }\n",
            "    # Add additional UNION for each length of path you want up to your upper bound\n",
            "  }\n",
            "  \n"
          ],
          "name": "stdout"
        },
        {
          "output_type": "execute_result",
          "data": {
            "text/html": [
              "<div>\n",
              "<style scoped>\n",
              "    .dataframe tbody tr th:only-of-type {\n",
              "        vertical-align: middle;\n",
              "    }\n",
              "\n",
              "    .dataframe tbody tr th {\n",
              "        vertical-align: top;\n",
              "    }\n",
              "\n",
              "    .dataframe thead th {\n",
              "        text-align: right;\n",
              "    }\n",
              "</style>\n",
              "<table border=\"1\" class=\"dataframe\">\n",
              "  <thead>\n",
              "    <tr style=\"text-align: right;\">\n",
              "      <th></th>\n",
              "      <th>source_node</th>\n",
              "      <th>r1</th>\n",
              "      <th>node1</th>\n",
              "      <th>r2</th>\n",
              "      <th>node2</th>\n",
              "      <th>r3</th>\n",
              "      <th>target_node</th>\n",
              "    </tr>\n",
              "  </thead>\n",
              "  <tbody>\n",
              "    <tr>\n",
              "      <th>0</th>\n",
              "      <td>http://dbpedia.org/resource/PHP</td>\n",
              "      <td>http://dbpedia.org/ontology/wikiPageWikiLink</td>\n",
              "      <td></td>\n",
              "      <td></td>\n",
              "      <td></td>\n",
              "      <td></td>\n",
              "      <td>http://dbpedia.org/resource/JavaScript</td>\n",
              "    </tr>\n",
              "    <tr>\n",
              "      <th>1</th>\n",
              "      <td>http://dbpedia.org/resource/PHP</td>\n",
              "      <td>http://dbpedia.org/property/influencedBy</td>\n",
              "      <td></td>\n",
              "      <td></td>\n",
              "      <td></td>\n",
              "      <td></td>\n",
              "      <td>http://dbpedia.org/resource/JavaScript</td>\n",
              "    </tr>\n",
              "    <tr>\n",
              "      <th>2</th>\n",
              "      <td>http://dbpedia.org/resource/PHP</td>\n",
              "      <td>http://dbpedia.org/ontology/influencedBy</td>\n",
              "      <td></td>\n",
              "      <td></td>\n",
              "      <td></td>\n",
              "      <td></td>\n",
              "      <td>http://dbpedia.org/resource/JavaScript</td>\n",
              "    </tr>\n",
              "    <tr>\n",
              "      <th>3</th>\n",
              "      <td>http://dbpedia.org/resource/PHP</td>\n",
              "      <td>http://dbpedia.org/ontology/wikiPageWikiLink</td>\n",
              "      <td>http://dbpedia.org/resource/Constructor_(objec...</td>\n",
              "      <td>http://dbpedia.org/ontology/wikiPageWikiLink</td>\n",
              "      <td></td>\n",
              "      <td></td>\n",
              "      <td>http://dbpedia.org/resource/JavaScript</td>\n",
              "    </tr>\n",
              "    <tr>\n",
              "      <th>4</th>\n",
              "      <td>http://dbpedia.org/resource/PHP</td>\n",
              "      <td>http://dbpedia.org/ontology/wikiPageWikiLink</td>\n",
              "      <td>http://dbpedia.org/resource/Control_flow</td>\n",
              "      <td>http://dbpedia.org/ontology/wikiPageWikiLink</td>\n",
              "      <td></td>\n",
              "      <td></td>\n",
              "      <td>http://dbpedia.org/resource/JavaScript</td>\n",
              "    </tr>\n",
              "    <tr>\n",
              "      <th>...</th>\n",
              "      <td>...</td>\n",
              "      <td>...</td>\n",
              "      <td>...</td>\n",
              "      <td>...</td>\n",
              "      <td>...</td>\n",
              "      <td>...</td>\n",
              "      <td>...</td>\n",
              "    </tr>\n",
              "    <tr>\n",
              "      <th>8751</th>\n",
              "      <td>http://dbpedia.org/resource/PHP</td>\n",
              "      <td>http://dbpedia.org/ontology/wikiPageWikiLink</td>\n",
              "      <td>http://dbpedia.org/resource/Suhosin</td>\n",
              "      <td>http://dbpedia.org/ontology/programmingLanguage</td>\n",
              "      <td>http://dbpedia.org/resource/C_(programming_lan...</td>\n",
              "      <td>http://dbpedia.org/ontology/influenced</td>\n",
              "      <td>http://dbpedia.org/resource/JavaScript</td>\n",
              "    </tr>\n",
              "    <tr>\n",
              "      <th>8752</th>\n",
              "      <td>http://dbpedia.org/resource/PHP</td>\n",
              "      <td>http://dbpedia.org/ontology/wikiPageWikiLink</td>\n",
              "      <td>http://dbpedia.org/resource/Phalcon_(framework)</td>\n",
              "      <td>http://dbpedia.org/ontology/programmingLanguage</td>\n",
              "      <td>http://dbpedia.org/resource/C_(programming_lan...</td>\n",
              "      <td>http://dbpedia.org/ontology/influenced</td>\n",
              "      <td>http://dbpedia.org/resource/JavaScript</td>\n",
              "    </tr>\n",
              "    <tr>\n",
              "      <th>8753</th>\n",
              "      <td>http://dbpedia.org/resource/PHP</td>\n",
              "      <td>http://dbpedia.org/ontology/wikiPageWikiLink</td>\n",
              "      <td>http://dbpedia.org/resource/PostgreSQL</td>\n",
              "      <td>http://dbpedia.org/ontology/programmingLanguage</td>\n",
              "      <td>http://dbpedia.org/resource/C_(programming_lan...</td>\n",
              "      <td>http://dbpedia.org/ontology/influenced</td>\n",
              "      <td>http://dbpedia.org/resource/JavaScript</td>\n",
              "    </tr>\n",
              "    <tr>\n",
              "      <th>8754</th>\n",
              "      <td>http://dbpedia.org/resource/PHP</td>\n",
              "      <td>http://dbpedia.org/ontology/wikiPageWikiLink</td>\n",
              "      <td>http://dbpedia.org/resource/HipHop_for_PHP</td>\n",
              "      <td>http://dbpedia.org/ontology/programmingLanguage</td>\n",
              "      <td>http://dbpedia.org/resource/C_(programming_lan...</td>\n",
              "      <td>http://dbpedia.org/ontology/influenced</td>\n",
              "      <td>http://dbpedia.org/resource/JavaScript</td>\n",
              "    </tr>\n",
              "    <tr>\n",
              "      <th>8755</th>\n",
              "      <td>http://dbpedia.org/resource/PHP</td>\n",
              "      <td>http://dbpedia.org/ontology/wikiPageWikiLink</td>\n",
              "      <td>http://dbpedia.org/resource/MySQL</td>\n",
              "      <td>http://dbpedia.org/ontology/programmingLanguage</td>\n",
              "      <td>http://dbpedia.org/resource/C_(programming_lan...</td>\n",
              "      <td>http://dbpedia.org/ontology/influenced</td>\n",
              "      <td>http://dbpedia.org/resource/JavaScript</td>\n",
              "    </tr>\n",
              "  </tbody>\n",
              "</table>\n",
              "<p>8756 rows × 7 columns</p>\n",
              "</div>"
            ],
            "text/plain": [
              "                          source_node  ...                             target_node\n",
              "0     http://dbpedia.org/resource/PHP  ...  http://dbpedia.org/resource/JavaScript\n",
              "1     http://dbpedia.org/resource/PHP  ...  http://dbpedia.org/resource/JavaScript\n",
              "2     http://dbpedia.org/resource/PHP  ...  http://dbpedia.org/resource/JavaScript\n",
              "3     http://dbpedia.org/resource/PHP  ...  http://dbpedia.org/resource/JavaScript\n",
              "4     http://dbpedia.org/resource/PHP  ...  http://dbpedia.org/resource/JavaScript\n",
              "...                               ...  ...                                     ...\n",
              "8751  http://dbpedia.org/resource/PHP  ...  http://dbpedia.org/resource/JavaScript\n",
              "8752  http://dbpedia.org/resource/PHP  ...  http://dbpedia.org/resource/JavaScript\n",
              "8753  http://dbpedia.org/resource/PHP  ...  http://dbpedia.org/resource/JavaScript\n",
              "8754  http://dbpedia.org/resource/PHP  ...  http://dbpedia.org/resource/JavaScript\n",
              "8755  http://dbpedia.org/resource/PHP  ...  http://dbpedia.org/resource/JavaScript\n",
              "\n",
              "[8756 rows x 7 columns]"
            ]
          },
          "metadata": {
            "tags": []
          },
          "execution_count": 6
        }
      ]
    },
    {
      "cell_type": "code",
      "metadata": {
        "id": "u03ZpRHYUwBH"
      },
      "source": [
        "def getFullGraph(cluster1, cluster2):\n",
        "  clusterNodesList = cluster1 + cluster2\n",
        "  clusterNodesList = list(dict.fromkeys(clusterNodesList))\n",
        "\n",
        "  perm = permutations(clusterNodesList, 2) \n",
        "  frames = []\n",
        "\n",
        "  for element in list(perm):\n",
        "    df = getPathsBetweenTwoNodes(element[0], element[1])\n",
        "    frames.append(df)\n",
        "\n",
        "  result = pd.concat(frames)\n",
        "  return result"
      ],
      "execution_count": null,
      "outputs": []
    },
    {
      "cell_type": "code",
      "metadata": {
        "id": "qMZUhUxmO9m9"
      },
      "source": [
        "# c1 = ['http://dbpedia.org/resource/User_experience', 'http://dbpedia.org/resource/NoSQL', 'http://dbpedia.org/resource/User_interface', 'http://dbpedia.org/resource/Computer_hardware', 'http://dbpedia.org/resource/Relational_database', 'http://dbpedia.org/resource/Project_management', 'http://dbpedia.org/resource/SCADA']\n",
        "# c2 = ['http://dbpedia.org/resource/Software_architecture', 'http://dbpedia.org/resource/Microservices', 'http://dbpedia.org/resource/Virtual_machine']\n",
        "# x = getFullGraph(c1, c2)"
      ],
      "execution_count": null,
      "outputs": []
    },
    {
      "cell_type": "markdown",
      "metadata": {
        "id": "p734Ds0_LZQm"
      },
      "source": [
        "#Get the set of all unique Nodes and Edge sets"
      ]
    },
    {
      "cell_type": "code",
      "metadata": {
        "id": "13O3lrebtJ4u"
      },
      "source": [
        "def getUniqueNodesFromGraph(nodes_filter_graph):\n",
        "  # Get all Unique Nodes\n",
        "  unique_nodes_set = list(nodes_filter_graph.source_node.unique()) + list(nodes_filter_graph.node1.unique()) + list(nodes_filter_graph.node2.unique()) + list(nodes_filter_graph.target_node.unique())\n",
        "  unique_nodes_set = np.unique(unique_nodes_set)\n",
        "  # storing unique nodes in dataframe\n",
        "  unique_nodes_df = pd.DataFrame(unique_nodes_set.tolist(), columns=['Node'])\n",
        "  unique_nodes_df[\"id\"] = unique_nodes_df.index\n",
        "  unique_nodes_df.head()\n",
        "  return unique_nodes_df\n",
        "\n",
        "def getUniqueRelationsFromGraph(graphFull):\n",
        "  #Filtered table with only relations\n",
        "  edge_type_filter = graphFull[['r1', 'r2', 'r3']]\n",
        "  # Get set of edge types in the graph\n",
        "  edge_type_set = list(edge_type_filter.r1.unique()) + list(edge_type_filter.r2.unique()) + list(edge_type_filter.r3.unique())\n",
        "  edge_type_set = np.unique(edge_type_set)\n",
        "\n",
        "  # storing unique edges in dataframe\n",
        "  unique_edges_df = pd.DataFrame(edge_type_set.tolist(), columns=['Edge'])\n",
        "  unique_edges_df[\"id\"] = unique_edges_df.index\n",
        "  unique_edges_df.head(18)\n",
        "  return unique_edges_df"
      ],
      "execution_count": null,
      "outputs": []
    },
    {
      "cell_type": "markdown",
      "metadata": {
        "id": "-h9Bg3kgYh7G"
      },
      "source": [
        "#Map node and edge to respective id"
      ]
    },
    {
      "cell_type": "code",
      "metadata": {
        "id": "Wc4AHsa8Ynmd"
      },
      "source": [
        "def mapNodeWithId(node):\n",
        "  if node != \"\":\n",
        "    df = unique_nodes_df.query('Node == \"' + node + '\"', inplace = False)\n",
        "    id = df[\"id\"].tolist()\n",
        "    return str(id[0])\n",
        "  else:\n",
        "    return \"\"\n",
        "\n",
        "def mapPredicateWithId(predicate):\n",
        "  if predicate != \"\":\n",
        "    df = unique_edges_df.query('Edge == \"' + predicate + '\"', inplace = False)\n",
        "    id = df[\"id\"].tolist()\n",
        "    return str(id[0])\n",
        "  else:\n",
        "    return \"\""
      ],
      "execution_count": null,
      "outputs": []
    },
    {
      "cell_type": "markdown",
      "metadata": {
        "id": "RsZMgEuEgNhS"
      },
      "source": [
        "**Get the Edge set**"
      ]
    },
    {
      "cell_type": "code",
      "metadata": {
        "id": "OXP3SH-Dn0Ss",
        "colab": {
          "base_uri": "https://localhost:8080/"
        },
        "outputId": "b775f1ac-2265-4306-8a7e-79e8e8eab511"
      },
      "source": [
        "pd.set_option('max_rows', 99999)\n",
        "pd.set_option('max_colwidth', 400)\n",
        "pd.describe_option('max_colwidth')"
      ],
      "execution_count": null,
      "outputs": [
        {
          "output_type": "stream",
          "text": [
            "display.max_colwidth : int or None\n",
            "    The maximum width in characters of a column in the repr of\n",
            "    a pandas data structure. When the column overflows, a \"...\"\n",
            "    placeholder is embedded in the output. A 'None' value means unlimited.\n",
            "    [default: 50] [currently: 400]\n"
          ],
          "name": "stdout"
        }
      ]
    },
    {
      "cell_type": "code",
      "metadata": {
        "id": "ieQ2JMzSZsE7"
      },
      "source": [
        "def getAllRelationSets(graphFull):\n",
        "  # Subject -- Predicate -- object\n",
        "  relation_set = []\n",
        "  for index, row in graphFull.iterrows():\n",
        "    # for r1\n",
        "    if row[\"node1\"] == '':\n",
        "      relation_set.append([row[\"source_node\"], row[\"r1\"], row[\"target_node\"]])\n",
        "    else:\n",
        "      relation_set.append([row[\"source_node\"], row[\"r1\"], row[\"node1\"]])\n",
        "    # for r2\n",
        "    if row[\"node2\"] == '' and row[\"node1\"] != '':\n",
        "      relation_set.append([row[\"node1\"], row[\"r2\"], row[\"target_node\"]])\n",
        "    else:\n",
        "      relation_set.append([row[\"node1\"], row[\"r2\"], row[\"node2\"]])\n",
        "    # for r3\n",
        "    if row[\"node2\"] != '':\n",
        "      relation_set.append([row[\"node2\"], row[\"r3\"], row[\"target_node\"]])\n",
        "\n",
        "  relation_Dataframe = pd.DataFrame(relation_set, columns= ['start', 'relation', 'end'])\n",
        "  return relation_Dataframe"
      ],
      "execution_count": null,
      "outputs": []
    },
    {
      "cell_type": "markdown",
      "metadata": {
        "id": "wmo1irBbEdt-"
      },
      "source": [
        "#Group Predicates, objects and object-predicate pair with their number of occurence"
      ]
    },
    {
      "cell_type": "markdown",
      "metadata": {
        "id": "0tUQZpwOQKBk"
      },
      "source": [
        "**Unique Relation Dataset**"
      ]
    },
    {
      "cell_type": "code",
      "metadata": {
        "id": "b7sUYpImwUnz"
      },
      "source": [
        "def getWeightCalcHelpers(relation_Dataframe):\n",
        "  unique_relations_count_series = relation_Dataframe.groupby(['start', 'relation', 'end']).size()\n",
        "  unique_relations_count_df = unique_relations_count_series.to_frame(name = 'size').reset_index()\n",
        "  unique_relation_Dataframe = unique_relations_count_df.copy()\n",
        "  unique_relation_Dataframe.drop(['size'], axis = 1)\n",
        "\n",
        "  predicate_count_series = relation_Dataframe.groupby(['relation']).size()\n",
        "  predicate_count_df = predicate_count_series.to_frame(name = 'size').reset_index()\n",
        "\n",
        "  object_count_series = relation_Dataframe.groupby(['end']).size()\n",
        "  object_count_df = object_count_series.to_frame(name = 'size').reset_index()\n",
        "\n",
        "  pred_obj_series = relation_Dataframe.groupby(['relation', 'end']).size()\n",
        "  pred_obj_count_df = pred_obj_series.to_frame(name = 'size').reset_index()\n",
        "\n",
        "  return unique_relation_Dataframe, predicate_count_df, object_count_df, pred_obj_count_df"
      ],
      "execution_count": null,
      "outputs": []
    },
    {
      "cell_type": "markdown",
      "metadata": {
        "id": "Ae1XZbmp1GVc"
      },
      "source": [
        "#Semantic relation weighting"
      ]
    },
    {
      "cell_type": "markdown",
      "metadata": {
        "id": "nuYbSNy51n9X"
      },
      "source": [
        "**Calculate IC for predicate and object**"
      ]
    },
    {
      "cell_type": "code",
      "metadata": {
        "id": "zLiCRC7L1F95"
      },
      "source": [
        "def getICpredicate(predicate, predicate_count_df, all_pred_count):\n",
        "  given_pred_count = list(predicate_count_df.query('relation == \"' + predicate + '\"', inplace = False)[\"size\"])[0]\n",
        "  prob_pred = given_pred_count/all_pred_count\n",
        "  ic_pred = -np.log(prob_pred)\n",
        "  return ic_pred"
      ],
      "execution_count": null,
      "outputs": []
    },
    {
      "cell_type": "code",
      "metadata": {
        "id": "0xz93dLk5fwK"
      },
      "source": [
        "def getICobj(obj, object_count_df, all_obj_count):\n",
        "  given_obj_count = list(object_count_df.query('end == \"' + obj + '\"', inplace = False)[\"size\"])[0]\n",
        "  prob_obj = given_obj_count/all_obj_count\n",
        "  ic_obj = -np.log(prob_obj)\n",
        "  return ic_obj"
      ],
      "execution_count": null,
      "outputs": []
    },
    {
      "cell_type": "code",
      "metadata": {
        "id": "rSdgGshI6gSN"
      },
      "source": [
        "def getICobj_given_pred(obj, pred, predicate_count_df, pred_obj_count_df, total_relation):\n",
        "  given_pred_count = list(predicate_count_df.query('relation == \"' + pred + '\"', inplace = False)[\"size\"])[0]\n",
        "\n",
        "  prob_pred = given_pred_count/total_relation\n",
        "\n",
        "  obj_and_pred_count = list(pred_obj_count_df.query('end == \"'+ obj + '\" and relation == \"' + pred + '\"', inplace = False)[\"size\"])[0]\n",
        "\n",
        "  prob_obj_and_pred = obj_and_pred_count/total_relation\n",
        "\n",
        "  prob_obj_given_pred = prob_obj_and_pred/prob_pred\n",
        "  \n",
        "  ic_obj_and_pred = -np.log(prob_obj_given_pred)\n",
        "  return ic_obj_and_pred"
      ],
      "execution_count": null,
      "outputs": []
    },
    {
      "cell_type": "code",
      "metadata": {
        "id": "3zSNY43rAxZF"
      },
      "source": [
        "def getPMI(obj, pred, total_relation, predicate_count_df, pred_obj_count_df, object_count_df):\n",
        "  given_pred_count = list(predicate_count_df.query('relation == \"' + pred + '\"', inplace = False)[\"size\"])[0]\n",
        "\n",
        "  prob_pred = given_pred_count/total_relation\n",
        "\n",
        "  obj_and_pred_count = list(pred_obj_count_df.query('end == \"'+ obj + '\" and relation == \"' + pred + '\"', inplace = False)[\"size\"])[0]\n",
        "\n",
        "  prob_obj_and_pred = obj_and_pred_count/total_relation\n",
        "\n",
        "  prob_obj_given_pred = prob_obj_and_pred/prob_pred\n",
        "\n",
        "  given_obj_count = list(object_count_df.query('end == \"' + obj + '\"', inplace = False)[\"size\"])[0]\n",
        "  prob_obj = given_obj_count/total_relation\n",
        "\n",
        "  pmi = np.log(prob_obj_given_pred/prob_obj)\n",
        "  return pmi"
      ],
      "execution_count": null,
      "outputs": []
    },
    {
      "cell_type": "markdown",
      "metadata": {
        "id": "0r1HkN5N9qCE"
      },
      "source": [
        "**Joint IC, combIC and ic+pmi**"
      ]
    },
    {
      "cell_type": "code",
      "metadata": {
        "id": "3SZaCuoW9vom"
      },
      "source": [
        "def jointIC(pred, obj, predicate_count_df, pred_obj_count_df, all_pred_count, total_relation):\n",
        "  ic_pred = getICpredicate(pred, predicate_count_df, all_pred_count)\n",
        "  ic_obj_given_pred = getICobj_given_pred(obj, pred, predicate_count_df, pred_obj_count_df, total_relation)\n",
        "  weight = ic_pred + ic_obj_given_pred\n",
        "  return weight"
      ],
      "execution_count": null,
      "outputs": []
    },
    {
      "cell_type": "code",
      "metadata": {
        "id": "L1Vij3qY_Wrk"
      },
      "source": [
        "def combIC(pred, obj, predicate_count_df, object_count_df, all_pred_count, all_obj_count):\n",
        "  ic_pred = getICpredicate(pred, predicate_count_df, all_pred_count)\n",
        "  ic_obj = getICobj(obj, object_count_df, all_obj_count)\n",
        "  weight = ic_pred + ic_obj\n",
        "  return weight"
      ],
      "execution_count": null,
      "outputs": []
    },
    {
      "cell_type": "code",
      "metadata": {
        "id": "3E0EgTDa_4-c"
      },
      "source": [
        "def ic_and_pmi(pred, obj, predicate_count_df, pred_obj_count_df, object_count_df, all_pred_count, total_relation):\n",
        "  ic_pred = getICpredicate(pred, predicate_count_df, all_pred_count)\n",
        "  pmi_pred_obj = getPMI(obj, pred, total_relation, predicate_count_df, pred_obj_count_df, object_count_df)\n",
        "  weight = ic_pred + pmi_pred_obj\n",
        "  return weight"
      ],
      "execution_count": null,
      "outputs": []
    },
    {
      "cell_type": "markdown",
      "metadata": {
        "id": "3EuQ0t6gFsji"
      },
      "source": [
        "#Assign Weights on relation Dataframe"
      ]
    },
    {
      "cell_type": "markdown",
      "metadata": {
        "id": "UfuTQEy8F6wG"
      },
      "source": [
        "**Joint IC, combIC, ic&pmi Scheme**"
      ]
    },
    {
      "cell_type": "code",
      "metadata": {
        "id": "png1b9swXteo"
      },
      "source": [
        "def getWeightOfEdgeWithExclusivity(dataset, source, predicate, target):\n",
        "  # calculate exclusivity\n",
        "  outgoingPredicatesCount = dataset.query(\n",
        "            'start == \"'+ source + '\" and relation == \"' + predicate + '\"', inplace = False).shape[0]\n",
        "  incomingPredicatesCount = dataset.query(\n",
        "            'end == \"'+ target + '\" and relation == \"' + predicate + '\"', inplace = False).shape[0]\n",
        "  exclusivity = 1/(outgoingPredicatesCount + incomingPredicatesCount - 1)\n",
        "  return exclusivity"
      ],
      "execution_count": null,
      "outputs": []
    },
    {
      "cell_type": "code",
      "metadata": {
        "id": "43TbGEuRxh_R"
      },
      "source": [
        "def assignWeightsToEdges(all_relation_Dataframe, unique_relation_Dataframe, predicate_count_df, object_count_df, pred_obj_count_df, all_pred_count, all_obj_count, total_relation):\n",
        "  # Assign Weights to Edge set \n",
        "  edge_set_with_weight = []\n",
        "  for index, row in unique_relation_Dataframe.iterrows():\n",
        "    if row[\"start\"] != \"\" and row[\"relation\"] != \"\" and row[\"end\"] != \"\":\n",
        "      joint_ic_weight = jointIC(row[\"relation\"], row[\"end\"], predicate_count_df, pred_obj_count_df, all_pred_count, total_relation)\n",
        "      comb_ic_weight = combIC(row[\"relation\"], row[\"end\"], predicate_count_df, object_count_df, all_pred_count, all_obj_count)\n",
        "      ic_pmi_weight = ic_and_pmi(row[\"relation\"], row[\"end\"], predicate_count_df, pred_obj_count_df, object_count_df, all_pred_count, total_relation)\n",
        "      exclusivity = getWeightOfEdgeWithExclusivity(all_relation_Dataframe, row[\"start\"], row[\"relation\"], row[\"end\"])\n",
        "      edge_set_with_weight.append([row[\"start\"], row[\"relation\"], row[\"end\"], joint_ic_weight, comb_ic_weight, ic_pmi_weight, exclusivity])\n",
        "      # edge_set_with_weight.append([row[\"start\"], row[\"relation\"], row[\"end\"], joint_ic_weight])\n",
        "  edge_set_weight_DF = pd.DataFrame(edge_set_with_weight, columns= ['Start', 'Relation', 'End', 'Joint_IC_Weight', 'Comb_IC_Weight', 'IC_PMI_weight', 'exclusivity'])\n",
        "  # edge_set_weight_DF = pd.DataFrame(edge_set_with_weight, columns= ['Start', 'Relation', 'End', 'Joint_IC_Weight'])\n",
        "  return edge_set_weight_DF"
      ],
      "execution_count": null,
      "outputs": []
    },
    {
      "cell_type": "markdown",
      "metadata": {
        "id": "GhXSfKBMmvqS"
      },
      "source": [
        "#Compute Cost of all the Edges\n",
        "---\n",
        "c(e) = wmax - w (e) ;\n"
      ]
    },
    {
      "cell_type": "code",
      "metadata": {
        "id": "8fQnx0Ykm1FA"
      },
      "source": [
        "def assignCostToEdges(edge_set_weight_DF):\n",
        "  edge_set_ic_Cost = []\n",
        "  max_joint_weight = edge_set_weight_DF['Joint_IC_Weight'].max()\n",
        "  max_comb_weight = edge_set_weight_DF['Comb_IC_Weight'].max()\n",
        "  max_ic_pmi_weight = edge_set_weight_DF['IC_PMI_weight'].max()\n",
        "\n",
        "  for index, row in edge_set_weight_DF.iterrows():\n",
        "    joint_cost = max_joint_weight - row[\"Joint_IC_Weight\"] + 0.001\n",
        "    comb_cost = max_comb_weight - row[\"Comb_IC_Weight\"] + 0.001\n",
        "    ic_pmi_cost = max_ic_pmi_weight - row[\"IC_PMI_weight\"] + 0.001\n",
        "    edge_set_ic_Cost.append([row[\"Start\"], row[\"Relation\"], row[\"End\"], row[\"Joint_IC_Weight\"], joint_cost, row[\"Comb_IC_Weight\"], comb_cost, row[\"IC_PMI_weight\"], ic_pmi_cost, row[\"exclusivity\"]])\n",
        "    # edge_set_ic_Cost.append([row[\"Start\"], row[\"Relation\"], row[\"End\"], row[\"Joint_IC_Weight\"], joint_cost])\n",
        "  edge_set_weight_cost_DF = pd.DataFrame(edge_set_ic_Cost, columns= ['Start', 'Relation', 'End', 'Joint_IC_Weight', 'Joint_Cost', 'Comb_IC_Weight', 'Comb_cost', 'IC_PMI_weight', 'IC_PMI_Cost', 'exclusivity'])\n",
        "  # edge_set_weight_cost_DF = pd.DataFrame(edge_set_ic_Cost, columns= ['Start', 'Relation', 'End', 'Joint_IC_Weight', 'Joint_Cost'])\n",
        "  return edge_set_weight_cost_DF"
      ],
      "execution_count": null,
      "outputs": []
    },
    {
      "cell_type": "markdown",
      "metadata": {
        "id": "2EPYcH1gSHj9"
      },
      "source": [
        "#Assign total weight and total cost (with 3 schemes) of all paths in graphFull dataset"
      ]
    },
    {
      "cell_type": "code",
      "metadata": {
        "id": "4KdKlv3XSNsb"
      },
      "source": [
        "def assignWeightAndCostToGraph(graphFull, edge_set_weight_cost_DF):\n",
        "  graphWithPathWeight = []\n",
        "  for index, row in graphFull.iterrows():\n",
        "    joint_weight = 0\n",
        "    comb_weight = 0\n",
        "    ic_pmi_weight = 0\n",
        "    if row[\"node1\"] == '':   #only one relation between source and target\n",
        "      df = edge_set_weight_cost_DF.query('Start == \"'+ row[\"source_node\"] + '\" and Relation == \"' + row[\"r1\"] + '\" and End == \"' + row[\"target_node\"] + '\"', inplace = False)\n",
        "      joint_weight = df[\"Joint_IC_Weight\"].values[0]\n",
        "      comb_weight = df[\"Comb_IC_Weight\"].values[0]\n",
        "      ic_pmi_weight = df[\"IC_PMI_weight\"].values[0]\n",
        "      exclusivity = df[\"exclusivity\"].values[0]\n",
        "      exclusivity_weight = 1/ (1/exclusivity)\n",
        "\n",
        "      joint_cost = df[\"Joint_Cost\"].values[0]\n",
        "      comb_cost = df[\"Comb_cost\"].values[0]\n",
        "      ic_pmi_cost = df[\"IC_PMI_Cost\"].values[0]\n",
        "      graphWithPathWeight.append([row[\"source_node\"], row[\"r1\"], \"\", \"\", \"\", \"\", row[\"target_node\"], joint_weight, comb_weight, ic_pmi_weight,exclusivity_weight, joint_cost, comb_cost, ic_pmi_cost])\n",
        "      # graphWithPathWeight.append([row[\"source_node\"], row[\"r1\"], \"\", \"\", \"\", \"\", row[\"target_node\"], joint_weight, joint_cost])\n",
        "    elif row[\"node1\"] != '' and row[\"node2\"] == '':  # one intermediate node between source and target\n",
        "      df1 = edge_set_weight_cost_DF.query('Start == \"'+ row[\"source_node\"] + '\" and Relation == \"' + row[\"r1\"] + '\" and End == \"' + row[\"node1\"] + '\"', inplace = False)\n",
        "      df2 = edge_set_weight_cost_DF.query('Start == \"'+ row[\"node1\"] + '\" and Relation == \"' + row[\"r2\"] + '\" and End == \"' + row[\"target_node\"] + '\"', inplace = False)\n",
        "      joint_weight = df1[\"Joint_IC_Weight\"].values[0] + df2[\"Joint_IC_Weight\"].values[0]\n",
        "      comb_weight = df1[\"Comb_IC_Weight\"].values[0] + df2[\"Comb_IC_Weight\"].values[0]\n",
        "      ic_pmi_weight = df1[\"IC_PMI_weight\"].values[0] + df2[\"IC_PMI_weight\"].values[0]\n",
        "      exclusivity_weight = 1/ (1/df1[\"exclusivity\"].values[0]) + (1/df2[\"exclusivity\"].values[0])\n",
        "\n",
        "      joint_cost = df1[\"Joint_Cost\"].values[0] + df2[\"Joint_Cost\"].values[0]\n",
        "      comb_cost = df1[\"Comb_cost\"].values[0] + df2[\"Comb_cost\"].values[0]\n",
        "      ic_pmi_cost = df1[\"IC_PMI_Cost\"].values[0] + df2[\"IC_PMI_Cost\"].values[0]\n",
        "      graphWithPathWeight.append([row[\"source_node\"], row[\"r1\"], row[\"node1\"], row[\"r2\"], \"\", \"\", row[\"target_node\"], joint_weight, comb_weight, ic_pmi_weight, exclusivity_weight, joint_cost, comb_cost, ic_pmi_cost])\n",
        "      # graphWithPathWeight.append([row[\"source_node\"], row[\"r1\"], row[\"node1\"], row[\"r2\"], \"\", \"\", row[\"target_node\"], joint_weight, joint_cost])\n",
        "    else:\n",
        "      df1 = edge_set_weight_cost_DF.query('Start == \"'+ row[\"source_node\"] + '\" and Relation == \"' + row[\"r1\"] + '\" and End == \"' + row[\"node1\"] + '\"', inplace = False)\n",
        "      df2 = edge_set_weight_cost_DF.query('Start == \"'+ row[\"node1\"] + '\" and Relation == \"' + row[\"r2\"] + '\" and End == \"' + row[\"node2\"] + '\"', inplace = False)\n",
        "      df3 = edge_set_weight_cost_DF.query('Start == \"'+ row[\"node2\"] + '\" and Relation == \"' + row[\"r3\"] + '\" and End == \"' + row[\"target_node\"] + '\"', inplace = False)\n",
        "      joint_weight = df1[\"Joint_IC_Weight\"].values[0] + df2[\"Joint_IC_Weight\"].values[0] + df3[\"Joint_IC_Weight\"].values[0]\n",
        "      comb_weight = df1[\"Comb_IC_Weight\"].values[0] + df2[\"Comb_IC_Weight\"].values[0] + df3[\"Comb_IC_Weight\"].values[0]\n",
        "      ic_pmi_weight = df1[\"IC_PMI_weight\"].values[0] + df2[\"IC_PMI_weight\"].values[0] + df3[\"IC_PMI_weight\"].values[0]\n",
        "      exclusivity_weight = 1/ (1/df1[\"exclusivity\"].values[0]) + (1/df2[\"exclusivity\"].values[0]) + (1/df3[\"exclusivity\"].values[0])\n",
        "\n",
        "      joint_cost = df1[\"Joint_Cost\"].values[0] + df2[\"Joint_Cost\"].values[0] +  + df3[\"Joint_Cost\"].values[0]\n",
        "      comb_cost = df1[\"Comb_cost\"].values[0] + df2[\"Comb_cost\"].values[0] + df3[\"Comb_cost\"].values[0]\n",
        "      ic_pmi_cost = df1[\"IC_PMI_Cost\"].values[0] + df2[\"IC_PMI_Cost\"].values[0] + df3[\"IC_PMI_Cost\"].values[0]\n",
        "      graphWithPathWeight.append([row[\"source_node\"], row[\"r1\"], row[\"node1\"], row[\"r2\"], row[\"node2\"], row[\"r3\"], row[\"target_node\"], joint_weight, comb_weight, ic_pmi_weight, exclusivity_weight, joint_cost, comb_cost, ic_pmi_cost])\n",
        "      # graphWithPathWeight.append([row[\"source_node\"], row[\"r1\"], row[\"node1\"], row[\"r2\"], row[\"node2\"], row[\"r3\"], row[\"target_node\"], joint_weight, joint_cost])\n",
        "\n",
        "  graphFullWith_ic_Weights_Cost = pd.DataFrame(graphWithPathWeight, columns= ['source_node', 'r1', 'node1', 'r2', 'node2', 'r3', 'target_node', 'Joint_Weight', 'Comb_Weight', 'IC_PMI_Weight', 'exclusivity_weight', 'Joint_Cost', 'Comb_Cost', 'IC_PMI_Cost'])\n",
        "  # graphFullWith_ic_Weights_Cost = pd.DataFrame(graphWithPathWeight, columns= ['source_node', 'r1', 'node1', 'r2', 'node2', 'r3', 'target_node', 'Joint_Weight', 'Joint_Cost'])\n",
        "\n",
        "  return graphFullWith_ic_Weights_Cost"
      ],
      "execution_count": null,
      "outputs": []
    },
    {
      "cell_type": "markdown",
      "metadata": {
        "id": "pgqV7I0L2MQA"
      },
      "source": [
        "**Normalize all the cost**"
      ]
    },
    {
      "cell_type": "code",
      "metadata": {
        "id": "v7qmqjVx2Qqd"
      },
      "source": [
        "def getGraphWithNormalizedCost(graphFullWith_ic_Weights_Cost):\n",
        "  max_joint_cost = graphFullWith_ic_Weights_Cost['Joint_Cost'].max()\n",
        "  max_comb_cost = graphFullWith_ic_Weights_Cost['Comb_Cost'].max()\n",
        "  max_ic_pmi_cost = graphFullWith_ic_Weights_Cost['IC_PMI_Cost'].max()\n",
        "\n",
        "  graphWithNormalizedCost = []\n",
        "  for index, row in graphFullWith_ic_Weights_Cost.iterrows():\n",
        "    normalized_joint = row[\"Joint_Cost\"] / max_joint_cost\n",
        "    normalized_comb = row[\"Comb_Cost\"] / max_comb_cost\n",
        "    normalized_ic_pmi = row[\"IC_PMI_Cost\"] / max_ic_pmi_cost\n",
        "    graphWithNormalizedCost.append([row[\"source_node\"], row[\"r1\"], row[\"node1\"], row[\"r2\"], row[\"node2\"], row[\"r3\"], row[\"target_node\"], row[\"Joint_Weight\"], normalized_joint, row[\"Comb_Weight\"], normalized_comb, row[\"IC_PMI_Weight\"], normalized_ic_pmi, row[\"exclusivity_weight\"]])\n",
        "    # graphWithNormalizedCost.append([row[\"source_node\"], row[\"r1\"], row[\"node1\"], row[\"r2\"], row[\"node2\"], row[\"r3\"], row[\"target_node\"], row[\"Joint_Weight\"], normalized_joint])\n",
        "\n",
        "  graphWithNormalizedCost_DF = pd.DataFrame(graphWithNormalizedCost, columns= ['source_node', 'r1', 'node1', 'r2', 'node2', 'r3', 'target_node', 'Joint_Weight', 'Joint_Cost', 'Comb_Weight', 'Comb_cost', 'IC_PMI_Weight', 'IC_PMI_Cost', 'exclusivity_weight'])\n",
        "  # graphWithNormalizedCost_DF = pd.DataFrame(graphWithNormalizedCost, columns= ['source_node', 'r1', 'node1', 'r2', 'node2', 'r3', 'target_node', 'Joint_Weight', 'Joint_Cost'])\n",
        "  return graphWithNormalizedCost_DF"
      ],
      "execution_count": null,
      "outputs": []
    },
    {
      "cell_type": "markdown",
      "metadata": {
        "id": "Y30owAuse2xR"
      },
      "source": [
        "**Get Minimum cost between a pair of Nodes**"
      ]
    },
    {
      "cell_type": "code",
      "metadata": {
        "id": "BQrxmZaze7U8"
      },
      "source": [
        "def getMinimumCost(df, source, target, weight_scheme):\n",
        "  filtered_df = df.query('source_node == \"'+ source + '\" and target_node == \"' + target + '\"', inplace = False)\n",
        "  \n",
        "  if filtered_df.empty:\n",
        "    cols = ['source_node', 'r1', 'node1', 'r2', 'node2', 'r3', 'target_node', 'Joint_Weight', 'Joint_Cost', 'Comb_Weight', 'Comb_cost', 'IC_PMI_Weight', 'IC_PMI_Cost', 'exclusivity_weight']\n",
        "    # cols = ['source_node', 'r1', 'node1', 'r2', 'node2', 'r3', 'target_node', 'Joint_Weight', 'Joint_Cost']\n",
        "    temp_df = pd.concat([pd.DataFrame({k: [] for k in cols}), None, None])\n",
        "    return temp_df\n",
        "  \n",
        "  if weight_scheme == 'comb_ic':\n",
        "    return filtered_df[filtered_df.Comb_cost == filtered_df.Comb_cost.min()]\n",
        "  elif weight_scheme == 'ic_pmi':\n",
        "    return filtered_df[filtered_df.IC_PMI_Cost == filtered_df.IC_PMI_Cost.min()]\n",
        "  elif weight_scheme == 'joint_ic':\n",
        "    return filtered_df[filtered_df.Joint_Cost == filtered_df.Joint_Cost.min()]\n",
        "  else:\n",
        "    return filtered_df[filtered_df.exclusivity_weight == filtered_df.exclusivity_weight.max()]"
      ],
      "execution_count": null,
      "outputs": []
    },
    {
      "cell_type": "code",
      "metadata": {
        "id": "wzqjwKPFzvDG"
      },
      "source": [
        "def getCheapestPath(df, source, target, weight_scheme):\n",
        "  df1 = getMinimumCost(df, source, target, weight_scheme)\n",
        "  df2 = getMinimumCost(df, target, source, weight_scheme)\n",
        "\n",
        "  if weight_scheme == 'comb_ic':\n",
        "    cost_name = 'Comb_cost'\n",
        "  elif weight_scheme == 'ic_pmi':\n",
        "    cost_name = 'IC_PMI_Cost'\n",
        "  elif weight_scheme == 'joint_ic':\n",
        "    cost_name = 'Joint_Cost'\n",
        "  else:\n",
        "    cost_name = 'exclusivity_weight'\n",
        "\n",
        "  if not df1.empty:\n",
        "    c1 = df1[cost_name].values[0]\n",
        "  else:\n",
        "    c1 = 1\n",
        "\n",
        "  if not df2.empty:\n",
        "    c2 = df2[cost_name].values[0]\n",
        "  else:\n",
        "    c2 = 1\n",
        "\n",
        "  if cost_name == 'exclusivity_weight':\n",
        "    if c1 > c2:\n",
        "      return c1\n",
        "    else:\n",
        "      return c2\n",
        "  else:\n",
        "    if c1 < c2:\n",
        "      return c1\n",
        "    else:\n",
        "      return c2"
      ],
      "execution_count": null,
      "outputs": []
    },
    {
      "cell_type": "markdown",
      "metadata": {
        "id": "BgSVwVohxsAp"
      },
      "source": [
        "#Mapping Skills to Dbpedia links"
      ]
    },
    {
      "cell_type": "code",
      "metadata": {
        "id": "T2OvEi9R-pce"
      },
      "source": [
        "def annotate_with_Dbpedia_spotlight(text, confidence):\n",
        "  # text preprocessing\n",
        "  text = text.replace(\"_\", \" \").replace(\"-\", \" \")\n",
        "  URL = \"https://api.dbpedia-spotlight.org/en/annotate?text=\" + text + \"&confidence=\" + str(confidence) + \"\"\n",
        "  HEADERS = {'Accept': 'application/json'}\n",
        "  response = requests.get(URL, headers=HEADERS)\n",
        "  if response.status_code != 200:\n",
        "    return 0\n",
        "  \n",
        "  json_obj = response.json()\n",
        "  if \"Resources\" in json_obj:\n",
        "    return json_obj[\"Resources\"][0]['@URI']\n",
        "  else:\n",
        "    return 0\n",
        "\n",
        "# annotate_with_Dbpedia_spotlight('Machine learning', 0.5)"
      ],
      "execution_count": null,
      "outputs": []
    },
    {
      "cell_type": "code",
      "metadata": {
        "id": "aJ_fAhFg8_Yj"
      },
      "source": [
        "# skill_df = pd.read_csv(\"/content/drive/My Drive/Colab Notebooks/Knowledge graph files/skill_name_list.csv\")"
      ],
      "execution_count": null,
      "outputs": []
    },
    {
      "cell_type": "markdown",
      "metadata": {
        "id": "AFxJJjlA-Hef"
      },
      "source": [
        "**Map Skill name to Link**"
      ]
    },
    {
      "cell_type": "code",
      "metadata": {
        "id": "vT9bJQF1xy--"
      },
      "source": [
        "def map_skills(skills_to_be_mapped):\n",
        "# skills_to_be_mapped = ['mysql','oracle','postgresql','database']\n",
        "  cluster = []\n",
        "  for skill in skills_to_be_mapped:\n",
        "    link = annotate_with_Dbpedia_spotlight(skill, 0.5)\n",
        "    if link == 0:\n",
        "      confidence = 0.4\n",
        "      while confidence >= 0:\n",
        "        link = annotate_with_Dbpedia_spotlight(skill, confidence)\n",
        "        confidence = confidence - 0.1\n",
        "    if link == 0:\n",
        "      link_list = list(skill_df.query('name == \"'+ skill.lower() + '\"', inplace = False)[\"link\"])\n",
        "      if link_list:\n",
        "        link = link_list[0]\n",
        "      else:\n",
        "        link = 0\n",
        "    cluster.append(link)\n",
        "    print(link)\n",
        "  return cluster\n",
        "\n",
        " \n",
        "  link = annotate_with_Dbpedia_spotlight(skill, 0.5)\n",
        "  if link == 0:\n",
        "    confidence = 0.4\n",
        "    while confidence >= 0:\n",
        "      link = annotate_with_Dbpedia_spotlight(skill, confidence)\n",
        "      confidence = confidence - 0.1\n",
        "  if link == 0:\n",
        "    link_list = list(skill_df.query('name == \"'+ skill.lower() + '\"', inplace = False)[\"link\"])\n",
        "    if link_list:\n",
        "      link = link_list[0]\n",
        "    else:\n",
        "      link = 0\n",
        "  return link"
      ],
      "execution_count": null,
      "outputs": []
    },
    {
      "cell_type": "markdown",
      "metadata": {
        "id": "ZLdxPU1KwE2f"
      },
      "source": [
        "**Dbpedia link repository of all available skills in our Networks**"
      ]
    },
    {
      "cell_type": "code",
      "metadata": {
        "id": "UEqLLIRWvm5a"
      },
      "source": [
        "# cluster_detail_df = pd.read_csv('/content/drive/MyDrive/Colab Notebooks/Particle Density Algo/results/mapping-results/clusters_details.csv')\n",
        "# cluster_detail_df = cluster_detail_df[[\"Cluster\"]]\n",
        "# all_skills_list = []\n",
        "# for index, rows in cluster_detail_df.iterrows():\n",
        "#   cluster = rows[\"Cluster\"].rstrip('#')\n",
        "#   c_arr = cluster.split('#')\n",
        "#   all_skills_list = all_skills_list + c_arr\n",
        "\n",
        "# all_skills_list = list(set(all_skills_list))"
      ],
      "execution_count": null,
      "outputs": []
    },
    {
      "cell_type": "code",
      "metadata": {
        "id": "mJEgKlNmxXci"
      },
      "source": [
        "# skill_link_map_list = []\n",
        "# for skill in all_skills_list:\n",
        "#   link = map_single_skill(skill)\n",
        "#   skill_link_map_list.append([skill, link])\n",
        "\n",
        "# skill_link_map_df = pd.DataFrame(skill_link_map_list, columns=['skill', 'link'])\n"
      ],
      "execution_count": null,
      "outputs": []
    },
    {
      "cell_type": "code",
      "metadata": {
        "id": "vjrcNRrKy2Iz"
      },
      "source": [
        "# skill_link_map_df.to_csv('/content/drive/My Drive/Colab Notebooks/Knowledge graph files/skill_links_map.csv', index=False)"
      ],
      "execution_count": null,
      "outputs": []
    },
    {
      "cell_type": "markdown",
      "metadata": {
        "id": "qpzxXQkk4iEw"
      },
      "source": [
        "# Build Graph with Nodes\n",
        "\n",
        "- And Assign weights and Cost to connecting Edges"
      ]
    },
    {
      "cell_type": "code",
      "metadata": {
        "id": "bwpXX3Dc43ws"
      },
      "source": [
        "def buildGraphWithCost(cluster1, cluster2):\n",
        "  print('Runing Sparql')\n",
        "  graphFull = getFullGraph(cluster1, cluster2)\n",
        "  if len(graphFull) == 0:\n",
        "    return 0\n",
        "  # Filtered table with only nodes\n",
        "  nodes_filter_graph = graphFull[['source_node', 'node1', 'node2', 'target_node']]\n",
        "\n",
        "  unique_nodes_df = getUniqueNodesFromGraph(nodes_filter_graph)\n",
        "  unique_edges_df = getUniqueRelationsFromGraph(graphFull)\n",
        "\n",
        "  relation_Dataframe = getAllRelationSets(graphFull)\n",
        "\n",
        "  all_pred_count = relation_Dataframe.query('relation != \"\"', inplace = False).shape[0]\n",
        "  all_obj_count = relation_Dataframe.query('end != \"\"', inplace = False).shape[0]\n",
        "  total_relation = relation_Dataframe.query('relation != \"\"', inplace = False).shape[0]\n",
        "\n",
        "  unique_relation_Dataframe, predicate_count_df, object_count_df, pred_obj_count_df = getWeightCalcHelpers(relation_Dataframe)\n",
        "\n",
        "  # Assign Weights to Edge Sets\n",
        "  print('Assigning Weights')\n",
        "  edge_set_weight_DF = assignWeightsToEdges(relation_Dataframe, unique_relation_Dataframe, predicate_count_df, object_count_df, pred_obj_count_df, all_pred_count, all_obj_count, total_relation)\n",
        "\n",
        "  # Compute Cost for Edge sets\n",
        "  edge_set_weight_cost_DF = assignCostToEdges(edge_set_weight_DF)\n",
        "\n",
        "  # Compute total weight and cost for all connecting paths between Nodes in the graph\n",
        "  print('Assigning Cost to Graph')\n",
        "  graphFullWith_ic_Weights_Cost = assignWeightAndCostToGraph(graphFull, edge_set_weight_cost_DF)\n",
        "  # Normalized Cost\n",
        "  graphWithNormalizedCost_DF = getGraphWithNormalizedCost(graphFullWith_ic_Weights_Cost)\n",
        "\n",
        "  return graphWithNormalizedCost_DF"
      ],
      "execution_count": null,
      "outputs": []
    },
    {
      "cell_type": "code",
      "metadata": {
        "id": "xsM4b70q-Qt8"
      },
      "source": [
        "# cluster1 = ['http://dbpedia.org/resource/Apache_Lucene', 'http://dbpedia.org/resource/Apache_Mahout', 'http://dbpedia.org/resource/Elasticsearch']\n",
        "# cluster2 = ['http://dbpedia.org/resource/Thread_(computing)', 'http://dbpedia.org/resource/AngularJS', 'http://dbpedia.org/resource/Computer_hardware', 'http://dbpedia.org/resource/Nagios', 'http://dbpedia.org/resource/ASP.NET', 'http://dbpedia.org/resource/Surveillance', 'http://dbpedia.org/resource/IBM_WebSphere', 'http://dbpedia.org/resource/JQuery', 'http://dbpedia.org/resource/Model–view–controller', 'http://dbpedia.org/resource/Groovy_(programming_language)', 'http://dbpedia.org/resource/LabVIEW', 'http://dbpedia.org/resource/Scripting_language']\n",
        "\n",
        "# normalize_df = buildGraphWithCost(cluster1, cluster2)\n",
        "# normalize_df"
      ],
      "execution_count": null,
      "outputs": []
    },
    {
      "cell_type": "markdown",
      "metadata": {
        "id": "ZIytZ1lQ10Xa"
      },
      "source": [
        "# Prepare Edit Distance Matrix"
      ]
    },
    {
      "cell_type": "markdown",
      "metadata": {
        "id": "fGwz8NsUCeuL"
      },
      "source": [
        "\n",
        "Matrix:\n",
        "\n",
        "```\n",
        "#             Ecma  Javascript HTML VB\n",
        "# Fortran    [ 0     x         y     z ]\n",
        "# Javascript [ a     b         c     z ]\n",
        "# PHP        [ a     b         c     z ]\n",
        "# C++        [ a     b         c     z ]\n",
        "```\n",
        "\n",
        "\n",
        "\n"
      ]
    },
    {
      "cell_type": "markdown",
      "metadata": {
        "id": "tHNaQW5SIIbh"
      },
      "source": [
        "**IC+PMI edit Distance Matrix**"
      ]
    },
    {
      "cell_type": "code",
      "metadata": {
        "id": "LFEKzT9fbbWO"
      },
      "source": [
        "from scipy.optimize import linear_sum_assignment"
      ],
      "execution_count": null,
      "outputs": []
    },
    {
      "cell_type": "markdown",
      "metadata": {
        "id": "2QWfzlmH4oTB"
      },
      "source": [
        "**Prepare Matrix**"
      ]
    },
    {
      "cell_type": "code",
      "metadata": {
        "id": "ehPey8kn4mqA"
      },
      "source": [
        "def prepare_edit_cost_matrix(cluster1, cluster2, weight_scheme, graphWithNormalizedCost_DF):\n",
        "  list_outer = []\n",
        "  for item in cluster1:\n",
        "    list_inner = []\n",
        "    for element in cluster2:\n",
        "      if item != element:\n",
        "        total_cost = getCheapestPath(graphWithNormalizedCost_DF, element, item, weight_scheme)\n",
        "      else:\n",
        "        total_cost = 0\n",
        "      list_inner.append(total_cost)\n",
        "    list_outer.append(list_inner)\n",
        "  final_matrix = np.array(list_outer, np.float64)\n",
        "  return final_matrix"
      ],
      "execution_count": null,
      "outputs": []
    },
    {
      "cell_type": "markdown",
      "metadata": {
        "id": "y1d6mMwORscO"
      },
      "source": [
        "# Compare two time period Graphs"
      ]
    },
    {
      "cell_type": "code",
      "metadata": {
        "id": "059LLK6kw3G5"
      },
      "source": [
        "def getPeriodsClusters(period_a, period_b):\n",
        "  period_a_links = []\n",
        "  period_b_links = []\n",
        "  skill_link_map_df = pd.read_csv('/content/drive/My Drive/Colab Notebooks/Knowledge graph files/skill_links_map.csv')\n",
        "  cluster_detail_df = pd.read_csv('/content/drive/MyDrive/Colab Notebooks/Particle Density Algo/results/mapping-results/clusters_details.csv')\n",
        "\n",
        "  period_a_clusters = cluster_detail_df.query('TimeLabel == \"' + period_a + '\"' , inplace=False)[\"Cluster\"]\n",
        "  for cluster in period_a_clusters:\n",
        "    cluster = cluster.rstrip('#')\n",
        "    items_arr = cluster.split('#')\n",
        "    link_list = []\n",
        "    for item in items_arr:\n",
        "      link = skill_link_map_df.query('skill == \"' + item + '\"', inplace=False)[\"link\"].tolist()[0]\n",
        "      link_list.append(link)\n",
        "    period_a_links.append(link_list)\n",
        "\n",
        "  period_b_clusters = cluster_detail_df.query('TimeLabel == \"' + period_b + '\"' , inplace=False)[\"Cluster\"]\n",
        "  for cluster in period_b_clusters:\n",
        "    cluster = cluster.rstrip('#')\n",
        "    items_arr = cluster.split('#')\n",
        "    link_list = []\n",
        "    for item in items_arr:\n",
        "      link = skill_link_map_df.query('skill == \"' + item + '\"', inplace=False)[\"link\"].tolist()[0]\n",
        "      link_list.append(link)\n",
        "    period_b_links.append(link_list)\n",
        "  return period_a_links, period_b_links"
      ],
      "execution_count": null,
      "outputs": []
    },
    {
      "cell_type": "code",
      "metadata": {
        "id": "RbRnxK4Uz8y_"
      },
      "source": [
        "period_a = \"JulSep2017\"\n",
        "period_b = \"OctDec2017\"\n",
        "period_a_links, period_b_links = getPeriodsClusters(period_a, period_b)"
      ],
      "execution_count": null,
      "outputs": []
    },
    {
      "cell_type": "code",
      "metadata": {
        "id": "jMM4qYxu5loQ"
      },
      "source": [
        "period_a_links = [['http://dbpedia.org/resource/XML',\n",
        "  'http://dbpedia.org/resource/Semantic_Web',\n",
        "  'http://dbpedia.org/resource/HTTPS',\n",
        "  'http://dbpedia.org/resource/SQL'],\n",
        " ['http://dbpedia.org/resource/Ansible',\n",
        "  'http://dbpedia.org/resource/Virtualization',\n",
        "  'http://dbpedia.org/resource/Linked_data',\n",
        "  'http://dbpedia.org/resource/Elasticsearch',\n",
        "  'http://dbpedia.org/resource/VMware',\n",
        "  'http://dbpedia.org/resource/Relational_database',\n",
        "  'http://dbpedia.org/resource/IBM_WebSphere',\n",
        "  'http://dbpedia.org/resource/Data_modeling',\n",
        "  'http://dbpedia.org/resource/Apache_Lucene',\n",
        "  'http://dbpedia.org/resource/Microsoft_Visual_Studio',\n",
        "  'http://dbpedia.org/resource/JSON',\n",
        "  'http://dbpedia.org/resource/Redis',\n",
        "  'http://dbpedia.org/resource/TypeScript',\n",
        "  'http://dbpedia.org/resource/MySQL',\n",
        "  'http://dbpedia.org/resource/PostgreSQL',\n",
        "  'http://dbpedia.org/resource/The_Open_Group_Architecture_Framework',\n",
        "  'http://dbpedia.org/resource/Version_control',\n",
        "  'http://dbpedia.org/resource/Apache_Mahout',\n",
        "  'http://dbpedia.org/resource/Jira',\n",
        "  'http://dbpedia.org/resource/Node.js',\n",
        "  'http://dbpedia.org/resource/JBoss_Enterprise_SOA_Platform',\n",
        "  'http://dbpedia.org/resource/Database',\n",
        "  'http://dbpedia.org/resource/Unit_testing',\n",
        "  'http://dbpedia.org/resource/MongoDB',\n",
        "  'http://dbpedia.org/resource/Perl',\n",
        "  'http://dbpedia.org/resource/Oracle',\n",
        "  'http://dbpedia.org/resource/Multicast',\n",
        "  'http://dbpedia.org/resource/NoSQL',\n",
        "  'http://dbpedia.org/resource/Gradle',\n",
        "  'http://dbpedia.org/resource/Git'],\n",
        " ['http://dbpedia.org/resource/CUDA',\n",
        "  'http://dbpedia.org/resource/Computer_hardware',\n",
        "  'http://dbpedia.org/resource/OpenCL'],\n",
        " ['http://dbpedia.org/resource/Zend_Framework',\n",
        "  'http://dbpedia.org/resource/PHP',\n",
        "  'http://dbpedia.org/resource/Drupal',\n",
        "  'http://dbpedia.org/resource/Laravel',\n",
        "  'http://dbpedia.org/resource/Symfony'],\n",
        " ['http://dbpedia.org/resource/HTML',\n",
        "  'http://dbpedia.org/resource/JavaScript',\n",
        "  'http://dbpedia.org/resource/HTML5',\n",
        "  'http://dbpedia.org/resource/AngularJS'],\n",
        " ['http://dbpedia.org/resource/Nagios',\n",
        "  'http://dbpedia.org/resource/Surveillance',\n",
        "  'http://dbpedia.org/resource/Linux_kernel',\n",
        "  'http://dbpedia.org/resource/Nginx',\n",
        "  'http://dbpedia.org/resource/LXC'],\n",
        " ['http://dbpedia.org/resource/Software_architecture',\n",
        "  'http://dbpedia.org/resource/Microservices',\n",
        "  'http://dbpedia.org/resource/Virtual_machine'],\n",
        " ['http://dbpedia.org/resource/Linux',\n",
        "  'http://dbpedia.org/resource/Debian',\n",
        "  'http://dbpedia.org/resource/Unix']]"
      ],
      "execution_count": null,
      "outputs": []
    },
    {
      "cell_type": "code",
      "metadata": {
        "id": "jYhz_r4CWUXx"
      },
      "source": [
        "# period_b_links = "
      ],
      "execution_count": null,
      "outputs": []
    },
    {
      "cell_type": "code",
      "metadata": {
        "id": "7gDx2OO0iFc5",
        "colab": {
          "base_uri": "https://localhost:8080/"
        },
        "outputId": "42f5d3de-70f0-40d5-b51b-480a2e44bd33"
      },
      "source": [
        "for cluster_a in period_a_links:\n",
        "  joint_ic_cost_list = []\n",
        "  ic_pmi_cost_list = []\n",
        "  comb_ic_cost_list = []\n",
        "  exclusivity_cost_list = []\n",
        "  common_item_list = []\n",
        "  for cluster_b in period_b_links:\n",
        "    print(\"Processing\")\n",
        "    print(cluster_a)\n",
        "    print(cluster_b)\n",
        "    print('-------------')\n",
        "    # common_items = list(set(cluster_a).intersection(cluster_b))\n",
        "    # new_a = [elem for elem in cluster_a if elem not in common_items]\n",
        "    # new_b = [elem for elem in cluster_b if elem not in common_items]\n",
        "    new_a = cluster_a\n",
        "    new_b = cluster_b\n",
        "\n",
        "    # check if new_a is empty or new_b is empty\n",
        "    if not new_a or not new_b:\n",
        "      continue;\n",
        "\n",
        "    normalized_cost_df = buildGraphWithCost(new_a, new_b)\n",
        "    if type(normalized_cost_df) is not pd.DataFrame:\n",
        "      print('hello')\n",
        "      joint_ic_cost_list.append(100)\n",
        "      ic_pmi_cost_list.append(100)\n",
        "      comb_ic_cost_list.append(100)\n",
        "      exclusivity_cost_list.append(0)\n",
        "    else:\n",
        "      joint_ic_matrix = prepare_edit_cost_matrix(new_a, new_b, 'joint_ic', normalized_cost_df)\n",
        "      row_ind, col_ind = linear_sum_assignment(joint_ic_matrix)\n",
        "      joint_ic_total_cost = joint_ic_matrix[row_ind, col_ind].sum()\n",
        "\n",
        "      ic_pmi_matrix = prepare_edit_cost_matrix(new_a, new_b, 'ic_pmi', normalized_cost_df)\n",
        "      row_ind, col_ind = linear_sum_assignment(ic_pmi_matrix)\n",
        "      ic_pmi_total_cost = ic_pmi_matrix[row_ind, col_ind].sum()\n",
        "\n",
        "      comb_ic_matrix = prepare_edit_cost_matrix(new_a, new_b, 'comb_ic', normalized_cost_df)\n",
        "      row_ind, col_ind = linear_sum_assignment(comb_ic_matrix)\n",
        "      comb_ic_total_cost = comb_ic_matrix[row_ind, col_ind].sum()\n",
        "\n",
        "      exclusivity_matrix = prepare_edit_cost_matrix(new_a, new_b, 'exclusivity', normalized_cost_df)\n",
        "      row_ind, col_ind = linear_sum_assignment(exclusivity_matrix)\n",
        "      exclusivity_total_cost = exclusivity_matrix[row_ind, col_ind].sum()\n",
        "\n",
        "      joint_ic_cost_list.append(joint_ic_total_cost)\n",
        "      ic_pmi_cost_list.append(ic_pmi_total_cost)\n",
        "      comb_ic_cost_list.append(comb_ic_total_cost)\n",
        "      exclusivity_cost_list.append(exclusivity_total_cost)\n",
        "    \n",
        "  print(\"=============\")\n",
        "  print(\"Cluster: \", cluster_a, \" with all:\")\n",
        "  print(\"=============\")\n",
        "  print(\"JointIC\", joint_ic_cost_list)\n",
        "  print(\"IC PMI\", ic_pmi_cost_list)\n",
        "  print(\"CombIC\", comb_ic_cost_list)\n",
        "  print(\"Exclusivity\", exclusivity_cost_list)"
      ],
      "execution_count": null,
      "outputs": [
        {
          "output_type": "stream",
          "text": [
            "Processing\n",
            "['http://dbpedia.org/resource/XML', 'http://dbpedia.org/resource/Semantic_Web', 'http://dbpedia.org/resource/HTTPS', 'http://dbpedia.org/resource/SQL']\n",
            "['http://dbpedia.org/resource/XML', 'http://dbpedia.org/resource/HTTPS', 'http://dbpedia.org/resource/Relational_database', 'http://dbpedia.org/resource/SQL', 'http://dbpedia.org/resource/JSON', 'http://dbpedia.org/resource/Redis', 'http://dbpedia.org/resource/MySQL', 'http://dbpedia.org/resource/PostgreSQL', 'http://dbpedia.org/resource/MongoDB', 'http://dbpedia.org/resource/NoSQL']\n",
            "-------------\n",
            "Runing Sparql\n",
            "Assigning Weights\n",
            "Assigning Cost to Graph\n",
            "Processing\n",
            "['http://dbpedia.org/resource/XML', 'http://dbpedia.org/resource/Semantic_Web', 'http://dbpedia.org/resource/HTTPS', 'http://dbpedia.org/resource/SQL']\n",
            "['http://dbpedia.org/resource/Ansible', 'http://dbpedia.org/resource/Continuous_delivery', 'http://dbpedia.org/resource/Microservices', 'http://dbpedia.org/resource/Debian', 'http://dbpedia.org/resource/RabbitMQ']\n",
            "-------------\n",
            "Runing Sparql\n",
            "Assigning Weights\n",
            "Assigning Cost to Graph\n",
            "Processing\n",
            "['http://dbpedia.org/resource/XML', 'http://dbpedia.org/resource/Semantic_Web', 'http://dbpedia.org/resource/HTTPS', 'http://dbpedia.org/resource/SQL']\n",
            "['http://dbpedia.org/resource/Windows_Firewall', 'http://dbpedia.org/resource/Nagios', 'http://dbpedia.org/resource/Web_crawler', 'http://dbpedia.org/resource/Nginx', 'http://dbpedia.org/resource/LXC']\n",
            "-------------\n",
            "Runing Sparql\n",
            "Assigning Weights\n",
            "Assigning Cost to Graph\n",
            "Processing\n",
            "['http://dbpedia.org/resource/XML', 'http://dbpedia.org/resource/Semantic_Web', 'http://dbpedia.org/resource/HTTPS', 'http://dbpedia.org/resource/SQL']\n",
            "['http://dbpedia.org/resource/HTML', 'http://dbpedia.org/page/Apache_Software_Foundation', 'http://dbpedia.org/resource/Semantic_Web', 'http://dbpedia.org/resource/TypeScript', 'http://dbpedia.org/resource/Modelâ€“viewâ€“controller', 'http://dbpedia.org/resource/CentOS', 'http://dbpedia.org/resource/Laravel', 'http://dbpedia.org/resource/Ruby_on_Rails', 'http://dbpedia.org/resource/Symfony', 'http://dbpedia.org/resource/Node.js', 'http://dbpedia.org/resource/JBoss_Enterprise_SOA_Platform', 'http://dbpedia.org/resource/Vaadin', 'http://dbpedia.org/resource/WordPress', 'http://dbpedia.org/resource/ASP.NET', 'http://dbpedia.org/resource/JavaScript', 'http://dbpedia.org/resource/HTML5', 'http://dbpedia.org/resource/JQuery', 'http://dbpedia.org/resource/Hybris_(software)', 'http://dbpedia.org/resource/AngularJS']\n",
            "-------------\n",
            "Runing Sparql\n",
            "Assigning Weights\n",
            "Assigning Cost to Graph\n",
            "Processing\n",
            "['http://dbpedia.org/resource/XML', 'http://dbpedia.org/resource/Semantic_Web', 'http://dbpedia.org/resource/HTTPS', 'http://dbpedia.org/resource/SQL']\n",
            "['http://dbpedia.org/resource/ASP.NET', 'http://dbpedia.org/resource/Microsoft_Visual_Studio', 'http://dbpedia.org/resource/.NET_Framework']\n",
            "-------------\n",
            "Runing Sparql\n",
            "Assigning Weights\n",
            "Assigning Cost to Graph\n",
            "Processing\n",
            "['http://dbpedia.org/resource/XML', 'http://dbpedia.org/resource/Semantic_Web', 'http://dbpedia.org/resource/HTTPS', 'http://dbpedia.org/resource/SQL']\n",
            "['http://dbpedia.org/resource/Business_intelligence', 'http://dbpedia.org/resource/Data_warehouse', 'http://dbpedia.org/resource/Big_data']\n",
            "-------------\n",
            "Runing Sparql\n",
            "Assigning Weights\n",
            "Assigning Cost to Graph\n",
            "Processing\n",
            "['http://dbpedia.org/resource/XML', 'http://dbpedia.org/resource/Semantic_Web', 'http://dbpedia.org/resource/HTTPS', 'http://dbpedia.org/resource/SQL']\n",
            "['http://dbpedia.org/resource/Groovy_(programming_language)', 'http://dbpedia.org/resource/IBM_WebSphere', 'http://dbpedia.org/resource/JUnit', 'http://dbpedia.org/resource/Code_refactoring', 'http://dbpedia.org/resource/Mockito', 'http://dbpedia.org/resource/Gradle']\n",
            "-------------\n",
            "Runing Sparql\n",
            "Assigning Weights\n",
            "Assigning Cost to Graph\n",
            "Processing\n",
            "['http://dbpedia.org/resource/XML', 'http://dbpedia.org/resource/Semantic_Web', 'http://dbpedia.org/resource/HTTPS', 'http://dbpedia.org/resource/SQL']\n",
            "['http://dbpedia.org/resource/OpenGL', 'http://dbpedia.org/resource/OpenCL', 'http://dbpedia.org/resource/OpenCV']\n",
            "-------------\n",
            "Runing Sparql\n",
            "Assigning Weights\n",
            "Assigning Cost to Graph\n",
            "Processing\n",
            "['http://dbpedia.org/resource/XML', 'http://dbpedia.org/resource/Semantic_Web', 'http://dbpedia.org/resource/HTTPS', 'http://dbpedia.org/resource/SQL']\n",
            "['http://dbpedia.org/resource/Mercurial', 'http://dbpedia.org/resource/Continuous_integration', 'http://dbpedia.org/resource/Version_control']\n",
            "-------------\n",
            "Runing Sparql\n",
            "Assigning Weights\n",
            "Assigning Cost to Graph\n",
            "Processing\n",
            "['http://dbpedia.org/resource/XML', 'http://dbpedia.org/resource/Semantic_Web', 'http://dbpedia.org/resource/HTTPS', 'http://dbpedia.org/resource/SQL']\n",
            "['http://dbpedia.org/resource/Jira', 'http://dbpedia.org/resource/Git', 'http://dbpedia.org/resource/Atlassian']\n",
            "-------------\n",
            "Runing Sparql\n",
            "Assigning Weights\n",
            "Assigning Cost to Graph\n",
            "Processing\n",
            "['http://dbpedia.org/resource/XML', 'http://dbpedia.org/resource/Semantic_Web', 'http://dbpedia.org/resource/HTTPS', 'http://dbpedia.org/resource/SQL']\n",
            "['http://dbpedia.org/resource/Artificial_intelligence', 'http://dbpedia.org/resource/User_interface', 'http://dbpedia.org/resource/Data_mining', 'http://dbpedia.org/resource/Machine_learning']\n",
            "-------------\n",
            "Runing Sparql\n",
            "Assigning Weights\n",
            "Assigning Cost to Graph\n",
            "Processing\n",
            "['http://dbpedia.org/resource/XML', 'http://dbpedia.org/resource/Semantic_Web', 'http://dbpedia.org/resource/HTTPS', 'http://dbpedia.org/resource/SQL']\n",
            "['http://dbpedia.org/resource/Linux', 'http://dbpedia.org/resource/Linux_on_embedded_systems', 'http://dbpedia.org/resource/Unix']\n",
            "-------------\n",
            "Runing Sparql\n",
            "Assigning Weights\n",
            "Assigning Cost to Graph\n",
            "=============\n",
            "Cluster:  ['http://dbpedia.org/resource/XML', 'http://dbpedia.org/resource/Semantic_Web', 'http://dbpedia.org/resource/HTTPS', 'http://dbpedia.org/resource/SQL']  with all:\n",
            "=============\n",
            "JointIC [0.507491279976889, 4.0, 3.0021593695936275, 1.4849568491242577, 2.2754012470329834, 3.0, 3.507325138281145, 3.0, 3.0, 2.00086486837974, 4.0, 2.597892789370243]\n",
            "IC PMI [1.0, 4.0, 3.0008648683797396, 2.10264294128281, 2.3601488696116317, 3.0, 3.823182355016784, 3.0, 3.0, 2.276379716561636, 4.0, 2.5596695416436233]\n",
            "CombIC [0.7881825572095131, 4.0, 3.0008648683797396, 1.8397240636844545, 2.3335356512422725, 3.0, 3.712506534021068, 3.0, 3.0, 2.156007113155419, 4.0, 2.6586164446916696]\n",
            "Exclusivity [1.0, 4.0, 4.0, 3.0, 3.0, 3.0, 4.0, 3.0, 3.0, 3.0, 4.0, 3.0]\n",
            "Processing\n",
            "['http://dbpedia.org/resource/Ansible', 'http://dbpedia.org/resource/Virtualization', 'http://dbpedia.org/resource/Linked_data', 'http://dbpedia.org/resource/Elasticsearch', 'http://dbpedia.org/resource/VMware', 'http://dbpedia.org/resource/Relational_database', 'http://dbpedia.org/resource/IBM_WebSphere', 'http://dbpedia.org/resource/Data_modeling', 'http://dbpedia.org/resource/Apache_Lucene', 'http://dbpedia.org/resource/Microsoft_Visual_Studio', 'http://dbpedia.org/resource/JSON', 'http://dbpedia.org/resource/Redis', 'http://dbpedia.org/resource/TypeScript', 'http://dbpedia.org/resource/MySQL', 'http://dbpedia.org/resource/PostgreSQL', 'http://dbpedia.org/resource/The_Open_Group_Architecture_Framework', 'http://dbpedia.org/resource/Version_control', 'http://dbpedia.org/resource/Apache_Mahout', 'http://dbpedia.org/resource/Jira', 'http://dbpedia.org/resource/Node.js', 'http://dbpedia.org/resource/JBoss_Enterprise_SOA_Platform', 'http://dbpedia.org/resource/Database', 'http://dbpedia.org/resource/Unit_testing', 'http://dbpedia.org/resource/MongoDB', 'http://dbpedia.org/resource/Perl', 'http://dbpedia.org/resource/Oracle', 'http://dbpedia.org/resource/Multicast', 'http://dbpedia.org/resource/NoSQL', 'http://dbpedia.org/resource/Gradle', 'http://dbpedia.org/resource/Git']\n",
            "['http://dbpedia.org/resource/XML', 'http://dbpedia.org/resource/HTTPS', 'http://dbpedia.org/resource/Relational_database', 'http://dbpedia.org/resource/SQL', 'http://dbpedia.org/resource/JSON', 'http://dbpedia.org/resource/Redis', 'http://dbpedia.org/resource/MySQL', 'http://dbpedia.org/resource/PostgreSQL', 'http://dbpedia.org/resource/MongoDB', 'http://dbpedia.org/resource/NoSQL']\n",
            "-------------\n",
            "Runing Sparql\n",
            "Assigning Weights\n",
            "Assigning Cost to Graph\n",
            "Processing\n",
            "['http://dbpedia.org/resource/Ansible', 'http://dbpedia.org/resource/Virtualization', 'http://dbpedia.org/resource/Linked_data', 'http://dbpedia.org/resource/Elasticsearch', 'http://dbpedia.org/resource/VMware', 'http://dbpedia.org/resource/Relational_database', 'http://dbpedia.org/resource/IBM_WebSphere', 'http://dbpedia.org/resource/Data_modeling', 'http://dbpedia.org/resource/Apache_Lucene', 'http://dbpedia.org/resource/Microsoft_Visual_Studio', 'http://dbpedia.org/resource/JSON', 'http://dbpedia.org/resource/Redis', 'http://dbpedia.org/resource/TypeScript', 'http://dbpedia.org/resource/MySQL', 'http://dbpedia.org/resource/PostgreSQL', 'http://dbpedia.org/resource/The_Open_Group_Architecture_Framework', 'http://dbpedia.org/resource/Version_control', 'http://dbpedia.org/resource/Apache_Mahout', 'http://dbpedia.org/resource/Jira', 'http://dbpedia.org/resource/Node.js', 'http://dbpedia.org/resource/JBoss_Enterprise_SOA_Platform', 'http://dbpedia.org/resource/Database', 'http://dbpedia.org/resource/Unit_testing', 'http://dbpedia.org/resource/MongoDB', 'http://dbpedia.org/resource/Perl', 'http://dbpedia.org/resource/Oracle', 'http://dbpedia.org/resource/Multicast', 'http://dbpedia.org/resource/NoSQL', 'http://dbpedia.org/resource/Gradle', 'http://dbpedia.org/resource/Git']\n",
            "['http://dbpedia.org/resource/Ansible', 'http://dbpedia.org/resource/Continuous_delivery', 'http://dbpedia.org/resource/Microservices', 'http://dbpedia.org/resource/Debian', 'http://dbpedia.org/resource/RabbitMQ']\n",
            "-------------\n",
            "Runing Sparql\n",
            "Assigning Weights\n",
            "Assigning Cost to Graph\n",
            "Processing\n",
            "['http://dbpedia.org/resource/Ansible', 'http://dbpedia.org/resource/Virtualization', 'http://dbpedia.org/resource/Linked_data', 'http://dbpedia.org/resource/Elasticsearch', 'http://dbpedia.org/resource/VMware', 'http://dbpedia.org/resource/Relational_database', 'http://dbpedia.org/resource/IBM_WebSphere', 'http://dbpedia.org/resource/Data_modeling', 'http://dbpedia.org/resource/Apache_Lucene', 'http://dbpedia.org/resource/Microsoft_Visual_Studio', 'http://dbpedia.org/resource/JSON', 'http://dbpedia.org/resource/Redis', 'http://dbpedia.org/resource/TypeScript', 'http://dbpedia.org/resource/MySQL', 'http://dbpedia.org/resource/PostgreSQL', 'http://dbpedia.org/resource/The_Open_Group_Architecture_Framework', 'http://dbpedia.org/resource/Version_control', 'http://dbpedia.org/resource/Apache_Mahout', 'http://dbpedia.org/resource/Jira', 'http://dbpedia.org/resource/Node.js', 'http://dbpedia.org/resource/JBoss_Enterprise_SOA_Platform', 'http://dbpedia.org/resource/Database', 'http://dbpedia.org/resource/Unit_testing', 'http://dbpedia.org/resource/MongoDB', 'http://dbpedia.org/resource/Perl', 'http://dbpedia.org/resource/Oracle', 'http://dbpedia.org/resource/Multicast', 'http://dbpedia.org/resource/NoSQL', 'http://dbpedia.org/resource/Gradle', 'http://dbpedia.org/resource/Git']\n",
            "['http://dbpedia.org/resource/Windows_Firewall', 'http://dbpedia.org/resource/Nagios', 'http://dbpedia.org/resource/Web_crawler', 'http://dbpedia.org/resource/Nginx', 'http://dbpedia.org/resource/LXC']\n",
            "-------------\n",
            "Runing Sparql\n",
            "Assigning Weights\n",
            "Assigning Cost to Graph\n",
            "Processing\n",
            "['http://dbpedia.org/resource/Ansible', 'http://dbpedia.org/resource/Virtualization', 'http://dbpedia.org/resource/Linked_data', 'http://dbpedia.org/resource/Elasticsearch', 'http://dbpedia.org/resource/VMware', 'http://dbpedia.org/resource/Relational_database', 'http://dbpedia.org/resource/IBM_WebSphere', 'http://dbpedia.org/resource/Data_modeling', 'http://dbpedia.org/resource/Apache_Lucene', 'http://dbpedia.org/resource/Microsoft_Visual_Studio', 'http://dbpedia.org/resource/JSON', 'http://dbpedia.org/resource/Redis', 'http://dbpedia.org/resource/TypeScript', 'http://dbpedia.org/resource/MySQL', 'http://dbpedia.org/resource/PostgreSQL', 'http://dbpedia.org/resource/The_Open_Group_Architecture_Framework', 'http://dbpedia.org/resource/Version_control', 'http://dbpedia.org/resource/Apache_Mahout', 'http://dbpedia.org/resource/Jira', 'http://dbpedia.org/resource/Node.js', 'http://dbpedia.org/resource/JBoss_Enterprise_SOA_Platform', 'http://dbpedia.org/resource/Database', 'http://dbpedia.org/resource/Unit_testing', 'http://dbpedia.org/resource/MongoDB', 'http://dbpedia.org/resource/Perl', 'http://dbpedia.org/resource/Oracle', 'http://dbpedia.org/resource/Multicast', 'http://dbpedia.org/resource/NoSQL', 'http://dbpedia.org/resource/Gradle', 'http://dbpedia.org/resource/Git']\n",
            "['http://dbpedia.org/resource/HTML', 'http://dbpedia.org/page/Apache_Software_Foundation', 'http://dbpedia.org/resource/Semantic_Web', 'http://dbpedia.org/resource/TypeScript', 'http://dbpedia.org/resource/Modelâ€“viewâ€“controller', 'http://dbpedia.org/resource/CentOS', 'http://dbpedia.org/resource/Laravel', 'http://dbpedia.org/resource/Ruby_on_Rails', 'http://dbpedia.org/resource/Symfony', 'http://dbpedia.org/resource/Node.js', 'http://dbpedia.org/resource/JBoss_Enterprise_SOA_Platform', 'http://dbpedia.org/resource/Vaadin', 'http://dbpedia.org/resource/WordPress', 'http://dbpedia.org/resource/ASP.NET', 'http://dbpedia.org/resource/JavaScript', 'http://dbpedia.org/resource/HTML5', 'http://dbpedia.org/resource/JQuery', 'http://dbpedia.org/resource/Hybris_(software)', 'http://dbpedia.org/resource/AngularJS']\n",
            "-------------\n",
            "Runing Sparql\n",
            "Assigning Weights\n",
            "Assigning Cost to Graph\n",
            "Processing\n",
            "['http://dbpedia.org/resource/Ansible', 'http://dbpedia.org/resource/Virtualization', 'http://dbpedia.org/resource/Linked_data', 'http://dbpedia.org/resource/Elasticsearch', 'http://dbpedia.org/resource/VMware', 'http://dbpedia.org/resource/Relational_database', 'http://dbpedia.org/resource/IBM_WebSphere', 'http://dbpedia.org/resource/Data_modeling', 'http://dbpedia.org/resource/Apache_Lucene', 'http://dbpedia.org/resource/Microsoft_Visual_Studio', 'http://dbpedia.org/resource/JSON', 'http://dbpedia.org/resource/Redis', 'http://dbpedia.org/resource/TypeScript', 'http://dbpedia.org/resource/MySQL', 'http://dbpedia.org/resource/PostgreSQL', 'http://dbpedia.org/resource/The_Open_Group_Architecture_Framework', 'http://dbpedia.org/resource/Version_control', 'http://dbpedia.org/resource/Apache_Mahout', 'http://dbpedia.org/resource/Jira', 'http://dbpedia.org/resource/Node.js', 'http://dbpedia.org/resource/JBoss_Enterprise_SOA_Platform', 'http://dbpedia.org/resource/Database', 'http://dbpedia.org/resource/Unit_testing', 'http://dbpedia.org/resource/MongoDB', 'http://dbpedia.org/resource/Perl', 'http://dbpedia.org/resource/Oracle', 'http://dbpedia.org/resource/Multicast', 'http://dbpedia.org/resource/NoSQL', 'http://dbpedia.org/resource/Gradle', 'http://dbpedia.org/resource/Git']\n",
            "['http://dbpedia.org/resource/ASP.NET', 'http://dbpedia.org/resource/Microsoft_Visual_Studio', 'http://dbpedia.org/resource/.NET_Framework']\n",
            "-------------\n",
            "Runing Sparql\n",
            "Assigning Weights\n",
            "Assigning Cost to Graph\n",
            "Processing\n",
            "['http://dbpedia.org/resource/Ansible', 'http://dbpedia.org/resource/Virtualization', 'http://dbpedia.org/resource/Linked_data', 'http://dbpedia.org/resource/Elasticsearch', 'http://dbpedia.org/resource/VMware', 'http://dbpedia.org/resource/Relational_database', 'http://dbpedia.org/resource/IBM_WebSphere', 'http://dbpedia.org/resource/Data_modeling', 'http://dbpedia.org/resource/Apache_Lucene', 'http://dbpedia.org/resource/Microsoft_Visual_Studio', 'http://dbpedia.org/resource/JSON', 'http://dbpedia.org/resource/Redis', 'http://dbpedia.org/resource/TypeScript', 'http://dbpedia.org/resource/MySQL', 'http://dbpedia.org/resource/PostgreSQL', 'http://dbpedia.org/resource/The_Open_Group_Architecture_Framework', 'http://dbpedia.org/resource/Version_control', 'http://dbpedia.org/resource/Apache_Mahout', 'http://dbpedia.org/resource/Jira', 'http://dbpedia.org/resource/Node.js', 'http://dbpedia.org/resource/JBoss_Enterprise_SOA_Platform', 'http://dbpedia.org/resource/Database', 'http://dbpedia.org/resource/Unit_testing', 'http://dbpedia.org/resource/MongoDB', 'http://dbpedia.org/resource/Perl', 'http://dbpedia.org/resource/Oracle', 'http://dbpedia.org/resource/Multicast', 'http://dbpedia.org/resource/NoSQL', 'http://dbpedia.org/resource/Gradle', 'http://dbpedia.org/resource/Git']\n",
            "['http://dbpedia.org/resource/Business_intelligence', 'http://dbpedia.org/resource/Data_warehouse', 'http://dbpedia.org/resource/Big_data']\n",
            "-------------\n",
            "Runing Sparql\n",
            "Assigning Weights\n",
            "Assigning Cost to Graph\n",
            "Processing\n",
            "['http://dbpedia.org/resource/Ansible', 'http://dbpedia.org/resource/Virtualization', 'http://dbpedia.org/resource/Linked_data', 'http://dbpedia.org/resource/Elasticsearch', 'http://dbpedia.org/resource/VMware', 'http://dbpedia.org/resource/Relational_database', 'http://dbpedia.org/resource/IBM_WebSphere', 'http://dbpedia.org/resource/Data_modeling', 'http://dbpedia.org/resource/Apache_Lucene', 'http://dbpedia.org/resource/Microsoft_Visual_Studio', 'http://dbpedia.org/resource/JSON', 'http://dbpedia.org/resource/Redis', 'http://dbpedia.org/resource/TypeScript', 'http://dbpedia.org/resource/MySQL', 'http://dbpedia.org/resource/PostgreSQL', 'http://dbpedia.org/resource/The_Open_Group_Architecture_Framework', 'http://dbpedia.org/resource/Version_control', 'http://dbpedia.org/resource/Apache_Mahout', 'http://dbpedia.org/resource/Jira', 'http://dbpedia.org/resource/Node.js', 'http://dbpedia.org/resource/JBoss_Enterprise_SOA_Platform', 'http://dbpedia.org/resource/Database', 'http://dbpedia.org/resource/Unit_testing', 'http://dbpedia.org/resource/MongoDB', 'http://dbpedia.org/resource/Perl', 'http://dbpedia.org/resource/Oracle', 'http://dbpedia.org/resource/Multicast', 'http://dbpedia.org/resource/NoSQL', 'http://dbpedia.org/resource/Gradle', 'http://dbpedia.org/resource/Git']\n",
            "['http://dbpedia.org/resource/Groovy_(programming_language)', 'http://dbpedia.org/resource/IBM_WebSphere', 'http://dbpedia.org/resource/JUnit', 'http://dbpedia.org/resource/Code_refactoring', 'http://dbpedia.org/resource/Mockito', 'http://dbpedia.org/resource/Gradle']\n",
            "-------------\n",
            "Runing Sparql\n",
            "Assigning Weights\n",
            "Assigning Cost to Graph\n",
            "Processing\n",
            "['http://dbpedia.org/resource/Ansible', 'http://dbpedia.org/resource/Virtualization', 'http://dbpedia.org/resource/Linked_data', 'http://dbpedia.org/resource/Elasticsearch', 'http://dbpedia.org/resource/VMware', 'http://dbpedia.org/resource/Relational_database', 'http://dbpedia.org/resource/IBM_WebSphere', 'http://dbpedia.org/resource/Data_modeling', 'http://dbpedia.org/resource/Apache_Lucene', 'http://dbpedia.org/resource/Microsoft_Visual_Studio', 'http://dbpedia.org/resource/JSON', 'http://dbpedia.org/resource/Redis', 'http://dbpedia.org/resource/TypeScript', 'http://dbpedia.org/resource/MySQL', 'http://dbpedia.org/resource/PostgreSQL', 'http://dbpedia.org/resource/The_Open_Group_Architecture_Framework', 'http://dbpedia.org/resource/Version_control', 'http://dbpedia.org/resource/Apache_Mahout', 'http://dbpedia.org/resource/Jira', 'http://dbpedia.org/resource/Node.js', 'http://dbpedia.org/resource/JBoss_Enterprise_SOA_Platform', 'http://dbpedia.org/resource/Database', 'http://dbpedia.org/resource/Unit_testing', 'http://dbpedia.org/resource/MongoDB', 'http://dbpedia.org/resource/Perl', 'http://dbpedia.org/resource/Oracle', 'http://dbpedia.org/resource/Multicast', 'http://dbpedia.org/resource/NoSQL', 'http://dbpedia.org/resource/Gradle', 'http://dbpedia.org/resource/Git']\n",
            "['http://dbpedia.org/resource/OpenGL', 'http://dbpedia.org/resource/OpenCL', 'http://dbpedia.org/resource/OpenCV']\n",
            "-------------\n",
            "Runing Sparql\n",
            "Assigning Weights\n",
            "Assigning Cost to Graph\n",
            "Processing\n",
            "['http://dbpedia.org/resource/Ansible', 'http://dbpedia.org/resource/Virtualization', 'http://dbpedia.org/resource/Linked_data', 'http://dbpedia.org/resource/Elasticsearch', 'http://dbpedia.org/resource/VMware', 'http://dbpedia.org/resource/Relational_database', 'http://dbpedia.org/resource/IBM_WebSphere', 'http://dbpedia.org/resource/Data_modeling', 'http://dbpedia.org/resource/Apache_Lucene', 'http://dbpedia.org/resource/Microsoft_Visual_Studio', 'http://dbpedia.org/resource/JSON', 'http://dbpedia.org/resource/Redis', 'http://dbpedia.org/resource/TypeScript', 'http://dbpedia.org/resource/MySQL', 'http://dbpedia.org/resource/PostgreSQL', 'http://dbpedia.org/resource/The_Open_Group_Architecture_Framework', 'http://dbpedia.org/resource/Version_control', 'http://dbpedia.org/resource/Apache_Mahout', 'http://dbpedia.org/resource/Jira', 'http://dbpedia.org/resource/Node.js', 'http://dbpedia.org/resource/JBoss_Enterprise_SOA_Platform', 'http://dbpedia.org/resource/Database', 'http://dbpedia.org/resource/Unit_testing', 'http://dbpedia.org/resource/MongoDB', 'http://dbpedia.org/resource/Perl', 'http://dbpedia.org/resource/Oracle', 'http://dbpedia.org/resource/Multicast', 'http://dbpedia.org/resource/NoSQL', 'http://dbpedia.org/resource/Gradle', 'http://dbpedia.org/resource/Git']\n",
            "['http://dbpedia.org/resource/Mercurial', 'http://dbpedia.org/resource/Continuous_integration', 'http://dbpedia.org/resource/Version_control']\n",
            "-------------\n",
            "Runing Sparql\n",
            "Assigning Weights\n",
            "Assigning Cost to Graph\n",
            "Processing\n",
            "['http://dbpedia.org/resource/Ansible', 'http://dbpedia.org/resource/Virtualization', 'http://dbpedia.org/resource/Linked_data', 'http://dbpedia.org/resource/Elasticsearch', 'http://dbpedia.org/resource/VMware', 'http://dbpedia.org/resource/Relational_database', 'http://dbpedia.org/resource/IBM_WebSphere', 'http://dbpedia.org/resource/Data_modeling', 'http://dbpedia.org/resource/Apache_Lucene', 'http://dbpedia.org/resource/Microsoft_Visual_Studio', 'http://dbpedia.org/resource/JSON', 'http://dbpedia.org/resource/Redis', 'http://dbpedia.org/resource/TypeScript', 'http://dbpedia.org/resource/MySQL', 'http://dbpedia.org/resource/PostgreSQL', 'http://dbpedia.org/resource/The_Open_Group_Architecture_Framework', 'http://dbpedia.org/resource/Version_control', 'http://dbpedia.org/resource/Apache_Mahout', 'http://dbpedia.org/resource/Jira', 'http://dbpedia.org/resource/Node.js', 'http://dbpedia.org/resource/JBoss_Enterprise_SOA_Platform', 'http://dbpedia.org/resource/Database', 'http://dbpedia.org/resource/Unit_testing', 'http://dbpedia.org/resource/MongoDB', 'http://dbpedia.org/resource/Perl', 'http://dbpedia.org/resource/Oracle', 'http://dbpedia.org/resource/Multicast', 'http://dbpedia.org/resource/NoSQL', 'http://dbpedia.org/resource/Gradle', 'http://dbpedia.org/resource/Git']\n",
            "['http://dbpedia.org/resource/Jira', 'http://dbpedia.org/resource/Git', 'http://dbpedia.org/resource/Atlassian']\n",
            "-------------\n",
            "Runing Sparql\n",
            "Assigning Weights\n",
            "Assigning Cost to Graph\n",
            "Processing\n",
            "['http://dbpedia.org/resource/Ansible', 'http://dbpedia.org/resource/Virtualization', 'http://dbpedia.org/resource/Linked_data', 'http://dbpedia.org/resource/Elasticsearch', 'http://dbpedia.org/resource/VMware', 'http://dbpedia.org/resource/Relational_database', 'http://dbpedia.org/resource/IBM_WebSphere', 'http://dbpedia.org/resource/Data_modeling', 'http://dbpedia.org/resource/Apache_Lucene', 'http://dbpedia.org/resource/Microsoft_Visual_Studio', 'http://dbpedia.org/resource/JSON', 'http://dbpedia.org/resource/Redis', 'http://dbpedia.org/resource/TypeScript', 'http://dbpedia.org/resource/MySQL', 'http://dbpedia.org/resource/PostgreSQL', 'http://dbpedia.org/resource/The_Open_Group_Architecture_Framework', 'http://dbpedia.org/resource/Version_control', 'http://dbpedia.org/resource/Apache_Mahout', 'http://dbpedia.org/resource/Jira', 'http://dbpedia.org/resource/Node.js', 'http://dbpedia.org/resource/JBoss_Enterprise_SOA_Platform', 'http://dbpedia.org/resource/Database', 'http://dbpedia.org/resource/Unit_testing', 'http://dbpedia.org/resource/MongoDB', 'http://dbpedia.org/resource/Perl', 'http://dbpedia.org/resource/Oracle', 'http://dbpedia.org/resource/Multicast', 'http://dbpedia.org/resource/NoSQL', 'http://dbpedia.org/resource/Gradle', 'http://dbpedia.org/resource/Git']\n",
            "['http://dbpedia.org/resource/Artificial_intelligence', 'http://dbpedia.org/resource/User_interface', 'http://dbpedia.org/resource/Data_mining', 'http://dbpedia.org/resource/Machine_learning']\n",
            "-------------\n",
            "Runing Sparql\n",
            "Assigning Weights\n",
            "Assigning Cost to Graph\n",
            "Processing\n",
            "['http://dbpedia.org/resource/Ansible', 'http://dbpedia.org/resource/Virtualization', 'http://dbpedia.org/resource/Linked_data', 'http://dbpedia.org/resource/Elasticsearch', 'http://dbpedia.org/resource/VMware', 'http://dbpedia.org/resource/Relational_database', 'http://dbpedia.org/resource/IBM_WebSphere', 'http://dbpedia.org/resource/Data_modeling', 'http://dbpedia.org/resource/Apache_Lucene', 'http://dbpedia.org/resource/Microsoft_Visual_Studio', 'http://dbpedia.org/resource/JSON', 'http://dbpedia.org/resource/Redis', 'http://dbpedia.org/resource/TypeScript', 'http://dbpedia.org/resource/MySQL', 'http://dbpedia.org/resource/PostgreSQL', 'http://dbpedia.org/resource/The_Open_Group_Architecture_Framework', 'http://dbpedia.org/resource/Version_control', 'http://dbpedia.org/resource/Apache_Mahout', 'http://dbpedia.org/resource/Jira', 'http://dbpedia.org/resource/Node.js', 'http://dbpedia.org/resource/JBoss_Enterprise_SOA_Platform', 'http://dbpedia.org/resource/Database', 'http://dbpedia.org/resource/Unit_testing', 'http://dbpedia.org/resource/MongoDB', 'http://dbpedia.org/resource/Perl', 'http://dbpedia.org/resource/Oracle', 'http://dbpedia.org/resource/Multicast', 'http://dbpedia.org/resource/NoSQL', 'http://dbpedia.org/resource/Gradle', 'http://dbpedia.org/resource/Git']\n",
            "['http://dbpedia.org/resource/Linux', 'http://dbpedia.org/resource/Linux_on_embedded_systems', 'http://dbpedia.org/resource/Unix']\n",
            "-------------\n",
            "Runing Sparql\n",
            "Assigning Weights\n",
            "Assigning Cost to Graph\n",
            "=============\n",
            "Cluster:  ['http://dbpedia.org/resource/Ansible', 'http://dbpedia.org/resource/Virtualization', 'http://dbpedia.org/resource/Linked_data', 'http://dbpedia.org/resource/Elasticsearch', 'http://dbpedia.org/resource/VMware', 'http://dbpedia.org/resource/Relational_database', 'http://dbpedia.org/resource/IBM_WebSphere', 'http://dbpedia.org/resource/Data_modeling', 'http://dbpedia.org/resource/Apache_Lucene', 'http://dbpedia.org/resource/Microsoft_Visual_Studio', 'http://dbpedia.org/resource/JSON', 'http://dbpedia.org/resource/Redis', 'http://dbpedia.org/resource/TypeScript', 'http://dbpedia.org/resource/MySQL', 'http://dbpedia.org/resource/PostgreSQL', 'http://dbpedia.org/resource/The_Open_Group_Architecture_Framework', 'http://dbpedia.org/resource/Version_control', 'http://dbpedia.org/resource/Apache_Mahout', 'http://dbpedia.org/resource/Jira', 'http://dbpedia.org/resource/Node.js', 'http://dbpedia.org/resource/JBoss_Enterprise_SOA_Platform', 'http://dbpedia.org/resource/Database', 'http://dbpedia.org/resource/Unit_testing', 'http://dbpedia.org/resource/MongoDB', 'http://dbpedia.org/resource/Perl', 'http://dbpedia.org/resource/Oracle', 'http://dbpedia.org/resource/Multicast', 'http://dbpedia.org/resource/NoSQL', 'http://dbpedia.org/resource/Gradle', 'http://dbpedia.org/resource/Git']  with all:\n",
            "=============\n",
            "JointIC [1.4483959731866092, 1.8518732096325983, 3.142427389954105, 10.753932620546287, 0.6444753400380889, 3.0, 2.2798644768349385, 1.9634531914659545, 1.2715891459975888, 0.1387637487840689, 2.4432864829351937, 0.9413364593577608]\n",
            "IC PMI [1.6714430505701086, 2.2444783930587033, 3.1719924986288692, 12.16470697121834, 1.0007300059070354, 3.0, 2.2403454454806546, 2.0001953865786293, 1.2633035480002732, 0.23602583333386162, 2.596005625320392, 1.2608348715094098]\n",
            "CombIC [1.570647624920043, 2.0709465236836877, 3.170128058607516, 11.804534492200984, 0.9807820751960631, 3.0, 2.286693073482006, 2.014330836892552, 1.2689343896720273, 0.20785486605317782, 2.589602111463444, 1.2610133548962916]\n",
            "Exclusivity [3.0, 4.0, 5.0, 16.0, 2.0, 3.0, 4.0, 3.0, 2.0, 1.0, 4.0, 3.0]\n",
            "Processing\n",
            "['http://dbpedia.org/resource/CUDA', 'http://dbpedia.org/resource/Computer_hardware', 'http://dbpedia.org/resource/OpenCL']\n",
            "['http://dbpedia.org/resource/XML', 'http://dbpedia.org/resource/HTTPS', 'http://dbpedia.org/resource/Relational_database', 'http://dbpedia.org/resource/SQL', 'http://dbpedia.org/resource/JSON', 'http://dbpedia.org/resource/Redis', 'http://dbpedia.org/resource/MySQL', 'http://dbpedia.org/resource/PostgreSQL', 'http://dbpedia.org/resource/MongoDB', 'http://dbpedia.org/resource/NoSQL']\n",
            "-------------\n",
            "Runing Sparql\n",
            "Assigning Weights\n",
            "Assigning Cost to Graph\n",
            "Processing\n",
            "['http://dbpedia.org/resource/CUDA', 'http://dbpedia.org/resource/Computer_hardware', 'http://dbpedia.org/resource/OpenCL']\n",
            "['http://dbpedia.org/resource/Ansible', 'http://dbpedia.org/resource/Continuous_delivery', 'http://dbpedia.org/resource/Microservices', 'http://dbpedia.org/resource/Debian', 'http://dbpedia.org/resource/RabbitMQ']\n",
            "-------------\n",
            "Runing Sparql\n",
            "Assigning Weights\n",
            "Assigning Cost to Graph\n",
            "Processing\n",
            "['http://dbpedia.org/resource/CUDA', 'http://dbpedia.org/resource/Computer_hardware', 'http://dbpedia.org/resource/OpenCL']\n",
            "['http://dbpedia.org/resource/Windows_Firewall', 'http://dbpedia.org/resource/Nagios', 'http://dbpedia.org/resource/Web_crawler', 'http://dbpedia.org/resource/Nginx', 'http://dbpedia.org/resource/LXC']\n",
            "-------------\n",
            "Runing Sparql\n",
            "Assigning Weights\n",
            "Assigning Cost to Graph\n",
            "Processing\n",
            "['http://dbpedia.org/resource/CUDA', 'http://dbpedia.org/resource/Computer_hardware', 'http://dbpedia.org/resource/OpenCL']\n",
            "['http://dbpedia.org/resource/HTML', 'http://dbpedia.org/page/Apache_Software_Foundation', 'http://dbpedia.org/resource/Semantic_Web', 'http://dbpedia.org/resource/TypeScript', 'http://dbpedia.org/resource/Modelâ€“viewâ€“controller', 'http://dbpedia.org/resource/CentOS', 'http://dbpedia.org/resource/Laravel', 'http://dbpedia.org/resource/Ruby_on_Rails', 'http://dbpedia.org/resource/Symfony', 'http://dbpedia.org/resource/Node.js', 'http://dbpedia.org/resource/JBoss_Enterprise_SOA_Platform', 'http://dbpedia.org/resource/Vaadin', 'http://dbpedia.org/resource/WordPress', 'http://dbpedia.org/resource/ASP.NET', 'http://dbpedia.org/resource/JavaScript', 'http://dbpedia.org/resource/HTML5', 'http://dbpedia.org/resource/JQuery', 'http://dbpedia.org/resource/Hybris_(software)', 'http://dbpedia.org/resource/AngularJS']\n",
            "-------------\n",
            "Runing Sparql\n",
            "Assigning Weights\n",
            "Assigning Cost to Graph\n",
            "Processing\n",
            "['http://dbpedia.org/resource/CUDA', 'http://dbpedia.org/resource/Computer_hardware', 'http://dbpedia.org/resource/OpenCL']\n",
            "['http://dbpedia.org/resource/ASP.NET', 'http://dbpedia.org/resource/Microsoft_Visual_Studio', 'http://dbpedia.org/resource/.NET_Framework']\n",
            "-------------\n",
            "Runing Sparql\n",
            "Assigning Weights\n",
            "Assigning Cost to Graph\n",
            "Processing\n",
            "['http://dbpedia.org/resource/CUDA', 'http://dbpedia.org/resource/Computer_hardware', 'http://dbpedia.org/resource/OpenCL']\n",
            "['http://dbpedia.org/resource/Business_intelligence', 'http://dbpedia.org/resource/Data_warehouse', 'http://dbpedia.org/resource/Big_data']\n",
            "-------------\n",
            "Runing Sparql\n",
            "Assigning Weights\n",
            "Assigning Cost to Graph\n",
            "Processing\n",
            "['http://dbpedia.org/resource/CUDA', 'http://dbpedia.org/resource/Computer_hardware', 'http://dbpedia.org/resource/OpenCL']\n",
            "['http://dbpedia.org/resource/Groovy_(programming_language)', 'http://dbpedia.org/resource/IBM_WebSphere', 'http://dbpedia.org/resource/JUnit', 'http://dbpedia.org/resource/Code_refactoring', 'http://dbpedia.org/resource/Mockito', 'http://dbpedia.org/resource/Gradle']\n",
            "-------------\n",
            "Runing Sparql\n",
            "Assigning Weights\n",
            "Assigning Cost to Graph\n",
            "Processing\n",
            "['http://dbpedia.org/resource/CUDA', 'http://dbpedia.org/resource/Computer_hardware', 'http://dbpedia.org/resource/OpenCL']\n",
            "['http://dbpedia.org/resource/OpenGL', 'http://dbpedia.org/resource/OpenCL', 'http://dbpedia.org/resource/OpenCV']\n",
            "-------------\n",
            "Runing Sparql\n",
            "Assigning Weights\n",
            "Assigning Cost to Graph\n",
            "Processing\n",
            "['http://dbpedia.org/resource/CUDA', 'http://dbpedia.org/resource/Computer_hardware', 'http://dbpedia.org/resource/OpenCL']\n",
            "['http://dbpedia.org/resource/Mercurial', 'http://dbpedia.org/resource/Continuous_integration', 'http://dbpedia.org/resource/Version_control']\n",
            "-------------\n",
            "Runing Sparql\n",
            "Assigning Weights\n",
            "Assigning Cost to Graph\n",
            "Processing\n",
            "['http://dbpedia.org/resource/CUDA', 'http://dbpedia.org/resource/Computer_hardware', 'http://dbpedia.org/resource/OpenCL']\n",
            "['http://dbpedia.org/resource/Jira', 'http://dbpedia.org/resource/Git', 'http://dbpedia.org/resource/Atlassian']\n",
            "-------------\n",
            "Runing Sparql\n",
            "Assigning Weights\n",
            "Assigning Cost to Graph\n",
            "Processing\n",
            "['http://dbpedia.org/resource/CUDA', 'http://dbpedia.org/resource/Computer_hardware', 'http://dbpedia.org/resource/OpenCL']\n",
            "['http://dbpedia.org/resource/Artificial_intelligence', 'http://dbpedia.org/resource/User_interface', 'http://dbpedia.org/resource/Data_mining', 'http://dbpedia.org/resource/Machine_learning']\n",
            "-------------\n",
            "Runing Sparql\n",
            "Assigning Weights\n",
            "Assigning Cost to Graph\n",
            "Processing\n",
            "['http://dbpedia.org/resource/CUDA', 'http://dbpedia.org/resource/Computer_hardware', 'http://dbpedia.org/resource/OpenCL']\n",
            "['http://dbpedia.org/resource/Linux', 'http://dbpedia.org/resource/Linux_on_embedded_systems', 'http://dbpedia.org/resource/Unix']\n",
            "-------------\n",
            "Runing Sparql\n",
            "Assigning Weights\n",
            "Assigning Cost to Graph\n",
            "=============\n",
            "Cluster:  ['http://dbpedia.org/resource/CUDA', 'http://dbpedia.org/resource/Computer_hardware', 'http://dbpedia.org/resource/OpenCL']  with all:\n",
            "=============\n",
            "JointIC [2.5860500954204078, 3.0, 2.6061629682485328, 1.6827077562353714, 1.4808594348148758, 3.0, 2.6541397633310986, 1.532369610833047, 2.781271061192813, 2.4902147213586723, 2.54683338098736, 1.6719653956783254]\n",
            "IC PMI [2.4899777354770936, 3.0, 2.455481933739817, 1.8568729715809908, 1.4016905506976811, 3.0, 2.548353861577624, 1.4715702967222692, 2.7174038874642736, 2.678591941962231, 2.552888416382296, 1.4714469285813396]\n",
            "CombIC [2.532757716596744, 3.0, 2.59840556487775, 1.8900211428767313, 1.493645555490155, 3.0, 2.671589870692409, 1.503551025851413, 2.7551814363851, 2.6501303196354487, 2.5791043270070855, 1.5173468014804259]\n",
            "Exclusivity [3.0, 3.0, 3.0, 3.0, 104.14285714285714, 3.0, 3.0, 14.043478260869565, 3.0, 18.1, 3.0, 45.10817307692308]\n",
            "Processing\n",
            "['http://dbpedia.org/resource/Zend_Framework', 'http://dbpedia.org/resource/PHP', 'http://dbpedia.org/resource/Drupal', 'http://dbpedia.org/resource/Laravel', 'http://dbpedia.org/resource/Symfony']\n",
            "['http://dbpedia.org/resource/XML', 'http://dbpedia.org/resource/HTTPS', 'http://dbpedia.org/resource/Relational_database', 'http://dbpedia.org/resource/SQL', 'http://dbpedia.org/resource/JSON', 'http://dbpedia.org/resource/Redis', 'http://dbpedia.org/resource/MySQL', 'http://dbpedia.org/resource/PostgreSQL', 'http://dbpedia.org/resource/MongoDB', 'http://dbpedia.org/resource/NoSQL']\n",
            "-------------\n",
            "Runing Sparql\n",
            "Assigning Weights\n",
            "Assigning Cost to Graph\n",
            "Processing\n",
            "['http://dbpedia.org/resource/Zend_Framework', 'http://dbpedia.org/resource/PHP', 'http://dbpedia.org/resource/Drupal', 'http://dbpedia.org/resource/Laravel', 'http://dbpedia.org/resource/Symfony']\n",
            "['http://dbpedia.org/resource/Ansible', 'http://dbpedia.org/resource/Continuous_delivery', 'http://dbpedia.org/resource/Microservices', 'http://dbpedia.org/resource/Debian', 'http://dbpedia.org/resource/RabbitMQ']\n",
            "-------------\n",
            "Runing Sparql\n",
            "Assigning Weights\n",
            "Assigning Cost to Graph\n",
            "Processing\n",
            "['http://dbpedia.org/resource/Zend_Framework', 'http://dbpedia.org/resource/PHP', 'http://dbpedia.org/resource/Drupal', 'http://dbpedia.org/resource/Laravel', 'http://dbpedia.org/resource/Symfony']\n",
            "['http://dbpedia.org/resource/Windows_Firewall', 'http://dbpedia.org/resource/Nagios', 'http://dbpedia.org/resource/Web_crawler', 'http://dbpedia.org/resource/Nginx', 'http://dbpedia.org/resource/LXC']\n",
            "-------------\n",
            "Runing Sparql\n",
            "Assigning Weights\n",
            "Assigning Cost to Graph\n",
            "Processing\n",
            "['http://dbpedia.org/resource/Zend_Framework', 'http://dbpedia.org/resource/PHP', 'http://dbpedia.org/resource/Drupal', 'http://dbpedia.org/resource/Laravel', 'http://dbpedia.org/resource/Symfony']\n",
            "['http://dbpedia.org/resource/HTML', 'http://dbpedia.org/page/Apache_Software_Foundation', 'http://dbpedia.org/resource/Semantic_Web', 'http://dbpedia.org/resource/TypeScript', 'http://dbpedia.org/resource/Modelâ€“viewâ€“controller', 'http://dbpedia.org/resource/CentOS', 'http://dbpedia.org/resource/Laravel', 'http://dbpedia.org/resource/Ruby_on_Rails', 'http://dbpedia.org/resource/Symfony', 'http://dbpedia.org/resource/Node.js', 'http://dbpedia.org/resource/JBoss_Enterprise_SOA_Platform', 'http://dbpedia.org/resource/Vaadin', 'http://dbpedia.org/resource/WordPress', 'http://dbpedia.org/resource/ASP.NET', 'http://dbpedia.org/resource/JavaScript', 'http://dbpedia.org/resource/HTML5', 'http://dbpedia.org/resource/JQuery', 'http://dbpedia.org/resource/Hybris_(software)', 'http://dbpedia.org/resource/AngularJS']\n",
            "-------------\n",
            "Runing Sparql\n",
            "Assigning Weights\n",
            "Assigning Cost to Graph\n",
            "Processing\n",
            "['http://dbpedia.org/resource/Zend_Framework', 'http://dbpedia.org/resource/PHP', 'http://dbpedia.org/resource/Drupal', 'http://dbpedia.org/resource/Laravel', 'http://dbpedia.org/resource/Symfony']\n",
            "['http://dbpedia.org/resource/ASP.NET', 'http://dbpedia.org/resource/Microsoft_Visual_Studio', 'http://dbpedia.org/resource/.NET_Framework']\n",
            "-------------\n",
            "Runing Sparql\n",
            "Assigning Weights\n",
            "Assigning Cost to Graph\n",
            "Processing\n",
            "['http://dbpedia.org/resource/Zend_Framework', 'http://dbpedia.org/resource/PHP', 'http://dbpedia.org/resource/Drupal', 'http://dbpedia.org/resource/Laravel', 'http://dbpedia.org/resource/Symfony']\n",
            "['http://dbpedia.org/resource/Business_intelligence', 'http://dbpedia.org/resource/Data_warehouse', 'http://dbpedia.org/resource/Big_data']\n",
            "-------------\n",
            "Runing Sparql\n",
            "Assigning Weights\n",
            "Assigning Cost to Graph\n",
            "Processing\n",
            "['http://dbpedia.org/resource/Zend_Framework', 'http://dbpedia.org/resource/PHP', 'http://dbpedia.org/resource/Drupal', 'http://dbpedia.org/resource/Laravel', 'http://dbpedia.org/resource/Symfony']\n",
            "['http://dbpedia.org/resource/Groovy_(programming_language)', 'http://dbpedia.org/resource/IBM_WebSphere', 'http://dbpedia.org/resource/JUnit', 'http://dbpedia.org/resource/Code_refactoring', 'http://dbpedia.org/resource/Mockito', 'http://dbpedia.org/resource/Gradle']\n",
            "-------------\n",
            "Runing Sparql\n",
            "Assigning Weights\n",
            "Assigning Cost to Graph\n",
            "Processing\n",
            "['http://dbpedia.org/resource/Zend_Framework', 'http://dbpedia.org/resource/PHP', 'http://dbpedia.org/resource/Drupal', 'http://dbpedia.org/resource/Laravel', 'http://dbpedia.org/resource/Symfony']\n",
            "['http://dbpedia.org/resource/OpenGL', 'http://dbpedia.org/resource/OpenCL', 'http://dbpedia.org/resource/OpenCV']\n",
            "-------------\n",
            "Runing Sparql\n",
            "Assigning Weights\n",
            "Assigning Cost to Graph\n",
            "Processing\n",
            "['http://dbpedia.org/resource/Zend_Framework', 'http://dbpedia.org/resource/PHP', 'http://dbpedia.org/resource/Drupal', 'http://dbpedia.org/resource/Laravel', 'http://dbpedia.org/resource/Symfony']\n",
            "['http://dbpedia.org/resource/Mercurial', 'http://dbpedia.org/resource/Continuous_integration', 'http://dbpedia.org/resource/Version_control']\n",
            "-------------\n",
            "Runing Sparql\n",
            "Assigning Weights\n",
            "Assigning Cost to Graph\n",
            "Processing\n",
            "['http://dbpedia.org/resource/Zend_Framework', 'http://dbpedia.org/resource/PHP', 'http://dbpedia.org/resource/Drupal', 'http://dbpedia.org/resource/Laravel', 'http://dbpedia.org/resource/Symfony']\n",
            "['http://dbpedia.org/resource/Jira', 'http://dbpedia.org/resource/Git', 'http://dbpedia.org/resource/Atlassian']\n",
            "-------------\n",
            "Runing Sparql\n",
            "Assigning Weights\n",
            "Assigning Cost to Graph\n",
            "Processing\n",
            "['http://dbpedia.org/resource/Zend_Framework', 'http://dbpedia.org/resource/PHP', 'http://dbpedia.org/resource/Drupal', 'http://dbpedia.org/resource/Laravel', 'http://dbpedia.org/resource/Symfony']\n",
            "['http://dbpedia.org/resource/Artificial_intelligence', 'http://dbpedia.org/resource/User_interface', 'http://dbpedia.org/resource/Data_mining', 'http://dbpedia.org/resource/Machine_learning']\n",
            "-------------\n",
            "Runing Sparql\n",
            "Assigning Weights\n",
            "Assigning Cost to Graph\n",
            "Processing\n",
            "['http://dbpedia.org/resource/Zend_Framework', 'http://dbpedia.org/resource/PHP', 'http://dbpedia.org/resource/Drupal', 'http://dbpedia.org/resource/Laravel', 'http://dbpedia.org/resource/Symfony']\n",
            "['http://dbpedia.org/resource/Linux', 'http://dbpedia.org/resource/Linux_on_embedded_systems', 'http://dbpedia.org/resource/Unix']\n",
            "-------------\n",
            "Runing Sparql\n",
            "Assigning Weights\n",
            "Assigning Cost to Graph\n",
            "=============\n",
            "Cluster:  ['http://dbpedia.org/resource/Zend_Framework', 'http://dbpedia.org/resource/PHP', 'http://dbpedia.org/resource/Drupal', 'http://dbpedia.org/resource/Laravel', 'http://dbpedia.org/resource/Symfony']  with all:\n",
            "=============\n",
            "JointIC [4.165149168770469, 4.5325626238684364, 4.357810012295042, 1.2808207645808252, 1.9163566988159224, 3.0, 4.381985460545421, 2.57281277799616, 1.5289962017822318, 1.8281830860712946, 4.0, 1.874380616615845]\n",
            "IC PMI [4.500670778540792, 4.682441222644673, 4.569178888697587, 1.5465236942717966, 1.768726576596621, 3.0, 4.4878904986222015, 2.5352680880748766, 1.8136998655313474, 1.8751441507645645, 4.0, 2.065663250390555]\n",
            "CombIC [4.360684175026558, 4.697653515947135, 4.535799555647053, 1.4986815921654157, 1.8947731388064923, 3.0, 4.54138001595258, 2.593094970223383, 1.783359620294188, 1.872870900682397, 4.0, 2.0370948574949415]\n",
            "Exclusivity [5.0, 5.0, 5.0, 3.0, 3.0, 3.0, 5.0, 3.0, 3.0, 3.0, 4.0, 3.0]\n",
            "Processing\n",
            "['http://dbpedia.org/resource/HTML', 'http://dbpedia.org/resource/JavaScript', 'http://dbpedia.org/resource/HTML5', 'http://dbpedia.org/resource/AngularJS']\n",
            "['http://dbpedia.org/resource/XML', 'http://dbpedia.org/resource/HTTPS', 'http://dbpedia.org/resource/Relational_database', 'http://dbpedia.org/resource/SQL', 'http://dbpedia.org/resource/JSON', 'http://dbpedia.org/resource/Redis', 'http://dbpedia.org/resource/MySQL', 'http://dbpedia.org/resource/PostgreSQL', 'http://dbpedia.org/resource/MongoDB', 'http://dbpedia.org/resource/NoSQL']\n",
            "-------------\n",
            "Runing Sparql\n",
            "Assigning Weights\n",
            "Assigning Cost to Graph\n",
            "Processing\n",
            "['http://dbpedia.org/resource/HTML', 'http://dbpedia.org/resource/JavaScript', 'http://dbpedia.org/resource/HTML5', 'http://dbpedia.org/resource/AngularJS']\n",
            "['http://dbpedia.org/resource/Ansible', 'http://dbpedia.org/resource/Continuous_delivery', 'http://dbpedia.org/resource/Microservices', 'http://dbpedia.org/resource/Debian', 'http://dbpedia.org/resource/RabbitMQ']\n",
            "-------------\n",
            "Runing Sparql\n",
            "Assigning Weights\n",
            "Assigning Cost to Graph\n",
            "Processing\n",
            "['http://dbpedia.org/resource/HTML', 'http://dbpedia.org/resource/JavaScript', 'http://dbpedia.org/resource/HTML5', 'http://dbpedia.org/resource/AngularJS']\n",
            "['http://dbpedia.org/resource/Windows_Firewall', 'http://dbpedia.org/resource/Nagios', 'http://dbpedia.org/resource/Web_crawler', 'http://dbpedia.org/resource/Nginx', 'http://dbpedia.org/resource/LXC']\n",
            "-------------\n",
            "Runing Sparql\n",
            "Assigning Weights\n",
            "Assigning Cost to Graph\n",
            "Processing\n",
            "['http://dbpedia.org/resource/HTML', 'http://dbpedia.org/resource/JavaScript', 'http://dbpedia.org/resource/HTML5', 'http://dbpedia.org/resource/AngularJS']\n",
            "['http://dbpedia.org/resource/HTML', 'http://dbpedia.org/page/Apache_Software_Foundation', 'http://dbpedia.org/resource/Semantic_Web', 'http://dbpedia.org/resource/TypeScript', 'http://dbpedia.org/resource/Modelâ€“viewâ€“controller', 'http://dbpedia.org/resource/CentOS', 'http://dbpedia.org/resource/Laravel', 'http://dbpedia.org/resource/Ruby_on_Rails', 'http://dbpedia.org/resource/Symfony', 'http://dbpedia.org/resource/Node.js', 'http://dbpedia.org/resource/JBoss_Enterprise_SOA_Platform', 'http://dbpedia.org/resource/Vaadin', 'http://dbpedia.org/resource/WordPress', 'http://dbpedia.org/resource/ASP.NET', 'http://dbpedia.org/resource/JavaScript', 'http://dbpedia.org/resource/HTML5', 'http://dbpedia.org/resource/JQuery', 'http://dbpedia.org/resource/Hybris_(software)', 'http://dbpedia.org/resource/AngularJS']\n",
            "-------------\n",
            "Runing Sparql\n",
            "Assigning Weights\n",
            "Assigning Cost to Graph\n",
            "Processing\n",
            "['http://dbpedia.org/resource/HTML', 'http://dbpedia.org/resource/JavaScript', 'http://dbpedia.org/resource/HTML5', 'http://dbpedia.org/resource/AngularJS']\n",
            "['http://dbpedia.org/resource/ASP.NET', 'http://dbpedia.org/resource/Microsoft_Visual_Studio', 'http://dbpedia.org/resource/.NET_Framework']\n",
            "-------------\n",
            "Runing Sparql\n",
            "Assigning Weights\n",
            "Assigning Cost to Graph\n",
            "Processing\n",
            "['http://dbpedia.org/resource/HTML', 'http://dbpedia.org/resource/JavaScript', 'http://dbpedia.org/resource/HTML5', 'http://dbpedia.org/resource/AngularJS']\n",
            "['http://dbpedia.org/resource/Business_intelligence', 'http://dbpedia.org/resource/Data_warehouse', 'http://dbpedia.org/resource/Big_data']\n",
            "-------------\n",
            "Runing Sparql\n",
            "Assigning Weights\n",
            "Assigning Cost to Graph\n",
            "Processing\n",
            "['http://dbpedia.org/resource/HTML', 'http://dbpedia.org/resource/JavaScript', 'http://dbpedia.org/resource/HTML5', 'http://dbpedia.org/resource/AngularJS']\n",
            "['http://dbpedia.org/resource/Groovy_(programming_language)', 'http://dbpedia.org/resource/IBM_WebSphere', 'http://dbpedia.org/resource/JUnit', 'http://dbpedia.org/resource/Code_refactoring', 'http://dbpedia.org/resource/Mockito', 'http://dbpedia.org/resource/Gradle']\n",
            "-------------\n",
            "Runing Sparql\n",
            "Assigning Weights\n",
            "Assigning Cost to Graph\n",
            "Processing\n",
            "['http://dbpedia.org/resource/HTML', 'http://dbpedia.org/resource/JavaScript', 'http://dbpedia.org/resource/HTML5', 'http://dbpedia.org/resource/AngularJS']\n",
            "['http://dbpedia.org/resource/OpenGL', 'http://dbpedia.org/resource/OpenCL', 'http://dbpedia.org/resource/OpenCV']\n",
            "-------------\n",
            "Runing Sparql\n",
            "Assigning Weights\n",
            "Assigning Cost to Graph\n",
            "Processing\n",
            "['http://dbpedia.org/resource/HTML', 'http://dbpedia.org/resource/JavaScript', 'http://dbpedia.org/resource/HTML5', 'http://dbpedia.org/resource/AngularJS']\n",
            "['http://dbpedia.org/resource/Mercurial', 'http://dbpedia.org/resource/Continuous_integration', 'http://dbpedia.org/resource/Version_control']\n",
            "-------------\n",
            "Runing Sparql\n",
            "Assigning Weights\n",
            "Assigning Cost to Graph\n",
            "Processing\n",
            "['http://dbpedia.org/resource/HTML', 'http://dbpedia.org/resource/JavaScript', 'http://dbpedia.org/resource/HTML5', 'http://dbpedia.org/resource/AngularJS']\n",
            "['http://dbpedia.org/resource/Jira', 'http://dbpedia.org/resource/Git', 'http://dbpedia.org/resource/Atlassian']\n",
            "-------------\n",
            "Runing Sparql\n",
            "Assigning Weights\n",
            "Assigning Cost to Graph\n",
            "Processing\n",
            "['http://dbpedia.org/resource/HTML', 'http://dbpedia.org/resource/JavaScript', 'http://dbpedia.org/resource/HTML5', 'http://dbpedia.org/resource/AngularJS']\n",
            "['http://dbpedia.org/resource/Artificial_intelligence', 'http://dbpedia.org/resource/User_interface', 'http://dbpedia.org/resource/Data_mining', 'http://dbpedia.org/resource/Machine_learning']\n",
            "-------------\n",
            "Runing Sparql\n",
            "Assigning Weights\n",
            "Assigning Cost to Graph\n",
            "Processing\n",
            "['http://dbpedia.org/resource/HTML', 'http://dbpedia.org/resource/JavaScript', 'http://dbpedia.org/resource/HTML5', 'http://dbpedia.org/resource/AngularJS']\n",
            "['http://dbpedia.org/resource/Linux', 'http://dbpedia.org/resource/Linux_on_embedded_systems', 'http://dbpedia.org/resource/Unix']\n",
            "-------------\n",
            "Runing Sparql\n",
            "Assigning Weights\n",
            "Assigning Cost to Graph\n",
            "=============\n",
            "Cluster:  ['http://dbpedia.org/resource/HTML', 'http://dbpedia.org/resource/JavaScript', 'http://dbpedia.org/resource/HTML5', 'http://dbpedia.org/resource/AngularJS']  with all:\n",
            "=============\n",
            "JointIC [1.7409798063496966, 3.5494731710244998, 2.516630768913201, 0.0, 1.5985870573091625, 3.0, 3.0653292367324734, 2.309412306503937, 2.2532550161081417, 1.657161831210249, 3.4350088587680374, 2.041939413618538]\n",
            "IC PMI [2.4303729872478725, 3.7764849524116, 3.2015654817102157, 0.0, 1.5784656190299629, 3.0, 3.1101976605152784, 2.3817914809758793, 2.6227401887139887, 2.123764036689387, 3.3779118124190517, 2.3713620088935894]\n",
            "CombIC [2.242060835185267, 3.7213053365224393, 3.0476613499779237, 0.0, 1.6661059823099278, 3.0, 3.2443552888153646, 2.406178314339487, 2.622527895316489, 2.0238197836996883, 3.398977095090152, 2.346004630607962]\n",
            "Exclusivity [4.0, 4.0, 4.0, 0.0, 3.0, 3.0, 4.0, 177.01149425287355, 3.0, 3.0, 4.0, 3.0]\n",
            "Processing\n",
            "['http://dbpedia.org/resource/Nagios', 'http://dbpedia.org/resource/Surveillance', 'http://dbpedia.org/resource/Linux_kernel', 'http://dbpedia.org/resource/Nginx', 'http://dbpedia.org/resource/LXC']\n",
            "['http://dbpedia.org/resource/XML', 'http://dbpedia.org/resource/HTTPS', 'http://dbpedia.org/resource/Relational_database', 'http://dbpedia.org/resource/SQL', 'http://dbpedia.org/resource/JSON', 'http://dbpedia.org/resource/Redis', 'http://dbpedia.org/resource/MySQL', 'http://dbpedia.org/resource/PostgreSQL', 'http://dbpedia.org/resource/MongoDB', 'http://dbpedia.org/resource/NoSQL']\n",
            "-------------\n",
            "Runing Sparql\n",
            "Assigning Weights\n",
            "Assigning Cost to Graph\n",
            "Processing\n",
            "['http://dbpedia.org/resource/Nagios', 'http://dbpedia.org/resource/Surveillance', 'http://dbpedia.org/resource/Linux_kernel', 'http://dbpedia.org/resource/Nginx', 'http://dbpedia.org/resource/LXC']\n",
            "['http://dbpedia.org/resource/Ansible', 'http://dbpedia.org/resource/Continuous_delivery', 'http://dbpedia.org/resource/Microservices', 'http://dbpedia.org/resource/Debian', 'http://dbpedia.org/resource/RabbitMQ']\n",
            "-------------\n",
            "Runing Sparql\n",
            "Assigning Weights\n",
            "Assigning Cost to Graph\n",
            "Processing\n",
            "['http://dbpedia.org/resource/Nagios', 'http://dbpedia.org/resource/Surveillance', 'http://dbpedia.org/resource/Linux_kernel', 'http://dbpedia.org/resource/Nginx', 'http://dbpedia.org/resource/LXC']\n",
            "['http://dbpedia.org/resource/Windows_Firewall', 'http://dbpedia.org/resource/Nagios', 'http://dbpedia.org/resource/Web_crawler', 'http://dbpedia.org/resource/Nginx', 'http://dbpedia.org/resource/LXC']\n",
            "-------------\n",
            "Runing Sparql\n",
            "hello\n",
            "Processing\n",
            "['http://dbpedia.org/resource/Nagios', 'http://dbpedia.org/resource/Surveillance', 'http://dbpedia.org/resource/Linux_kernel', 'http://dbpedia.org/resource/Nginx', 'http://dbpedia.org/resource/LXC']\n",
            "['http://dbpedia.org/resource/HTML', 'http://dbpedia.org/page/Apache_Software_Foundation', 'http://dbpedia.org/resource/Semantic_Web', 'http://dbpedia.org/resource/TypeScript', 'http://dbpedia.org/resource/Modelâ€“viewâ€“controller', 'http://dbpedia.org/resource/CentOS', 'http://dbpedia.org/resource/Laravel', 'http://dbpedia.org/resource/Ruby_on_Rails', 'http://dbpedia.org/resource/Symfony', 'http://dbpedia.org/resource/Node.js', 'http://dbpedia.org/resource/JBoss_Enterprise_SOA_Platform', 'http://dbpedia.org/resource/Vaadin', 'http://dbpedia.org/resource/WordPress', 'http://dbpedia.org/resource/ASP.NET', 'http://dbpedia.org/resource/JavaScript', 'http://dbpedia.org/resource/HTML5', 'http://dbpedia.org/resource/JQuery', 'http://dbpedia.org/resource/Hybris_(software)', 'http://dbpedia.org/resource/AngularJS']\n",
            "-------------\n",
            "Runing Sparql\n",
            "Assigning Weights\n",
            "Assigning Cost to Graph\n",
            "Processing\n",
            "['http://dbpedia.org/resource/Nagios', 'http://dbpedia.org/resource/Surveillance', 'http://dbpedia.org/resource/Linux_kernel', 'http://dbpedia.org/resource/Nginx', 'http://dbpedia.org/resource/LXC']\n",
            "['http://dbpedia.org/resource/ASP.NET', 'http://dbpedia.org/resource/Microsoft_Visual_Studio', 'http://dbpedia.org/resource/.NET_Framework']\n",
            "-------------\n",
            "Runing Sparql\n",
            "Assigning Weights\n",
            "Assigning Cost to Graph\n",
            "Processing\n",
            "['http://dbpedia.org/resource/Nagios', 'http://dbpedia.org/resource/Surveillance', 'http://dbpedia.org/resource/Linux_kernel', 'http://dbpedia.org/resource/Nginx', 'http://dbpedia.org/resource/LXC']\n",
            "['http://dbpedia.org/resource/Business_intelligence', 'http://dbpedia.org/resource/Data_warehouse', 'http://dbpedia.org/resource/Big_data']\n",
            "-------------\n",
            "Runing Sparql\n",
            "hello\n",
            "Processing\n",
            "['http://dbpedia.org/resource/Nagios', 'http://dbpedia.org/resource/Surveillance', 'http://dbpedia.org/resource/Linux_kernel', 'http://dbpedia.org/resource/Nginx', 'http://dbpedia.org/resource/LXC']\n",
            "['http://dbpedia.org/resource/Groovy_(programming_language)', 'http://dbpedia.org/resource/IBM_WebSphere', 'http://dbpedia.org/resource/JUnit', 'http://dbpedia.org/resource/Code_refactoring', 'http://dbpedia.org/resource/Mockito', 'http://dbpedia.org/resource/Gradle']\n",
            "-------------\n",
            "Runing Sparql\n",
            "Assigning Weights\n",
            "Assigning Cost to Graph\n",
            "Processing\n",
            "['http://dbpedia.org/resource/Nagios', 'http://dbpedia.org/resource/Surveillance', 'http://dbpedia.org/resource/Linux_kernel', 'http://dbpedia.org/resource/Nginx', 'http://dbpedia.org/resource/LXC']\n",
            "['http://dbpedia.org/resource/OpenGL', 'http://dbpedia.org/resource/OpenCL', 'http://dbpedia.org/resource/OpenCV']\n",
            "-------------\n",
            "Runing Sparql\n",
            "Assigning Weights\n",
            "Assigning Cost to Graph\n",
            "Processing\n",
            "['http://dbpedia.org/resource/Nagios', 'http://dbpedia.org/resource/Surveillance', 'http://dbpedia.org/resource/Linux_kernel', 'http://dbpedia.org/resource/Nginx', 'http://dbpedia.org/resource/LXC']\n",
            "['http://dbpedia.org/resource/Mercurial', 'http://dbpedia.org/resource/Continuous_integration', 'http://dbpedia.org/resource/Version_control']\n",
            "-------------\n",
            "Runing Sparql\n",
            "Assigning Weights\n",
            "Assigning Cost to Graph\n",
            "Processing\n",
            "['http://dbpedia.org/resource/Nagios', 'http://dbpedia.org/resource/Surveillance', 'http://dbpedia.org/resource/Linux_kernel', 'http://dbpedia.org/resource/Nginx', 'http://dbpedia.org/resource/LXC']\n",
            "['http://dbpedia.org/resource/Jira', 'http://dbpedia.org/resource/Git', 'http://dbpedia.org/resource/Atlassian']\n",
            "-------------\n",
            "Runing Sparql\n",
            "Assigning Weights\n",
            "Assigning Cost to Graph\n",
            "Processing\n",
            "['http://dbpedia.org/resource/Nagios', 'http://dbpedia.org/resource/Surveillance', 'http://dbpedia.org/resource/Linux_kernel', 'http://dbpedia.org/resource/Nginx', 'http://dbpedia.org/resource/LXC']\n",
            "['http://dbpedia.org/resource/Artificial_intelligence', 'http://dbpedia.org/resource/User_interface', 'http://dbpedia.org/resource/Data_mining', 'http://dbpedia.org/resource/Machine_learning']\n",
            "-------------\n",
            "Runing Sparql\n",
            "Assigning Weights\n",
            "Assigning Cost to Graph\n",
            "Processing\n",
            "['http://dbpedia.org/resource/Nagios', 'http://dbpedia.org/resource/Surveillance', 'http://dbpedia.org/resource/Linux_kernel', 'http://dbpedia.org/resource/Nginx', 'http://dbpedia.org/resource/LXC']\n",
            "['http://dbpedia.org/resource/Linux', 'http://dbpedia.org/resource/Linux_on_embedded_systems', 'http://dbpedia.org/resource/Unix']\n",
            "-------------\n",
            "Runing Sparql\n",
            "Assigning Weights\n",
            "Assigning Cost to Graph\n",
            "=============\n",
            "Cluster:  ['http://dbpedia.org/resource/Nagios', 'http://dbpedia.org/resource/Surveillance', 'http://dbpedia.org/resource/Linux_kernel', 'http://dbpedia.org/resource/Nginx', 'http://dbpedia.org/resource/LXC']  with all:\n",
            "=============\n",
            "JointIC [4.789320318399222, 4.641656600364534, 100, 2.283548032846515, 2.2288250660289624, 100, 3.9550208309693975, 2.1794298175553477, 2.0008125942456374, 2.1269498576203993, 3.8122508632323955, 0.9270564447957029]\n",
            "IC PMI [4.565871874181052, 4.486480612427581, 100, 3.2609507980476975, 2.8454670239380855, 100, 4.21161668778208, 2.0668569725563257, 2.0002623689128445, 2.3095614188107203, 3.9366305281206584, 1.3835620356728604]\n",
            "CombIC [4.57375447662314, 4.555216004484922, 100, 2.966565452795249, 2.496209994492324, 100, 4.166042215184044, 2.083087381765642, 2.0002985672618525, 2.200563806733542, 3.8714245982967133, 1.3181189297004978]\n",
            "Exclusivity [5.0, 5.0, 0, 5.0, 3.0, 0, 5.0, 3.0, 3.0, 3.0, 4.0, 3.0]\n",
            "Processing\n",
            "['http://dbpedia.org/resource/Software_architecture', 'http://dbpedia.org/resource/Microservices', 'http://dbpedia.org/resource/Virtual_machine']\n",
            "['http://dbpedia.org/resource/XML', 'http://dbpedia.org/resource/HTTPS', 'http://dbpedia.org/resource/Relational_database', 'http://dbpedia.org/resource/SQL', 'http://dbpedia.org/resource/JSON', 'http://dbpedia.org/resource/Redis', 'http://dbpedia.org/resource/MySQL', 'http://dbpedia.org/resource/PostgreSQL', 'http://dbpedia.org/resource/MongoDB', 'http://dbpedia.org/resource/NoSQL']\n",
            "-------------\n",
            "Runing Sparql\n",
            "Assigning Weights\n",
            "Assigning Cost to Graph\n",
            "Processing\n",
            "['http://dbpedia.org/resource/Software_architecture', 'http://dbpedia.org/resource/Microservices', 'http://dbpedia.org/resource/Virtual_machine']\n",
            "['http://dbpedia.org/resource/Ansible', 'http://dbpedia.org/resource/Continuous_delivery', 'http://dbpedia.org/resource/Microservices', 'http://dbpedia.org/resource/Debian', 'http://dbpedia.org/resource/RabbitMQ']\n",
            "-------------\n",
            "Runing Sparql\n",
            "Assigning Weights\n",
            "Assigning Cost to Graph\n",
            "Processing\n",
            "['http://dbpedia.org/resource/Software_architecture', 'http://dbpedia.org/resource/Microservices', 'http://dbpedia.org/resource/Virtual_machine']\n",
            "['http://dbpedia.org/resource/Windows_Firewall', 'http://dbpedia.org/resource/Nagios', 'http://dbpedia.org/resource/Web_crawler', 'http://dbpedia.org/resource/Nginx', 'http://dbpedia.org/resource/LXC']\n",
            "-------------\n",
            "Runing Sparql\n",
            "hello\n",
            "Processing\n",
            "['http://dbpedia.org/resource/Software_architecture', 'http://dbpedia.org/resource/Microservices', 'http://dbpedia.org/resource/Virtual_machine']\n",
            "['http://dbpedia.org/resource/HTML', 'http://dbpedia.org/page/Apache_Software_Foundation', 'http://dbpedia.org/resource/Semantic_Web', 'http://dbpedia.org/resource/TypeScript', 'http://dbpedia.org/resource/Modelâ€“viewâ€“controller', 'http://dbpedia.org/resource/CentOS', 'http://dbpedia.org/resource/Laravel', 'http://dbpedia.org/resource/Ruby_on_Rails', 'http://dbpedia.org/resource/Symfony', 'http://dbpedia.org/resource/Node.js', 'http://dbpedia.org/resource/JBoss_Enterprise_SOA_Platform', 'http://dbpedia.org/resource/Vaadin', 'http://dbpedia.org/resource/WordPress', 'http://dbpedia.org/resource/ASP.NET', 'http://dbpedia.org/resource/JavaScript', 'http://dbpedia.org/resource/HTML5', 'http://dbpedia.org/resource/JQuery', 'http://dbpedia.org/resource/Hybris_(software)', 'http://dbpedia.org/resource/AngularJS']\n",
            "-------------\n",
            "Runing Sparql\n",
            "Assigning Weights\n",
            "Assigning Cost to Graph\n",
            "Processing\n",
            "['http://dbpedia.org/resource/Software_architecture', 'http://dbpedia.org/resource/Microservices', 'http://dbpedia.org/resource/Virtual_machine']\n",
            "['http://dbpedia.org/resource/ASP.NET', 'http://dbpedia.org/resource/Microsoft_Visual_Studio', 'http://dbpedia.org/resource/.NET_Framework']\n",
            "-------------\n",
            "Runing Sparql\n",
            "Assigning Weights\n",
            "Assigning Cost to Graph\n",
            "Processing\n",
            "['http://dbpedia.org/resource/Software_architecture', 'http://dbpedia.org/resource/Microservices', 'http://dbpedia.org/resource/Virtual_machine']\n",
            "['http://dbpedia.org/resource/Business_intelligence', 'http://dbpedia.org/resource/Data_warehouse', 'http://dbpedia.org/resource/Big_data']\n",
            "-------------\n",
            "Runing Sparql\n",
            "hello\n",
            "Processing\n",
            "['http://dbpedia.org/resource/Software_architecture', 'http://dbpedia.org/resource/Microservices', 'http://dbpedia.org/resource/Virtual_machine']\n",
            "['http://dbpedia.org/resource/Groovy_(programming_language)', 'http://dbpedia.org/resource/IBM_WebSphere', 'http://dbpedia.org/resource/JUnit', 'http://dbpedia.org/resource/Code_refactoring', 'http://dbpedia.org/resource/Mockito', 'http://dbpedia.org/resource/Gradle']\n",
            "-------------\n",
            "Runing Sparql\n",
            "Assigning Weights\n",
            "Assigning Cost to Graph\n",
            "Processing\n",
            "['http://dbpedia.org/resource/Software_architecture', 'http://dbpedia.org/resource/Microservices', 'http://dbpedia.org/resource/Virtual_machine']\n",
            "['http://dbpedia.org/resource/OpenGL', 'http://dbpedia.org/resource/OpenCL', 'http://dbpedia.org/resource/OpenCV']\n",
            "-------------\n",
            "Runing Sparql\n",
            "Assigning Weights\n",
            "Assigning Cost to Graph\n",
            "Processing\n",
            "['http://dbpedia.org/resource/Software_architecture', 'http://dbpedia.org/resource/Microservices', 'http://dbpedia.org/resource/Virtual_machine']\n",
            "['http://dbpedia.org/resource/Mercurial', 'http://dbpedia.org/resource/Continuous_integration', 'http://dbpedia.org/resource/Version_control']\n",
            "-------------\n",
            "Runing Sparql\n",
            "Assigning Weights\n",
            "Assigning Cost to Graph\n",
            "Processing\n",
            "['http://dbpedia.org/resource/Software_architecture', 'http://dbpedia.org/resource/Microservices', 'http://dbpedia.org/resource/Virtual_machine']\n",
            "['http://dbpedia.org/resource/Jira', 'http://dbpedia.org/resource/Git', 'http://dbpedia.org/resource/Atlassian']\n",
            "-------------\n",
            "Runing Sparql\n",
            "Assigning Weights\n",
            "Assigning Cost to Graph\n",
            "Processing\n",
            "['http://dbpedia.org/resource/Software_architecture', 'http://dbpedia.org/resource/Microservices', 'http://dbpedia.org/resource/Virtual_machine']\n",
            "['http://dbpedia.org/resource/Artificial_intelligence', 'http://dbpedia.org/resource/User_interface', 'http://dbpedia.org/resource/Data_mining', 'http://dbpedia.org/resource/Machine_learning']\n",
            "-------------\n",
            "Runing Sparql\n",
            "Assigning Weights\n",
            "Assigning Cost to Graph\n",
            "Processing\n",
            "['http://dbpedia.org/resource/Software_architecture', 'http://dbpedia.org/resource/Microservices', 'http://dbpedia.org/resource/Virtual_machine']\n",
            "['http://dbpedia.org/resource/Linux', 'http://dbpedia.org/resource/Linux_on_embedded_systems', 'http://dbpedia.org/resource/Unix']\n",
            "-------------\n",
            "Runing Sparql\n",
            "Assigning Weights\n",
            "Assigning Cost to Graph\n",
            "=============\n",
            "Cluster:  ['http://dbpedia.org/resource/Software_architecture', 'http://dbpedia.org/resource/Microservices', 'http://dbpedia.org/resource/Virtual_machine']  with all:\n",
            "=============\n",
            "JointIC [2.598115358946254, 1.0021593695936277, 100, 1.2181955026749085, 3.0, 100, 2.6825475842542876, 2.3871948203173283, 3.0, 3.0, 3.0, 2.536987930578867]\n",
            "IC PMI [2.480303733355973, 1.8750675897632605, 100, 1.804149232779631, 3.0, 100, 2.647460435518356, 2.072993120774319, 3.0, 3.0, 3.0, 2.6352611435918294]\n",
            "CombIC [2.4677796710687625, 1.6669069425177585, 100, 1.6013454869513386, 3.0, 100, 2.7354557043045267, 2.218350244319069, 3.0, 3.0, 3.0, 2.56916112381466]\n",
            "Exclusivity [3.0, 2.0, 0, 3.0, 3.0, 0, 3.0, 3.0, 3.0, 3.0, 3.0, 3.0]\n",
            "Processing\n",
            "['http://dbpedia.org/resource/Linux', 'http://dbpedia.org/resource/Debian', 'http://dbpedia.org/resource/Unix']\n",
            "['http://dbpedia.org/resource/XML', 'http://dbpedia.org/resource/HTTPS', 'http://dbpedia.org/resource/Relational_database', 'http://dbpedia.org/resource/SQL', 'http://dbpedia.org/resource/JSON', 'http://dbpedia.org/resource/Redis', 'http://dbpedia.org/resource/MySQL', 'http://dbpedia.org/resource/PostgreSQL', 'http://dbpedia.org/resource/MongoDB', 'http://dbpedia.org/resource/NoSQL']\n",
            "-------------\n",
            "Runing Sparql\n",
            "Assigning Weights\n",
            "Assigning Cost to Graph\n",
            "Processing\n",
            "['http://dbpedia.org/resource/Linux', 'http://dbpedia.org/resource/Debian', 'http://dbpedia.org/resource/Unix']\n",
            "['http://dbpedia.org/resource/Ansible', 'http://dbpedia.org/resource/Continuous_delivery', 'http://dbpedia.org/resource/Microservices', 'http://dbpedia.org/resource/Debian', 'http://dbpedia.org/resource/RabbitMQ']\n",
            "-------------\n",
            "Runing Sparql\n",
            "Assigning Weights\n",
            "Assigning Cost to Graph\n",
            "Processing\n",
            "['http://dbpedia.org/resource/Linux', 'http://dbpedia.org/resource/Debian', 'http://dbpedia.org/resource/Unix']\n",
            "['http://dbpedia.org/resource/Windows_Firewall', 'http://dbpedia.org/resource/Nagios', 'http://dbpedia.org/resource/Web_crawler', 'http://dbpedia.org/resource/Nginx', 'http://dbpedia.org/resource/LXC']\n",
            "-------------\n",
            "Runing Sparql\n",
            "Assigning Weights\n",
            "Assigning Cost to Graph\n",
            "Processing\n",
            "['http://dbpedia.org/resource/Linux', 'http://dbpedia.org/resource/Debian', 'http://dbpedia.org/resource/Unix']\n",
            "['http://dbpedia.org/resource/HTML', 'http://dbpedia.org/page/Apache_Software_Foundation', 'http://dbpedia.org/resource/Semantic_Web', 'http://dbpedia.org/resource/TypeScript', 'http://dbpedia.org/resource/Modelâ€“viewâ€“controller', 'http://dbpedia.org/resource/CentOS', 'http://dbpedia.org/resource/Laravel', 'http://dbpedia.org/resource/Ruby_on_Rails', 'http://dbpedia.org/resource/Symfony', 'http://dbpedia.org/resource/Node.js', 'http://dbpedia.org/resource/JBoss_Enterprise_SOA_Platform', 'http://dbpedia.org/resource/Vaadin', 'http://dbpedia.org/resource/WordPress', 'http://dbpedia.org/resource/ASP.NET', 'http://dbpedia.org/resource/JavaScript', 'http://dbpedia.org/resource/HTML5', 'http://dbpedia.org/resource/JQuery', 'http://dbpedia.org/resource/Hybris_(software)', 'http://dbpedia.org/resource/AngularJS']\n",
            "-------------\n",
            "Runing Sparql\n",
            "Assigning Weights\n",
            "Assigning Cost to Graph\n",
            "Processing\n",
            "['http://dbpedia.org/resource/Linux', 'http://dbpedia.org/resource/Debian', 'http://dbpedia.org/resource/Unix']\n",
            "['http://dbpedia.org/resource/ASP.NET', 'http://dbpedia.org/resource/Microsoft_Visual_Studio', 'http://dbpedia.org/resource/.NET_Framework']\n",
            "-------------\n",
            "Runing Sparql\n",
            "Assigning Weights\n",
            "Assigning Cost to Graph\n",
            "Processing\n",
            "['http://dbpedia.org/resource/Linux', 'http://dbpedia.org/resource/Debian', 'http://dbpedia.org/resource/Unix']\n",
            "['http://dbpedia.org/resource/Business_intelligence', 'http://dbpedia.org/resource/Data_warehouse', 'http://dbpedia.org/resource/Big_data']\n",
            "-------------\n",
            "Runing Sparql\n",
            "Assigning Weights\n",
            "Assigning Cost to Graph\n",
            "Processing\n",
            "['http://dbpedia.org/resource/Linux', 'http://dbpedia.org/resource/Debian', 'http://dbpedia.org/resource/Unix']\n",
            "['http://dbpedia.org/resource/Groovy_(programming_language)', 'http://dbpedia.org/resource/IBM_WebSphere', 'http://dbpedia.org/resource/JUnit', 'http://dbpedia.org/resource/Code_refactoring', 'http://dbpedia.org/resource/Mockito', 'http://dbpedia.org/resource/Gradle']\n",
            "-------------\n",
            "Runing Sparql\n",
            "Assigning Weights\n",
            "Assigning Cost to Graph\n",
            "Processing\n",
            "['http://dbpedia.org/resource/Linux', 'http://dbpedia.org/resource/Debian', 'http://dbpedia.org/resource/Unix']\n",
            "['http://dbpedia.org/resource/OpenGL', 'http://dbpedia.org/resource/OpenCL', 'http://dbpedia.org/resource/OpenCV']\n",
            "-------------\n",
            "Runing Sparql\n",
            "Assigning Weights\n",
            "Assigning Cost to Graph\n",
            "Processing\n",
            "['http://dbpedia.org/resource/Linux', 'http://dbpedia.org/resource/Debian', 'http://dbpedia.org/resource/Unix']\n",
            "['http://dbpedia.org/resource/Mercurial', 'http://dbpedia.org/resource/Continuous_integration', 'http://dbpedia.org/resource/Version_control']\n",
            "-------------\n",
            "Runing Sparql\n",
            "Assigning Weights\n",
            "Assigning Cost to Graph\n",
            "Processing\n",
            "['http://dbpedia.org/resource/Linux', 'http://dbpedia.org/resource/Debian', 'http://dbpedia.org/resource/Unix']\n",
            "['http://dbpedia.org/resource/Jira', 'http://dbpedia.org/resource/Git', 'http://dbpedia.org/resource/Atlassian']\n",
            "-------------\n",
            "Runing Sparql\n",
            "Assigning Weights\n",
            "Assigning Cost to Graph\n",
            "Processing\n",
            "['http://dbpedia.org/resource/Linux', 'http://dbpedia.org/resource/Debian', 'http://dbpedia.org/resource/Unix']\n",
            "['http://dbpedia.org/resource/Artificial_intelligence', 'http://dbpedia.org/resource/User_interface', 'http://dbpedia.org/resource/Data_mining', 'http://dbpedia.org/resource/Machine_learning']\n",
            "-------------\n",
            "Runing Sparql\n",
            "Assigning Weights\n",
            "Assigning Cost to Graph\n",
            "Processing\n",
            "['http://dbpedia.org/resource/Linux', 'http://dbpedia.org/resource/Debian', 'http://dbpedia.org/resource/Unix']\n",
            "['http://dbpedia.org/resource/Linux', 'http://dbpedia.org/resource/Linux_on_embedded_systems', 'http://dbpedia.org/resource/Unix']\n",
            "-------------\n",
            "Runing Sparql\n",
            "Assigning Weights\n",
            "Assigning Cost to Graph\n",
            "=============\n",
            "Cluster:  ['http://dbpedia.org/resource/Linux', 'http://dbpedia.org/resource/Debian', 'http://dbpedia.org/resource/Unix']  with all:\n",
            "=============\n",
            "JointIC [1.5654365007019375, 1.8139917108573445, 1.460594089854058, 0.8977777404056383, 1.5912814199535328, 3.0, 1.4311644112227695, 1.7490990240915654, 1.7854788453896338, 1.5357979706798055, 2.7763696174535966, 0.3937764783831341]\n",
            "IC PMI [1.8076765049452197, 1.563195692246984, 1.7807103015637666, 1.4098221768331243, 1.9176826403530716, 3.0, 1.8575604655185551, 1.7845129339009367, 1.7544541270650653, 1.8481034566984573, 2.509665685127573, 0.3749876282245628]\n",
            "CombIC [1.852602247893286, 1.6272653858889514, 1.69675921949084, 1.3677675471593775, 1.8227323999112077, 3.0, 1.8602357366072495, 1.8405766041922338, 1.8103999353240319, 1.8254379119594137, 2.602959160385771, 0.513222571242191]\n",
            "Exclusivity [3.0, 2.0, 3.0, 3.0, 72.04761904761905, 3.0, 3.0, 319.0212029907376, 3.0, 36.32692307692308, 3.0, 2.0]\n"
          ],
          "name": "stdout"
        }
      ]
    },
    {
      "cell_type": "code",
      "metadata": {
        "id": "vTqXMvbTI5eF"
      },
      "source": [
        "# Play an audio beep. Any audio URL will do.\n",
        "from google.colab import output\n",
        "output.eval_js('new Audio(\"https://upload.wikimedia.org/wikipedia/commons/0/05/Beep-09.ogg\").play()')"
      ],
      "execution_count": null,
      "outputs": []
    },
    {
      "cell_type": "markdown",
      "metadata": {
        "id": "IXTGp3065sOq"
      },
      "source": [
        "# get exclusivity of a relation"
      ]
    },
    {
      "cell_type": "code",
      "metadata": {
        "id": "7vLhJL0NZtOX"
      },
      "source": [
        "# def getWeightOfEdgeWithExclusivity(dataset, source, predicate, target):\n",
        "#   # calculate exclusivity\n",
        "#   outgoingPredicatesCount = dataset.query(\n",
        "#             'start == \"'+ source + '\" and relation == \"' + predicate + '\"', inplace = False).shape[0]\n",
        "#   incomingPredicatesCount = dataset.query(\n",
        "#             'end == \"'+ target + '\" and relation == \"' + predicate + '\"', inplace = False).shape[0]\n",
        "#   exclusivity = 1/(outgoingPredicatesCount + incomingPredicatesCount - 1)\n",
        "#   return exclusivity"
      ],
      "execution_count": null,
      "outputs": []
    },
    {
      "cell_type": "code",
      "metadata": {
        "id": "OVA89PDufKt4"
      },
      "source": [
        "# d = getWeightOfEdge(relation_Dataframe, 'http://dbpedia.org/resource/JavaScript', 'http://dbpedia.org/ontology/wikiPageWikiLink', 'http://dbpedia.org/resource/Google_Chrome')\n",
        "# d"
      ],
      "execution_count": null,
      "outputs": []
    },
    {
      "cell_type": "code",
      "metadata": {
        "id": "7GKWGviu7jXD"
      },
      "source": [
        "#  # Assign Exclusivity to Edge set \n",
        "#  edge_set_with_exclusivity = []\n",
        "#  for index, row in relation_Dataframe.iterrows():\n",
        "#    if row[\"start\"] != \"\" and row[\"relation\"] != \"\" and row[\"end\"] != \"\":\n",
        "#      e = getWeightOfEdge(relation_Dataframe, row[\"start\"], row[\"relation\"], row[\"end\"])\n",
        "#      edge_set_with_exclusivity.append([row[\"start\"], row[\"relation\"], row[\"end\"], e])\n",
        "#  edge_set_with_exclusivity_DF = pd.DataFrame(edge_set_with_exclusivity, columns= ['Start', 'Relation', 'End', 'Exclusivity']) \n",
        "#  edge_set_with_exclusivity_DF.head(5)"
      ],
      "execution_count": null,
      "outputs": []
    },
    {
      "cell_type": "code",
      "metadata": {
        "id": "oxYTnYUhvc3Q"
      },
      "source": [
        "# edge_set_with_exclusivity_DF_filtered = edge_set_with_exclusivity_DF.copy()\n",
        "# edge_set_with_exclusivity_DF_filtered.shape\n"
      ],
      "execution_count": null,
      "outputs": []
    },
    {
      "cell_type": "code",
      "metadata": {
        "id": "s4-udHKYvhqT"
      },
      "source": [
        "# edge_set_with_exclusivity_DF_filtered = edge_set_with_exclusivity_DF_filtered.drop_duplicates()\n",
        "# edge_set_with_exclusivity_DF_filtered.head()\n",
        "# edge_set_with_exclusivity_DF_filtered.shape"
      ],
      "execution_count": null,
      "outputs": []
    }
  ]
}