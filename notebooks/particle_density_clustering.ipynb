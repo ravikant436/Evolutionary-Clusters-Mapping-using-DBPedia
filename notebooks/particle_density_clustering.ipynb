{
  "nbformat": 4,
  "nbformat_minor": 0,
  "metadata": {
    "colab": {
      "provenance": [],
      "collapsed_sections": [
        "RzUZvqDVquxR",
        "xC-_ASAof3I0",
        "kki7szJ1Sdfo",
        "xsmqDvtiLr9Z",
        "YHbmn6uvjemU",
        "bIujZaPSOirb"
      ],
      "toc_visible": true
    },
    "kernelspec": {
      "name": "python3",
      "display_name": "Python 3"
    }
  },
  "cells": [
    {
      "cell_type": "markdown",
      "metadata": {
        "id": "IteM0v9q7i-m"
      },
      "source": [
        "#Extract Graphs for 2 time Period"
      ]
    },
    {
      "cell_type": "markdown",
      "metadata": {
        "id": "rCyHiBBw7rBc"
      },
      "source": [
        "**Read files and prepare Edge dataset**"
      ]
    },
    {
      "cell_type": "code",
      "metadata": {
        "id": "0ZHglZDitb69"
      },
      "source": [
        "import warnings\n",
        "warnings.filterwarnings(\"ignore\")"
      ],
      "execution_count": null,
      "outputs": []
    },
    {
      "cell_type": "code",
      "metadata": {
        "id": "kpPepqhp8QPL"
      },
      "source": [
        "import numpy as np\n",
        "import pandas as pd\n",
        "import matplotlib.pyplot as plt"
      ],
      "execution_count": null,
      "outputs": []
    },
    {
      "cell_type": "code",
      "metadata": {
        "id": "lO1gBSUgUxk4"
      },
      "source": [
        "period_1 = 'JulSep2017'\n",
        "period_2 = 'OctDec2017'"
      ],
      "execution_count": null,
      "outputs": []
    },
    {
      "cell_type": "code",
      "metadata": {
        "id": "O5ACjxPHQW_T"
      },
      "source": [
        "t1_df = pd.read_csv(\"/content/drive/MyDrive/Colab Notebooks/Particle Density Algo/results/AprJun2016.csv\", keep_default_na=False)\n",
        "t2_df = pd.read_csv(\"/content/drive/MyDrive/Colab Notebooks/Particle Density Algo/results/JulSep2016.csv\", keep_default_na=False)\n",
        "\n",
        "t1_df.columns = ['Network','Label','Density','Centrality','Quadrant','TimeLabel','Country','NodeInternalList','EdgeInternalList','EdgeExternalList','NodeExternalList']\n",
        "t2_df.columns = ['Network','Label','Density','Centrality','Quadrant','TimeLabel','Country','NodeInternalList','EdgeInternalList','EdgeExternalList','NodeExternalList']"
      ],
      "execution_count": null,
      "outputs": []
    },
    {
      "cell_type": "code",
      "metadata": {
        "id": "alVe9Q8xQ_DP"
      },
      "source": [
        "# t1_df = pd.read_csv(\"/content/drive/MyDrive/Colab Notebooks/Particle Density Algo/results/JulSep2016.csv\", keep_default_na=False)\n",
        "# t2_df = pd.read_csv(\"/content/drive/MyDrive/Colab Notebooks/Particle Density Algo/results/OktDes2016.csv\", keep_default_na=False)\n",
        "# t1_df.to_csv('/content/drive/MyDrive/Colab Notebooks/Particle Density Algo/results/JulSep2016.csv')\n",
        "# t2_df.to_csv('/content/drive/MyDrive/Colab Notebooks/Particle Density Algo/results/OktDes2016.csv')"
      ],
      "execution_count": null,
      "outputs": []
    },
    {
      "cell_type": "code",
      "metadata": {
        "id": "Or1efw3DTq1F",
        "colab": {
          "base_uri": "https://localhost:8080/",
          "height": 316
        },
        "outputId": "a7a6db84-0719-414f-8ca2-053605ce7de8"
      },
      "source": [
        "t2_df.head()"
      ],
      "execution_count": null,
      "outputs": [
        {
          "output_type": "execute_result",
          "data": {
            "text/html": [
              "<div>\n",
              "<style scoped>\n",
              "    .dataframe tbody tr th:only-of-type {\n",
              "        vertical-align: middle;\n",
              "    }\n",
              "\n",
              "    .dataframe tbody tr th {\n",
              "        vertical-align: top;\n",
              "    }\n",
              "\n",
              "    .dataframe thead th {\n",
              "        text-align: right;\n",
              "    }\n",
              "</style>\n",
              "<table border=\"1\" class=\"dataframe\">\n",
              "  <thead>\n",
              "    <tr style=\"text-align: right;\">\n",
              "      <th></th>\n",
              "      <th>Network</th>\n",
              "      <th>Label</th>\n",
              "      <th>Density</th>\n",
              "      <th>Centrality</th>\n",
              "      <th>Quadrant</th>\n",
              "      <th>TimeLabel</th>\n",
              "      <th>Country</th>\n",
              "      <th>NodeInternalList</th>\n",
              "      <th>EdgeInternalList</th>\n",
              "      <th>EdgeExternalList</th>\n",
              "      <th>NodeExternalList</th>\n",
              "    </tr>\n",
              "  </thead>\n",
              "  <tbody>\n",
              "    <tr>\n",
              "      <th>0</th>\n",
              "      <td>0</td>\n",
              "      <td>javascript</td>\n",
              "      <td>0.021036</td>\n",
              "      <td>0.0</td>\n",
              "      <td>2</td>\n",
              "      <td>JulSep2016</td>\n",
              "      <td>de</td>\n",
              "      <td>lucene#multithreading#perl#xslt#continuous-del...</td>\n",
              "      <td>mysql#php#0.07\"coldfusion#scripting-language#0...</td>\n",
              "      <td>hardware#javascript#0.00\"compiler#scripting-la...</td>\n",
              "      <td>active-directory#togaf#data-management#vmware#...</td>\n",
              "    </tr>\n",
              "    <tr>\n",
              "      <th>1</th>\n",
              "      <td>1</td>\n",
              "      <td>database</td>\n",
              "      <td>0.038333</td>\n",
              "      <td>0.0</td>\n",
              "      <td>2</td>\n",
              "      <td>JulSep2016</td>\n",
              "      <td>de</td>\n",
              "      <td>sql#database#oracle#relational-database#</td>\n",
              "      <td>relational-database#sql#0.02\"database#relation...</td>\n",
              "      <td>jira#oracle#0.00\".net#database#0.00\"database#h...</td>\n",
              "      <td>lucene#data-management#vmware#gulp#amazon-web-...</td>\n",
              "    </tr>\n",
              "    <tr>\n",
              "      <th>2</th>\n",
              "      <td>2</td>\n",
              "      <td>ipad</td>\n",
              "      <td>0.135000</td>\n",
              "      <td>0.0</td>\n",
              "      <td>1</td>\n",
              "      <td>JulSep2016</td>\n",
              "      <td>de</td>\n",
              "      <td>ipad#iphone#capybara#</td>\n",
              "      <td>ipad#iphone#0.19\"capybara#ipad#0.08\"</td>\n",
              "      <td>data-mining#iphone#0.00\"data-warehouse#iphone#...</td>\n",
              "      <td>software-engineering#scrum#data-warehouse#c++#...</td>\n",
              "    </tr>\n",
              "    <tr>\n",
              "      <th>3</th>\n",
              "      <td>3</td>\n",
              "      <td>nosql</td>\n",
              "      <td>0.051667</td>\n",
              "      <td>0.0</td>\n",
              "      <td>2</td>\n",
              "      <td>JulSep2016</td>\n",
              "      <td>de</td>\n",
              "      <td>nosql#mapreduce#mongodb#web-crawler#matlab#</td>\n",
              "      <td>matlab#nosql#0.01\"mapreduce#matlab#0.04\"mapred...</td>\n",
              "      <td>data-mining#mapreduce#0.01\"nosql#project-manag...</td>\n",
              "      <td>lucene#data-management#amazon-web-services#per...</td>\n",
              "    </tr>\n",
              "    <tr>\n",
              "      <th>4</th>\n",
              "      <td>4</td>\n",
              "      <td>data-mining</td>\n",
              "      <td>0.033571</td>\n",
              "      <td>0.0</td>\n",
              "      <td>2</td>\n",
              "      <td>JulSep2016</td>\n",
              "      <td>de</td>\n",
              "      <td>business-intelligence#data-warehouse#artificia...</td>\n",
              "      <td>business-intelligence#data-warehouse#0.11\"busi...</td>\n",
              "      <td>computer-science#data-mining#0.01\"data-science...</td>\n",
              "      <td>active-directory#scipy#lucene#data-management#...</td>\n",
              "    </tr>\n",
              "  </tbody>\n",
              "</table>\n",
              "</div>"
            ],
            "text/plain": [
              "   Network  ...                                   NodeExternalList\n",
              "0        0  ...  active-directory#togaf#data-management#vmware#...\n",
              "1        1  ...  lucene#data-management#vmware#gulp#amazon-web-...\n",
              "2        2  ...  software-engineering#scrum#data-warehouse#c++#...\n",
              "3        3  ...  lucene#data-management#amazon-web-services#per...\n",
              "4        4  ...  active-directory#scipy#lucene#data-management#...\n",
              "\n",
              "[5 rows x 11 columns]"
            ]
          },
          "metadata": {
            "tags": []
          },
          "execution_count": 59
        }
      ]
    },
    {
      "cell_type": "markdown",
      "metadata": {
        "id": "UkC_WH1OScFt"
      },
      "source": [
        "#Get the common nodes and edges between 2 clusters"
      ]
    },
    {
      "cell_type": "code",
      "metadata": {
        "id": "NKOspQ65njff"
      },
      "source": [
        "def getNodeList(c, df):\n",
        "  c_nodes = list(df.query('Network == \"'+ c + '\"', inplace = False)[\"NodeInternalList\"])[0]\n",
        "  c_node_list = list(c_nodes.split('#'))\n",
        "  # empty string removal\n",
        "  c_node_list = [i for i in c_node_list if i] \n",
        "  return c_node_list"
      ],
      "execution_count": null,
      "outputs": []
    },
    {
      "cell_type": "code",
      "metadata": {
        "id": "CKVTJOXfScvO"
      },
      "source": [
        "def getCommonNodes(c1_node_list, c2_node_list):\n",
        "  # get common elements\n",
        "  if (set(c1_node_list)&set(c2_node_list)):\n",
        "    a = list(set(c1_node_list)&set(c2_node_list))\n",
        "    return len(a)\n",
        "  else:\n",
        "    return 0"
      ],
      "execution_count": null,
      "outputs": []
    },
    {
      "cell_type": "code",
      "metadata": {
        "id": "5ojaJPWoSryq",
        "colab": {
          "base_uri": "https://localhost:8080/"
        },
        "outputId": "fdce066e-57eb-49a8-a17b-a7c600ac614d"
      },
      "source": [
        "c1_nodes = getNodeList(\"0\", t1_df)\n",
        "c2_nodes = getNodeList(\"0\", t2_df)\n",
        "print(c1_nodes)\n",
        "print(c2_nodes)\n",
        "common_nodes_num = getCommonNodes(c1_nodes, c2_nodes)\n",
        "print(common_nodes_num)"
      ],
      "execution_count": null,
      "outputs": [
        {
          "output_type": "stream",
          "text": [
            "['lucene', 'sql', 'nosql', 'xml', 'complex-event-processing', 'json', 'apache-spark', 'mongodb', 'sqlite', 'javascript', 'junit', 'php', 'selenium', 'html', 'continuous-integration', 'delphi', 'soap', 'jira', 'git', 'postgis', 'mysql', 'postgresql', 'html5', 'elasticsearch', 'relational-database']\n",
            "['lucene', 'multithreading', 'perl', 'xslt', 'continuous-delivery', 'angularjs', 'redis', 'xml', 'google-app-engine', 'openstack', 'json', 'lisp', 'nagios', 'laravel', 'nunit', 'javascript', 'coldfusion', 'nginx', 'php', 'yii', 'clojure', 'html', 'soap', 'zend-framework', 'postgis', 'websocket', 'rabbitmq', 'symfony', 'debian', 'xhtml', 'mysql', 'mahout', 'node.js', 'jquery', 'google-apps', 'postgresql', 'orchestration', 'html5', 'scripting-language', 'elasticsearch']\n",
            "12\n"
          ],
          "name": "stdout"
        }
      ]
    },
    {
      "cell_type": "code",
      "metadata": {
        "id": "t6kNBO2ooE8Y"
      },
      "source": [
        "def getEdgeList(c, df):\n",
        "  c_edges = list(df.query('Network == \"'+ c + '\"', inplace = False)[\"EdgeInternalList\"])[0] + list(df.query('Network == \"'+ c + '\"', inplace = False)[\"EdgeExternalList\"])[0]\n",
        "  c_edge_list = list(c_edges.split('\"'))\n",
        "  c_edge_list = [i for i in c_edge_list if i] \n",
        "  c_edge_final = []\n",
        "  for item in c_edge_list:\n",
        "    temp_l = list(item.split('#'))\n",
        "    temp_l.pop(-1)\n",
        "    c_edge_final.append(temp_l)\n",
        "  if not any(c_edge_final):\n",
        "    c_edge_final = []\n",
        "  return c_edge_final"
      ],
      "execution_count": null,
      "outputs": []
    },
    {
      "cell_type": "code",
      "metadata": {
        "id": "DfAvrfsCSrpY"
      },
      "source": [
        "def common_edges(c1_edge, c2_edge):\n",
        "  # finding common edges\n",
        "  common_edges = []\n",
        "  for i in c1_edge:\n",
        "    for j in c2_edge:\n",
        "      i.sort()\n",
        "      j.sort()\n",
        "      if i == j:\n",
        "        common_edges.append(i)\n",
        "  # print(common_edges)\n",
        "  return len(common_edges)"
      ],
      "execution_count": null,
      "outputs": []
    },
    {
      "cell_type": "code",
      "metadata": {
        "id": "0ZVhDBENaUqo",
        "colab": {
          "base_uri": "https://localhost:8080/"
        },
        "outputId": "b58b4472-e36c-4a21-df41-268ba02a9a43"
      },
      "source": [
        "c1_edges = getEdgeList(\"0\", t1_df)\n",
        "c2_edges = getEdgeList(\"0\", t2_df)\n",
        "\n",
        "print(c1_edges)\n",
        "print(c2_edges)\n",
        "\n",
        "common_edges_num = common_edges(c1_edges, c2_edges)\n",
        "common_edges_num"
      ],
      "execution_count": null,
      "outputs": [
        {
          "output_type": "stream",
          "text": [
            "[['javascript', 'php'], ['html', 'php'], ['php', 'sql'], ['json', 'sqlite'], ['json', 'xml'], ['postgis', 'postgresql'], ['sqlite', 'xml'], ['javascript', 'sql'], ['php', 'selenium'], ['html', 'sql'], ['postgis', 'sqlite'], ['postgresql', 'sql'], ['relational-database', 'sql'], ['html', 'javascript'], ['html5', 'sql'], ['postgresql', 'sqlite'], ['html', 'relational-database'], ['html5', 'javascript'], ['continuous-integration', 'nosql'], ['json', 'lucene'], ['selenium', 'soap'], ['mysql', 'selenium'], ['json', 'mysql'], ['git', 'mysql'], ['continuous-integration', 'elasticsearch'], ['mongodb', 'nosql'], ['mysql', 'php'], ['mongodb', 'mysql'], ['postgresql', 'selenium'], ['nosql', 'relational-database'], ['postgresql', 'soap'], ['elasticsearch', 'html'], ['json', 'mongodb'], ['mysql', 'soap'], ['elasticsearch', 'nosql'], ['elasticsearch', 'lucene'], ['javascript', 'soap'], ['javascript', 'xml'], ['mysql', 'postgresql'], ['mysql', 'nosql'], ['git', 'sql'], ['continuous-integration', 'mongodb'], ['elasticsearch', 'mysql'], ['nosql', 'postgresql'], ['html', 'lucene'], ['continuous-integration', 'json'], ['mysql', 'sql'], ['postgresql', 'relational-database'], ['continuous-integration', 'git'], ['html5', 'soap'], ['elasticsearch', 'json'], ['html5', 'xml'], ['json', 'nosql'], ['elasticsearch', 'mongodb'], ['continuous-integration', 'mysql'], ['html', 'json'], ['php', 'xml'], ['continuous-integration', 'javascript'], ['git', 'jira'], ['html5', 'mysql'], ['javascript', 'junit'], ['git', 'html5'], ['html', 'mysql'], ['html', 'xml'], ['nosql', 'php'], ['delphi', 'mysql'], ['complex-event-processing', 'git'], ['javascript', 'jira'], ['javascript', 'json'], ['apache-spark', 'mongodb'], ['apache-spark', 'jira'], ['mysql', 'relational-database'], ['javascript', 'nosql'], ['jira', 'mongodb'], ['junit', 'sql'], ['json', 'php'], ['html', 'html5'], ['jira', 'sql'], ['git', 'javascript'], ['jira', 'mysql'], ['git', 'mongodb'], ['javascript', 'mysql'], ['sql', 'xml'], ['apache-spark', 'git'], ['git', 'postgresql'], ['html5', 'php'], ['html', 'jira'], ['javascript', 'relational-database'], ['html', 'junit'], ['jira', 'junit'], ['complex-event-processing', 'javascript'], ['delphi', 'relational-database'], ['php', 'relational-database'], ['mongodb', 'sql'], ['html5', 'nosql'], ['jira', 'php'], ['html', 'nosql'], ['database', 'sql'], ['data-mining', 'javascript'], ['html5', 'user-interface'], ['embedded-linux', 'php'], ['c++', 'xml'], ['php', 'scripting-language'], ['groovy', 'javascript'], ['postgresql', 'project-management'], ['devops', 'sql'], ['php', 'vmware'], ['software-architecture', 'sql'], ['groovy', 'html'], ['perl', 'xml'], ['php', 'risk-management'], ['data-mining', 'postgresql'], ['angularjs', 'html'], ['database', 'javascript'], ['groovy', 'sql'], ['design', 'sql'], ['html', 'statistics'], ['angularjs', 'javascript'], ['perl', 'sqlite'], ['c++', 'json'], ['linux', 'php'], ['compiler', 'sql'], ['json', 'perl'], ['business-intelligence', 'postgresql'], ['c++', 'sqlite'], ['c++', 'html5'], ['ansible', 'php'], ['php', 'software-engineering'], ['database', 'html5'], ['computer-science', 'postgresql'], ['linux', 'sql'], ['sql', 'sybase'], ['html', 'linux'], ['html5', 'linux'], ['linux', 'postgresql'], ['javascript', 'user-interface'], ['database', 'php'], ['.net', 'sql'], ['javascript', 'linux'], ['html', 'user-interface'], ['complex-event-processing', 'design'], ['c++', 'postgresql'], ['html', 'matlab'], ['complex-event-processing', 'machine-learning'], ['embedded-linux', 'sql'], ['javascript', 'matlab'], ['scripting-language', 'sql'], ['html', 'scripting-language'], ['hybris', 'javascript'], ['embedded-linux', 'html5'], ['database', 'postgis'], ['embedded-linux', 'html'], ['html5', 'scripting-language'], ['database', 'relational-database'], ['javascript', 'scripting-language'], ['selenium', 'software-engineering'], ['php', 'security'], ['embedded-linux', 'javascript'], ['coldfusion', 'php'], ['data-science', 'relational-database'], ['html', 'version-control'], ['javascript', 'websphere'], ['security', 'sql'], ['business-intelligence', 'sql'], ['computer-science', 'html'], ['html5', 'project-management'], ['html', 'websphere'], ['html5', 'software-engineering'], ['data-science', 'sql'], ['javascript', 'security'], ['data-mining', 'relational-database'], ['monitoring', 'php'], ['html', 'security'], ['data-mining', 'sql'], ['project-management', 'sql'], ['oracle', 'sql'], ['sql', 'statistics'], ['computer-science', 'sql'], ['data-analysis', 'relational-database'], ['design', 'html'], ['javascript', 'oracle'], ['database', 'sqlite'], ['postgresql', 'sybase'], ['cloud', 'sql'], ['computer-science', 'javascript'], ['.net-framework', 'sql'], ['html', 'software-engineering'], ['computer-science', 'php'], ['javascript', 'software-engineering'], ['database', 'postgresql'], ['complex-event-processing', 'software-engineering'], ['devops', 'postgresql'], ['computer-science', 'html5'], ['computer-science', 'relational-database'], ['html5', 'oracle'], ['complex-event-processing', 'data-mining'], ['amazon-web-services', 'javascript'], ['javascript', 'project-management'], ['complex-event-processing', 'data-science'], ['data-analysis', 'sql'], ['software-engineering', 'sql'], ['php', 'version-control'], ['c', 'html'], ['c++', 'postgis'], ['data-management', 'html'], ['php', 'virtualization'], ['postgresql', 'software-architecture'], ['c++', 'sql'], ['debian', 'sql'], ['high-availability', 'relational-database'], ['c++', 'javascript'], ['project-management', 'soap'], ['c++', 'continuous-integration'], ['refactoring', 'sql'], ['design', 'mysql'], ['soap', 'software-engineering'], ['cloud', 'relational-database'], ['mapreduce', 'nosql'], ['c++', 'relational-database'], ['mongodb', 'yarn'], ['nginx', 'php'], ['database', 'mysql'], ['mongodb', 'scripting-language'], ['mysql', 'software-engineering'], ['postgresql', 'scripting-language'], ['elasticsearch', 'software-engineering'], ['design', 'javascript'], ['lucene', 'software-engineering'], ['data-mining', 'nosql'], ['data-mining', 'html'], ['refactoring', 'relational-database'], ['oracle', 'relational-database'], ['monitoring', 'sql'], ['postgresql', 'software-engineering'], ['jira', 'websphere'], ['relational-database', 'software-architecture'], ['data-management', 'javascript'], ['data-modeling', 'sql'], ['javascript', 'virtualization'], ['design', 'html5'], ['continuous-integration', 'database'], ['data-science', 'javascript'], ['design', 'git'], ['php', 'refactoring'], ['json', 'software-engineering'], ['data-mining', 'soap'], ['database', 'mongodb'], ['design', 'mongodb'], ['javascript', 'machine-learning'], ['artificial-intelligence', 'html5'], ['database', 'selenium'], ['data-warehouse', 'relational-database'], ['git', 'project-management'], ['data-warehouse', 'sql'], ['cloud', 'nosql'], ['data-warehouse', 'nosql'], ['database', 'jira'], ['data-warehouse', 'mysql'], ['data-mining', 'html5'], ['artificial-intelligence', 'soap'], ['mongodb', 'software-engineering'], ['mysql', 'oracle'], ['javascript', 'unix'], ['nosql', 'oracle'], ['data-warehouse', 'postgresql'], ['amazon-web-services', 'nosql'], ['mapreduce', 'mongodb'], ['debian', 'git'], ['jira', 'software-engineering'], ['monitoring', 'mysql'], ['relational-database', 'security'], ['orchestration', 'postgresql'], ['nosql', 'yarn'], ['git', 'linux'], ['oracle', 'postgresql'], ['debian', 'mysql'], ['continuous-integration', 'software-engineering'], ['iphone', 'sql'], ['git', 'monitoring'], ['javascript', 'nginx'], ['project-management', 'selenium'], ['database', 'html'], ['linux', 'mysql'], ['cloud', 'postgresql'], ['database', 'nosql'], ['machine-learning', 'sql'], ['design', 'nosql'], ['continuous-integration', 'project-management'], ['data-science', 'soap'], ['design', 'relational-database'], ['relational-database', 'software-engineering'], ['data-mining', 'mysql'], ['nosql', 'software-engineering'], ['design', 'php'], ['perl', 'postgresql'], ['database', 'soap'], ['data-science', 'html5'], ['matlab', 'mongodb'], ['mysql', 'project-management'], ['artificial-intelligence', 'javascript'], ['javascript', 'user-experience'], ['javascript', 'refactoring'], ['model-view-controller', 'php'], ['c++', 'git'], ['html', 'model-view-controller'], ['architect', 'html'], ['nosql', 'project-management'], ['compiler', 'delphi'], ['html', 'scrum'], ['javascript', 'jquery'], ['html', 'project-management'], ['bioinformatics', 'javascript'], ['continuous-integration', 'linux'], ['asp.net', 'php'], ['flask', 'javascript'], ['git', 'version-control'], ['linux', 'mongodb'], ['data-management', 'sql'], ['data-mining', 'xml'], ['device-driver', 'sql'], ['jquery', 'php'], ['mysql', 'user-experience'], ['jira', 'security'], ['mysql', 'scripting-language'], ['high-availability', 'sql'], ['angularjs', 'jira'], ['html', 'software-architecture'], ['git', 'security'], ['machine-code', 'mysql'], ['php', 'unix'], ['nosql', 'scripting-language'], ['clojure', 'sql'], ['html', 'identity-management'], ['json', 'scrum'], ['php', 'unit-testing'], ['asp.net', 'relational-database'], ['mongodb', 'project-management'], ['c++', 'php'], ['javascript', 'scrum'], ['data-mining', 'mongodb'], ['business-intelligence', 'relational-database'], ['javascript', 'magento'], ['project-management', 'relational-database'], ['jquery', 'relational-database'], ['php', 'zend-framework'], ['data-warehouse', 'javascript'], ['.net', 'html'], ['linux', 'nosql'], ['software-architecture', 'xml'], ['angularjs', 'mongodb'], ['business-intelligence', 'git'], ['compiler', 'php'], ['unit-testing', 'xml'], ['html', 'nginx'], ['html', 'risk-management'], ['delphi', 'scripting-language'], ['angularjs', 'sql'], ['monitoring', 'relational-database'], ['scrum', 'xml'], ['angularjs', 'php'], ['angularjs', 'apache-spark'], ['bioinformatics', 'php'], ['apache-spark', 'design'], ['relational-database', 'statistics'], ['jquery', 'sql'], ['relational-database', 'web-analytics'], ['php', 'user-experience'], ['asp.net', 'javascript'], ['flask', 'php'], ['product-management', 'sql'], ['javascript', 'model-view-controller'], ['git', 'ios'], ['data-modeling', 'html'], ['data-modeling', 'relational-database'], ['model-view-controller', 'mongodb'], ['postgresql', 'version-control'], ['complex-event-processing', 'data-warehouse'], ['html', 'user-experience'], ['javascript', 'zend-framework'], ['magento', 'php'], ['high-availability', 'mysql'], ['php', 'project-management'], ['sql', 'web-analytics'], ['.net-framework', 'html'], ['javascript', 'unit-testing'], ['data-modeling', 'xml'], ['html5', 'machine-code'], ['business-intelligence', 'javascript'], ['business-intelligence', 'jira'], ['c++', 'delphi'], ['nosql', 'unix'], ['.net', 'javascript'], ['.net', 'relational-database'], ['business-intelligence', 'html'], ['database', 'xml'], ['user-interface', 'xml'], ['html', 'magento'], ['javascript', 'node.js'], ['data-mining', 'jira'], ['identity-management', 'javascript'], ['sql', 'websphere'], ['.net-framework', 'php'], ['complex-event-processing', 'project-management'], ['jira', 'project-management'], ['html', 'web-analytics'], ['model-view-controller', 'mysql'], ['nosql', 'software-architecture'], ['compiler', 'relational-database'], ['data-mining', 'php'], ['data-warehouse', 'html'], ['cloud', 'javascript'], ['relational-database', 'scripting-language'], ['data-mining', 'junit'], ['computer-science', 'nosql'], ['mysql', 'version-control'], ['git', 'software-engineering'], ['php', 'scrum'], ['html', 'jquery'], ['json', 'unit-testing'], ['software-engineering', 'xml'], ['perl', 'php'], ['php', 'symfony'], ['data-warehouse', 'git'], ['data-warehouse', 'junit'], ['nosql', 'statistics'], ['groovy', 'jira'], ['model-view-controller', 'relational-database'], ['identity-management', 'php'], ['.net-framework', 'javascript'], ['c++', 'html'], ['.net-framework', 'relational-database'], ['jira', 'multithreading'], ['design', 'jira'], ['html', 'zend-framework'], ['node.js', 'php'], ['data-mining', 'git'], ['.net', 'php'], ['github', 'jira'], ['pentaho', 'sql'], ['javascript', 'perl'], ['git', 'github'], ['javascript', 'symfony'], ['project-management', 'xml'], ['continuous-integration', 'version-control'], ['nosql', 'symfony'], ['git', 'wordpress'], ['data-warehouse', 'jira'], ['javascript', 'machine-code'], ['elasticsearch', 'refactoring'], ['scrum', 'sql'], ['hardware', 'javascript'], ['asp.net', 'html'], ['data-warehouse', 'php'], ['business-intelligence', 'mongodb'], ['angularjs', 'git'], ['apache-spark', 'business-intelligence'], ['javascript', 'risk-management']]\n",
            "[['mysql', 'php'], ['coldfusion', 'scripting-language'], ['perl', 'scripting-language'], ['php', 'scripting-language'], ['xhtml', 'xml'], ['jquery', 'json'], ['continuous-delivery', 'javascript'], ['html5', 'javascript'], ['php', 'symfony'], ['mysql', 'zend-framework'], ['javascript', 'php'], ['javascript', 'scripting-language'], ['html', 'zend-framework'], ['html', 'json'], ['php', 'soap'], ['html5', 'lucene'], ['coldfusion', 'mysql'], ['perl', 'php'], ['soap', 'zend-framework'], ['html', 'php'], ['scripting-language', 'xml'], ['php', 'postgresql'], ['coldfusion', 'html'], ['html5', 'xml'], ['javascript', 'xml'], ['mysql', 'perl'], ['html', 'html5'], ['javascript', 'json'], ['mysql', 'postgresql'], ['angularjs', 'html'], ['angularjs', 'php'], ['debian', 'scripting-language'], ['clojure', 'scripting-language'], ['javascript', 'jquery'], ['html5', 'zend-framework'], ['jquery', 'php'], ['jquery', 'symfony'], ['html', 'javascript'], ['javascript', 'xhtml'], ['continuous-delivery', 'laravel'], ['continuous-delivery', 'symfony'], ['json', 'mysql'], ['node.js', 'redis'], ['html5', 'php'], ['jquery', 'zend-framework'], ['html5', 'symfony'], ['angularjs', 'zend-framework'], ['javascript', 'lucene'], ['html5', 'jquery'], ['javascript', 'mysql'], ['mysql', 'xhtml'], ['nagios', 'perl'], ['html', 'xml'], ['nagios', 'scripting-language'], ['php', 'xml'], ['json', 'xml'], ['javascript', 'zend-framework'], ['html5', 'scripting-language'], ['soap', 'xhtml'], ['html5', 'xhtml'], ['multithreading', 'xml'], ['mysql', 'xml'], ['angularjs', 'xhtml'], ['laravel', 'php'], ['openstack', 'scripting-language'], ['jquery', 'xhtml'], ['php', 'xhtml'], ['coldfusion', 'php'], ['jquery', 'mysql'], ['angularjs', 'javascript'], ['continuous-delivery', 'mysql'], ['mysql', 'symfony'], ['html', 'mysql'], ['html', 'xhtml'], ['javascript', 'node.js'], ['html', 'scripting-language'], ['coldfusion', 'xml'], ['xhtml', 'zend-framework'], ['javascript', 'soap'], ['continuous-delivery', 'php'], ['html5', 'node.js'], ['mysql', 'scripting-language'], ['node.js', 'php'], ['html', 'jquery'], ['angularjs', 'html5'], ['json', 'php'], ['clojure', 'php'], ['clojure', 'coldfusion'], ['mysql', 'soap'], ['php', 'zend-framework'], ['html', 'node.js'], ['json', 'perl'], ['lucene', 'node.js'], ['angularjs', 'jquery'], ['postgis', 'postgresql'], ['perl', 'xml'], ['html5', 'soap'], ['angularjs', 'mysql'], ['jquery', 'soap'], ['angularjs', 'soap'], ['html5', 'mysql'], ['laravel', 'symfony'], ['javascript', 'lisp'], ['node.js', 'symfony'], ['javascript', 'symfony'], ['html5', 'redis'], ['json', 'soap'], ['postgresql', 'scripting-language'], ['node.js', 'zend-framework'], ['clojure', 'javascript'], ['php', 'redis'], ['nginx', 'perl'], ['xml', 'xslt'], ['soap', 'xml'], ['google-app-engine', 'lucene'], ['jquery', 'xslt'], ['symfony', 'yii'], ['google-apps', 'xslt'], ['continuous-delivery', 'html5'], ['node.js', 'xml'], ['javascript', 'perl'], ['nginx', 'openstack'], ['php', 'xslt'], ['yii', 'zend-framework'], ['javascript', 'xslt'], ['postgresql', 'redis'], ['html', 'xslt'], ['jquery', 'scripting-language'], ['continuous-delivery', 'scripting-language'], ['lucene', 'openstack'], ['jquery', 'node.js'], ['jquery', 'xml'], ['mysql', 'nginx'], ['lucene', 'php'], ['nginx', 'postgresql'], ['orchestration', 'postgresql'], ['redis', 'zend-framework'], ['postgresql', 'rabbitmq'], ['elasticsearch', 'lucene'], ['clojure', 'lisp'], ['redis', 'symfony'], ['html', 'symfony'], ['google-app-engine', 'openstack'], ['debian', 'nagios'], ['orchestration', 'rabbitmq'], ['perl', 'postgresql'], ['orchestration', 'redis'], ['javascript', 'postgresql'], ['soap', 'websocket'], ['nginx', 'scripting-language'], ['html', 'perl'], ['html5', 'perl'], ['mysql', 'openstack'], ['json', 'websocket'], ['elasticsearch', 'google-app-engine'], ['redis', 'yii'], ['html5', 'json'], ['rabbitmq', 'redis'], ['angularjs', 'node.js'], ['node.js', 'scripting-language'], ['json', 'scripting-language'], ['node.js', 'yii'], ['google-apps', 'javascript'], ['nginx', 'php'], ['orchestration', 'php'], ['symfony', 'zend-framework'], ['elasticsearch', 'openstack'], ['php', 'rabbitmq'], ['openstack', 'php'], ['elasticsearch', 'html5'], ['html5', 'postgresql'], ['php', 'yii'], ['debian', 'nginx'], ['javascript', 'redis'], ['elasticsearch', 'html'], ['html', 'nagios'], ['debian', 'perl'], ['laravel', 'lucene'], ['laravel', 'postgresql'], ['lucene', 'mahout'], ['elasticsearch', 'redis'], ['json', 'node.js'], ['jquery', 'perl'], ['mahout', 'scripting-language'], ['nagios', 'nginx'], ['elasticsearch', 'mysql'], ['symfony', 'xml'], ['jquery', 'postgresql'], ['angularjs', 'laravel'], ['elasticsearch', 'php'], ['nagios', 'php'], ['html', 'nginx'], ['nginx', 'redis'], ['elasticsearch', 'postgresql'], ['elasticsearch', 'scripting-language'], ['mysql', 'redis'], ['angularjs', 'redis'], ['postgresql', 'zend-framework'], ['postgresql', 'symfony'], ['laravel', 'nginx'], ['json', 'postgresql'], ['json', 'symfony'], ['lucene', 'redis'], ['javascript', 'laravel'], ['elasticsearch', 'json'], ['debian', 'php'], ['nunit', 'xml'], ['elasticsearch', 'perl'], ['lucene', 'postgresql'], ['mysql', 'nagios'], ['angularjs', 'postgresql'], ['javascript', 'nginx'], ['angularjs', 'lucene'], ['json', 'nagios'], ['html', 'postgresql'], ['multithreading', 'nunit'], ['lucene', 'nginx'], ['node.js', 'websocket'], ['mahout', 'perl'], ['angularjs', 'nginx'], ['nagios', 'postgresql'], ['laravel', 'redis'], ['hardware', 'javascript'], ['compiler', 'scripting-language'], ['.net-framework', 'postgresql'], ['javascript', 'software-engineering'], ['html', 'model-view-controller'], ['linux', 'scripting-language'], ['javascript', 'version-control'], ['continuous-delivery', 'jira'], ['design', 'scripting-language'], ['c++', 'html5'], ['javascript', 'security'], ['computer-science', 'javascript'], ['php', 'sql'], ['amazon-web-services', 'postgis'], ['database', 'mysql'], ['database', 'scripting-language'], ['data-warehouse', 'javascript'], ['computer-science', 'perl'], ['javascript', 'sql'], ['oracle', 'xml'], ['backbone.js', 'html5'], ['design', 'xhtml'], ['design', 'html'], ['nosql', 'symfony'], ['database', 'javascript'], ['compiler', 'html5'], ['git', 'php'], ['data-science', 'html'], ['design', 'php'], ['scripting-language', 'selenium'], ['mysql', 'varnish'], ['autosar', 'scripting-language'], ['backbone.js', 'javascript'], ['php', 'security'], ['html', 'sql'], ['linux', 'mysql'], ['mapreduce', 'php'], ['mysql', 'sql'], ['design', 'javascript'], ['javascript', 'relational-database'], ['javascript', 'software-architecture'], ['database', 'html'], ['.net', 'javascript'], ['continuous-delivery', 'selenium'], ['data-mining', 'mysql'], ['javascript', 'user-interface'], ['html', 'statistics'], ['linux', 'perl'], ['high-availability', 'redis'], ['continuous-delivery', 'monitoring'], ['.net-framework', 'javascript'], ['javascript', 'linux'], ['ipsec', 'perl'], ['scripting-language', 'software-engineering'], ['postgresql', 'sql'], ['amazon-web-services', 'debian'], ['gulp', 'javascript'], ['json', 'security'], ['html', 'software-engineering'], ['scripting-language', 'sql'], ['linux', 'php'], ['high-availability', 'node.js'], ['postgresql', 'project-management'], ['mysql', 'software-engineering'], ['compiler', 'html'], ['ansible', 'debian'], ['flux', 'javascript'], ['html5', 'sql'], ['html', 'https'], ['git', 'json'], ['php', 'software-engineering'], ['nosql', 'postgresql'], ['business-intelligence', 'javascript'], ['data-mining', 'html5'], ['javascript', 'jira'], ['.net', 'html5'], ['data-mining', 'javascript'], ['data-mining', 'html'], ['.net-framework', 'html5'], ['javascript', 'machine-code'], ['data-mining', 'scripting-language'], ['computer-science', 'scripting-language'], ['git', 'html'], ['javascript', 'oracle'], ['artificial-intelligence', 'javascript'], ['json', 'software-engineering'], ['firewall', 'scripting-language'], ['html5', 'user-interface'], ['php', 'project-management'], ['matlab', 'php'], ['monitoring', 'perl'], ['amazon-web-services', 'php'], ['.net', 'postgresql'], ['project-management', 'xml'], ['nosql', 'php'], ['scripting-language', 'scrum'], ['c++', 'postgresql'], ['javascript', 'nosql'], ['oracle', 'scripting-language'], ['mysql', 'nosql'], ['jira', 'php'], ['software-engineering', 'zend-framework'], ['data-management', 'openstack'], ['asp.net', 'javascript'], ['database', 'html5'], ['design', 'mysql'], ['computer-science', 'zend-framework'], ['peoplesoft', 'xml'], ['c++', 'javascript'], ['computer-science', 'html'], ['html', 'user-interface'], ['multithreading', 'project-management'], ['design', 'xml'], ['debian', 'linux'], ['javascript', 'user-experience'], ['data-analysis', 'xml'], ['regression-testing', 'scripting-language'], ['lucene', 'virtualization'], ['javascript', 'responsive-web-design'], ['database', 'postgresql'], ['sql', 'xml'], ['continuous-delivery', 'security'], ['html', 'project-management'], ['javascript', 'sencha'], ['html', 'risk-management'], ['javascript', 'risk-management'], ['perl', 'varnish'], ['computer-science', 'php'], ['computer-science', 'symfony'], ['matlab', 'scripting-language'], ['c++', 'scripting-language'], ['linux', 'openstack'], ['asp.net', 'html5'], ['php', 'refactoring'], ['node.js', 'security'], ['amazon-web-services', 'scripting-language'], ['r', 'xml'], ['mysql', 'project-management'], ['ansible', 'scripting-language'], ['firewall', 'perl'], ['security', 'xml'], ['javascript', 'project-management'], ['continuous-delivery', 'data-mining'], ['project-management', 'scripting-language'], ['php', 'relational-database'], ['data-mining', 'node.js'], ['html5', 'opengl'], ['continuous-delivery', 'git'], ['html', 'machine-code'], ['data-warehouse', 'scripting-language'], ['perl', 'software-engineering'], ['software-engineering', 'symfony'], ['data-modeling', 'scripting-language'], ['html', 'oracle'], ['relational-database', 'xml'], ['git', 'javascript'], ['html', 'vmware'], ['coldfusion', 'security'], ['design', 'node.js'], ['business-intelligence', 'postgresql'], ['computer-science', 'jquery'], ['c++', 'multithreading'], ['data-mining', 'postgresql'], ['javascript', 'selenium'], ['database', 'jquery'], ['firewall', 'nagios'], ['devops', 'laravel'], ['devops', 'symfony'], ['mysql', 'responsive-web-design'], ['mongodb', 'node.js'], ['openstack', 'software-engineering'], ['data-mining', 'php'], ['business-intelligence', 'html'], ['html', 'matlab'], ['javascript', 'monitoring'], ['gulp', 'html'], ['c++', 'xml'], ['data-mining', 'lucene'], ['compiler', 'javascript'], ['php', 'user-interface'], ['html5', 'jira'], ['.net', 'html'], ['database', 'php'], ['business-intelligence', 'scripting-language'], ['.net', 'php'], ['.net-framework', 'php'], ['jquery', 'version-control'], ['database', 'xml'], ['mongodb', 'redis'], ['html5', 'oracle'], ['continuous-delivery', 'continuous-integration'], ['html', 'relational-database'], ['data-warehouse', 'html'], ['computer-science', 'html5'], ['lucene', 'software-architecture'], ['javascript', 'model-view-controller'], ['linux', 'nagios'], ['html', 'version-control'], ['flux', 'html5'], ['jquery', 'relational-database'], ['design', 'html5'], ['responsive-web-design', 'scripting-language'], ['html5', 'software-engineering'], ['apache-camel', 'mysql'], ['data-mining', 'multithreading'], ['javascript', 'regression-testing'], ['scripting-language', 'software-architecture'], ['html', 'machine-learning'], ['mysql', 'security'], ['ios', 'json'], ['computer-science', 'xhtml'], ['risk-management', 'scripting-language'], ['postgresql', 'software-engineering'], ['mongodb', 'mysql'], ['mysql', 'version-control'], ['data-mining', 'xml'], ['business-intelligence', 'lucene'], ['nosql', 'scripting-language'], ['mysql', 'relational-database'], ['perl', 'sqlite'], ['javascript', 'scrum'], ['business-intelligence', 'php'], ['javascript', 'machine-learning'], ['relational-database', 'xhtml'], ['perl', 'unix'], ['git', 'symfony'], ['html', 'security'], ['jira', 'mysql'], ['continuous-delivery', 'software-engineering'], ['nagios', 'oracle'], ['.net-framework', 'html'], ['c++', 'html'], ['mysql', 'oracle'], ['model-view-controller', 'zend-framework'], ['database', 'xhtml'], ['postgresql', 'statistics'], ['soap', 'sql'], ['sql', 'xhtml'], ['c++', 'json'], ['perl', 'risk-management'], ['database', 'soap'], ['monitoring', 'nagios'], ['php', 'responsive-web-design'], ['gulp', 'node.js'], ['ansible', 'mysql'], ['machine-learning', 'postgresql'], ['ios', 'javascript'], ['mysql', 'statistics'], ['html', 'scrum'], ['jquery', 'sql'], ['data-mining', 'postgis'], ['c++', 'php'], ['.net-framework', 'perl'], ['jquery', 'nosql'], ['mysql', 'otrs'], ['mongodb', 'php'], ['html5', 'nosql'], ['postgresql', 'relational-database'], ['c++', 'clojure'], ['git', 'mysql'], ['monitoring', 'scripting-language'], ['html', 'simulation'], ['high-availability', 'scripting-language'], ['continuous-delivery', 'devops'], ['computer-science', 'xml'], ['cloud', 'continuous-delivery'], ['php', 'risk-management'], ['monitoring', 'mysql'], ['git', 'jquery'], ['html5', 'r'], ['scripting-language', 'security'], ['perl', 'security'], ['nagios', 'project-management'], ['mongodb', 'postgresql'], ['r', 'scripting-language'], ['continuous-delivery', 'version-control'], ['linux', 'symfony'], ['php', 'version-control'], ['.net', 'perl'], ['javascript', 'product-management'], ['hybris', 'json'], ['scripting-language', 'virtual-machine'], ['continuous-delivery', 'linux'], ['database', 'node.js'], ['monitoring', 'php'], ['continuous-integration', 'scripting-language'], ['data-mining', 'json'], ['data-analysis', 'html5'], ['integration-testing', 'javascript'], ['otrs', 'perl'], ['data-analysis', 'html'], ['amazon-web-services', 'html'], ['data-warehouse', 'postgresql'], ['coldfusion', 'database'], ['devops', 'php'], ['angularjs', 'computer-science'], ['cloud', 'mysql'], ['software-engineering', 'xml'], ['bioinformatics', 'scripting-language'], ['coldfusion', 'sql'], ['high-availability', 'php'], ['continuous-integration', 'mysql'], ['oracle', 'xhtml'], ['c++', 'perl'], ['jira', 'xml'], ['amazon-web-services', 'postgresql'], ['javascript', 'simulation'], ['git', 'node.js'], ['machine-learning', 'mysql'], ['perl', 'sql'], ['html5', 'user-experience'], ['https', 'php'], ['continuous-delivery', 'scrum'], ['perl', 'project-management'], ['database', 'symfony'], ['c++', 'coldfusion'], ['data-mining', 'mahout'], ['business-objects', 'html'], ['database', 'perl'], ['json', 'sqlite'], ['amazon-web-services', 'perl'], ['nosql', 'postgis'], ['junit', 'scripting-language'], ['.net', 'xml'], ['model-view-controller', 'php'], ['bioinformatics', 'perl'], ['bioinformatics', 'html'], ['json', 'version-control'], ['compiler', 'php'], ['risk-management', 'xml'], ['design', 'perl'], ['sqlite', 'xml'], ['computer-science', 'soap'], ['json', 'relational-database'], ['json', 'software-architecture'], ['html5', 'product-management'], ['postgis', 'sql'], ['data-science', 'lucene'], ['https', 'xml'], ['artificial-intelligence', 'perl'], ['design', 'json'], ['continuous-delivery', 'mongodb'], ['.net-framework', 'xml'], ['integration-testing', 'scripting-language'], ['scripting-language', 'ssis'], ['data-analysis', 'javascript'], ['database', 'json'], ['security', 'xhtml'], ['design', 'jquery'], ['computer-science', 'mysql'], ['ansible', 'perl'], ['jquery', 'software-architecture'], ['json', 'mongodb'], ['cloud', 'xml'], ['html', 'wordpress'], ['oracle', 'postgresql'], ['git', 'scripting-language'], ['json', 'sybase'], ['openstack', 'virtual-machine'], ['machine-learning', 'soap'], ['model-view-controller', 'redis'], ['.net', 'jquery'], ['elasticsearch', 'linux'], ['database', 'redis'], ['continuous-delivery', 'data-warehouse'], ['javascript', 'visual-studio'], ['database', 'elasticsearch'], ['angularjs', 'scrum'], ['software-engineering', 'xhtml'], ['angularjs', 'database'], ['fortran', 'perl'], ['design', 'symfony'], ['scripting-language', 'unix'], ['compiler', 'postgis'], ['data-science', 'symfony'], ['.net-framework', 'jquery'], ['devops', 'mysql'], ['.net-framework', 'scripting-language'], ['angularjs', 'software-engineering'], ['html', 'visual-studio'], ['html5', 'software-architecture'], ['business-intelligence', 'html5'], ['computer-science', 'postgresql'], ['design', 'postgresql'], ['perl', 'sed'], ['continuous-delivery', 'vmware'], ['javascript', 'wordpress'], ['html', 'semantic-web'], ['.net', 'scripting-language'], ['identity-management', 'javascript'], ['continuous-integration', 'php'], ['node.js', 'oracle'], ['data-science', 'soap'], ['android-studio', 'orchestration'], ['postgresql', 'ruby-on-rails'], ['mysql', 'vmware'], ['json', 'linux'], ['angularjs', 'software-architecture'], ['business-intelligence', 'symfony'], ['angularjs', 'data-mining'], ['machine-learning', 'scripting-language'], ['html', 'identity-management'], ['data-management', 'scripting-language'], ['json', 'project-management'], ['html', 'software-architecture'], ['html', 'refactoring'], ['relational-database', 'soap'], ['orchestration', 'user-interface'], ['data-science', 'redis'], ['html5', 'project-management'], ['continuous-delivery', 'database'], ['git', 'perl'], ['data-mining', 'xslt'], ['oracle', 'perl'], ['elasticsearch', 'machine-learning'], ['jira', 'scripting-language'], ['google-apps', 'machine-learning'], ['data-mining', 'soap'], ['.net', 'nunit'], ['mysql', 'unit-testing'], ['functional-programming', 'javascript'], ['linux', 'soap'], ['soap', 'software-engineering'], ['html5', 'selenium'], ['mongodb', 'symfony'], ['atlassian', 'php'], ['database', 'openstack'], ['jquery', 'oracle'], ['database', 'orchestration'], ['.net-framework', 'orchestration'], ['php', 'wordpress'], ['data-mining', 'redis'], ['continuous-delivery', 'project-management'], ['perl', 'relational-database'], ['netapp', 'scripting-language'], ['database', 'google-apps'], ['software-architecture', 'xml'], ['linux', 'postgresql'], ['jquery', 'responsive-web-design'], ['angularjs', 'nosql'], ['devops', 'postgresql'], ['php', 'scrum'], ['oracle', 'php'], ['computer-science', 'continuous-delivery'], ['mongodb', 'soap'], ['html5', 'wordpress'], ['openstack', 'sql'], ['continuous-integration', 'postgresql'], ['software-engineering', 'xslt'], ['database', 'rabbitmq'], ['hardware', 'php'], ['json', 'sql'], ['nosql', 'xml'], ['.net', 'node.js'], ['soap', 'sybase'], ['artificial-intelligence', 'php'], ['linux', 'xhtml'], ['amazon-web-services', 'google-app-engine'], ['json', 'machine-learning'], ['artificial-intelligence', 'nagios'], ['active-directory', 'scripting-language'], ['mapreduce', 'redis'], ['integration-testing', 'orchestration'], ['data-mining', 'jquery'], ['scripting-language', 'virtualization'], ['data-mining', 'symfony'], ['identity-management', 'scripting-language'], ['nagios', 'virtualization'], ['angularjs', 'oracle'], ['nginx', 'virtual-machine'], ['ansible', 'javascript'], ['labview', 'scripting-language'], ['apache-spark', 'json'], ['c++', 'lisp'], ['continuous-delivery', 'visual-studio'], ['html5', 'model-view-controller'], ['memcached', 'redis'], ['centos', 'debian'], ['data-management', 'mysql'], ['data-science', 'scripting-language'], ['linux', 'nginx'], ['gradle', 'orchestration'], ['sql', 'xslt'], ['data-science', 'php'], ['artificial-intelligence', 'html'], ['postgresql', 'product-management'], ['amazon-web-services', 'xml'], ['postgresql', 'security'], ['cloud', 'symfony'], ['html5', 'machine-learning'], ['hardware', 'html'], ['clojure', 'sql'], ['clojure', 'database'], ['data-warehouse', 'html5'], ['amazon-web-services', 'javascript'], ['machine-learning', 'perl'], ['functional-programming', 'lisp'], ['ios', 'xml'], ['nosql', 'redis'], ['perl', 'vmware'], ['continuous-delivery', 'design'], ['node.js', 'software-engineering'], ['angularjs', 'functional-programming'], ['scripting-language', 'visual-studio'], ['design', 'multithreading'], ['amazon-web-services', 'mysql'], ['scripting-language', 'vmware'], ['javascript', 'virtualization'], ['database', 'debian'], ['clojure', 'functional-programming'], ['ansible', 'php'], ['angularjs', 'compiler'], ['cloud', 'php'], ['amazon-web-services', 'elasticsearch'], ['perl', 'ssis'], ['json', 'unix'], ['continuous-integration', 'orchestration'], ['node.js', 'relational-database'], ['nosql', 'xslt'], ['devops', 'html'], ['html', 'linux'], ['nagios', 'software-engineering'], ['grid-computing', 'xml'], ['continuous-integration', 'javascript'], ['identity-management', 'php'], ['matlab', 'perl'], ['data-analysis', 'scripting-language'], ['sharepoint', 'xml'], ['jquery', 'software-engineering'], ['html5', 'version-control'], ['soap', 'unix'], ['perl', 'statistics'], ['clojure', 'machine-learning'], ['c++', 'redis'], ['database', 'google-app-engine'], ['continuous-integration', 'html'], ['orchestration', 'unit-testing'], ['devops', 'node.js'], ['scripting-language', 'statistics'], ['redis', 'software-engineering'], ['data-science', 'html5'], ['nosql', 'zend-framework'], ['html', 'ios'], ['mysql', 'product-management'], ['identity-management', 'xml'], ['github', 'scripting-language'], ['relational-database', 'scripting-language'], ['machine-learning', 'websocket'], ['amazon-web-services', 'openstack'], ['design', 'soap'], ['html', 'web-analytics'], ['scripting-language', 'sybase'], ['ipad', 'javascript'], ['javascript', 'robotics'], ['javascript', 'mongodb'], ['clojure', 'data-mining'], ['c++', 'mysql'], ['orchestration', 'user-experience'], ['hardware', 'scripting-language'], ['orchestration', 'software-engineering'], ['mongodb', 'xml'], ['orchestration', 'sql'], ['linux', 'xml'], ['unix', 'xml'], ['fortran', 'scripting-language'], ['apache-spark', 'postgresql'], ['data-mining', 'perl'], ['postgis', 'ruby-on-rails'], ['debian', 'software-engineering'], ['google-apps', 'software-engineering'], ['scripting-language', 'sed'], ['model-view-controller', 'symfony'], ['artificial-intelligence', 'mysql'], ['javascript', 'ruby-on-rails'], ['compiler', 'postgresql'], ['amazon-web-services', 'node.js'], ['html', 'leadership'], ['mysql', 'virtual-machine'], ['rabbitmq', 'sql'], ['node.js', 'nosql'], ['javascript', 'unix'], ['data-mining', 'google-apps'], ['cloud', 'javascript'], ['data-mining', 'elasticsearch'], ['image-processing', 'soap'], ['php', 'unit-testing'], ['continuous-integration', 'html5'], ['machine-learning', 'xslt'], ['html5', 'security'], ['image-processing', 'orchestration'], ['database', 'lucene'], ['data-science', 'javascript'], ['artificial-intelligence', 'clojure'], ['ios', 'php'], ['ios', 'orchestration'], ['cad', 'scripting-language'], ['functional-programming', 'html'], ['html5', 'linux'], ['artificial-intelligence', 'html5'], ['lua', 'scripting-language'], ['oracle', 'soap'], ['machine-code', 'php'], ['redis', 'sql'], ['iphone', 'php'], ['drupal', 'php'], ['image-processing', 'json'], ['firewall', 'php'], ['data-warehouse', 'perl'], ['php', 'software-architecture'], ['c++', 'orchestration'], ['git', 'postgresql'], ['data-management', 'html'], ['mockito', 'scripting-language'], ['clojure', 'data-science'], ['devops', 'jquery'], ['angularjs', 'relational-database'], ['perl', 'virtualization'], ['nosql', 'yii'], ['computer-science', 'redis'], ['orchestration', 'semantic-web'], ['node.js', 'product-management'], ['html', 'ruby-on-rails'], ['c++', 'rabbitmq'], ['linux', 'lucene'], ['database', 'nagios'], ['lisp', 'machine-learning'], ['data-science', 'perl'], ['continuous-integration', 'symfony'], ['functional-programming', 'jquery'], ['.net', 'orchestration'], ['php', 'unix'], ['perl', 'selenium'], ['perl', 'software-architecture'], ['.net-framework', 'nunit'], ['nginx', 'relational-database'], ['devops', 'scripting-language'], ['machine-learning', 'php'], ['multithreading', 'software-engineering'], ['amazon-web-services', 'json'], ['backbone.js', 'php'], ['html5', 'responsive-web-design'], ['project-management', 'redis'], ['javascript', 'unit-testing'], ['security', 'symfony'], ['html', 'sharepoint'], ['artificial-intelligence', 'debian'], ['.net-framework', 'node.js'], ['drupal', 'javascript'], ['debian', 'unix'], ['debian', 'virtualization'], ['continuous-delivery', 'firewall'], ['machine-learning', 'orchestration'], ['scripting-language', 'simulation'], ['devops', 'javascript'], ['json', 'unit-testing'], ['artificial-intelligence', 'scripting-language'], ['continuous-delivery', 'sql'], ['functional-programming', 'php'], ['data-management', 'javascript'], ['node.js', 'user-interface'], ['sybase', 'xml'], ['amazon-web-services', 'jquery'], ['image-processing', 'websocket'], ['computer-science', 'node.js'], ['amazon-web-services', 'lucene'], ['database', 'zend-framework'], ['amazon-web-services', 'symfony'], ['backbone.js', 'node.js'], ['data-analysis', 'perl'], ['soap', 'unit-testing'], ['data-warehouse', 'mysql'], ['rabbitmq', 'software-engineering'], ['c++', 'continuous-delivery'], ['angularjs', 'ios'], ['json', 'oracle'], ['microservices', 'redis'], ['github', 'javascript'], ['postgis', 'software-engineering'], ['gradle', 'scripting-language'], ['continuous-delivery', 'microservices'], ['amazon-web-services', 'soap'], ['mysql', 'virtualization'], ['user-interface', 'xml'], ['functional-programming', 'xml'], ['angularjs', 'user-experience'], ['continuous-delivery', 'user-experience'], ['ansible', 'postgresql'], ['node.js', 'vaadin'], ['linux', 'redis'], ['git', 'nginx'], ['drupal', 'xml'], ['cad', 'perl'], ['php', 'visual-studio'], ['postgresql', 'unix'], ['html', 'monitoring'], ['magento', 'mysql'], ['data-conversion', 'html5'], ['integration-testing', 'php'], ['html', 'selenium'], ['cryptography', 'scripting-language'], ['nunit', 'visual-studio'], ['high-availability', 'perl'], ['.net-framework', 'xslt'], ['node.js', 'osgi'], ['angularjs', 'machine-learning'], ['data-management', 'php'], ['devops', 'perl'], ['ios', 'mysql'], ['elasticsearch', 'nosql'], ['angularjs', 'sql'], ['data-modeling', 'perl'], ['node.js', 'project-management'], ['.net-framework', 'multithreading'], ['centos', 'perl'], ['computer-science', 'multithreading'], ['grid-computing', 'mysql'], ['architect', 'xml'], ['asp.net', 'xml'], ['atlassian', 'jquery'], ['json', 'selenium'], ['javascript', 'sharepoint'], ['compiler', 'mysql'], ['json', 'nosql'], ['git', 'html5'], ['capybara', 'javascript'], ['aix', 'perl'], ['high-availability', 'javascript'], ['.net', 'json'], ['angularjs', 'model-view-controller'], ['mysql', 'scrum'], ['relational-database', 'yii'], ['scripting-language', 'websphere'], ['symfony', 'visual-studio'], ['machine-learning', 'xml'], ['data-science', 'postgresql'], ['javascript', 'leadership'], ['scripting-language', 'swift'], ['html5', 'hybris'], ['joomla', 'mysql'], ['data-warehouse', 'nagios'], ['html', 'stata'], ['javascript', 'vaadin'], ['html', 'nosql'], ['multithreading', 'visual-studio'], ['perl', 'websphere'], ['visual-studio', 'xml'], ['perl', 'software-design'], ['nagios', 'vmware'], ['.net', 'nginx'], ['architect', 'mysql'], ['data-science', 'mysql'], ['groovy', 'scripting-language'], ['business-intelligence', 'mahout'], ['javascript', 'osgi'], ['mysql', 'reverse-engineering'], ['lua', 'perl'], ['lua', 'node.js'], ['symfony', 'unit-testing'], ['html5', 'ios'], ['mahout', 'software-engineering'], ['json', 'user-interface'], ['mahout', 'mapreduce'], ['.net-framework', 'json'], ['simulation', 'xml'], ['machine-learning', 'redis'], ['nosql', 'soap'], ['angularjs', 'design'], ['mysql', 'unix'], ['html5', 'semantic-web'], ['grails', 'mysql'], ['javascript', 'joomla'], ['unit-testing', 'xml'], ['angularjs', 'linux'], ['functional-programming', 'multithreading'], ['perl', 'r'], ['lucene', 'software-engineering'], ['computer-science', 'json'], ['javascript', 'linked-data'], ['gherkin', 'javascript'], ['node.js', 'visual-studio'], ['flask', 'html5'], ['https', 'javascript'], ['elasticsearch', 'mongodb'], ['hardware', 'html5'], ['relational-database', 'symfony'], ['javascript', 'statistics'], ['lucene', 'project-management'], ['perl', 'stateflow'], ['jquery', 'project-management'], ['ios', 'node.js'], ['lucene', 'mapreduce'], ['nosql', 'perl'], ['devops', 'elasticsearch'], ['centos', 'nagios'], ['amazon-web-services', 'redis'], ['data-modeling', 'javascript'], ['javascript', 'web-analytics'], ['mysql', 'wordpress'], ['.net-framework', 'redis'], ['php', 'togaf'], ['devops', 'nginx'], ['embedded-linux', 'scripting-language'], ['business-intelligence', 'mysql'], ['flask', 'html'], ['angularjs', 'vaadin'], ['centos', 'scripting-language'], ['business-objects', 'javascript'], ['linux', 'websocket'], ['user-interface', 'yii'], ['node.js', 'unix'], ['c++', 'jquery'], ['mongodb', 'scripting-language'], ['functional-programming', 'nunit'], ['javascript', 'magento'], ['https', 'mysql'], ['elasticsearch', 'software-engineering'], ['json', 'visual-studio'], ['html5', 'mongodb'], ['devops', 'redis'], ['database', 'nginx'], ['linked-data', 'node.js'], ['c++', 'xslt'], ['angularjs', 'osgi'], ['jquery', 'security'], ['html', 'unix'], ['ansible', 'elasticsearch'], ['php', 'user-experience'], ['scripting-language', 'sharepoint'], ['symfony', 'user-interface'], ['leadership', 'xhtml'], ['devops', 'soap'], ['json', 'model-view-controller'], ['autosar', 'xml'], ['nginx', 'software-engineering'], ['.net', 'redis'], ['scrum', 'symfony'], ['scripting-language', 'stateflow'], ['data-mining', 'nagios'], ['c', 'html'], ['artificial-intelligence', 'postgresql'], ['jquery', 'scrum'], ['hybris', 'javascript'], ['high-availability', 'mysql'], ['database-design', 'xml'], ['html', 'mongodb'], ['atlassian', 'javascript'], ['html', 'vaadin'], ['html', 'responsive-web-design'], ['angularjs', 'project-management'], ['php', 'selenium'], ['unit-testing', 'yii'], ['nginx', 'nosql'], ['elasticsearch', 'selenium'], ['model-view-controller', 'node.js'], ['ansible', 'html'], ['nagios', 'sharepoint'], ['functional-programming', 'html5'], ['database', 'laravel'], ['git', 'xml'], ['data-conversion', 'javascript'], ['jira', 'perl'], ['html', 'user-experience'], ['groovy', 'javascript'], ['html', 'osgi'], ['firewall', 'javascript'], ['.net-framework', 'nginx'], ['model-view-controller', 'xml'], ['javascript', 'webgl'], ['cloud', 'scripting-language'], ['database', 'yii'], ['business-intelligence', 'xml'], ['elasticsearch', 'sql'], ['computer-forensics', 'php'], ['atlassian', 'mysql'], ['software-architecture', 'symfony'], ['drupal', 'html'], ['gherkin', 'scripting-language'], ['architect', 'html'], ['magento', 'php'], ['node.js', 'semantic-web'], ['machine-learning', 'mahout'], ['ansible', 'openstack'], ['angularjs', 'hybris'], ['clojure', 'software-engineering'], ['lucene', 'machine-learning'], ['aix', 'scripting-language'], ['data-science', 'elasticsearch'], ['flask', 'javascript'], ['.net', 'xslt'], ['jquery', 'user-interface'], ['ios', 'soap'], ['data-modeling', 'php'], ['compiler', 'node.js'], ['javascript', 'matlab'], ['html5', 'linked-data'], ['.net', 'multithreading'], ['ansible', 'redis'], ['architect', 'php'], ['elasticsearch', 'high-availability'], ['linux', 'node.js'], ['data-analysis', 'mysql'], ['postgresql', 'sybase'], ['angularjs', 'atlassian'], ['elasticsearch', 'relational-database'], ['unix', 'websocket'], ['monitoring', 'openstack'], ['nunit', 'project-management'], ['mysql', 'sybase'], ['joomla', 'php'], ['laravel', 'linux'], ['elasticsearch', 'statistics'], ['nunit', 'software-engineering'], ['grid-computing', 'scripting-language'], ['javascript', 'semantic-web'], ['perl', 'tcl']]\n"
          ],
          "name": "stdout"
        },
        {
          "output_type": "execute_result",
          "data": {
            "text/plain": [
              "242"
            ]
          },
          "metadata": {
            "tags": []
          },
          "execution_count": 65
        }
      ]
    },
    {
      "cell_type": "markdown",
      "metadata": {
        "id": "juUAeOFV59c0"
      },
      "source": [
        "# Get Nodes and edge set of full graphs"
      ]
    },
    {
      "cell_type": "code",
      "metadata": {
        "id": "iD0ggpun7j6u"
      },
      "source": [
        "import itertools"
      ],
      "execution_count": null,
      "outputs": []
    },
    {
      "cell_type": "code",
      "metadata": {
        "id": "vzDdmd7c6CQ9"
      },
      "source": [
        "def getNodeListofGraph(graph):\n",
        "  nodes = list(graph[\"NodeInternalList\"])\n",
        "  all_nodes = []\n",
        "  for item in nodes:\n",
        "    temp_arr = item.split('#')\n",
        "    all_nodes.append(temp_arr)\n",
        "  all_nodes = list(itertools.chain.from_iterable(all_nodes))\n",
        "  all_nodes = [i for i in all_nodes if i]\n",
        "  return all_nodes"
      ],
      "execution_count": null,
      "outputs": []
    },
    {
      "cell_type": "code",
      "metadata": {
        "id": "BHkRClHl6GQg",
        "colab": {
          "base_uri": "https://localhost:8080/"
        },
        "outputId": "8150266a-0e61-40cb-ad03-b36791e7d126"
      },
      "source": [
        "gt1_node_list = getNodeListofGraph(t1_df)\n",
        "gt2_node_list = getNodeListofGraph(t2_df)\n",
        "print(gt1_node_list)\n",
        "print(gt2_node_list)"
      ],
      "execution_count": null,
      "outputs": [
        {
          "output_type": "stream",
          "text": [
            "['lucene', 'sql', 'nosql', 'xml', 'complex-event-processing', 'json', 'apache-spark', 'mongodb', 'sqlite', 'javascript', 'junit', 'php', 'selenium', 'html', 'continuous-integration', 'delphi', 'soap', 'jira', 'git', 'postgis', 'mysql', 'postgresql', 'html5', 'elasticsearch', 'relational-database', 'vmware', 'perl', 'ansible', 'multithreading', 'angularjs', 'hardware', 'nagios', 'asp.net', 'monitoring', 'websphere', 'jquery', 'model-view-controller', 'groovy', 'labview', 'scripting-language', 'business-objects', 'business-intelligence', 'data-warehouse', 'sybase', 'data-mining', '.net', 'xamarin', '.net-framework', 'refactoring', 'unit-testing', 'ios', 'flask', 'symfony', 'node.js', 'nginx', 'zend-framework', 'magento', 'linux', 'gnu', 'unix', 'embedded-linux']\n",
            "['lucene', 'multithreading', 'perl', 'xslt', 'continuous-delivery', 'angularjs', 'redis', 'xml', 'google-app-engine', 'openstack', 'json', 'lisp', 'nagios', 'laravel', 'nunit', 'javascript', 'coldfusion', 'nginx', 'php', 'yii', 'clojure', 'html', 'soap', 'zend-framework', 'postgis', 'websocket', 'rabbitmq', 'symfony', 'debian', 'xhtml', 'mysql', 'mahout', 'node.js', 'jquery', 'google-apps', 'postgresql', 'orchestration', 'html5', 'scripting-language', 'elasticsearch', 'sql', 'database', 'oracle', 'relational-database', 'ipad', 'iphone', 'capybara', 'nosql', 'mapreduce', 'mongodb', 'web-crawler', 'matlab', 'business-intelligence', 'data-warehouse', 'artificial-intelligence', 'machine-learning', 'data-mining', 'data-science', 'sed', 'gradle', 'mockito', 'selenium', 'gherkin', 'groovy', 'jira', 'websphere', 'git', 'version-control', 'joomla', 'drupal', 'wordpress', 'magento', 'opencv', 'cuda', 'opencl', 'user-interface', 'user-experience', 'qnx']\n"
          ],
          "name": "stdout"
        }
      ]
    },
    {
      "cell_type": "code",
      "metadata": {
        "id": "tHhekJ6IBfqK",
        "colab": {
          "base_uri": "https://localhost:8080/"
        },
        "outputId": "a41cc181-d5de-4075-8971-53edfb949ed6"
      },
      "source": [
        "getCommonNodes(gt1_node_list, gt2_node_list)"
      ],
      "execution_count": null,
      "outputs": [
        {
          "output_type": "execute_result",
          "data": {
            "text/plain": [
              "35"
            ]
          },
          "metadata": {
            "tags": []
          },
          "execution_count": 69
        }
      ]
    },
    {
      "cell_type": "code",
      "metadata": {
        "id": "zTytaXBV8qPe"
      },
      "source": [
        "def getEdgeListofGraph(graph):\n",
        "  edges = list(graph[\"EdgeInternalList\"])\n",
        "  edges = [i for i in edges if i]\n",
        "  all_edges = []\n",
        "  c_edges = edges[0]\n",
        "  for c_edges in edges:\n",
        "    c_edge_list = list(c_edges.split('\"'))\n",
        "    c_edge_list = [i for i in c_edge_list if i] \n",
        "    for item in c_edge_list:\n",
        "      temp_l = list(item.split('#'))\n",
        "      temp_l.pop(-1)\n",
        "      all_edges.append(temp_l)\n",
        "    if not any(all_edges):\n",
        "      all_edges = []\n",
        "  return all_edges"
      ],
      "execution_count": null,
      "outputs": []
    },
    {
      "cell_type": "code",
      "metadata": {
        "id": "Ip-ZhY7b9EWA",
        "colab": {
          "base_uri": "https://localhost:8080/"
        },
        "outputId": "24e66ed8-bbcc-41ae-dff9-371c31ec3f66"
      },
      "source": [
        "gt1_edge_list = getEdgeListofGraph(t1_df)\n",
        "gt2_edge_list = getEdgeListofGraph(t2_df)\n",
        "print(gt1_edge_list)\n",
        "print(gt2_edge_list)"
      ],
      "execution_count": null,
      "outputs": [
        {
          "output_type": "stream",
          "text": [
            "[['javascript', 'php'], ['html', 'php'], ['php', 'sql'], ['json', 'sqlite'], ['json', 'xml'], ['postgis', 'postgresql'], ['sqlite', 'xml'], ['javascript', 'sql'], ['php', 'selenium'], ['html', 'sql'], ['postgis', 'sqlite'], ['postgresql', 'sql'], ['relational-database', 'sql'], ['html', 'javascript'], ['html5', 'sql'], ['postgresql', 'sqlite'], ['html', 'relational-database'], ['html5', 'javascript'], ['continuous-integration', 'nosql'], ['json', 'lucene'], ['selenium', 'soap'], ['mysql', 'selenium'], ['json', 'mysql'], ['git', 'mysql'], ['continuous-integration', 'elasticsearch'], ['mongodb', 'nosql'], ['mysql', 'php'], ['mongodb', 'mysql'], ['postgresql', 'selenium'], ['nosql', 'relational-database'], ['postgresql', 'soap'], ['elasticsearch', 'html'], ['json', 'mongodb'], ['mysql', 'soap'], ['elasticsearch', 'nosql'], ['elasticsearch', 'lucene'], ['javascript', 'soap'], ['javascript', 'xml'], ['mysql', 'postgresql'], ['mysql', 'nosql'], ['git', 'sql'], ['continuous-integration', 'mongodb'], ['elasticsearch', 'mysql'], ['nosql', 'postgresql'], ['html', 'lucene'], ['continuous-integration', 'json'], ['mysql', 'sql'], ['postgresql', 'relational-database'], ['continuous-integration', 'git'], ['html5', 'soap'], ['elasticsearch', 'json'], ['html5', 'xml'], ['json', 'nosql'], ['elasticsearch', 'mongodb'], ['continuous-integration', 'mysql'], ['html', 'json'], ['php', 'xml'], ['continuous-integration', 'javascript'], ['git', 'jira'], ['html5', 'mysql'], ['javascript', 'junit'], ['git', 'html5'], ['html', 'mysql'], ['html', 'xml'], ['nosql', 'php'], ['delphi', 'mysql'], ['complex-event-processing', 'git'], ['javascript', 'jira'], ['javascript', 'json'], ['apache-spark', 'mongodb'], ['apache-spark', 'jira'], ['mysql', 'relational-database'], ['javascript', 'nosql'], ['jira', 'mongodb'], ['junit', 'sql'], ['json', 'php'], ['html', 'html5'], ['jira', 'sql'], ['git', 'javascript'], ['jira', 'mysql'], ['git', 'mongodb'], ['javascript', 'mysql'], ['sql', 'xml'], ['apache-spark', 'git'], ['git', 'postgresql'], ['html5', 'php'], ['html', 'jira'], ['javascript', 'relational-database'], ['html', 'junit'], ['jira', 'junit'], ['complex-event-processing', 'javascript'], ['delphi', 'relational-database'], ['php', 'relational-database'], ['mongodb', 'sql'], ['html5', 'nosql'], ['jira', 'php'], ['html', 'nosql'], ['perl', 'vmware'], ['ansible', 'perl'], ['ansible', 'vmware'], ['angularjs', 'websphere'], ['groovy', 'scripting-language'], ['groovy', 'websphere'], ['angularjs', 'groovy'], ['nagios', 'scripting-language'], ['monitoring', 'scripting-language'], ['hardware', 'scripting-language'], ['monitoring', 'nagios'], ['groovy', 'multithreading'], ['labview', 'monitoring'], ['asp.net', 'model-view-controller'], ['multithreading', 'websphere'], ['jquery', 'model-view-controller'], ['hardware', 'labview'], ['hardware', 'monitoring'], ['angularjs', 'jquery'], ['angularjs', 'multithreading'], ['asp.net', 'jquery'], ['business-objects', 'sybase'], ['business-intelligence', 'data-mining'], ['data-mining', 'data-warehouse'], ['business-intelligence', 'data-warehouse'], ['data-mining', 'sybase'], ['business-intelligence', 'business-objects'], ['business-objects', 'data-mining'], ['business-intelligence', 'sybase'], ['data-warehouse', 'sybase'], ['business-objects', 'data-warehouse'], ['.net-framework', 'refactoring'], ['.net', '.net-framework'], ['.net', 'unit-testing'], ['refactoring', 'unit-testing'], ['.net-framework', 'unit-testing'], ['.net', 'refactoring'], ['.net', 'xamarin'], ['.net-framework', 'xamarin'], ['ios', 'xamarin'], ['.net-framework', 'ios'], ['.net', 'ios'], ['flask', 'node.js'], ['flask', 'symfony'], ['node.js', 'symfony'], ['nginx', 'zend-framework'], ['magento', 'nginx'], ['embedded-linux', 'linux'], ['linux', 'unix'], ['gnu', 'linux']]\n",
            "[['mysql', 'php'], ['coldfusion', 'scripting-language'], ['perl', 'scripting-language'], ['php', 'scripting-language'], ['xhtml', 'xml'], ['jquery', 'json'], ['continuous-delivery', 'javascript'], ['html5', 'javascript'], ['php', 'symfony'], ['mysql', 'zend-framework'], ['javascript', 'php'], ['javascript', 'scripting-language'], ['html', 'zend-framework'], ['html', 'json'], ['php', 'soap'], ['html5', 'lucene'], ['coldfusion', 'mysql'], ['perl', 'php'], ['soap', 'zend-framework'], ['html', 'php'], ['scripting-language', 'xml'], ['php', 'postgresql'], ['coldfusion', 'html'], ['html5', 'xml'], ['javascript', 'xml'], ['mysql', 'perl'], ['html', 'html5'], ['javascript', 'json'], ['mysql', 'postgresql'], ['angularjs', 'html'], ['angularjs', 'php'], ['debian', 'scripting-language'], ['clojure', 'scripting-language'], ['javascript', 'jquery'], ['html5', 'zend-framework'], ['jquery', 'php'], ['jquery', 'symfony'], ['html', 'javascript'], ['javascript', 'xhtml'], ['continuous-delivery', 'laravel'], ['continuous-delivery', 'symfony'], ['json', 'mysql'], ['node.js', 'redis'], ['html5', 'php'], ['jquery', 'zend-framework'], ['html5', 'symfony'], ['angularjs', 'zend-framework'], ['javascript', 'lucene'], ['html5', 'jquery'], ['javascript', 'mysql'], ['mysql', 'xhtml'], ['nagios', 'perl'], ['html', 'xml'], ['nagios', 'scripting-language'], ['php', 'xml'], ['json', 'xml'], ['javascript', 'zend-framework'], ['html5', 'scripting-language'], ['soap', 'xhtml'], ['html5', 'xhtml'], ['multithreading', 'xml'], ['mysql', 'xml'], ['angularjs', 'xhtml'], ['laravel', 'php'], ['openstack', 'scripting-language'], ['jquery', 'xhtml'], ['php', 'xhtml'], ['coldfusion', 'php'], ['jquery', 'mysql'], ['angularjs', 'javascript'], ['continuous-delivery', 'mysql'], ['mysql', 'symfony'], ['html', 'mysql'], ['html', 'xhtml'], ['javascript', 'node.js'], ['html', 'scripting-language'], ['coldfusion', 'xml'], ['xhtml', 'zend-framework'], ['javascript', 'soap'], ['continuous-delivery', 'php'], ['html5', 'node.js'], ['mysql', 'scripting-language'], ['node.js', 'php'], ['html', 'jquery'], ['angularjs', 'html5'], ['json', 'php'], ['clojure', 'php'], ['clojure', 'coldfusion'], ['mysql', 'soap'], ['php', 'zend-framework'], ['html', 'node.js'], ['json', 'perl'], ['lucene', 'node.js'], ['angularjs', 'jquery'], ['postgis', 'postgresql'], ['perl', 'xml'], ['html5', 'soap'], ['angularjs', 'mysql'], ['jquery', 'soap'], ['angularjs', 'soap'], ['html5', 'mysql'], ['laravel', 'symfony'], ['javascript', 'lisp'], ['node.js', 'symfony'], ['javascript', 'symfony'], ['html5', 'redis'], ['json', 'soap'], ['postgresql', 'scripting-language'], ['node.js', 'zend-framework'], ['clojure', 'javascript'], ['php', 'redis'], ['nginx', 'perl'], ['xml', 'xslt'], ['soap', 'xml'], ['google-app-engine', 'lucene'], ['jquery', 'xslt'], ['symfony', 'yii'], ['google-apps', 'xslt'], ['continuous-delivery', 'html5'], ['node.js', 'xml'], ['javascript', 'perl'], ['nginx', 'openstack'], ['php', 'xslt'], ['yii', 'zend-framework'], ['javascript', 'xslt'], ['postgresql', 'redis'], ['html', 'xslt'], ['jquery', 'scripting-language'], ['continuous-delivery', 'scripting-language'], ['lucene', 'openstack'], ['jquery', 'node.js'], ['jquery', 'xml'], ['mysql', 'nginx'], ['lucene', 'php'], ['nginx', 'postgresql'], ['orchestration', 'postgresql'], ['redis', 'zend-framework'], ['postgresql', 'rabbitmq'], ['elasticsearch', 'lucene'], ['clojure', 'lisp'], ['redis', 'symfony'], ['html', 'symfony'], ['google-app-engine', 'openstack'], ['debian', 'nagios'], ['orchestration', 'rabbitmq'], ['perl', 'postgresql'], ['orchestration', 'redis'], ['javascript', 'postgresql'], ['soap', 'websocket'], ['nginx', 'scripting-language'], ['html', 'perl'], ['html5', 'perl'], ['mysql', 'openstack'], ['json', 'websocket'], ['elasticsearch', 'google-app-engine'], ['redis', 'yii'], ['html5', 'json'], ['rabbitmq', 'redis'], ['angularjs', 'node.js'], ['node.js', 'scripting-language'], ['json', 'scripting-language'], ['node.js', 'yii'], ['google-apps', 'javascript'], ['nginx', 'php'], ['orchestration', 'php'], ['symfony', 'zend-framework'], ['elasticsearch', 'openstack'], ['php', 'rabbitmq'], ['openstack', 'php'], ['elasticsearch', 'html5'], ['html5', 'postgresql'], ['php', 'yii'], ['debian', 'nginx'], ['javascript', 'redis'], ['elasticsearch', 'html'], ['html', 'nagios'], ['debian', 'perl'], ['laravel', 'lucene'], ['laravel', 'postgresql'], ['lucene', 'mahout'], ['elasticsearch', 'redis'], ['json', 'node.js'], ['jquery', 'perl'], ['mahout', 'scripting-language'], ['nagios', 'nginx'], ['elasticsearch', 'mysql'], ['symfony', 'xml'], ['jquery', 'postgresql'], ['angularjs', 'laravel'], ['elasticsearch', 'php'], ['nagios', 'php'], ['html', 'nginx'], ['nginx', 'redis'], ['elasticsearch', 'postgresql'], ['elasticsearch', 'scripting-language'], ['mysql', 'redis'], ['angularjs', 'redis'], ['postgresql', 'zend-framework'], ['postgresql', 'symfony'], ['laravel', 'nginx'], ['json', 'postgresql'], ['json', 'symfony'], ['lucene', 'redis'], ['javascript', 'laravel'], ['elasticsearch', 'json'], ['debian', 'php'], ['nunit', 'xml'], ['elasticsearch', 'perl'], ['lucene', 'postgresql'], ['mysql', 'nagios'], ['angularjs', 'postgresql'], ['javascript', 'nginx'], ['angularjs', 'lucene'], ['json', 'nagios'], ['html', 'postgresql'], ['multithreading', 'nunit'], ['lucene', 'nginx'], ['node.js', 'websocket'], ['mahout', 'perl'], ['angularjs', 'nginx'], ['nagios', 'postgresql'], ['laravel', 'redis'], ['relational-database', 'sql'], ['database', 'relational-database'], ['database', 'sql'], ['database', 'oracle'], ['oracle', 'sql'], ['oracle', 'relational-database'], ['ipad', 'iphone'], ['capybara', 'ipad'], ['matlab', 'nosql'], ['mapreduce', 'matlab'], ['mapreduce', 'nosql'], ['mapreduce', 'web-crawler'], ['mongodb', 'nosql'], ['mapreduce', 'mongodb'], ['business-intelligence', 'data-warehouse'], ['business-intelligence', 'data-mining'], ['data-mining', 'machine-learning'], ['data-mining', 'data-warehouse'], ['data-mining', 'data-science'], ['business-intelligence', 'machine-learning'], ['artificial-intelligence', 'machine-learning'], ['artificial-intelligence', 'business-intelligence'], ['artificial-intelligence', 'data-mining'], ['business-intelligence', 'data-science'], ['data-warehouse', 'machine-learning'], ['data-science', 'machine-learning'], ['artificial-intelligence', 'data-science'], ['data-science', 'data-warehouse'], ['mockito', 'sed'], ['gradle', 'sed'], ['gradle', 'mockito'], ['gherkin', 'groovy'], ['gherkin', 'selenium'], ['groovy', 'selenium'], ['git', 'version-control'], ['git', 'jira'], ['git', 'websphere'], ['jira', 'websphere'], ['drupal', 'wordpress'], ['joomla', 'wordpress'], ['joomla', 'magento'], ['magento', 'wordpress'], ['opencl', 'opencv'], ['cuda', 'opencv'], ['user-experience', 'user-interface'], ['qnx', 'user-interface']]\n"
          ],
          "name": "stdout"
        }
      ]
    },
    {
      "cell_type": "code",
      "metadata": {
        "id": "geBDc_T5_9hc",
        "colab": {
          "base_uri": "https://localhost:8080/"
        },
        "outputId": "e6a5a7b0-8881-4291-95a9-ef39f6ba39f1"
      },
      "source": [
        "common_edges(gt1_edge_list, gt2_edge_list)"
      ],
      "execution_count": null,
      "outputs": [
        {
          "output_type": "execute_result",
          "data": {
            "text/plain": [
              "37"
            ]
          },
          "metadata": {
            "tags": []
          },
          "execution_count": 72
        }
      ]
    },
    {
      "cell_type": "markdown",
      "metadata": {
        "id": "IYWKdkXio_jO"
      },
      "source": [
        "**Get number of links between 2 clusters**"
      ]
    },
    {
      "cell_type": "code",
      "metadata": {
        "id": "XqmWCvfTeelh"
      },
      "source": [
        "# Filter out No-cluster items from the t1_df and t2_df\n",
        "t1_df_filtered = t1_df.loc[t1_df['EdgeInternalList'] != '']\n",
        "t2_df_filtered = t2_df.loc[t2_df['EdgeInternalList'] != '']"
      ],
      "execution_count": null,
      "outputs": []
    },
    {
      "cell_type": "code",
      "metadata": {
        "id": "IOC65XXZaUcU"
      },
      "source": [
        "def getLinkNum(c1, c2):\n",
        "  c1_nodes = getNodeList(c1, t1_df_filtered)\n",
        "  c2_nodes = getNodeList(c2, t2_df_filtered)\n",
        "  common_nodes_num = getCommonNodes(c1_nodes, c2_nodes)\n",
        "\n",
        "  c1_edges = getEdgeList(c1, t1_df_filtered)\n",
        "  c2_edges = getEdgeList(c2, t2_df_filtered)\n",
        "  common_edges_num = common_edges(c1_edges, c2_edges)\n",
        "\n",
        "  links_num = common_nodes_num + 2*common_edges_num\n",
        "  return links_num"
      ],
      "execution_count": null,
      "outputs": []
    },
    {
      "cell_type": "code",
      "metadata": {
        "id": "2gYw-b7IpWkm",
        "colab": {
          "base_uri": "https://localhost:8080/"
        },
        "outputId": "5e719de1-a2ae-4006-c451-dee9a5154d1c"
      },
      "source": [
        "links_num = getLinkNum(\"0\", \"0\")\n",
        "links_num"
      ],
      "execution_count": null,
      "outputs": [
        {
          "output_type": "execute_result",
          "data": {
            "text/plain": [
              "496"
            ]
          },
          "metadata": {
            "tags": []
          },
          "execution_count": 75
        }
      ]
    },
    {
      "cell_type": "markdown",
      "metadata": {
        "id": "rGQPMudKZqC7"
      },
      "source": [
        "**Get links between Graph and a cluster**"
      ]
    },
    {
      "cell_type": "code",
      "metadata": {
        "id": "6ks955jJY9Zd"
      },
      "source": [
        "def getLinksBWClusterAndGraph(c_nodes, g_nodes, c_edges, g_edges):\n",
        "  common_nodes_num = getCommonNodes(c_nodes, g_nodes)\n",
        "  common_edges_num = common_edges(c_edges, g_edges)\n",
        "\n",
        "  links_num = common_nodes_num + 2*common_edges_num\n",
        "  return links_num"
      ],
      "execution_count": null,
      "outputs": []
    },
    {
      "cell_type": "code",
      "metadata": {
        "id": "F5t2cQ3cZZib",
        "colab": {
          "base_uri": "https://localhost:8080/"
        },
        "outputId": "908b8388-d1d8-4dff-a4a7-7943910b1794"
      },
      "source": [
        "c_nodes = getNodeList(\"4\", t1_df_filtered)\n",
        "g_nodes = getNodeListofGraph(t2_df_filtered)\n",
        "\n",
        "c_edges = getEdgeList(\"4\", t1_df_filtered)\n",
        "g_edges = getEdgeListofGraph(t2_df_filtered)\n",
        "getLinksBWClusterAndGraph(c_nodes, g_nodes, c_edges, g_edges)"
      ],
      "execution_count": null,
      "outputs": [
        {
          "output_type": "execute_result",
          "data": {
            "text/plain": [
              "0"
            ]
          },
          "metadata": {
            "tags": []
          },
          "execution_count": 77
        }
      ]
    },
    {
      "cell_type": "markdown",
      "metadata": {
        "id": "RzUZvqDVquxR"
      },
      "source": [
        "# Prepare Link Counting Matrix between two Time frame Graphs"
      ]
    },
    {
      "cell_type": "markdown",
      "metadata": {
        "id": "gJAllo3xtCOT"
      },
      "source": [
        "**<Mat(t-1, t)>**"
      ]
    },
    {
      "cell_type": "code",
      "metadata": {
        "id": "stevxTMlYolG"
      },
      "source": [
        "t1_cluser_ids = list(t1_df_filtered[\"Network\"])\n",
        "t2_cluser_ids = list(t2_df_filtered[\"Network\"])"
      ],
      "execution_count": null,
      "outputs": []
    },
    {
      "cell_type": "code",
      "metadata": {
        "id": "OTEWRf5YquBg"
      },
      "source": [
        "list_outer = []\n",
        "for i in t1_cluser_ids:\n",
        "    list_inner = []\n",
        "    for j in t2_cluser_ids:\n",
        "      links_num = getLinkNum(str(i), str(j))\n",
        "      list_inner.append(links_num)\n",
        "    list_outer.append(list_inner)\n",
        "mat_t1_t2 = np.array(list_outer, np.int64)"
      ],
      "execution_count": null,
      "outputs": []
    },
    {
      "cell_type": "code",
      "metadata": {
        "id": "9Qbrp_j88Up_",
        "colab": {
          "base_uri": "https://localhost:8080/"
        },
        "outputId": "4ca2e801-76fa-4eee-c567-911b868d18c2"
      },
      "source": [
        "mat_t1_t2"
      ],
      "execution_count": null,
      "outputs": [
        {
          "output_type": "execute_result",
          "data": {
            "text/plain": [
              "array([[496, 192,   0,  90,  74,   0,   9,  64,   4,   0,  14],\n",
              "       [ 57,   2,   0,   0,   8,   0,   0,   0,   0,   0,   0],\n",
              "       [135,  28,   0,   8,  12,   0,   7,  11,   0,   0,   0],\n",
              "       [ 38,  28,   0,  12, 287,   0,   0,   6,   0,   0,   4],\n",
              "       [ 26,  14,   0,   0,  18,   0,   0,   2,   0,   0,   2],\n",
              "       [ 22,   2,   0,   2,   0,   0,   0,   0,   0,   0,   0],\n",
              "       [ 22,   0,   0,   0,   0,   0,   0,   0,   5,   0,   0],\n",
              "       [ 30,   6,   0,   4,   6,   0,   0,   2,   0,   0,   2]])"
            ]
          },
          "metadata": {
            "tags": []
          },
          "execution_count": 80
        }
      ]
    },
    {
      "cell_type": "markdown",
      "metadata": {
        "id": "SszbWSqsSNIy"
      },
      "source": [
        "**<Arr(t-1)>**\n",
        "\n",
        "From c(t-1) to G(t)"
      ]
    },
    {
      "cell_type": "code",
      "metadata": {
        "id": "9xhpNWO0SMKc"
      },
      "source": [
        "arr_t1_list_outer = []\n",
        "g_nodes = getNodeListofGraph(t2_df)\n",
        "g_edges = getEdgeListofGraph(t2_df)\n",
        "for i in t1_cluser_ids:\n",
        "  c_nodes = getNodeList(str(i), t1_df)\n",
        "  c_edges = getEdgeList(str(i), t1_df)\n",
        "\n",
        "  temp_links_num = getLinksBWClusterAndGraph(c_nodes, g_nodes, c_edges, g_edges)\n",
        "  arr_t1_list_outer.append(temp_links_num)\n",
        "\n",
        "arr_t1 = np.array(arr_t1_list_outer, np.int64)\n",
        "arr_t1 = arr_t1.reshape((arr_t1.shape[0], 1))"
      ],
      "execution_count": null,
      "outputs": []
    },
    {
      "cell_type": "code",
      "metadata": {
        "id": "VLbF_dSybDEz",
        "colab": {
          "base_uri": "https://localhost:8080/"
        },
        "outputId": "150e46cd-c028-4c23-86a5-f0098a06fe89"
      },
      "source": [
        "arr_t1"
      ],
      "execution_count": null,
      "outputs": [
        {
          "output_type": "execute_result",
          "data": {
            "text/plain": [
              "array([[155],\n",
              "       [ 15],\n",
              "       [ 43],\n",
              "       [ 23],\n",
              "       [  0],\n",
              "       [ 12],\n",
              "       [ 15],\n",
              "       [  0]])"
            ]
          },
          "metadata": {
            "tags": []
          },
          "execution_count": 82
        }
      ]
    },
    {
      "cell_type": "markdown",
      "metadata": {
        "id": "HHo2ArOxa2E-"
      },
      "source": [
        "**<Arr(t)>**\n",
        "\n",
        "From C(t) to G(t-1)"
      ]
    },
    {
      "cell_type": "code",
      "metadata": {
        "id": "ETXtn7AGa2nk"
      },
      "source": [
        "arr_t2_list_outer = []\n",
        "g_nodes = getNodeListofGraph(t1_df)\n",
        "g_edges = getEdgeListofGraph(t1_df)\n",
        "for i in t2_cluser_ids:\n",
        "  c_nodes = getNodeList(str(i), t2_df)\n",
        "  c_edges = getEdgeList(str(i), t2_df)\n",
        "\n",
        "  temp_links_num = getLinksBWClusterAndGraph(c_nodes, g_nodes, c_edges, g_edges)\n",
        "  arr_t2_list_outer.append(temp_links_num)\n",
        "\n",
        "arr_t2 = np.array(arr_t2_list_outer, np.int64)\n",
        "arr_t2 = arr_t2.reshape((arr_t2.shape[0], 1))\n",
        "arr_t2 = arr_t2.transpose()"
      ],
      "execution_count": null,
      "outputs": []
    },
    {
      "cell_type": "code",
      "metadata": {
        "id": "hVMqP2aBNed_",
        "colab": {
          "base_uri": "https://localhost:8080/"
        },
        "outputId": "173dcb69-8eee-4c27-c2cc-b2318f7b16bb"
      },
      "source": [
        "arr_t2"
      ],
      "execution_count": null,
      "outputs": [
        {
          "output_type": "execute_result",
          "data": {
            "text/plain": [
              "array([[166,  38,   0,  36,  19,   0,   6,  27,   1,   0,   0]])"
            ]
          },
          "metadata": {
            "tags": []
          },
          "execution_count": 84
        }
      ]
    },
    {
      "cell_type": "markdown",
      "metadata": {
        "id": "nPSkQLBwcb3I"
      },
      "source": [
        "**<LC(total)>**\n",
        "\n",
        "number of links between G(t-1) and G(t)"
      ]
    },
    {
      "cell_type": "code",
      "metadata": {
        "id": "6sai-CUiccTU",
        "colab": {
          "base_uri": "https://localhost:8080/"
        },
        "outputId": "c76d202e-3803-4824-9c39-9f730e25e1c9"
      },
      "source": [
        "g1_nodes = getNodeListofGraph(t1_df)\n",
        "g2_nodes = getNodeListofGraph(t2_df)\n",
        "\n",
        "g1_edges = getEdgeListofGraph(t1_df)\n",
        "g2_edges = getEdgeListofGraph(t2_df)\n",
        "\n",
        "graphs_common_nodes_num = getCommonNodes(g1_nodes, g2_nodes)\n",
        "graphs_common_edges_num = common_edges(g1_edges, g2_edges)\n",
        "\n",
        "lc_total = graphs_common_nodes_num + 2*graphs_common_edges_num\n",
        "print(lc_total)"
      ],
      "execution_count": null,
      "outputs": [
        {
          "output_type": "stream",
          "text": [
            "109\n"
          ],
          "name": "stdout"
        }
      ]
    },
    {
      "cell_type": "code",
      "metadata": {
        "id": "4EM3wdFVZJDQ"
      },
      "source": [
        "# mat_t1_t2 = np.array([[14, 2, 0], [0,1,14]])\n",
        "# arr_t1 = np.array([22, 27])\n",
        "# arr_t1 = arr_t1.reshape((arr_t1.shape[0], 1))\n",
        "# arr_t2 = np.array([14, 12, 19])\n",
        "# arr_t2 = arr_t2.reshape((arr_t2.shape[0], 1))\n",
        "# arr_t2 = arr_t2.transpose()\n",
        "# lc_total = 58"
      ],
      "execution_count": null,
      "outputs": []
    },
    {
      "cell_type": "markdown",
      "metadata": {
        "id": "xC-_ASAof3I0"
      },
      "source": [
        "#Mututal Information can be calculated as follows\n",
        "\n",
        "![image.png](data:image/png;base64,iVBORw0KGgoAAAANSUhEUgAAAfMAAABLCAYAAABk4W7nAAAgAElEQVR4Ae19/08bR97//gH7i3/kh0iRLCR+iBRFKD9QRSf4gSgREkRXIZQvskyUyEZNZGgUSCJIogaoEqNrQe2RXGr1OSv91H1aK0/r3FO3F7eNe4Le4eepqwT1oQ1U5A63IYULchAUzL4+mt0de3e9u16DgXUySMi7szOz73nNzrxn5v2NA/tjCDAEGAIMAYYAQ6CsEeDKmnpGPEOAIcAQYAgwBBgCYMycfQQMAYYAQ4AhwBAocwQYMy/zDmTkMwQYAgwBhgBDgDFz9g0wBBgCDAGGAEOgzBFgzLzMO5CRzxBgCDAEGAIMAcbM2TfAEGAIMAQYAgyBMkeAMfMy70BGPkOAIcAQYAgwBBgzZ98AQ4AhwBBgCDAEyhwBxszLvAMZ+QwBhgBDgCHAEGDMnH0DDAGGAEOAIcAQKHMEGDMv8w5k5JcCgVWkwh5wHCf+854IZs2qzSQxuIeX89fCn0hrcj9C2OWUn1fBE5nRPDe6fYbk4IEsHU5/AqtGWVk6Q4AhsHkIpMJwyfMBx59GZDZj8q5C47bI+UXxpkxyEHsoHU4/EiYTAmPmCuDK53IFqWg/3K6XUeuUmcr+ACbWCrRgdQphb7XELJy1aHa54R0eg5YVFajlOXwsDbbimSdh2g0GzFwv3Sp066XHav1bke8ZxoNn4VJ+o3w1Go654HL3I5pasUhEBunpbxAeOgdXbRWctS/D5TqG5roDcPvvYCKdgZD+DgH3KwhOLVus83nMxuaEkvYqYeYFmGf++4zGrVF6fg2GKRboYczcEL1yePALor7dEnPecQnxZ4IJ0at4HL2M+uod4Lga9MTnTPIW90hIf487797BeNps9VpcnVubu9BgW0By+Aic/DEEJ5UMY6PMPI2JoAeV/MsYfvBM0eRC9Ciy2v1S+BHBJvLN1aJ39N9FUSukf0T0zRPY69gHz2AEyVkl9suYHbuJtjY/bnYfBL/bj8Sy2fdf1KvLOLMN5gThKSbuvIfb409Rtj1iyjwFLCavo8npxKHgD8jtoYzGrVG69jMTsDRxC+7Kndg//B1+Uz42pUfKyJi5ErByu34WR0/9BfjP1YDjWhF6ZLzbEeZiuHyuH6817ADHexFOmZzXFIXDEiYCzeC4ZgQmlooqaZ/MhQbbY8Q6a8DXXcPIvHLBslFmLte79xw+Ve1UC9FjH+QKUjIXhc/Bgas4j9hCbtozLydgNXUXfY1V4OsuIDxhxBRWMBNug4PjUNEZw4J5pS/GUxvMCWsTAeznKrA/8L2C0ZUZ/KbMM4P52AVU8g3oG3miWLAYjVujdC0mtN7foePTfyrqBWBKj1QPY+ZaPMvoPjM+jLrOCP4uMlM92a3cGGEW8f7XEbn/sTSxWjmSt4rD2vcI7K8At28Y40o+Z7W8LfJZHWxaYjfKzLX10fv10kPL2+VXwLP4JewgMr+WEB5Z3KYJs1/iUt0OcJU+hKcLLBDFxUIl3OFp9eRnFwi2mI7tnxPo4r4Jw+OLW9z6Er7OAvPMf5vRuDVKz6/BMMUCPYyZG6Jn9wfLmAqehDv8E+aiZ+DgnHCFH+kQncHC2DDOf/AQ6dE+7OR47PaPQXlgqVPIcpIwHcJh3oGXBr9VHwtZrsEOGdc72BgzN++9RYwPN4HjHNg3fB+W1npZvY4adERnCjPo1QT8zqMvuLyc9oIN5gRhCqHDTnAvDSH5m8XVGyXfTr8WmGc+uUbziFF6fg2GKRboYczcED27P3iCWKdHPNqWNB557BlM5k+YS9/hxvkQHq7QFXM1OmNPTBtHZOC3e91odJ/H1e42tL7+F4z85W34b/8fxH3S2kOEX22Fy3UEDdUV4LgKVDccgcvlgvtSFKmyG8P6g40oVgU7TqHzbAtq3P+BB3k6Aeth5hmkxz/ERV8XrnQeQb33lk69+vSYdpodHwo/IdSyswgdjRWkIh2o5DjwTQFMrFj4kDJJDB0JYMLSSsGOIJWSpk2aE4gM/HYfDjceR/fVC/C0DuCvIx9jwP8xJpZIHy1jKtwtjv9jDdXgSf9VN+CYq1hlx1JiscG69Jin8BQPgufh7WxHc40HgQda8Y/RuDVKl2gU0vfxwcVX0XnlDFrqfQjm1cuO2TfYmzYvvjwGf/2ApPRDPjyOg8MXhVqtbRETgddw/UEaEKYRdlcWkJcTWeXnuFi3By3Xk0iLcymp44g0QN1hDaOeQ7ynBpzjDKJz5Tyb6gw2Ipq4dAaBiUUIj0Jo4XbDF/1F81EUy8wFrEx+gFPn7mBmVZDkYNxOjRINeYUOPZo3l8XtQgydFZz172PlPobryeLQicOhqcK78rIAYQuJ3Iw5YfWfuHvxICpabuK+uJgVsDIRQBPP6cwlVKyiN1a2EIdSvCqPmWcwH7+K44FxrMiL1Pz51mjcGqUDWPkBoVOvITJDzkrJfOIEfyiISa16SR49+Y1kO/N8TMoihSiZHKTMWzxq5MCpZOECVh6+jzND/wNRckUnVlUeTVNXJhA8XJm3K1pN+OHUU2jJ3MfwPge4piCmLGyiNG9b5y1dcJwqoRJf/mAj4oNjHVHMCat4HPHBoWsBUCQzJwuqE2cQnpEUFSVFIb0j6Hx61gnWNhYTsJzwYzeRl1v8PiQ8iK0/OzZfT8eVfk5YxMNgKxz8EXFRm6VJd74hT6lYZYv7T1xwvAy3rpgxS3VxF1rmScQHx7rFTYvwOAKvg8OOnjiUNijGi3Cj8UwUOM/gBNX3MNM/0tKj0xrGzHVAsX8S+ThO41DwR2n3Qo8zleZpq1O4ffkmxhbIjjk3seZ/gLS1lGntgjfyL8WuiLzLC56rhz+h1hcWpoJoKiSDX7iHnqr9eWXpW63/riGd/BD+Hg8aqp3gOU+RzPxXxHt+Z6AvoB1sxPTkQ7ybmAeEfyHi3QWu6jLiedrYRTLz+a8xFEhKiytkMBs5DV53kaClxzpK9slJxToG4p88QjOy7gcHbs8gkkUf9KxhIX4ZVQqRj6u5Fk7lkS8VC23xSdLaVBgd4vHzAQwm1dN/HgxiwhqWUhP4PrWoGIf6OXOppZ8TKNNyeCN4rFisC6kw3LyO7g01QzQ1EzQbh7nWWLpKJxHyd8PTsBdO3khnyKgm+XsxolXLPBeTuPVuAmnQeXIfeuK/aio3GrdG6bOID72H5KIM7mwEHl5vkVBOx+x0h0c93WzarwVbVzvRovlUcrdENtaq0BaVj7uz5mlE9vg6+uOz8mRAJ1aT4y+quMIfR2haaeFI3lWtY1q0hoXYeVRwZjJ4MkGfRYUuI8y1ptgr6aSgOGYuzEXRXqE3AMnbjQYbkU4QBT8eu3pHZCaspLZIZq4sCrnPdM0EjelRVWHnGyrWMf0+FpAMBBAXzf2kNote+FxhpKy0bTGJwNDXmBfzPkGsy42+e6ms1zxpp6/RdCemW2QCL9Yyc0OLUnmsWDTPE2Y/RXslD66yE9FZq4SWek74DdOh4+DzRB4m414+/TMzEzQfh1Y6XSePeFJQJDMXfka0vRpVPff0TRq1zJy+ls6Tu/oxSpkwfWY4j1gZz1REoflead1G9NDnAGyyM1/CdNgnKr5ILjWr4Q1PZQelgt4Cl8t4MvEtEmNxRG+/j8CbF3G6UVLIoK46tavM/ArtREs+dWIKWXDUv6ZwEkOZtWSeJjyO4sLlGOayq2nqSMLk+Isew2tNzIgcbjevc1S6gIS/3uBIdAWp+Lvw+y/AVe2Ao8GHq34/hqKTMLaEN2irTnIxzFxIxXHDfxU9LiLbb4Dvqh/+oc8wpVKuMhpsdEIzWgRugJnTRaOu2MOIHh0w7JpEvyfdxYpMNGGQL1PPhQKWRWsLDpwlZp7BXOw1HCUyTFLdQgznTil3kARDcqKk8X9AJn6PxcVCFtuNLkqlscLn6ZxkX6C+WPoe73vrUON9X1YwUz/WvSv5nCAv4jmtiZnRuKenfzvQRE8MFYRaG4eKAsVcFsPMhRnEbwzA3+NCNedEg68Xfv8NRKc0ZnQGzNN8cW80bo3SlY2kIgrN90qzGNBDH5NfmzBzchKcQuxcbdYvNedwIfB/pXA0KmB19luE/cexV1Ta0HrxUsIhX9uJFj3ypoI4pPIfTo8onXB9NIb46wOIPlas6MluZAdnbgtOPhYdJTrpKJ3KdReQvBVCIr0G6Mh3hNRn8H8wkdOoF32YO9ES+qmI40KdBmuSimHmUlHZd7KhrbPBYKOrcNnMZm36U/zxM6Uzh/Uzc0mpjsPO3lEdM0EDejQ42PmW2DvvIydsuosVQjmRF57GQaVjEXH3y4NTiosMGiksfAP/kdflXT2w9ugePkr8qvjOZGakPUZdmsDnX0ypFpWip7lBHw57LuBarw/NLdcQSxGFJCuLUmKd8J/oaj4C35Xz8Hb8Ae9c68EwEdHQP3GsODfViQoZp6WdE8i37cxXXqRH6eKiXyGOAt1QKJi/8E9E/R8pLA0KjUMKWJG/xTBzuWrJAsjE0ZYu86SL+wYMJtPA2k+488e/KpSCjcatUbqinVRUurMPo3qeDHXpUZS3FTMn/JwM0Hri+lEOeNH4NpJ55kDqBli/yyA9GUFPnRM1/n/oHJmqa7ITLWrKCOPuUk+CAKh5WmXty+jUnGrQidVYXg5AZvhq/+RLmA554KBHpb99i8GWG5JzGNmzV67Op0j42+BPPM2SKy0EFIM7+2RjF0Uzc3ECcprYOusPNon+CtQP38eKOFn5NC5J18vM6VGlkdhDn56NobaVpYm981FwhvoUAlZnImjfdUIj0lnEZKgNlZz5yZzoi73tjI5pkKKNcjAcsyNfMffSOILuWoX1hiQTrVBqFBsuSmX3mzXtsnMbelSq1i+RZMzqNAWlJbjcjDlBFgOp/JMLWJ3+AG4H9biXRnKwQxb3yad/2YWYgMXEG/i9cq4tOA7XCUXRzFz+PrWnkMrX6zFPupCpv47xFQFEjNOsEr8ZjVujdMUL5ZOsfA15OY8ePYri5NI+O3ORsAzSybfRSHbQIkPfgbq+rzGfPS7WUL+OW9G71IHzFkyp7ESLoqGrDxFy1+abSZHOJjvrw7fwUHWETCfWQjIlwowPgD8cwrSI9zJS9/6AE3U1cHDk+H4Bi4k3cVRkbNKxJjE7kpg/weoG2vqVfWUiJyQr9ksnRbtUYptu/P8qAkm10h1BomhmLg4UM9m+/mCTFkGy6GL+K1x+5T0Ntutl5jTKkpHYQ58exVdg70uqNKhrzreM1GgAvtodim9N0RzhF4wMHEUlfwBdof/FLDHho3+rsxiPvg1vyzmECvj9lhZi+ke+tDpiHz0dOgFHzQASCvmn+H0pImUZLkrXfkDwUKVicyAzc5WCnck4yBGysatNmRMIMx5ATVaHhliRfIn+EwfxO4c87hf/Af/RP4mMDZBPQmTmL6QTGGp7Q+3+2HAc0iAxZnMBeeZGW1aBVAFZ0cxcotV0oafHPGXRmDjnEdPVy+cRfKg8njcat0bpuTZImzGT71WPnlxx8cpmzJzQJJtDZJXganEullIcn2laUPRtBgujb+CUJTtWG9FClH3amnNR0kjUs9a3MEo1rMnuofYVhCblj4syzGMNqBYXR7wccaobYYPoUqLzgq6jaPZdRI/vNHoCI0gtPsQnHQ2o85xFe5fSwckyUnevoL7Og9d6XkXH0FdIKSdeqI/UhPlRvHNbcQRfdL/lChTLzFVHasITjL4TURz9kXoNBpto8nIIdSd98LT65aPXHB2SXahedDQjJi+XpSt87RFwtmoDerLPC12sYWHkddTQRbFFxatCtRZ8Ph+H3+0C1SJXOhOSFmyKKH+c1mpCWfsyZpO34ffuh5NGWmvej9pGH/zhb9UMXlkse03FTgVOhWRRkVrUQbD3gs/uMI2ZscTklUGLZLmnyhSvSHl5tg0WLjZ7ThCeYvyDbjQ3+3Clpx3enj9jNDWPqU/Ooa7uJC609+DdrIMT2WS0/iA8r3WjveOPuCeKKnLtKDwOc3mLuiqWmatOWjKYHw3htjauhC7zpHPecZzxtKE/9k+NXpfRuDVKp62kGy6T0xtdemh56deGzJzMrYpQnYSpW/HRrG5X6e7sREvpWrUFNc0g4qmSdu7CHMYGzkvOa0rwZmNmTo49/xNdbW8qGK9sAibuGIhr27fwyvXvJE92WVoKDbZsRs2FEdM2SpeLyyIK453BeunRkLc8it6d1u28NaXL+PYpRnv3FZa96zEBooXfuht7e0fk0MDGi1LpO1TIXUW5p1M0f1yajuLmFykICnn5ciqJb6asmKaVMfSGpFsZh4aFzR/o9SMtsfQ9Ql2vwq9kvKIJmHzitvANBl4J4IHoyY4WsmYKpsgtXxqNW6N0WoMsojBbdJctMyfy88efoqNKjtXN8ahsDWFSdXxMgdj8XzvRsvmtLdUbVjEb96OpwYPuzk71YFrnK9YexfCW/3V0u14Cz1Whwfca/P4PkSQKeeLfKmajnajU+AIXZr9Cf9MheLo70e6PaU4QSMFCg02uPu/HiGkbpZMKBCyO9mOX6c50vfSoCZRMs6jyovrZc30n77h5lZKoXouJzXOdrBNBni8jFe1GjSo6nsmiVFyUUVEJFcsRcdZDTIfOo4+EfBUZxz70js5gfPhCGUcW1MOvuLTC47C4+rA2jdhbflzrdmEvz8PZcBq9/kGEkrlQu1kzP6V8XPgZ8f4jaPB0obN9ULHwV7zfAvNU5JYvjcatUbpcbHEEvbt4mFpaWaDHnjtzsY0ZzI9cQx09KuR2onEoIbsYzYdxc1PsRMvmtvR5qF2Yeg+nlVrSBRtVYLAZljdi2sp0OWY5V4PO2GMI6SSut1Sh0n3LxOxovfQoCSV1ENMs5TGw8vnzdy0t9ujkzskmkQO4ETcO2CL6329rgbu7H73trXD1vIeEKm662aJ0GanYNRx2ncWVzlNoH/oYf33Hi7pjJ+DuuI1pInYSGccxNJ9+Fe0Dfyup/s/z14Ob1CIi1jr9Z0zQNb+V11hgnvnVGI1bZTqNWe5AZeddzAtPcf/6MTgqPQhOmFhvWaDHxsycbGLmMOZvEv2CiwpxfBP8Y3MllJ/nd4dhip1oMSSSPQCWMBm8iCFiOmL5TznYLBeSfSkXkpkvYjLchTrnHjT7TqOl4Ri6A19iytRKY730KGmXFZJUyljK5+yaIfAiICBgdfI9nBoqMqqjBeaZj57RuFWmk/gMYXTUVaGy+RTOtDShpTuAL6YWzPmaBXrszcwJWksPEGipzJqrcXsvImbZK1I+3BtKsRMtG2rI81t4bfq/cKHoHZA02LImkYWOZ2WzJym/JHtTI0p25k75m62CJzKjfmx4R7XcJWsOtZmgYSH9B4bOfuTsqzMYDXSjpeEozva+hrMtv0froFaJkeb9BYlb59FY50b3lQ642/+MkZGP4M9GzdIngaUyBLYdgbWfcPvC22qteitEEeZJlbAVlg36RQuN2yLnF8VLJKVB2bpLZSaoyCRf2p+Zg9g2huEl7g1FcHlUtUekqFP57dnkFDvRsslNZdWXNQJm8nLRTtv9Eup6IpikJwSieVN1vimoqNHfgKpsCFjZZImMRTOFnbJGjxHPECg/BIpg5kRZZF9uh0xXLRZ+dUO6FYXVMmYiZ1GVfdcetIZ+UHlxKqq6DWW2Ey0baggr/NwiQHYCBvJy2TqDb7yh0eBdwaNQKzjVLkQ2zXR4EJoWI9lLiFEteUOPes8tsKxhDAHbIlAEM9/mNhAj/Yt1ucUE34JhEqd7O/7sRMt2tJ+90+YIGMnLV/E42oUqbg/aoz9rZHQyMxcdBEnjSpgJo5V4+2onoWBzTZbsq19ALfkcBOyKIWA7BMqHmeu5e60fyoWP22Jo89y9bjItVJ7Lfql3wBfv1/InbiQvp77mHT5ElL77xYpp5D3qaIX6odZGcaIOWfK15Nm3+eJ9k6zPt6/PtfNBWTFzYqO79OCG7O51O2XnBEY70aLtVnb/IiNgKC+XndVwKg9lMlLE7/5LDnDZ0I7y7l4bdQyyQxamJf8if2Ks7TZEoAhmvp0ycwVyS99huHEn+JIGYVHUX8ylnWgphm6W9zlGQCMvX5nEZ7e/k7yZyRq6avelBAoBvyWH8BLx5TBMvePJGvlZt6YyZLJDFuNoaM8xtKxpDAEbI1AEM7dBK0TN2oPg93YjqvH7u+XU2YmWLW88e6F9EVDLy8kuvcU/JoVZlY/f85j56jQi7TXg69/A2EJGbppB1KzJW2jhedFlKQkSyv4YAgwBeyBQPsxceIoHgZOorDxpHvpwK3C1Ey1b0V72jjJCQGbmok3qM4wPdyjC0sohRmuuYpQy7dVfMHb9BKrqruCuaoFMYlUPod5xXA5TSgJpxOFvJj4fzCLQ2QWqVTxJ3EZY4drTLpSVnI6S2kSXnDqdCu3WNzbwC6GDUrFJZcLMJZ/Je/mDuHhXG6mm2CZvNL+daNloWwqVf4bx4Fm4XIpoVzSKlbsf0dRKoQrk5xmkp79BeOgcXLVVcvS2Y2iuOwC3/w4m0hlIts+vIGgQ0c3ii1g24pchdRd9xBf9hXZ4X/8KswpNdNBIWI0e9Fzthqfx9/DKfZAHHs0rRs1qw2FvH66dfgkcpwguklfIHgnC3F10VfFyiF570LRpVFjwDpb/bsmRyYYcE+VXainFfn2jdL9sqQmaTNuHpZKQMmDmGaTv30SLYw/cge+2yTc7hcxOtFCatuCXhuzkatFLgkcU8Sekf0T0zRPY69gHz2AESZXf62XMjt1EW5sfN7sPgjcMCVrEC1nWzUOAfgfKoBWb97b11yzMYbRvv2jGahyZbv3V266kKTMnJyzX0eR04lDwB+Tck28TA7Jl31hl5nKcBf5lDD9QRr/bJiw1H6LNmbmA1ZkI2qt2ou7Sl+odhqYhm39rJ1o2v7WqN1At6KI8fsk7xMYq8HUXEJ54qrFrpm9YwUy4DQ6Owwsx8dJm2/o3g/TUCO589p0qdrgwHcJh3oEa/z+waFv6iZXJn9BcuVOK6eAKI2VbWktEmCkzz2A+dgGVfAP6Rp4oxuB2MCC79o1VZv4Ysc4a8HvP4VPVqeR2YJn/7diamUu23Du3NfwphcxOtFCatuZXwLP4Jewg3veK8PglzH6JS3U7rMWiFxcLWnvmrWkde4sOApn7GN7nUHmDk8Qge8DX9eHedsVG0CE1L2llAsHj53H70zewj3yzBfxZ55UvxwRTZm7UoG1gQLbtG6vM3EZY6pBiX2a+8gNCrXs0GrY6LSg6ifiWHsJJ1ZFTgUrsREsBUkv/eBHjw03gNDHCTd8juwzluBp0RI3DT2brWE3A76RxobOp7GK7EBB+xdjwSezd60KP349rPSdRX3sYncOf53y5bxdtpu9dQSpyHseDE1ghDI4w86JOk0wrt+/DsmDmdu4bxsw37+MWfsa9SwfBV/oQVvqELsEbhXQCQ4faEZ6xqLxlJ1pK0P6iqxB+QqhlJwhj7onPWShOBm0HKjkOfFMAEytK7SuD4pkkho4EMEGtogyysWSGgBkCRLHq3JE/ST7nqf94zoNwalVdTHiC0YF2+M66UNt4FbHUU6RG/gSfuwNXuk+g5dX/wpT43WYwPzoEr68drtoW9MUeYTH1Nwz7TqL9yjm4W7rxyZQNBA56zJxY3ATPw9vZjuYaj44F0NbuzK32jTA/ggGvD2ddB9DYdxepxX9hZPgM3O0X0e0+hlc/eSjF5LDch+qu178zY+YZpMc/xEVfF650HkG99xYe0OBE2cq2FsvsazUX9tuZU7MvvhlDyX8rZDwayou+JTLcrzHk2gOHN4LHFngM0fwVzeHsQEvR7S1RgYUYOis4cFY9fq3cx3B9BTjOicOhqRL2X4naw6p5PhEQFas86Budk745KipQ+JqnDV+bfA8nidxfPBHiUXnw9/AMfI3Z1TmM+RvBcwcwmHwGrP2A4MkhJBYXkPDXgqusR6NnCCOzS0iP/QF1PI89g0ls+xo0j5lnMB+/iuOBcazIi3GHLwr1UnwLGZDlvlnGZPC8aEq5mvDDye3CwcY2DIz8jNX0N/ATsd2eQSQzgOU+pJ1u+mvEzEns8Q9w6twdKUqneNqzU6NISCreQixN2mEzZr6M1N0rqONr0RV9BM162qQZ5o+E9EN8EehCg5OEUbVqI2snWszbt3lPBSwn/NhNjiv1XIDqvFhyJUr8FbNjcx14WNKmICApVh05d1cREIZM0CSmvHa8p5Ec9GEwmQbkhWo2gtzaTwgfJ3oB1zAyv4rfkm+hefBb/AbZdj8b3GkZ0+FTOkplm9K4wpVqmTnxwX+sG9G5DITHEXgdHHb0xKHUv946BlRE3xCXws1vIflbBgux86hQeCRcm/4Ixyt3yiF6rfah1WWWATMXphE+cSZ7imvoJpkxc+03mkH6wX/AXVmFluvJdZqgCVh98gMSib8jHg0jONyPTlcdnIQZ0f+s72nt+5X3dqJFSddWXy9hItAMjrO6A6FBOLjsCro4itewEL+MKq4C1Q1H4HK54GquFfuPr27AMXLvOoKG6grrJwXFEWCYe20qjI6G6tyuzTAne7DlCMiKVRGVhrHsQ55zwhV+pCBpBncu3RQDNGWSg9jD7UBT8EedE6QMZu8MYCi5AGSSGNzDW17QKl628UvR0+TLcKvaoKlWy8wXk7j1bgJprOJxxAcHtw898V81hYrZTa5hKTWB71OLOjhpqtXeFtM3s/+NS0P/g0U8Q3LwgMmGwGofaokxujdg5vNfYyiQlC03MpiNnAavK24sBksjGjaebpOdOTkC/xRdex05pkuZb0l/rZjV2ImWjXfwhmogK1N3IY9fC0gGAojPk1Ww9FGLCyerJkGLSQSGvsa8SOgTxLrc6LuXyp7KSKthjab7szh6iE16sUc3C/fQU7Uf/sTCOmBZk3YLL4JC1TrQ2b4iso6GsxbN4mKPLPgUiz6OM3Acs4yp4FFwHI0SZ9wC6yFfSfyK35XG1W06iZC/G4kop44AAAliSURBVJ6GvXDy2gWJhlYtM6ePaZQ83Q2MdQYkzH6K9koeXGUnokVZMqyzbyz7M7DehzAd+wbMnOIo/srujXlvvg4G25krkBL+hYh31yYzcg4cfwSBiQIKK3aiRQHRtlxSebnuByxTRAbJywFMiN4oBCyP9mEnWYBZYuYZzMVew1Ei2yPVLcRw7pRSn4FMOF7w2shdRNbpKdZ+mJwanEVF1WXEF3KuM6zjSuSm9eDdYaSs6FtYr5jl3AAComLV0Xd1FC1zC0t9/wUziHiqwGkDyeTRYrYjU2cW5qJor9DbBavzFXUnyvXXx8wlvwA8dvWO6PgFsM7MsfQ93vfWocb7PiaWrH/86+6b2Qg8vJ5oQIuc9T40H/sWmDnVwdhP5zolLUVgqSxW4mub7MxL3CpWXUkQyIwPS7a6uh8weQVx+HIaBwPf5zxLiStg3sIkCYi2+0del3f1wNqje/go8aviKE+WVWo9wy1N4PMvpqQFgNxS0dPcoA+HPRdwrdeH5pZriIm+xleQir8Lv/8CXNUOOBp8uOr3Yyg6mSuvdFvafRodg8O41nETibSC6YvRwpzYr2xrSVBmlawbAaJY1U/k33onLQUWluR0ZweHfMUwLTXyjsxEAVRIxXHDfxU9rhpwjgb4rvrhH/pM1ojX1lfk/bqZOY1H3yDpB6z9hDt//KtiIbrJDGjdfUP9WuyGL/qLOVgF+9DC2BffUJiZC49CaOE45AUpEstvMpbmKGSfMmaehYJdqBGgR1hGEbJkj3i7TsiBOGhpOZgHVw1veCp7XE6f0l/RCUnbGR2TGZoDWVml/s5KkW9pHEF3rULXQpIVVhwKYpLyY1Hu6URL6CfFYoHUQVw0elHjDWN6lew65Mlbs4AQUmG4+fp1HtEraGWXJUKAKFbdROulrzBvsFmUZOL6jmOkhaqRvFxBIt2RFVQAleW8RThWUrzF+HK9zJweVddfx/iKACKualbt0DeTAW2kb6hfi8IKtNb7kOg86I19CnshZi6L2DijBcZmYklpLPzLmHlhjF7MHFlxg94HvIzUaAC+2h3gD4cwrZ1MhV8wMnAUlfwBdIX+V+USFKuzGI++DW/LOYTGjVy8SpBLsspCE+4ypkMn4KgZQGIxR4ho2sKfRmRW0miV6sqXj65NBnGIP6CILCYxc/WOjcnL7TUIiF7L57hY1ySZkBkRJ5oS6TmOoQtVeddqVJ5Eep8Koolz4CVRq90s448INjmxb/h+aU3V1svM5UWIGEhFmEX88nkEHypFjJvFgDbYN3QR8tIQkr/lxnM+8sX2Yf7Yz9VZiJkXUsjbLCxzFFq5YszcCkovUp75OPzunBY5p9QsFxWLFBHUuF3wRv6l2elSsJYxm7wNv3c/nDTSWvN+1Db64A9/q2bwtIjql2rGmw1CAOLxd4Xm+IsMLi/4rDzUiBnLE0I2HzkNIK5MnRoNZyYvV3XNNt6sTUdwvkWycCCKlnx1C67FZ9UUpccw7D0qWT2ICrSSdYS7LybHd5AmZ75+SNRqVxdW34m7e/6QwVG+Iq+oX6I1gyPPV5CK9sOtUs6jSnrKXzfasprTinrXy8whmdbW1x3HGU8b+mPaaJOlZ0Al6RvxBG0n6geJVrvZn9U+NBr7yroLMHO6wNCc1uVqKD2WubqtXzFmbh0rlnNLEZBNi5SMVu/9epMd0cJv3Y29vSNIi2XUR6DC/CjeuT2BDNKSMxDF0agkGyPH6U8wfef/4QuivauQly+nkvhmSm2xq0cWS3uxEJCO9OXQsMQ72TuR0ng01Pu+tdAaabNr86nu7cGAVCRtyo3R2Fe+rAAzlwNNGYv77IHlc8DMM0hP/B0JUdlJ2UHbdU0iTn2Drw2jhG0XXWX2XnnHzXsi0Oy7NA0h5kB1qB++Lyu0SfHma0THH9RphKT1Kh05zmFs4DyuPyBsXt79U3mo8G8kh5rBExegMxMInRzAKDm6F7Vr96F3dAbjwxcQmFjS0MBuX2wEZI13MahLBgtjb+GV69+hJF8JY+Yb/LSMxr6yWjNmLmBxtB+7TE8hGTNXorn+a+Jy8dA+HA//lNOoXn9tJSj5C6K+PajquQc9HdsSvOC5rmLtUQxvkeAe3S7s5TlZ+3wAN+LGAVuIMl2wrQXu7n70trfC1fMeEqq46auYjfvR1OBBd2cn/Mojx9V/ItZ3HK7Oi+j0nsXQf/8F77gbccxzAh1UgU/4GfH+Y2g+/SraB/5mqHD1XHcMa5wpAsLsV+hvOgRPdyfa/TGkRGVK0yLmD9emEXuLjgMezobT6PUPIpT8d345tjPPxySbYjL2s3mUzFyOWc7VoDP2GEI6iestVah03zIxy2PMPAslu2AIMAQYAgyBdSLAmPk6gaPFlMx8EZPhLtQ596DZdxotDcfQHfgSU3nBVWhZ8suYuRKN4q9JEJR3e9B+thWN7R/LZkXFV1OaEkSD8ysMdbyKnu7jaCzSuUJpaGC1MAQYAi8kAlRrnyj7KSw49LGQZciyZ01R9KSf8QVKJcyc+PEnbr+r4InMWGy7vbAsU5m5FJP8RGAcy8R0pOAHbLFv1ptt6QECbf2IEWUpcWDVwp+QVK/WWyUrxxBgCDAEGAIMAasIlCkzX8b0Zx/h69m0GAhE19bZKgIlyLc2fRd//vpnCJC9F2334qIEbWJVMAQYAgwBhkD5IFCmzFwGWIydvctGcbNl70WG7k/L58NglDIEGAIMAYZA+SBQxsxcwG/JIbzEH0do+ikm73yi9qW9HX0gRxnT99+7HQSxdzIEGAIMAYbAi4BAGTNzeRfcFMTk0xH0n3wv54d7u3pO9AKl5/50uwhi72UIMAQYAgyBFwGBMmbmApYmbsFddxS+9ssITWy3wpmA5YQfu7nCAQJehA+LtZEhwBBgCDAEtg6BMmbmWweStTcticp4XMEAAdZqY7kYAgwBhgBDgCFgFQHGzK0ipZdPeIRI2z4cCHyPzMII+mr2ojX0Qy5Otl4ZlsYQYAgwBBgCDIESI8CY+UYAFX7GvUuN2HvsFXgaj6Dr1piFaGAbeSEryxBgCDAEGAIMgXwEGDPPx4SlMAQYAgwBhgBDoKwQYMy8rLqLEcsQYAgwBBgCDIF8BBgzz8eEpTAEGAIMAYYAQ6CsEGDMvKy6ixHLEGAIMAQYAgyBfAQYM8/HhKUwBBgCDAGGAEOgrBBgzLysuosRyxBgCDAEGAIMgXwE/j+7ermEWhKXrwAAAABJRU5ErkJggg==)"
      ]
    },
    {
      "cell_type": "code",
      "metadata": {
        "colab": {
          "base_uri": "https://localhost:8080/"
        },
        "id": "U885uJaekBiy",
        "outputId": "4654f801-d7fe-4ab7-be3a-9010ec9c803b"
      },
      "source": [
        "mat_t1_t2.shape[1]"
      ],
      "execution_count": null,
      "outputs": [
        {
          "output_type": "execute_result",
          "data": {
            "text/plain": [
              "11"
            ]
          },
          "metadata": {
            "tags": []
          },
          "execution_count": 87
        }
      ]
    },
    {
      "cell_type": "code",
      "metadata": {
        "id": "tPI68udGPu0i"
      },
      "source": [
        "def calculateMI(mat_t1_t2, arr_t1, arr_t2, lc_total):\n",
        "  mi = 0\n",
        "  outer_loop = mat_t1_t2.shape[0]\n",
        "  inner_loop = mat_t1_t2.shape[1]\n",
        "  for i in range(outer_loop):\n",
        "    for j in range(inner_loop):\n",
        "      left_part = (mat_t1_t2[i][j] / lc_total)\n",
        "      if left_part != 0 and arr_t1[i][0] != 0 and arr_t2[0][j] != 0:\n",
        "        right_part = np.log((lc_total*mat_t1_t2[i][j])/(arr_t1[i][0]*arr_t2[0][j]))\n",
        "      else: \n",
        "        right_part = 0\n",
        "      mi += left_part * right_part\n",
        "  return mi"
      ],
      "execution_count": null,
      "outputs": []
    },
    {
      "cell_type": "code",
      "metadata": {
        "colab": {
          "base_uri": "https://localhost:8080/"
        },
        "id": "F1Za-RDbxVZe",
        "outputId": "c7cb98a4-22e4-46b5-aeb3-a1005768e1f6"
      },
      "source": [
        "mat_t1_t2"
      ],
      "execution_count": null,
      "outputs": [
        {
          "output_type": "execute_result",
          "data": {
            "text/plain": [
              "array([[496, 192,   0,  90,  74,   0,   9,  64,   4,   0,  14],\n",
              "       [ 57,   2,   0,   0,   8,   0,   0,   0,   0,   0,   0],\n",
              "       [135,  28,   0,   8,  12,   0,   7,  11,   0,   0,   0],\n",
              "       [ 38,  28,   0,  12, 287,   0,   0,   6,   0,   0,   4],\n",
              "       [ 26,  14,   0,   0,  18,   0,   0,   2,   0,   0,   2],\n",
              "       [ 22,   2,   0,   2,   0,   0,   0,   0,   0,   0,   0],\n",
              "       [ 22,   0,   0,   0,   0,   0,   0,   0,   5,   0,   0],\n",
              "       [ 30,   6,   0,   4,   6,   0,   0,   2,   0,   0,   2]])"
            ]
          },
          "metadata": {
            "tags": []
          },
          "execution_count": 89
        }
      ]
    },
    {
      "cell_type": "code",
      "metadata": {
        "id": "UGuN4TFcE5d1"
      },
      "source": [
        "gain_prior = calculateMI(mat_t1_t2, arr_t1, arr_t2, lc_total)"
      ],
      "execution_count": null,
      "outputs": []
    },
    {
      "cell_type": "code",
      "metadata": {
        "id": "fc4zBCHT6Yr2"
      },
      "source": [
        "# matrix_t1_t2 = np.array([[14, 2, 0],[0, 1, 14]])\n",
        "# matrix_t1_t2 = np.array([[14, 0, 0],[0, 0, 14]])\n",
        "# array_t1 = np.array([[22], [27]])\n",
        "# array_t2 = np.array([[14, 12, 19]])\n",
        "# lc_tot = 58\n",
        "# calculateMI(matrix_t1_t2, array_t1, array_t2, lc_tot)"
      ],
      "execution_count": null,
      "outputs": []
    },
    {
      "cell_type": "markdown",
      "metadata": {
        "id": "kki7szJ1Sdfo"
      },
      "source": [
        "# Heuristic Algorithm to Purify <Mat (t-1, t)> \n",
        "\n",
        "Input: <Mat (t-1, t)>, <Arr(t-1)>, <Arr(t)>, LC_total\n",
        "\n",
        "Output: Purified form of <Mat (t-1, t)>"
      ]
    },
    {
      "cell_type": "code",
      "metadata": {
        "id": "WX_g9zGuA6j8"
      },
      "source": [
        "def unitMI(mat_t1_t2, i, j):\n",
        "  left_part = (mat_t1_t2[i][j] / lc_total)\n",
        "  if left_part != 0 and arr_t1[i][0] != 0 and arr_t2[0][j] != 0:\n",
        "    right_part = np.log((lc_total*mat_t1_t2[i][j])/(arr_t1[i][0]*arr_t2[0][j]))\n",
        "  else: \n",
        "    right_part = 0\n",
        "  gain = left_part * right_part\n",
        "  return gain"
      ],
      "execution_count": null,
      "outputs": []
    },
    {
      "cell_type": "code",
      "metadata": {
        "id": "Yu6HxodlTmc2"
      },
      "source": [
        "#prepare UnitMI Matrix\n",
        "unitMI_mat = np.zeros((mat_t1_t2.shape[0], mat_t1_t2.shape[1]))\n",
        "for i in range(mat_t1_t2.shape[0]):\n",
        "  for j in range(mat_t1_t2.shape[1]):\n",
        "    unitMI_mat[i][j] = \"{:.2f}\".format(unitMI(mat_t1_t2, i, j))"
      ],
      "execution_count": null,
      "outputs": []
    },
    {
      "cell_type": "markdown",
      "metadata": {
        "id": "SuKRVPJ9XYCv"
      },
      "source": [
        "**Max Heap**"
      ]
    },
    {
      "cell_type": "code",
      "metadata": {
        "id": "xM669-QBU0wG"
      },
      "source": [
        "from heapq import heappop, heappush, heapify \n",
        "  \n",
        "# Creating empty heap \n",
        "heap = [] \n",
        "heapify(heap) \n",
        "  \n",
        "# Adding items to the heap using heappush \n",
        "# function by multiplying them with -1 \n",
        "# push unitMI matrix into\n",
        "for i in range(unitMI_mat.shape[0]):\n",
        "  for j in range(unitMI_mat.shape[1]):\n",
        "    heappush(heap, -1 *unitMI_mat[i][j])"
      ],
      "execution_count": null,
      "outputs": []
    },
    {
      "cell_type": "code",
      "metadata": {
        "id": "s0E6RCGDXbXv",
        "colab": {
          "base_uri": "https://localhost:8080/"
        },
        "outputId": "b6109f6e-9159-40e0-d1ce-fc943aff9992"
      },
      "source": [
        "while heap != []:\n",
        "  element = heappop(heap)\n",
        "  element = element * -1\n",
        "  indices = np.argwhere(unitMI_mat == element)\n",
        "  p,q = indices[0]\n",
        "  print(element)\n",
        "  print(p, q)\n",
        "  print(\"=====\")\n",
        "  # calculate delta_mi\n",
        "  first_sum = 0\n",
        "  second_sum = 0\n",
        "  for k in range(unitMI_mat.shape[0]):\n",
        "    first_sum += unitMI_mat[k][q]\n",
        "  \n",
        "  for k in range(unitMI_mat.shape[1]):\n",
        "    second_sum += unitMI_mat[p][k]\n",
        "  \n",
        "  delta_mi = -first_sum - second_sum + 4*unitMI_mat[p][q]\n",
        "\n",
        "  if delta_mi > 0:       \n",
        "\t\t# Delete all (UnitMI [i] [q], i, q) from Hmax\n",
        "    for k in range(unitMI_mat.shape[0]):\n",
        "      ele = unitMI_mat[k][q]\n",
        "      ele = ele*-1\n",
        "      if ele in heap:\n",
        "        index = heap.index(ele)\n",
        "        heap[index] = heap[-1]\n",
        "        heap.pop()\n",
        "        heapify(heap)\n",
        "\n",
        "    # Delete all (UnitMI [p] [j], p, j) from Hmax\n",
        "    for k in range(unitMI_mat.shape[1]):\n",
        "      ele = unitMI_mat[p][k]\n",
        "      ele = ele*-1\n",
        "      if ele in heap:\n",
        "        index = heap.index(ele)\n",
        "        heap[index] = heap[-1]\n",
        "        heap.pop()\n",
        "        heapify(heap)\n",
        "\n",
        "    # Set all <Mat(t-1, t)> [p] [j] and all <Mat(t-1, t)> [i] [q] as zero value except for <Mat(t-1, t)> [p][q]\n",
        "    for k in range(mat_t1_t2.shape[0]):\n",
        "      if k != p:\n",
        "        mat_t1_t2[k][q] = 0\n",
        "        unitMI_mat[k][q] = 0\n",
        "\n",
        "    for k in range(mat_t1_t2.shape[1]):\n",
        "      if k != q:\n",
        "        mat_t1_t2[p][k] = 0\n",
        "        unitMI_mat[p][k] = 0\n",
        "    print(mat_t1_t2)\n",
        "    print(\"===============\")\n",
        "    print(\"                \")\n",
        "  else:\n",
        "    break\n"
      ],
      "execution_count": null,
      "outputs": [
        {
          "output_type": "stream",
          "text": [
            "11.25\n",
            "3 4\n",
            "=====\n",
            "[[496 192   0  90   0   0   9  64   4   0  14]\n",
            " [ 57   2   0   0   0   0   0   0   0   0   0]\n",
            " [135  28   0   8   0   0   7  11   0   0   0]\n",
            " [  0   0   0   0 287   0   0   0   0   0   0]\n",
            " [ 26  14   0   0   0   0   0   2   0   0   2]\n",
            " [ 22   2   0   2   0   0   0   0   0   0   0]\n",
            " [ 22   0   0   0   0   0   0   0   5   0   0]\n",
            " [ 30   6   0   4   0   0   0   2   0   0   2]]\n",
            "===============\n",
            "                \n",
            "3.38\n",
            "0 0\n",
            "=====\n",
            "[[496   0   0   0   0   0   0   0   0   0   0]\n",
            " [  0   2   0   0   0   0   0   0   0   0   0]\n",
            " [  0  28   0   8   0   0   7  11   0   0   0]\n",
            " [  0   0   0   0 287   0   0   0   0   0   0]\n",
            " [  0  14   0   0   0   0   0   2   0   0   2]\n",
            " [  0   2   0   2   0   0   0   0   0   0   0]\n",
            " [  0   0   0   0   0   0   0   0   5   0   0]\n",
            " [  0   6   0   4   0   0   0   2   0   0   2]]\n",
            "===============\n",
            "                \n",
            "0.16\n",
            "2 1\n",
            "=====\n",
            "[[496   0   0   0   0   0   0   0   0   0   0]\n",
            " [  0   0   0   0   0   0   0   0   0   0   0]\n",
            " [  0  28   0   0   0   0   0   0   0   0   0]\n",
            " [  0   0   0   0 287   0   0   0   0   0   0]\n",
            " [  0   0   0   0   0   0   0   2   0   0   2]\n",
            " [  0   0   0   2   0   0   0   0   0   0   0]\n",
            " [  0   0   0   0   0   0   0   0   5   0   0]\n",
            " [  0   0   0   4   0   0   0   2   0   0   2]]\n",
            "===============\n",
            "                \n",
            "0.0\n",
            "0 1\n",
            "=====\n"
          ],
          "name": "stdout"
        }
      ]
    },
    {
      "cell_type": "markdown",
      "metadata": {
        "id": "xsmqDvtiLr9Z"
      },
      "source": [
        "#Store Mapping Result"
      ]
    },
    {
      "cell_type": "code",
      "metadata": {
        "id": "Uetz1D2qLqu1"
      },
      "source": [
        "# result = []\n",
        "# for i in range(mat_t1_t2.shape[0]):\n",
        "#   for j in range(mat_t1_t2.shape[1]):\n",
        "#     if mat_t1_t2[i][j] != 0:\n",
        "#       result.append([period_1, period_2, i, j])\n",
        "# result_df = pd.DataFrame(result, columns=['period_a', 'period_b', 'from_id', 'to_id'])\n",
        "# result_df.shape"
      ],
      "execution_count": null,
      "outputs": []
    },
    {
      "cell_type": "code",
      "metadata": {
        "id": "IBZJFpr4TbhC"
      },
      "source": [
        "# prev_result = pd.read_csv('/content/drive/MyDrive/Colab Notebooks/Particle Density Algo/results/mapping-results/mapping.csv')\n",
        "# full_result = pd.concat([prev_result, result_df], ignore_index=True)\n",
        "# full_result.shape"
      ],
      "execution_count": null,
      "outputs": []
    },
    {
      "cell_type": "code",
      "metadata": {
        "id": "4u6YG_uyTEff"
      },
      "source": [
        "# full_result.to_csv('/content/drive/MyDrive/Colab Notebooks/Particle Density Algo/results/mapping-results/mapping.csv', index=False)"
      ],
      "execution_count": null,
      "outputs": []
    },
    {
      "cell_type": "code",
      "metadata": {
        "id": "bW3m7_UowlgJ"
      },
      "source": [
        "gain_post = calculateMI(mat_t1_t2, arr_t1, arr_t2, lc_total)\n",
        "print(gain_prior)\n",
        "print(gain_post)"
      ],
      "execution_count": null,
      "outputs": []
    },
    {
      "cell_type": "markdown",
      "metadata": {
        "id": "gsAPb9tlXwrG"
      },
      "source": [
        "**Appending all clusters in one file**"
      ]
    },
    {
      "cell_type": "code",
      "metadata": {
        "id": "2z0-I-W8XwQF"
      },
      "source": [
        "# files_arr = ['JanMar2016', 'AprJun2016', 'JulSep2016', 'OktDes2016', 'JanMar2017', 'AprJun2017', 'JulSep2017', 'OctDec2017']\n",
        "# master_df = pd.DataFrame(columns=['Network_id', 'TimeLabel', 'Label', 'Density', 'Centrality', 'Cluster'])\n",
        "# for file_name in files_arr:\n",
        "#   file_name = '/content/drive/MyDrive/Colab Notebooks/Particle Density Algo/results/' + file_name + '.csv'\n",
        "#   tab_df = pd.read_csv(file_name)\n",
        "#   tab_df = tab_df[['Unnamed: 0', 'Time_Label', 'Label', 'Density', 'Centrality', 'Node_Internal']]\n",
        "#   tab_df.columns = ['Network_id', 'TimeLabel', 'Label', 'Density', 'Centrality', 'Cluster']\n",
        "#   master_df = pd.concat([master_df, tab_df])"
      ],
      "execution_count": null,
      "outputs": []
    },
    {
      "cell_type": "code",
      "metadata": {
        "id": "gVtfLvAgXwNV"
      },
      "source": [
        "# master_df.to_csv('/content/drive/MyDrive/Colab Notebooks/Particle Density Algo/results/mapping-results/clusters_details.csv', index=False)"
      ],
      "execution_count": null,
      "outputs": []
    },
    {
      "cell_type": "markdown",
      "metadata": {
        "id": "YHbmn6uvjemU"
      },
      "source": [
        "#Create Series of Mapped Clusters"
      ]
    },
    {
      "cell_type": "code",
      "metadata": {
        "id": "PeNOxVnSQ5WA"
      },
      "source": [
        "import pandas as pd"
      ],
      "execution_count": null,
      "outputs": []
    },
    {
      "cell_type": "code",
      "metadata": {
        "id": "nwMjiKGckNrW"
      },
      "source": [
        "mapped_list = [\n",
        "                [0,0,1,3,3,0,4,3],\n",
        "                [4,1,'?','?','?','?','?','?'],\n",
        "                [6,2,6,4,'?','?','?','?'],\n",
        "                [3,4,5,5,'?','?','?','?'],\n",
        "                [1,5,'?','?','?','?','?','?'],\n",
        "                [2,6,0,8,0,3,1,9],\n",
        "                ['?',3,4,6,'?','?','?','?'],\n",
        "                ['?','?',2,2,'?','?','?','?'],\n",
        "                ['?','?','?',1,2,2,7,11],\n",
        "                ['?','?','?','?',5,4,2,4],\n",
        "                ['?','?','?','?','?','?',0,0],\n",
        "                ['?','?','?','?','?','?',6,1]\n",
        "]\n",
        "cluster_series_df = pd.DataFrame(mapped_list, columns=['JanMar2016', 'AprJun2016', 'JulSep2016', 'OktDes2016', 'JanMar2017', 'AprJun2017', 'JulSep2017', 'OctDec2017'])\n",
        "cluster_series_df.to_csv('/content/drive/MyDrive/Colab Notebooks/Particle Density Algo/results/mapping-results/knowledge_graph_results/series/joint_ic_series.csv', index=False)"
      ],
      "execution_count": null,
      "outputs": []
    },
    {
      "cell_type": "code",
      "metadata": {
        "id": "SS3kDUlQmyq_"
      },
      "source": [
        "# Show Cluster Groupss\n",
        "num_series_df = pd.read_csv('/content/drive/MyDrive/Colab Notebooks/Particle Density Algo/results/mapping-results/3_rules_series.csv')\n",
        "cluster_detail_df = pd.read_csv('/content/drive/MyDrive/Colab Notebooks/Particle Density Algo/results/mapping-results/clusters_details.csv')\n",
        "\n",
        "# Creating a new df to merge number series and cluster structure df\n",
        "time_frames = ['JanMar2016', 'AprJun2016', 'JulSep2016', 'OktDes2016', 'JanMar2017', 'AprJun2017', 'JulSep2017', 'OctDec2017']\n",
        "result_list = []\n",
        "for index, rows in num_series_df.iterrows():\n",
        "  temp_list = []\n",
        "  for i in range(len(rows)):\n",
        "    cluster_id = rows[i]\n",
        "    time_frame_id = time_frames[i]\n",
        "    if cluster_id != '?':\n",
        "      #fetch cluster Structure\n",
        "      cluster_data = cluster_detail_df.query('Network_id == ' + str(cluster_id) + ' and TimeLabel == \"' + str(time_frame_id) + '\"', inplace=False)\n",
        "      cluster_structure = cluster_data[\"Cluster\"].tolist()[0]\n",
        "      cluster_cen = cluster_data[\"Centrality\"].tolist()[0]\n",
        "      cluster_den = cluster_data[\"Density\"].tolist()[0]\n",
        "      cluster_label = cluster_data[\"Label\"].tolist()[0]\n",
        "      cluster_info = str(cluster_structure) + \"|\" + str(cluster_cen) + \"|\" + str(cluster_den) + \"|\" + str(cluster_label)\n",
        "      temp_list.append(cluster_info)\n",
        "    else:\n",
        "      temp_list.append('?')\n",
        "  result_list.append(temp_list)\n",
        "  \n",
        "result_df = pd.DataFrame(result_list, columns=['JanMar2016', 'AprJun2016', 'JulSep2016', 'OktDes2016', 'JanMar2017', 'AprJun2017', 'JulSep2017', 'OctDec2017'])\n",
        "result_df.to_csv('/content/drive/MyDrive/Colab Notebooks/Particle Density Algo/results/mapping-results/3_rules_series_with_clusters.csv', index=False)"
      ],
      "execution_count": null,
      "outputs": []
    },
    {
      "cell_type": "code",
      "metadata": {
        "colab": {
          "base_uri": "https://localhost:8080/",
          "height": 299
        },
        "id": "5bXUvVN1Qg3k",
        "outputId": "00d00197-18d8-4f70-f0a0-8de89d36ba46"
      },
      "source": [
        "series_with_clusters = pd.read_csv('/content/drive/MyDrive/Colab Notebooks/Particle Density Algo/results/mapping-results/series_with_clusters.csv')\n",
        "series_with_clusters.head()"
      ],
      "execution_count": null,
      "outputs": [
        {
          "output_type": "execute_result",
          "data": {
            "text/html": [
              "<div>\n",
              "<style scoped>\n",
              "    .dataframe tbody tr th:only-of-type {\n",
              "        vertical-align: middle;\n",
              "    }\n",
              "\n",
              "    .dataframe tbody tr th {\n",
              "        vertical-align: top;\n",
              "    }\n",
              "\n",
              "    .dataframe thead th {\n",
              "        text-align: right;\n",
              "    }\n",
              "</style>\n",
              "<table border=\"1\" class=\"dataframe\">\n",
              "  <thead>\n",
              "    <tr style=\"text-align: right;\">\n",
              "      <th></th>\n",
              "      <th>JanMar2016</th>\n",
              "      <th>AprJun2016</th>\n",
              "      <th>JulSep2016</th>\n",
              "      <th>OktDes2016</th>\n",
              "      <th>JanMar2017</th>\n",
              "      <th>AprJun2017</th>\n",
              "      <th>JulSep2017</th>\n",
              "      <th>OctDec2017</th>\n",
              "    </tr>\n",
              "  </thead>\n",
              "  <tbody>\n",
              "    <tr>\n",
              "      <th>0</th>\n",
              "      <td>data-management#business-intelligence#software...</td>\n",
              "      <td>business-objects#business-intelligence#data-wa...</td>\n",
              "      <td>business-intelligence#data-warehouse#artificia...</td>\n",
              "      <td>business-intelligence#data-warehouse#machine-l...</td>\n",
              "      <td>big-data#architect#business-intelligence#data-...</td>\n",
              "      <td>?</td>\n",
              "      <td>?</td>\n",
              "      <td>?</td>\n",
              "    </tr>\n",
              "    <tr>\n",
              "      <th>1</th>\n",
              "      <td>angularjs#json#laravel#javascript#nginx#php#me...</td>\n",
              "      <td>lucene#sql#nosql#xml#complex-event-processing#...</td>\n",
              "      <td>lucene#multithreading#perl#xslt#continuous-del...</td>\n",
              "      <td>redis#xslt#angularjs#nosql#xml#mapreduce#json#...</td>\n",
              "      <td>html#user-interface#user-experience#|0.0|0.666...</td>\n",
              "      <td>user-experience#nosql#user-interface#hardware#...</td>\n",
              "      <td>cuda#hardware#opencl#|0.0|0.31|cuda</td>\n",
              "      <td>opengl#opencl#opencv#|0.0|0.25|opencl</td>\n",
              "    </tr>\n",
              "    <tr>\n",
              "      <th>2</th>\n",
              "      <td>.net#.net-framework#asp.net#|0.173205080756887...</td>\n",
              "      <td>.net#xamarin#.net-framework#refactoring#unit-t...</td>\n",
              "      <td>jira#websphere#git#version-control#|0.0|0.0525...</td>\n",
              "      <td>version-control#git#mercurial#|0.0|0.036666666...</td>\n",
              "      <td>.net#perl#nosql#groovy#.net-framework#selenium...</td>\n",
              "      <td>git#ansible#elasticsearch#monitoring#version-c...</td>\n",
              "      <td>nagios#monitoring#linux-kernel#nginx#lxc#|0.1|...</td>\n",
              "      <td>firewall#nagios#web-crawler#nginx#lxc#|0.0|0.1...</td>\n",
              "    </tr>\n",
              "    <tr>\n",
              "      <th>3</th>\n",
              "      <td>redis#mongodb#microservices#data-warehouse#pos...</td>\n",
              "      <td>linux#gnu#unix#embedded-linux#|0.0|0.116666666...</td>\n",
              "      <td>user-interface#user-experience#qnx#|0.0|0.04|u...</td>\n",
              "      <td>?</td>\n",
              "      <td>?</td>\n",
              "      <td>?</td>\n",
              "      <td>?</td>\n",
              "      <td>?</td>\n",
              "    </tr>\n",
              "    <tr>\n",
              "      <th>4</th>\n",
              "      <td>mapreduce#nosql#nagios#monitoring#pig#aerospik...</td>\n",
              "      <td>multithreading#angularjs#hardware#nagios#asp.n...</td>\n",
              "      <td>sql#database#oracle#relational-database#|0.0|0...</td>\n",
              "      <td>sql#database#oracle#relational-database#|0.0|0...</td>\n",
              "      <td>oracle#mysql#database#|0.31622776601683794|0.2...</td>\n",
              "      <td>mysql#angularjs#oracle#database#json#php#xml#s...</td>\n",
              "      <td>html#javascript#html5#angularjs#|0.0|0.1250000...</td>\n",
              "      <td>html#struts#semantic-web#typescript#model-view...</td>\n",
              "    </tr>\n",
              "  </tbody>\n",
              "</table>\n",
              "</div>"
            ],
            "text/plain": [
              "                                          JanMar2016  ...                                         OctDec2017\n",
              "0  data-management#business-intelligence#software...  ...                                                  ?\n",
              "1  angularjs#json#laravel#javascript#nginx#php#me...  ...              opengl#opencl#opencv#|0.0|0.25|opencl\n",
              "2  .net#.net-framework#asp.net#|0.173205080756887...  ...  firewall#nagios#web-crawler#nginx#lxc#|0.0|0.1...\n",
              "3  redis#mongodb#microservices#data-warehouse#pos...  ...                                                  ?\n",
              "4  mapreduce#nosql#nagios#monitoring#pig#aerospik...  ...  html#struts#semantic-web#typescript#model-view...\n",
              "\n",
              "[5 rows x 8 columns]"
            ]
          },
          "metadata": {
            "tags": []
          },
          "execution_count": 22
        }
      ]
    },
    {
      "cell_type": "code",
      "metadata": {
        "id": "OTEzfsqGXwJL"
      },
      "source": [
        "# # ['JanMar2016', 'AprJun2016', 'JulSep2016', 'OktDes2016', 'JanMar2017', 'AprJun2017', 'JulSep2017', 'OctDec2017']\n",
        "# cluster_map_df = pd.read_csv('/content/drive/MyDrive/Colab Notebooks/Particle Density Algo/results/mapping-results/mapping.csv')\n",
        "# period_list = ['JanMar2016', 'AprJun2016', 'JulSep2016', 'OktDes2016', 'JanMar2017', 'AprJun2017', 'JulSep2017', 'OctDec2017']\n",
        "# cluster_series_df = pd.DataFrame(columns=['JanMar2016', 'AprJun2016', 'JulSep2016', 'OktDes2016', 'JanMar2017', 'AprJun2017', 'JulSep2017', 'OctDec2017'])\n",
        "# for index, rows in cluster_map_df.iterrows():\n",
        "#   # check if a particular row needs to be processed or is it already processed in another series\n",
        "#   check_row = cluster_series_df.query(rows[\"period_a\"] + ' == ' + str(rows[\"from_id\"]) + ' and ' + rows[\"period_b\"] + ' == ' + str(rows[\"to_id\"]), inplace=False).shape[0]\n",
        "#   if check_row == 0:\n",
        "#     new_row = {'JanMar2016':'-', 'AprJun2016':'-', 'JulSep2016':'-', 'OktDes2016':'-', 'JanMar2017':'-', 'AprJun2017':'-', 'JulSep2017':'-', 'OctDec2017':'-'}\n",
        "#     temp_period_list = period_list.copy()\n",
        "#     # added first mapping \n",
        "#     new_row[rows[\"period_a\"]] = rows['from_id']\n",
        "#     new_row[rows[\"period_b\"]] = rows['to_id']\n",
        "#     # removed processed element from the list\n",
        "#     temp_period_list.remove(rows[\"period_a\"])\n",
        "#     temp_period_list.remove(rows[\"period_b\"])\n",
        "#     from_id = str(rows['to_id'])\n",
        "#     period_a = rows[\"period_b\"]\n",
        "#     period_b = temp_period_list[0]\n",
        "\n",
        "#     while temp_period_list:\n",
        "#       r = cluster_map_df.query('period_a == \"' + str(period_a) + '\" and period_b ==\"' + str(period_b) + '\" and from_id ==' + str(from_id) + '', inplace = False)\n",
        "#       if r.shape[0] == 1:\n",
        "#         new_row[period_b] = r['to_id'].tolist()[0]\n",
        "#         from_id = r['to_id'].tolist()[0]\n",
        "#         period_a = period_b\n",
        "#         temp_period_list.remove(period_a)\n",
        "#         if temp_period_list:\n",
        "#           period_b = temp_period_list[0]\n",
        "#         else:\n",
        "#           break;\n",
        "#       else:\n",
        "#         break;\n",
        "#     cluster_series_df = cluster_series_df.append(new_row, ignore_index=True)\n",
        "# # new_row = {'name':'Geo', 'physics':87, 'chemistry':92, 'algebra':97}\n",
        "# # df_marks = df_marks.append(new_row, ignore_index=True)"
      ],
      "execution_count": null,
      "outputs": []
    },
    {
      "cell_type": "code",
      "metadata": {
        "id": "kva1vcHitHUp"
      },
      "source": [
        "# cluster_series_df.to_csv('/content/drive/MyDrive/Colab Notebooks/Particle Density Algo/results/mapping-results/series.csv', index=False)"
      ],
      "execution_count": null,
      "outputs": []
    },
    {
      "cell_type": "markdown",
      "metadata": {
        "id": "HuyiXqyoIGkp"
      },
      "source": [
        "#Map Knowledge Graph Results"
      ]
    },
    {
      "cell_type": "code",
      "metadata": {
        "id": "KMkuYG71IKO2"
      },
      "source": [
        "import pandas as pd\n",
        "import numpy as np"
      ],
      "execution_count": null,
      "outputs": []
    },
    {
      "cell_type": "code",
      "metadata": {
        "id": "CCXGmYrgIbmi"
      },
      "source": [
        "# files_path = \"/content/drive/MyDrive/Colab Notebooks/Particle Density Algo/results/mapping-results/knowledge_graph_results/raw/\"\n",
        "# file_name = \"Q1_Q2_2016.txt\""
      ],
      "execution_count": null,
      "outputs": []
    },
    {
      "cell_type": "code",
      "metadata": {
        "id": "uouuEvrrZxu3"
      },
      "source": [
        "def transformLineToList(line, cost_scheme):\n",
        "  line = line.strip()\n",
        "  temp_list = []\n",
        "  if line.startswith(cost_scheme):\n",
        "    line = line.replace(cost_scheme + ' [', '').replace(']', '')\n",
        "    line_arr = line.split(',')\n",
        "    for item in line_arr:\n",
        "      item = item.strip()\n",
        "      temp_list.append(float(\"{:.2f}\".format(float(item))))\n",
        "  return temp_list"
      ],
      "execution_count": null,
      "outputs": []
    },
    {
      "cell_type": "code",
      "metadata": {
        "id": "Dru-Tc-US-eX"
      },
      "source": [
        "def filterMappedDF(df):\n",
        "  frames = []\n",
        "  to_ids = list(set(df[\"to_id\"].tolist()))\n",
        "  for id in to_ids:\n",
        "    min_weight_df = df.query(\"to_id == \" + str(id))\n",
        "    min_weight_rows = min_weight_df[min_weight_df.weight == min_weight_df.weight.min()]\n",
        "    frames.append(min_weight_rows)\n",
        "  result = pd.concat(frames)\n",
        "  return result"
      ],
      "execution_count": null,
      "outputs": []
    },
    {
      "cell_type": "code",
      "metadata": {
        "id": "YqIK0xHTTiGr"
      },
      "source": [
        "def matrixToDf(matrix, t1, t2):\n",
        "  full_result = []\n",
        "  for i in range (0, len(matrix)):\n",
        "    a = matrix[i]\n",
        "    to_index = a.index(min(a))\n",
        "    weight =  min(a)\n",
        "    temp_l = [t1, t2, i, to_index, weight]\n",
        "    full_result.append(temp_l)\n",
        "\n",
        "  df = pd.DataFrame(full_result, columns=['period_a',\t'period_b',\t'from_id',\t'to_id', 'weight'])\n",
        "  df = filterMappedDF(df)\n",
        "  return df"
      ],
      "execution_count": null,
      "outputs": []
    },
    {
      "cell_type": "code",
      "metadata": {
        "id": "CBZgl63bIN45"
      },
      "source": [
        "def convertFileToDF(file_name, t1, t2):\n",
        "  files_path = \"/content/drive/MyDrive/Colab Notebooks/Particle Density Algo/results/mapping-results/knowledge_graph_results/raw/\"\n",
        "  f = open(files_path+file_name, \"r\")\n",
        "  joint_ic_matrix = []\n",
        "  ic_pmi_matrix = []\n",
        "  comb_ic_matrix = []\n",
        "  for line in f:\n",
        "    line = line.strip()\n",
        "    temp_list = []\n",
        "    if line.startswith('JointIC'):\n",
        "      temp_list = transformLineToList(line, 'JointIC')\n",
        "      joint_ic_matrix.append(temp_list)\n",
        "    elif line.startswith('IC PMI'):\n",
        "      temp_list = transformLineToList(line, 'IC PMI')\n",
        "      ic_pmi_matrix.append(temp_list)\n",
        "    elif line.startswith('CombIC'):\n",
        "      temp_list = transformLineToList(line, 'CombIC')\n",
        "      comb_ic_matrix.append(temp_list)\n",
        "  \n",
        "  joint_ic_df = matrixToDf(joint_ic_matrix, t1, t2)\n",
        "  ic_pmi_df = matrixToDf(ic_pmi_matrix, t1, t2)\n",
        "  comb_ic_df = matrixToDf(comb_ic_matrix, t1, t2)\n",
        "  return joint_ic_df, ic_pmi_df, comb_ic_df\n",
        "  # return joint_ic_matrix, ic_pmi_matrix, comb_ic_matrix"
      ],
      "execution_count": null,
      "outputs": []
    },
    {
      "cell_type": "code",
      "metadata": {
        "colab": {
          "base_uri": "https://localhost:8080/"
        },
        "id": "56V_KeibVeZx",
        "outputId": "e14c43ec-26e4-4a36-fd68-2e38dd2451ff"
      },
      "source": [
        "from os import listdir\n",
        "from os.path import isfile, join\n",
        "files_path = \"/content/drive/MyDrive/Colab Notebooks/Particle Density Algo/results/mapping-results/knowledge_graph_results/raw/\"\n",
        "all_files = [f for f in listdir(files_path) if isfile(join(files_path, f))]"
      ],
      "execution_count": null,
      "outputs": [
        {
          "output_type": "execute_result",
          "data": {
            "text/plain": [
              "['Q1_Q2_2017.txt',\n",
              " 'Q2_Q3_2017.txt',\n",
              " 'Q1_Q2_2016.txt',\n",
              " 'Q2_Q3_2016.txt',\n",
              " 'Q3_Q4_2016.txt',\n",
              " 'Q42016_Q1_2017.txt',\n",
              " 'Q3_Q4_2017.txt']"
            ]
          },
          "metadata": {
            "tags": []
          },
          "execution_count": 65
        }
      ]
    },
    {
      "cell_type": "code",
      "metadata": {
        "id": "jWKiDT7nIsvq"
      },
      "source": [
        "joint_ic_df1, ic_pmi_df1, comb_ic_df1 = convertFileToDF('Q1_Q2_2016.txt', \"JanMar2016\", \"AprJun2016\")\n",
        "joint_ic_df2, ic_pmi_df2, comb_ic_df2 = convertFileToDF('Q2_Q3_2016.txt', \"AprJun2016\", \"JulSep2016\")\n",
        "joint_ic_df3, ic_pmi_df3, comb_ic_df3 = convertFileToDF('Q3_Q4_2016.txt', \"JulSep2016\", \"OktDes2016\")\n",
        "joint_ic_df4, ic_pmi_df4, comb_ic_df4 = convertFileToDF('Q42016_Q1_2017.txt', \"OktDes2016\", \"JanMar2017\")\n",
        "joint_ic_df5, ic_pmi_df5, comb_ic_df5 = convertFileToDF('Q1_Q2_2017.txt', \"JanMar2017\", \"AprJun2017\")\n",
        "joint_ic_df6, ic_pmi_df6, comb_ic_df6 = convertFileToDF('Q2_Q3_2017.txt', \"AprJun2017\", \"JulSep2017\")\n",
        "joint_ic_df7, ic_pmi_df7, comb_ic_df7 = convertFileToDF('Q3_Q4_2017.txt', \"JulSep2017\", \"OctDec2017\")"
      ],
      "execution_count": null,
      "outputs": []
    },
    {
      "cell_type": "code",
      "metadata": {
        "id": "mADATJ9OUepY"
      },
      "source": [
        "joint_ic_frames = [joint_ic_df1, joint_ic_df2, joint_ic_df3, joint_ic_df4, joint_ic_df5, joint_ic_df6, joint_ic_df7]\n",
        "joint_ic_df = pd.concat(joint_ic_frames)\n",
        "\n",
        "ic_pmi_frames = [ic_pmi_df1, ic_pmi_df2, ic_pmi_df3, ic_pmi_df4, ic_pmi_df5, ic_pmi_df6, ic_pmi_df7]\n",
        "ic_pmi_df = pd.concat(ic_pmi_frames)\n",
        "\n",
        "comb_ic_frames = [comb_ic_df1, comb_ic_df2, comb_ic_df3, comb_ic_df4, comb_ic_df5, comb_ic_df6, comb_ic_df7]\n",
        "comb_ic_df = pd.concat(comb_ic_frames)"
      ],
      "execution_count": null,
      "outputs": []
    },
    {
      "cell_type": "code",
      "metadata": {
        "id": "8hU1I4ajRaVq"
      },
      "source": [
        "joint_ic_df.to_csv(\"/content/drive/MyDrive/Colab Notebooks/Particle Density Algo/results/mapping-results/knowledge_graph_results/joint_ic_mapping.csv\", index=False)\n",
        "ic_pmi_df.to_csv(\"/content/drive/MyDrive/Colab Notebooks/Particle Density Algo/results/mapping-results/knowledge_graph_results/ic_pmi_mapping.csv\", index=False)\n",
        "comb_ic_df.to_csv(\"/content/drive/MyDrive/Colab Notebooks/Particle Density Algo/results/mapping-results/knowledge_graph_results/comb_ic_mapping.csv\", index=False)"
      ],
      "execution_count": null,
      "outputs": []
    },
    {
      "cell_type": "markdown",
      "metadata": {
        "id": "Y8mVwFin0B-I"
      },
      "source": [
        "#Time Series Prediction"
      ]
    },
    {
      "cell_type": "code",
      "metadata": {
        "id": "OPtTw4zf703V",
        "colab": {
          "base_uri": "https://localhost:8080/"
        },
        "outputId": "5826b5bd-09e4-4027-8db9-38d2730ea90e"
      },
      "source": [
        "import pandas as pd\n",
        "import statsmodels.api as sm\n",
        "import warnings\n",
        "warnings.filterwarnings(\"ignore\")"
      ],
      "execution_count": null,
      "outputs": [
        {
          "output_type": "stream",
          "text": [
            "/usr/local/lib/python3.7/dist-packages/statsmodels/tools/_testing.py:19: FutureWarning: pandas.util.testing is deprecated. Use the functions in the public API at pandas.testing instead.\n",
            "  import pandas.util.testing as tm\n"
          ],
          "name": "stderr"
        }
      ]
    },
    {
      "cell_type": "code",
      "metadata": {
        "id": "YVaLPmbM72w1"
      },
      "source": [
        "particle_series = pd.read_csv('/content/drive/MyDrive/Colab Notebooks/Particle Density Algo/results/mapping-results/3_rules_series_with_clusters.csv')\n",
        "# particle_series.head()"
      ],
      "execution_count": null,
      "outputs": []
    },
    {
      "cell_type": "markdown",
      "metadata": {
        "id": "qXltlZIJ4tQA"
      },
      "source": [
        "#### Evaluate Moving average Model"
      ]
    },
    {
      "cell_type": "code",
      "metadata": {
        "id": "K8tJ_60IBItd"
      },
      "source": [
        "import statistics\n",
        "def getQuadrantsList(cen_series, den_series):\n",
        "  quad_list = []\n",
        "  centrailty_median = statistics.median(cen_series)\n",
        "  density_median = statistics.median(den_series)\n",
        "\n",
        "  for i in range(0, len(cen_series)):\n",
        "    quadrant = getQuadrant(cen_series[i], den_series[i], centrailty_median, density_median)\n",
        "    quad_list.append(quadrant)\n",
        "  return quad_list\n",
        "\n",
        "def getQuadrant(cen, den, centrailty_median, density_median):\n",
        "  if den >= density_median and cen >= centrailty_median:\n",
        "      quadrant = 1\n",
        "  elif den <= density_median and cen >= centrailty_median:\n",
        "    quadrant = 2\n",
        "  elif den >= density_median and cen <= centrailty_median:\n",
        "    quadrant = 3\n",
        "  elif den <= density_median and cen <= centrailty_median:\n",
        "    quadrant = 4\n",
        "  else:\n",
        "    quadrant = 1\n",
        "  return quadrant"
      ],
      "execution_count": null,
      "outputs": []
    },
    {
      "cell_type": "code",
      "metadata": {
        "id": "-DTVkghO5U1m"
      },
      "source": [
        "def evaluate_series(cen_series, den_series, smooth_lvl):\n",
        "  if len(cen_series) < 3:\n",
        "    return [], []\n",
        "  else:\n",
        "    cen_median = statistics.median(cen_series)\n",
        "    den_median = statistics.median(den_series)\n",
        "    quad_list = getQuadrantsList(cen_series, den_series)\n",
        "    quad_yhat_list = []\n",
        "\n",
        "    cen_yhat, den_yhat = moving_average_prediction(cen_series, den_series, 2)\n",
        "    # cen_yhat, den_yhat = SES_prediction(cen_series, den_series, smooth_lvl)\n",
        "    # cen_yhat, den_yhat =  holt_prediction(cen_series, den_series)\n",
        "    for i in range(0, len(cen_yhat)):\n",
        "      quad_yhat_temp = getQuadrant(cen_yhat[i], den_yhat[i], cen_median, den_median)\n",
        "      quad_yhat_list.append(quad_yhat_temp)\n",
        "    quad_list = quad_list[2:]\n",
        "\n",
        "    # j = 3\n",
        "    # while True:\n",
        "    #   temp_cen_srs = cen_series[:j]\n",
        "    #   temp_den_srs = den_series[:j]\n",
        "      \n",
        "    #   cen_yhat, den_yhat = moving_average_prediction(temp_cen_srs, temp_den_srs, 2)\n",
        "    #   # cen_yhat, den_yhat = predict_Centrality_Density(temp_cen_srs, temp_den_srs)\n",
        "    #   quad_yhat = getQuadrant(cen_yhat, den_yhat, cen_median, den_median)\n",
        "    #   quad_yhat_list.append(quad_yhat)\n",
        "    #   j = j + 1\n",
        "    #   if j == len(cen_series):\n",
        "    #     break;\n",
        "    # quad_list = quad_list[3:]\n",
        "    return quad_list, quad_yhat_list"
      ],
      "execution_count": null,
      "outputs": []
    },
    {
      "cell_type": "code",
      "metadata": {
        "colab": {
          "base_uri": "https://localhost:8080/",
          "height": 339
        },
        "id": "nYol1976cfyZ",
        "outputId": "12167dc9-88e5-46d0-b023-ec095f0ac585"
      },
      "source": [
        "cen_srs = [0.0, 0.0, 0.0, 0.0, 0.31622776601683794, 0.2645751311064591, 0.0, 0.0] \n",
        "den_srs = [0.5, 0.06876288659793811, 0.03833333333333334, 0.043333333333333335, 0.22, 0.1486206896551724, 0.12500000000000006, 0.0491304347826087]\n",
        "evaluate_series(cen_srs, den_srs, 0.5)"
      ],
      "execution_count": null,
      "outputs": [
        {
          "output_type": "error",
          "ename": "NameError",
          "evalue": "ignored",
          "traceback": [
            "\u001b[0;31m---------------------------------------------------------------------------\u001b[0m",
            "\u001b[0;31mNameError\u001b[0m                                 Traceback (most recent call last)",
            "\u001b[0;32m<ipython-input-5-d19d9911b795>\u001b[0m in \u001b[0;36m<module>\u001b[0;34m()\u001b[0m\n\u001b[1;32m      1\u001b[0m \u001b[0mcen_srs\u001b[0m \u001b[0;34m=\u001b[0m \u001b[0;34m[\u001b[0m\u001b[0;36m0.0\u001b[0m\u001b[0;34m,\u001b[0m \u001b[0;36m0.0\u001b[0m\u001b[0;34m,\u001b[0m \u001b[0;36m0.0\u001b[0m\u001b[0;34m,\u001b[0m \u001b[0;36m0.0\u001b[0m\u001b[0;34m,\u001b[0m \u001b[0;36m0.31622776601683794\u001b[0m\u001b[0;34m,\u001b[0m \u001b[0;36m0.2645751311064591\u001b[0m\u001b[0;34m,\u001b[0m \u001b[0;36m0.0\u001b[0m\u001b[0;34m,\u001b[0m \u001b[0;36m0.0\u001b[0m\u001b[0;34m]\u001b[0m\u001b[0;34m\u001b[0m\u001b[0;34m\u001b[0m\u001b[0m\n\u001b[1;32m      2\u001b[0m \u001b[0mden_srs\u001b[0m \u001b[0;34m=\u001b[0m \u001b[0;34m[\u001b[0m\u001b[0;36m0.5\u001b[0m\u001b[0;34m,\u001b[0m \u001b[0;36m0.06876288659793811\u001b[0m\u001b[0;34m,\u001b[0m \u001b[0;36m0.03833333333333334\u001b[0m\u001b[0;34m,\u001b[0m \u001b[0;36m0.043333333333333335\u001b[0m\u001b[0;34m,\u001b[0m \u001b[0;36m0.22\u001b[0m\u001b[0;34m,\u001b[0m \u001b[0;36m0.1486206896551724\u001b[0m\u001b[0;34m,\u001b[0m \u001b[0;36m0.12500000000000006\u001b[0m\u001b[0;34m,\u001b[0m \u001b[0;36m0.0491304347826087\u001b[0m\u001b[0;34m]\u001b[0m\u001b[0;34m\u001b[0m\u001b[0;34m\u001b[0m\u001b[0m\n\u001b[0;32m----> 3\u001b[0;31m \u001b[0mevaluate_series\u001b[0m\u001b[0;34m(\u001b[0m\u001b[0mcen_srs\u001b[0m\u001b[0;34m,\u001b[0m \u001b[0mden_srs\u001b[0m\u001b[0;34m,\u001b[0m \u001b[0;36m0.5\u001b[0m\u001b[0;34m)\u001b[0m\u001b[0;34m\u001b[0m\u001b[0;34m\u001b[0m\u001b[0m\n\u001b[0m",
            "\u001b[0;32m<ipython-input-4-981346797ec5>\u001b[0m in \u001b[0;36mevaluate_series\u001b[0;34m(cen_series, den_series, smooth_lvl)\u001b[0m\n\u001b[1;32m      8\u001b[0m     \u001b[0mquad_yhat_list\u001b[0m \u001b[0;34m=\u001b[0m \u001b[0;34m[\u001b[0m\u001b[0;34m]\u001b[0m\u001b[0;34m\u001b[0m\u001b[0;34m\u001b[0m\u001b[0m\n\u001b[1;32m      9\u001b[0m \u001b[0;34m\u001b[0m\u001b[0m\n\u001b[0;32m---> 10\u001b[0;31m     \u001b[0mcen_yhat\u001b[0m\u001b[0;34m,\u001b[0m \u001b[0mden_yhat\u001b[0m \u001b[0;34m=\u001b[0m \u001b[0mmoving_average_prediction\u001b[0m\u001b[0;34m(\u001b[0m\u001b[0mcen_series\u001b[0m\u001b[0;34m,\u001b[0m \u001b[0mden_series\u001b[0m\u001b[0;34m,\u001b[0m \u001b[0;36m2\u001b[0m\u001b[0;34m)\u001b[0m\u001b[0;34m\u001b[0m\u001b[0;34m\u001b[0m\u001b[0m\n\u001b[0m\u001b[1;32m     11\u001b[0m     \u001b[0;31m# cen_yhat, den_yhat = SES_prediction(cen_series, den_series, smooth_lvl)\u001b[0m\u001b[0;34m\u001b[0m\u001b[0;34m\u001b[0m\u001b[0;34m\u001b[0m\u001b[0m\n\u001b[1;32m     12\u001b[0m     \u001b[0;31m# cen_yhat, den_yhat =  holt_prediction(cen_series, den_series)\u001b[0m\u001b[0;34m\u001b[0m\u001b[0;34m\u001b[0m\u001b[0;34m\u001b[0m\u001b[0m\n",
            "\u001b[0;31mNameError\u001b[0m: name 'moving_average_prediction' is not defined"
          ]
        }
      ]
    },
    {
      "cell_type": "markdown",
      "metadata": {
        "id": "cVOwjLdM4EMP"
      },
      "source": [
        "Moving Average result\n",
        "\n",
        "\n",
        "([2, 1, 1, 1, 2], [1, 1, 1, 1, 1])\n",
        "\n",
        "([2, 1, 1, 2, 2], [1, 2, 1, 1, 1])\n",
        "\n",
        "([2, 1], [1, 2])\n",
        "\n",
        "([4, 1, 1, 2, 4], [3, 3, 3, 1, 1])\n",
        "\n",
        "([2, 1, 2, 1, 2], [1, 2, 2, 1, 1])\n",
        "\n",
        "([1, 1, 4], [1, 1, 1])\n",
        "\n",
        "([1, 1, 4], [2, 1, 1])\n",
        "\n",
        "([4], [1])\n",
        "\n",
        "[2, 1, 1, 1, 2, 2, 1, 1, 2, 2, 2, 1, 4, 1, 1, 2, 4, 2, 1, 2, 1, 2, 1, 1, 4, 1, 1, 4, 4]\n",
        "\n",
        "\n",
        "[1, 1, 1, 1, 1, 1, 2, 1, 1, 1, 1, 2, 3, 3, 3, 1, 1, 1, 2, 2, 1, 1, 1, 1, 1, 2, 1, 1, 1]"
      ]
    },
    {
      "cell_type": "code",
      "metadata": {
        "id": "yGC0_cpbNXBx"
      },
      "source": [
        "import numpy as np\n",
        "\n",
        "def moving_average_prediction(cen_series, den_series, window):\n",
        "  cen_df = pd.DataFrame(cen_series, columns=['cen'])\n",
        "  cen_rolling_series = cen_df.rolling(window=window)\n",
        "  cen_rolling_mean = cen_rolling_series.mean()\n",
        "  cen_yhat = cen_rolling_mean[2:]['cen'].tolist()\n",
        "  \n",
        "  den_df = pd.DataFrame(den_series, columns=['den'])\n",
        "  den_rolling_series = den_df.rolling(window=window)\n",
        "  den_rolling_mean = den_rolling_series.mean()\n",
        "  den_yhat = den_rolling_mean[2:]['den'].tolist()\n",
        "  return cen_yhat, den_yhat"
      ],
      "execution_count": null,
      "outputs": []
    },
    {
      "cell_type": "code",
      "metadata": {
        "id": "2dgfwT28IOSN"
      },
      "source": [
        "from statsmodels.tsa.api import ExponentialSmoothing, Holt, SimpleExpSmoothing\n",
        "\n",
        "def SES_prediction(cen_series, den_series, smoothing_lvl):\n",
        "  cen_df = pd.DataFrame(cen_series, columns=['cen'])\n",
        "  cen_fit = SimpleExpSmoothing(cen_df).fit(smoothing_level = smoothing_lvl, optimized=False)\n",
        "  cen_yhat = cen_fit.fittedvalues.tolist()\n",
        "  cen_yhat = cen_yhat[2:]\n",
        "\n",
        "  den_df = pd.DataFrame(den_series, columns=['den'])\n",
        "  den_fit = SimpleExpSmoothing(den_df).fit(smoothing_level = smoothing_lvl, optimized=False)\n",
        "  den_yhat = den_fit.fittedvalues.tolist()\n",
        "  den_yhat = den_yhat[2:]\n",
        "  return cen_yhat, den_yhat\n",
        "\n",
        "def holt_prediction(cen_series, den_series):\n",
        "  cen_df = pd.DataFrame(cen_series, columns=['cen'])\n",
        "  cen_fit = Holt(cen_df, exponential=False).fit()\n",
        "  cen_yhat = cen_fit.fittedvalues.tolist()\n",
        "  cen_yhat = cen_yhat[2:]\n",
        "\n",
        "  den_df = pd.DataFrame(den_series, columns=['den'])\n",
        "  den_fit = Holt(den_df, exponential=False).fit()\n",
        "  den_yhat = den_fit.fittedvalues.tolist()\n",
        "  den_yhat = den_yhat[2:]\n",
        "  return cen_yhat, den_yhat"
      ],
      "execution_count": null,
      "outputs": []
    },
    {
      "cell_type": "code",
      "metadata": {
        "id": "ib_kAvvf_5gk"
      },
      "source": [
        "# def predict_Centrality_Density(centrality_series, density_series):\n",
        "#   # fit model for Centrality\n",
        "#   cen_model = sm.tsa.ARIMA(centrality_series, order=(0, 0, 1)) # MA\n",
        "#   cen_model_fit = cen_model.fit()\n",
        "#   # make prediction for Centrality\n",
        "#   cen_yhat = cen_model_fit.predict(len(centrality_series), len(centrality_series)) #ARMA and MA\n",
        "\n",
        "#   # fit model for density\n",
        "#   den_model = sm.tsa.ARIMA(density_series, order=(0, 0, 1))\n",
        "#   den_model_fit = den_model.fit()\n",
        "#   # make prediction for density\n",
        "#   den_yhat = den_model_fit.predict(len(density_series), len(density_series))\n",
        "#   return cen_yhat, den_yhat"
      ],
      "execution_count": null,
      "outputs": []
    },
    {
      "cell_type": "code",
      "metadata": {
        "id": "oQAolCx9Emd2"
      },
      "source": [
        "# 3-rules\n",
        "# particle_series = pd.read_csv('/content/drive/MyDrive/Colab Notebooks/Particle Density Algo/results/mapping-results/3_rules_series_with_clusters.csv')\n",
        "\n",
        "# knowledge graph\n",
        "# particle_series = pd.read_csv('/content/drive/MyDrive/Colab Notebooks/Particle Density Algo/results/mapping-results/knowledge_graph_results/series/ic_pmi_series_with_clusters.csv')\n",
        "\n",
        "# particle density\n",
        "particle_series = pd.read_csv('/content/drive/MyDrive/Colab Notebooks/Particle Density Algo/results/mapping-results/series_with_clusters.csv')"
      ],
      "execution_count": null,
      "outputs": []
    },
    {
      "cell_type": "code",
      "metadata": {
        "id": "r4GSsAnj4svs",
        "colab": {
          "base_uri": "https://localhost:8080/"
        },
        "outputId": "80906b57-c930-4b2e-f271-aac940bb42db"
      },
      "source": [
        "y_quads = []\n",
        "y_pred_quads = []\n",
        "for index, rows in particle_series.iterrows():\n",
        "  centrality_series = []\n",
        "  density_series = []\n",
        "  label_series = []\n",
        "  for item in rows:\n",
        "    data = item\n",
        "    if data != '?':\n",
        "      data_arr = data.split('|')\n",
        "      centrality_series.append(float(data_arr[1]))\n",
        "      density_series.append(float(data_arr[2]))\n",
        "      label_series.append(data_arr[3])\n",
        "  # print(centrality_series, \", \", density_series)\n",
        "  # print(\"======\")\n",
        "  if len(centrality_series) > 7:\n",
        "    quad_list, quad_yhat_list = evaluate_series(centrality_series, density_series,0)\n",
        "    y_quads = y_quads + quad_list\n",
        "    y_pred_quads = y_pred_quads + quad_yhat_list\n",
        "    print(centrality_series)\n",
        "    print(density_series)\n",
        "    print(\"=========\")\n",
        "    # print(quad_list)\n",
        "  # print(quad_yhat_list)\n",
        "# print(y_quads)\n",
        "# print(y_pred_quads)"
      ],
      "execution_count": null,
      "outputs": [
        {
          "output_type": "stream",
          "text": [
            "[0.2, 0.0, 0.0, 0.0, 0.0, 0.2, 0.0, 0.0]\n",
            "[0.11525423728813562, 0.06876288659793811, 0.02103603603603601, 0.012948717948717957, 0.6666666666666666, 0.20777777777777776, 0.31, 0.25]\n",
            "=========\n",
            "[0.17320508075688773, 0.0, 0.0, 0.0, 0.26457513110645897, 0.1, 0.1, 0.0]\n",
            "[0.39333333333333337, 0.14181818181818184, 0.052500000000000005, 0.03666666666666667, 0.4015000000000001, 0.35000000000000003, 0.25875000000000004, 0.19333333333333336]\n",
            "=========\n",
            "[0.1, 0.0, 0.0, 0.0, 0.31622776601683794, 0.2645751311064591, 0.0, 0.0]\n",
            "[0.1177777777777778, 0.1077777777777778, 0.03833333333333334, 0.043333333333333335, 0.22, 0.1486206896551724, 0.12500000000000006, 0.0491304347826087]\n",
            "=========\n"
          ],
          "name": "stdout"
        }
      ]
    },
    {
      "cell_type": "markdown",
      "metadata": {
        "id": "f4QqcpD3cI1e"
      },
      "source": [
        "**Computing Score Matrix**"
      ]
    },
    {
      "cell_type": "code",
      "metadata": {
        "id": "Dq3wjCRJQq1h"
      },
      "source": [
        "quad_1 = []\n",
        "quad_1_hat = []\n",
        "quad_2 = []\n",
        "quad_2_hat = []\n",
        "quad_3 = []\n",
        "quad_3_hat = []\n",
        "quad_4 = []\n",
        "quad_4_hat = []"
      ],
      "execution_count": null,
      "outputs": []
    },
    {
      "cell_type": "code",
      "metadata": {
        "id": "tCnkFA0L_W_L"
      },
      "source": [
        "for i in range(0, len(y_quads)):\n",
        "  if y_quads[i] == 1:\n",
        "    quad_1.append(1)\n",
        "  else:\n",
        "    quad_1.append(0)\n",
        "  if y_pred_quads[i] == 1:\n",
        "    quad_1_hat.append(1)\n",
        "  else:\n",
        "    quad_1_hat.append(0)\n",
        "\n",
        "for i in range(0, len(y_quads)):\n",
        "  if y_quads[i] == 2:\n",
        "    quad_2.append(1)\n",
        "  else:\n",
        "    quad_2.append(0)\n",
        "  if y_pred_quads[i] == 2:\n",
        "    quad_2_hat.append(1)\n",
        "  else:\n",
        "    quad_2_hat.append(0)\n",
        "\n",
        "for i in range(0, len(y_quads)):\n",
        "  if y_quads[i] == 3:\n",
        "    quad_3.append(1)\n",
        "  else:\n",
        "    quad_3.append(0)\n",
        "  if y_pred_quads[i] == 3:\n",
        "    quad_3_hat.append(1)\n",
        "  else:\n",
        "    quad_3_hat.append(0)\n",
        "\n",
        "for i in range(0, len(y_quads)):\n",
        "  if y_quads[i] == 4:\n",
        "    quad_4.append(1)\n",
        "  else:\n",
        "    quad_4.append(0)\n",
        "  if y_pred_quads[i] == 4:\n",
        "    quad_4_hat.append(1)\n",
        "  else:\n",
        "    quad_4_hat.append(0)"
      ],
      "execution_count": null,
      "outputs": []
    },
    {
      "cell_type": "code",
      "metadata": {
        "colab": {
          "base_uri": "https://localhost:8080/"
        },
        "id": "yGsz0drPb7AI",
        "outputId": "8bb0cbd1-a74f-4ced-8e2c-fe845c87975c"
      },
      "source": [
        "from sklearn import metrics\n",
        "\n",
        "# # Print the precision and recall, among other metrics\n",
        "print(metrics.precision_score(quad_1, quad_1_hat, labels=[0,1]))\n",
        "print(metrics.recall_score(quad_1, quad_1_hat, labels=[0,1]))\n",
        "print(metrics.f1_score(quad_1, quad_1_hat, labels=[0,1]))\n",
        "print(\"=============\")\n",
        "\n",
        "print(metrics.precision_score(quad_2, quad_2_hat, labels=[0,1]))\n",
        "print(metrics.recall_score(quad_2, quad_2_hat, labels=[0,1]))\n",
        "print(metrics.f1_score(quad_2, quad_2_hat, labels=[0,1]))\n",
        "print(\"=============\")\n",
        "\n",
        "print(metrics.precision_score(quad_3, quad_3_hat, labels=[0,1]))\n",
        "print(metrics.recall_score(quad_3, quad_3_hat, labels=[0,1]))\n",
        "print(metrics.f1_score(quad_3, quad_3_hat, labels=[0,1]))\n",
        "print(\"=============\")\n",
        "\n",
        "print(metrics.precision_score(quad_4, quad_4_hat, labels=[0,1]))\n",
        "print(metrics.recall_score(quad_4, quad_4_hat, labels=[0,1]))\n",
        "print(metrics.f1_score(quad_4, quad_4_hat, labels=[0,1]))\n",
        "print(\"=============\")\n",
        "\n",
        "print(metrics.classification_report(y_quads, y_pred_quads))"
      ],
      "execution_count": null,
      "outputs": [
        {
          "output_type": "stream",
          "text": [
            "1.0\n",
            "0.9\n",
            "0.9473684210526316\n",
            "=============\n",
            "0.7142857142857143\n",
            "1.0\n",
            "0.8333333333333333\n",
            "=============\n",
            "0.0\n",
            "0.0\n",
            "0.0\n",
            "=============\n",
            "1.0\n",
            "0.6666666666666666\n",
            "0.8\n",
            "=============\n",
            "              precision    recall  f1-score   support\n",
            "\n",
            "           1       1.00      0.90      0.95        10\n",
            "           2       0.71      1.00      0.83         5\n",
            "           4       1.00      0.67      0.80         3\n",
            "\n",
            "    accuracy                           0.89        18\n",
            "   macro avg       0.90      0.86      0.86        18\n",
            "weighted avg       0.92      0.89      0.89        18\n",
            "\n"
          ],
          "name": "stdout"
        }
      ]
    },
    {
      "cell_type": "code",
      "metadata": {
        "id": "IiYKu0mDFlCu",
        "colab": {
          "base_uri": "https://localhost:8080/"
        },
        "outputId": "779e2a35-179e-40a8-adb3-93181f5d354d"
      },
      "source": [
        "y_quads = []\n",
        "y_hat_quads = []\n",
        "for i in range(2, len(list_cen_series)):\n",
        "  quad_list, quad_yhat_list = evaluate_series(list_cen_series[i], list_den_series[i])\n",
        "  # y_quads = y_quads + quad_list\n",
        "  # y_hat_quads = y_hat_quads + quad_yhat_list\n",
        "  print(list_cen_series[i], list_den_series[i])\n",
        "  print(quad_list)\n",
        "  print(quad_yhat_list)\n",
        "  print(\"========\")\n",
        "  break;"
      ],
      "execution_count": null,
      "outputs": [
        {
          "output_type": "stream",
          "text": [
            "[0.2, 0.0, 0.0] [0.11525423728813562, 0.33, 0.27]\n",
            "[1]\n",
            "[1, 2, 2, 2, 2, 2]\n",
            "========\n"
          ],
          "name": "stdout"
        }
      ]
    },
    {
      "cell_type": "code",
      "metadata": {
        "colab": {
          "base_uri": "https://localhost:8080/"
        },
        "id": "q3mzXjnlav5h",
        "outputId": "02e959bf-fe94-4ddb-a777-ac4b26c47463"
      },
      "source": [
        "evaluate_series([0.2, 0.0, 0.0], [0.11525423728813562, 0.33, 0.27])"
      ],
      "execution_count": null,
      "outputs": [
        {
          "output_type": "execute_result",
          "data": {
            "text/plain": [
              "([1], [1, 2, 2, 2, 2, 2])"
            ]
          },
          "metadata": {
            "tags": []
          },
          "execution_count": 20
        }
      ]
    },
    {
      "cell_type": "code",
      "metadata": {
        "id": "6ZScoCbU8GX6"
      },
      "source": [
        "for index, rows in particle_series.iterrows():\n",
        "  centrality_series = []\n",
        "  density_series = []\n",
        "  label_series = []\n",
        "  for item in rows:\n",
        "    data = item\n",
        "    if data != '?':\n",
        "      data_arr = data.split('|')\n",
        "      centrality_series.append(float(data_arr[1]))\n",
        "      density_series.append(float(data_arr[2]))\n",
        "      label_series.append(data_arr[3])\n",
        "  # print(centrality_series)\n",
        "  # print(density_series)\n",
        "  # print(\"========\")\n",
        "  if len(centrality_series) >= 5:\n",
        "    cen_yhat, den_yhat = predict_Centrality_Density(centrality_series, density_series)\n",
        "    print(label_series)\n",
        "    print(\"Centrality\", cen_yhat)\n",
        "    print(\"Density\", den_yhat)\n",
        "    # print(\"========\")"
      ],
      "execution_count": null,
      "outputs": []
    },
    {
      "cell_type": "markdown",
      "metadata": {
        "id": "bIujZaPSOirb"
      },
      "source": [
        "#Graph Generator"
      ]
    },
    {
      "cell_type": "code",
      "metadata": {
        "colab": {
          "base_uri": "https://localhost:8080/"
        },
        "id": "78EoxVVjDb7D",
        "outputId": "e2664efa-19b3-40ff-9f50-a95af02036e0"
      },
      "source": [
        "import pandas as pd\n",
        "\n",
        "df = pd.read_csv('/content/drive/MyDrive/Colab Notebooks/Particle Density Algo/results/mapping-results/3_rules_series_with_clusters.csv')\n",
        "print(list(df.columns))"
      ],
      "execution_count": null,
      "outputs": [
        {
          "output_type": "stream",
          "text": [
            "['JanMar2016', 'AprJun2016', 'JulSep2016', 'OktDes2016', 'JanMar2017', 'AprJun2017', 'JulSep2017', 'OctDec2017']\n"
          ],
          "name": "stdout"
        }
      ]
    },
    {
      "cell_type": "code",
      "metadata": {
        "id": "wz8brZwtysB3"
      },
      "source": [
        "import csv\n",
        "import json\n",
        "\n",
        "csvfile = open('/content/drive/MyDrive/Colab Notebooks/Particle Density Algo/results/mapping-results/3_rules_series_with_clusters.csv', 'r')\n",
        "jsonfile = open('/content/drive/MyDrive/Colab Notebooks/Particle Density Algo/results/json/3_rules_series.txt', 'w')\n",
        "\n",
        "fieldnames = ('JanMar2016', 'AprJun2016', 'JulSep2016', 'OktDes2016', 'JanMar2017', 'AprJun2017', 'JulSep2017', 'OctDec2017')\n",
        "reader = csv.DictReader( csvfile, fieldnames)\n",
        "for row in reader:\n",
        "    json.dump(row, jsonfile)\n",
        "    jsonfile.write('\\n')"
      ],
      "execution_count": null,
      "outputs": []
    },
    {
      "cell_type": "code",
      "metadata": {
        "colab": {
          "base_uri": "https://localhost:8080/"
        },
        "id": "w1KI2W4bUITN",
        "outputId": "0736da34-4180-45f6-c874-17b75e9a204c"
      },
      "source": [
        "csvfile"
      ],
      "execution_count": null,
      "outputs": [
        {
          "output_type": "execute_result",
          "data": {
            "text/plain": [
              "<_io.TextIOWrapper name='/content/drive/MyDrive/Colab Notebooks/Particle Density Algo/results/mapping-results/3_rules_series_with_clusters.csv' mode='r' encoding='UTF-8'>"
            ]
          },
          "metadata": {
            "tags": []
          },
          "execution_count": 9
        }
      ]
    },
    {
      "cell_type": "markdown",
      "metadata": {
        "id": "DNW62PvPSljd"
      },
      "source": [
        "**Cluster Wise Json**"
      ]
    },
    {
      "cell_type": "code",
      "metadata": {
        "id": "2hedONwySqVf"
      },
      "source": [
        "import pandas as pd\n",
        "import csv\n",
        "import json"
      ],
      "execution_count": null,
      "outputs": []
    },
    {
      "cell_type": "code",
      "metadata": {
        "id": "_rzVtfrlDxKb"
      },
      "source": [
        "jan_mar_2017_graph = pd.read_csv(\"/content/drive/MyDrive/Colab Notebooks/Particle Density Algo/results/JanMar2017.csv\")\n",
        "jan_mar_2017_graph = jan_mar_2017_graph[['Label', 'Density', 'Centrality', 'Quadrant', 'Node_Internal', 'Edge_Internal']]\n",
        "jan_mar_2017_graph.to_csv('/content/drive/MyDrive/Colab Notebooks/Particle Density Algo/results/json/raw/janmar2017.csv', index=False)"
      ],
      "execution_count": null,
      "outputs": []
    },
    {
      "cell_type": "code",
      "metadata": {
        "id": "Hc6ljSU-SpHY"
      },
      "source": [
        "csvfile = open('/content/drive/MyDrive/Colab Notebooks/Particle Density Algo/results/JanMar2017.csv', 'r')\n",
        "jsonfile = open('/content/drive/MyDrive/Colab Notebooks/Particle Density Algo/results/json/JanMar2017_cluster.txt', 'w')\n",
        "\n",
        "fieldnames = ('Label', 'Density', 'Centrality', 'Quadrant', 'Node_Internal', 'Edge_Internal')\n",
        "reader = csv.DictReader( csvfile, fieldnames)\n",
        "for row in reader:\n",
        "    json.dump(row, jsonfile)\n",
        "    jsonfile.write('\\n')"
      ],
      "execution_count": null,
      "outputs": []
    },
    {
      "cell_type": "code",
      "metadata": {
        "id": "q8IbEWsiUe84"
      },
      "source": [],
      "execution_count": null,
      "outputs": []
    },
    {
      "cell_type": "markdown",
      "metadata": {
        "id": "FdlQzBKR_ncp"
      },
      "source": [
        "#Moving Average Time series"
      ]
    },
    {
      "cell_type": "code",
      "metadata": {
        "id": "nRwBUiX6_qUH",
        "colab": {
          "base_uri": "https://localhost:8080/",
          "height": 283
        },
        "outputId": "9d7382f9-df55-445d-9861-8bec552186a4"
      },
      "source": [
        "from matplotlib import pyplot as plt\n",
        "plt.plot([0.5, 0.06876288659793811, 0.03833333333333334, 0.043333333333333335, 0.22, 0.1486206896551724, 0.12500000000000006, 0.0491304347826087])"
      ],
      "execution_count": null,
      "outputs": [
        {
          "output_type": "execute_result",
          "data": {
            "text/plain": [
              "[<matplotlib.lines.Line2D at 0x7fa9e5d96dd0>]"
            ]
          },
          "metadata": {
            "tags": []
          },
          "execution_count": 37
        },
        {
          "output_type": "display_data",
          "data": {
            "image/png": "[encoded data removed]",
            "text/plain": [
              "<Figure size 432x288 with 1 Axes>"
            ]
          },
          "metadata": {
            "tags": [],
            "needs_background": "light"
          }
        }
      ]
    },
    {
      "cell_type": "code",
      "metadata": {
        "id": "T2VXmi8dH84_"
      },
      "source": [],
      "execution_count": null,
      "outputs": []
    }
  ]
}