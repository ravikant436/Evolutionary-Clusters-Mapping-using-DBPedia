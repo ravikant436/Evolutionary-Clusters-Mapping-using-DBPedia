{
  "nbformat": 4,
  "nbformat_minor": 0,
  "metadata": {
    "colab": {
      "provenance": []
    },
    "kernelspec": {
      "name": "python3",
      "display_name": "Python 3"
    }
  },
  "cells": [
    {
      "cell_type": "markdown",
      "metadata": {
        "id": "teKZM_3VNt9W"
      },
      "source": [
        "# Cluster Mapping (using 3 rules)\n",
        "\n",
        "Rules\n",
        "----------------------------------\n",
        "1. If two distinct subjects share the same predicate, and for that predicate the same object, then both are given weight as 'similar'\n",
        "2. If two distinct subjects have similar direct neighbor nodes, then they are considered similar (for this we can give a threshold for the number of direct neighbor nodes that are similar)\n",
        "3. If two distinct subjects has neighbor nodes, which has many attributes that are similar (exclude the common properties such as rdf:type, etc), then both can be considered as similar"
      ]
    },
    {
      "cell_type": "code",
      "metadata": {
        "id": "dyeak9dUNiez"
      },
      "source": [
        "import pandas as pd\n",
        "import numpy as np\n",
        "import seaborn as sns\n",
        "from scipy.optimize import linear_sum_assignment\n",
        "\n",
        "import warnings\n",
        "warnings.filterwarnings(\"ignore\")"
      ],
      "execution_count": null,
      "outputs": []
    },
    {
      "cell_type": "markdown",
      "metadata": {
        "id": "1tyhxOFOOidc"
      },
      "source": [
        "**Reading files for two adjacent time frames**"
      ]
    },
    {
      "cell_type": "code",
      "metadata": {
        "id": "UnaT2-YvNsHq"
      },
      "source": [
        "period_1 = 'AprJun2016'\n",
        "period_2 = 'JulSep2016'"
      ],
      "execution_count": null,
      "outputs": []
    },
    {
      "cell_type": "code",
      "metadata": {
        "id": "jh80iq0OPvWJ"
      },
      "source": [
        "t1_df = pd.read_csv(\"/content/drive/MyDrive/Colab Notebooks/Particle Density Algo/results/AprJun2016.csv\", keep_default_na=False)\n",
        "t2_df = pd.read_csv(\"/content/drive/MyDrive/Colab Notebooks/Particle Density Algo/results/JulSep2016.csv\", keep_default_na=False)\n",
        "\n",
        "t1_df.columns = ['Network','Label','Density','Centrality','Quadrant','TimeLabel','Country','NodeInternalList','EdgeInternalList','EdgeExternalList','NodeExternalList']\n",
        "t2_df.columns = ['Network','Label','Density','Centrality','Quadrant','TimeLabel','Country','NodeInternalList','EdgeInternalList','EdgeExternalList','NodeExternalList']"
      ],
      "execution_count": null,
      "outputs": []
    },
    {
      "cell_type": "code",
      "metadata": {
        "id": "XxQBiVEOaR2R"
      },
      "source": [
        "def getClusterNode(network_id, network_df):\n",
        "  c_nodes = list(network_df.query('Network == \"'+ network_id + '\"', inplace = False)[\"NodeInternalList\"])[0]\n",
        "  c_node_list = list(c_nodes.split('#'))\n",
        "  # empty string removal\n",
        "  c_node_list = [i for i in c_node_list if i] \n",
        "  return c_node_list"
      ],
      "execution_count": null,
      "outputs": []
    },
    {
      "cell_type": "markdown",
      "metadata": {
        "id": "HpUCNyvr9B7w"
      },
      "source": [
        "#Mapping Skill names to Dbpedia Link"
      ]
    },
    {
      "cell_type": "code",
      "metadata": {
        "id": "pQj5QASq8DAP"
      },
      "source": [
        "import requests\n",
        "def annotate_with_Dbpedia_spotlight(text, confidence):\n",
        "  # text preprocessing\n",
        "  text = text.replace(\"_\", \" \").replace(\"-\", \" \")\n",
        "  URL = \"https://api.dbpedia-spotlight.org/en/annotate?text=\" + text + \"&confidence=\" + str(confidence) + \"\"\n",
        "  HEADERS = {'Accept': 'application/json'}\n",
        "  response = requests.get(URL, headers=HEADERS)\n",
        "  if response.status_code != 200:\n",
        "    return 0\n",
        "  \n",
        "  json_obj = response.json()\n",
        "  if \"Resources\" in json_obj:\n",
        "    return json_obj[\"Resources\"][0]['@URI']\n",
        "  else:\n",
        "    return 0"
      ],
      "execution_count": null,
      "outputs": []
    },
    {
      "cell_type": "code",
      "metadata": {
        "id": "F8R4AN069opc"
      },
      "source": [
        "def map_skills(skills_to_be_mapped):\n",
        "# skills_to_be_mapped = ['mysql','oracle','postgresql','database']\n",
        "  skill_df = pd.read_csv('/content/drive/My Drive/Colab Notebooks/Knowledge graph files/skill_links_map.csv')\n",
        "  cluster = []\n",
        "  for skill in skills_to_be_mapped:\n",
        "    link = annotate_with_Dbpedia_spotlight(skill, 0.5)\n",
        "    if link == 0:\n",
        "      confidence = 0.4\n",
        "      while confidence >= 0:\n",
        "        link = annotate_with_Dbpedia_spotlight(skill, confidence)\n",
        "        confidence = confidence - 0.1\n",
        "    if link == 0:\n",
        "      link_list = list(skill_df.query('name == \"'+ skill.lower() + '\"', inplace = False)[\"link\"])\n",
        "      if link_list:\n",
        "        link = link_list[0]\n",
        "      else:\n",
        "        link = 0\n",
        "    cluster.append(link)\n",
        "  return cluster\n",
        "\n",
        " \n",
        "  link = annotate_with_Dbpedia_spotlight(skill, 0.5)\n",
        "  if link == 0:\n",
        "    confidence = 0.4\n",
        "    while confidence >= 0:\n",
        "      link = annotate_with_Dbpedia_spotlight(skill, confidence)\n",
        "      confidence = confidence - 0.1\n",
        "  if link == 0:\n",
        "    link_list = list(skill_df.query('name == \"'+ skill.lower() + '\"', inplace = False)[\"link\"])\n",
        "    if link_list:\n",
        "      link = link_list[0]\n",
        "    else:\n",
        "      link = 0\n",
        "  return link"
      ],
      "execution_count": null,
      "outputs": []
    },
    {
      "cell_type": "code",
      "metadata": {
        "id": "Xii82M9AK-wl"
      },
      "source": [
        "def getPeriodsClusters(period_a, period_b):\n",
        "  period_a_links = []\n",
        "  period_b_links = []\n",
        "  skill_link_map_df = pd.read_csv('/content/drive/My Drive/Colab Notebooks/Knowledge graph files/skill_links_map.csv')\n",
        "  cluster_detail_df = pd.read_csv('/content/drive/MyDrive/Colab Notebooks/Particle Density Algo/results/mapping-results/clusters_details.csv')\n",
        "\n",
        "  period_a_clusters = cluster_detail_df.query('TimeLabel == \"' + period_a + '\"' , inplace=False)[\"Cluster\"]\n",
        "  for cluster in period_a_clusters:\n",
        "    cluster = cluster.rstrip('#')\n",
        "    items_arr = cluster.split('#')\n",
        "    link_list = []\n",
        "    for item in items_arr:\n",
        "      link = skill_link_map_df.query('skill == \"' + item + '\"', inplace=False)[\"link\"].tolist()[0]\n",
        "      link_list.append(link)\n",
        "    period_a_links.append(link_list)\n",
        "\n",
        "  period_b_clusters = cluster_detail_df.query('TimeLabel == \"' + period_b + '\"' , inplace=False)[\"Cluster\"]\n",
        "  for cluster in period_b_clusters:\n",
        "    cluster = cluster.rstrip('#')\n",
        "    items_arr = cluster.split('#')\n",
        "    link_list = []\n",
        "    for item in items_arr:\n",
        "      link = skill_link_map_df.query('skill == \"' + item + '\"', inplace=False)[\"link\"].tolist()[0]\n",
        "      link_list.append(link)\n",
        "    period_b_links.append(link_list)\n",
        "  return period_a_links, period_b_links"
      ],
      "execution_count": null,
      "outputs": []
    },
    {
      "cell_type": "code",
      "metadata": {
        "id": "2wo2FGaHK9Kz",
        "colab": {
          "base_uri": "https://localhost:8080/"
        },
        "outputId": "1788020c-38c4-4495-b80a-22750aba0d97"
      },
      "source": [
        " map_skills(['Database', 'Java'])"
      ],
      "execution_count": null,
      "outputs": [
        {
          "output_type": "execute_result",
          "data": {
            "text/plain": [
              "['http://dbpedia.org/resource/Database', 'http://dbpedia.org/resource/Java']"
            ]
          },
          "metadata": {
            "tags": []
          },
          "execution_count": 34
        }
      ]
    },
    {
      "cell_type": "markdown",
      "metadata": {
        "id": "Thpu73klAM5w"
      },
      "source": [
        "**Get Dbpedia Triples of all the skills**"
      ]
    },
    {
      "cell_type": "code",
      "metadata": {
        "id": "-DiW3Rp38WfG"
      },
      "source": [
        "from collections import OrderedDict\n",
        "\n",
        "def getTriples(A): \n",
        "  url = 'http://dbpedia.org/sparql/'\n",
        "  query = \"\"\"\n",
        "  SELECT *\n",
        "  WHERE\n",
        "  {\n",
        "    {\n",
        "    <\"\"\" + A + \"\"\">  ?r1 ?n2 .\n",
        "    }\n",
        "  }\n",
        "  \"\"\"\n",
        "  r = requests.get(url, params = {'format': 'json', 'query': query})\n",
        "  data = r.json()\n",
        "\n",
        "  subgraph = []\n",
        "  for item in data['results']['bindings']:\n",
        "      if item['n2']['value'].startswith('http://dbpedia.org'):\n",
        "        subgraph.append(OrderedDict({\n",
        "          'source_node': A, \n",
        "          'r1': item['r1']['value'],\n",
        "          'target_node': item['n2']['value']\n",
        "        }))\n",
        "\n",
        "  df = pd.DataFrame(subgraph)\n",
        "  return df"
      ],
      "execution_count": null,
      "outputs": []
    },
    {
      "cell_type": "code",
      "metadata": {
        "id": "udhJOgTZhgQf"
      },
      "source": [
        "def getConnectingRelation(node):\n",
        "  url = 'http://dbpedia.org/sparql/'\n",
        "  query = \"\"\"\n",
        "  SELECT *\n",
        "  WHERE\n",
        "  {\n",
        "    {\n",
        "    <\"\"\" + node + \"\"\">  ?r1 ?n2 .\n",
        "    }\n",
        "  }\n",
        "  \"\"\"\n",
        "  r = requests.get(url, params = {'format': 'json', 'query': query})\n",
        "  data = r.json()\n",
        "\n",
        "  relations = []\n",
        "  for item in data['results']['bindings']:\n",
        "    relations.append(item['r1']['value'])\n",
        "\n",
        "  relations = list(set(relations))\n",
        "  return relations"
      ],
      "execution_count": null,
      "outputs": []
    },
    {
      "cell_type": "code",
      "metadata": {
        "id": "GhePIG2-iNr4"
      },
      "source": [
        "# getConnectingRelation('http://dbpedia.org/resource/Sybase')"
      ],
      "execution_count": null,
      "outputs": []
    },
    {
      "cell_type": "code",
      "metadata": {
        "id": "mgWAFaV9DLSM"
      },
      "source": [
        "def getDbpediaTriplesOfCluster(cluster):\n",
        "  frames = []\n",
        "  for item in cluster:\n",
        "    df = getTriples(item)\n",
        "    frames.append(df)\n",
        "  result = pd.concat(frames)\n",
        "  result = result.drop_duplicates()\n",
        "  return result"
      ],
      "execution_count": null,
      "outputs": []
    },
    {
      "cell_type": "code",
      "metadata": {
        "id": "aOZX9lgkXqSW"
      },
      "source": [
        "# l1 = [['a', 1, 2], ['a', 3, 4], ['a', 5, 7]]\n",
        "# l2 = [['b', 1, 2], ['b', 3, 4], ['a', 5, 9]]\n",
        "# d1 = pd.DataFrame(l1, columns=['name', 'one', 'two'])\n",
        "# d2 = pd.DataFrame(l2, columns=['name', 'one', 'two'])\n",
        "# d = pd.merge(d1, d2, how='inner', on=['one', 'two'])\n",
        "# d = d[['one', 'two']]\n",
        "# d"
      ],
      "execution_count": null,
      "outputs": []
    },
    {
      "cell_type": "code",
      "metadata": {
        "id": "nxCZ1qW1HVfF"
      },
      "source": [
        "def firstRuleOfSimilarity(s1, s2, s1_triples, s2_triples):\n",
        "  # If two distinct subjects share the same predicate, and for that predicate the same object, then both are given weight as 'similar'\n",
        "  df1 = s1_triples.query(\"source_node == '\" + s1 + \"'\")\n",
        "  df1.drop_duplicates(inplace=True)\n",
        "  df2 = s2_triples.query(\"source_node == '\" + s2 + \"'\")\n",
        "  df2.drop_duplicates(inplace=True)\n",
        "  score = 0\n",
        "  # find common [r1,target_node] pairs in df1 and df2\n",
        "  common_df = pd.merge(df1, df2, how='inner', on=['r1', 'target_node'])\n",
        "  common_df = common_df[['r1', 'target_node']]\n",
        "  common_df.drop_duplicates(inplace=True)\n",
        "  \n",
        "  if not common_df.empty:\n",
        "    score = (common_df.shape[0] / (df1.shape[0] + df2.shape[0] - common_df.shape[0]))\n",
        "    # unique_predicates = list(df.r1.unique())\n",
        "    # for pred in unique_predicates:\n",
        "    #   common_rows = df.query(\"r1 == '\" + pred + \"'\").shape[0]\n",
        "    #   df1_pred_rows = df1.query(\"r1 == '\" + pred + \"'\").shape[0]\n",
        "    #   df2_pred_rows = df2.query(\"r1 == '\" + pred + \"'\").shape[0]\n",
        "  return score"
      ],
      "execution_count": null,
      "outputs": []
    },
    {
      "cell_type": "code",
      "metadata": {
        "id": "NbH3pkM1XPCv"
      },
      "source": [
        "# print(firstRuleOfSimilarity('http://dbpedia.org/resource/JavaScript', 'http://dbpedia.org/resource/JavaScript', t1_triples_df, t2_triples_df))"
      ],
      "execution_count": null,
      "outputs": []
    },
    {
      "cell_type": "code",
      "metadata": {
        "id": "LERlfp3xOI72"
      },
      "source": [
        "def secondRuleOfSimilarity(s1, s2, s1_triples, s2_triples):\n",
        "  # If two distinct subjects have similar direct neighbor nodes, \n",
        "  # then they are considered similar (for this we can give a threshold for the number of direct neighbor nodes that are similar)\n",
        "  node_list1 = s1_triples.query(\"source_node == '\" + s1 + \"'\")[\"target_node\"].tolist()\n",
        "  node_list2 = s2_triples.query(\"source_node == '\" + s2 + \"'\")[\"target_node\"].tolist()\n",
        "  node_set1 = set(node_list1)\n",
        "  common_items = list(node_set1.intersection(node_list2))\n",
        "  all_unique_nodes = len(set(node_list1)) + len(set(node_list2))\n",
        "  if len(common_items) > 0:\n",
        "    result = len(common_items) / (all_unique_nodes - len(common_items))\n",
        "    return result\n",
        "  else:\n",
        "    return 0"
      ],
      "execution_count": null,
      "outputs": []
    },
    {
      "cell_type": "code",
      "metadata": {
        "id": "9VVMHRSWTrue"
      },
      "source": [
        "# print(secondRuleOfSimilarity('http://dbpedia.org/resource/JavaScript', 'http://dbpedia.org/resource/ECMAScript', t1_triples_df, t2_triples_df))"
      ],
      "execution_count": null,
      "outputs": []
    },
    {
      "cell_type": "code",
      "metadata": {
        "id": "HJX5zXxHQPFo"
      },
      "source": [
        "def thirdRuleOfSimilarity(s1, s2, s1_triples, s2_triples):\n",
        "  excluded_predicates_list = ['http://www.w3.org/1999/02/22-rdf-syntax-ns#type']\n",
        "  relation_list1 = s1_triples.query(\"source_node == '\" + s1 + \"'\")[\"r1\"].tolist()\n",
        "  relation_list2 = s2_triples.query(\"source_node == '\" + s2 + \"'\")[\"r1\"].tolist()\n",
        "  relation_set1 = set(relation_list1)\n",
        "  common_relations = list(relation_set1.intersection(relation_list2))\n",
        "  common_relations = list(set(common_relations) - set(excluded_predicates_list))\n",
        "  all_unique_relations = set(relation_list1 + relation_list2)\n",
        "  all_unique_relations = list(set(all_unique_relations) - set(excluded_predicates_list))\n",
        "  if len(common_relations) > 0:\n",
        "    result = len(common_relations) / len(all_unique_relations)\n",
        "    return result\n",
        "  else:\n",
        "   return 0"
      ],
      "execution_count": null,
      "outputs": []
    },
    {
      "cell_type": "code",
      "metadata": {
        "id": "ecOA3QUJBDWd"
      },
      "source": [
        "# print(thirdRuleOfSimilarity('http://dbpedia.org/resource/JavaScript', 'http://dbpedia.org/resource/ECMAScript', t1_triples_df, t2_triples_df))"
      ],
      "execution_count": null,
      "outputs": []
    },
    {
      "cell_type": "markdown",
      "metadata": {
        "id": "APLIYr0pQLhX"
      },
      "source": [
        "#CODE"
      ]
    },
    {
      "cell_type": "code",
      "metadata": {
        "id": "7Ub7sR2u7ruY"
      },
      "source": [
        "def mapClusters(t1_cluster, t2_cluster, t1_triples_df, t2_triples_df):\n",
        "  score_matrix = []\n",
        "  for t1_item in t1_cluster:\n",
        "    row_list = []\n",
        "    for t2_item in t2_cluster:\n",
        "      if t1_item != t2_item:\n",
        "        first_sim_score = firstRuleOfSimilarity(t1_item, t2_item, t1_triples_df, t2_triples_df)\n",
        "        second_sim_score = secondRuleOfSimilarity(t1_item, t2_item, t1_triples_df, t2_triples_df)\n",
        "        third_sim_score = thirdRuleOfSimilarity(t1_item, t2_item, t1_triples_df, t2_triples_df)\n",
        "        # total_sim_score = float(\"{:.4f}\".format((first_sim_score + second_sim_score + third_sim_score)/3))\n",
        "        total_sim_score = float(\"{:.4f}\".format(0.5 * first_sim_score + 0.3*second_sim_score + 0.2*third_sim_score))\n",
        "      else:\n",
        "        total_sim_score = 1\n",
        "      row_list.append(total_sim_score)\n",
        "    score_matrix.append(row_list)\n",
        "  score_matrix = np.array(score_matrix)\n",
        "  # print(score_matrix)\n",
        "  # applying hungarian algo to get max similarity score\n",
        "  row_ind, col_ind = linear_sum_assignment(-score_matrix)\n",
        "  total_similarity = float(\"{:.3f}\".format(score_matrix[row_ind, col_ind].sum()))\n",
        "  # print(row_ind, col_ind)\n",
        "  return total_similarity"
      ],
      "execution_count": null,
      "outputs": []
    },
    {
      "cell_type": "markdown",
      "metadata": {
        "id": "xGRmCoLuFq7R"
      },
      "source": [
        "#Testing \n",
        "\n",
        "t1_cluster = [JavaScript, Python]\n",
        "\n",
        "t2_cluster = [GitHub, JavaScript]\n",
        "\n",
        "Score: 0.53\n",
        "\n",
        "\n",
        "t1_cluster = [JavaScript, Python]\n",
        "\n",
        "t2_cluster = [Ecmascript, R]\n",
        "\n",
        "Score: 0.27\n",
        "\n",
        "\n",
        "JS, ES - 0.23, 0.21, 0.53\n",
        "\n",
        "Python, R - 0.1, .1, .48\n",
        "\n",
        "\n",
        "\n"
      ]
    },
    {
      "cell_type": "code",
      "metadata": {
        "id": "aLBJlKWxFvGa"
      },
      "source": [
        "t1_cluster = ['http://dbpedia.org/resource/Python_(programming_language)',\n",
        "              'http://dbpedia.org/resource/JavaScript',\n",
        "              'http://dbpedia.org/resource/Java',\n",
        "              'http://dbpedia.org/resource/Database',\n",
        "              'http://dbpedia.org/resource/MySQL']\n",
        "t2_cluster = ['http://dbpedia.org/resource/Java',\n",
        "              'http://dbpedia.org/resource/Oracle_Database',\n",
        "              'http://dbpedia.org/resource/JavaScript',\n",
        "              'http://dbpedia.org/resource/Security',\n",
        "              'http://dbpedia.org/resource/R_(programming_language)']\n",
        "\n",
        "t1_triples_df = getDbpediaTriplesOfCluster(t1_cluster)\n",
        "t2_triples_df = getDbpediaTriplesOfCluster(t2_cluster)\n",
        "\n",
        "min_cluster_size = min(len(t1_cluster), len(t2_cluster))\n",
        "# sim_score = mapClusters(t1_cluster, t2_cluster, t1_triples_df, t2_triples_df)\n",
        "# norm_sim_score = sim_score / min_cluster_size\n",
        "# norm_sim_score"
      ],
      "execution_count": null,
      "outputs": []
    },
    {
      "cell_type": "code",
      "metadata": {
        "colab": {
          "base_uri": "https://localhost:8080/",
          "height": 417
        },
        "id": "DfTKj_UeouWr",
        "outputId": "cb818c8a-7513-4dc2-ec4d-fe306dfdca61"
      },
      "source": [
        "t1_triples_df.iloc[330:587]"
      ],
      "execution_count": null,
      "outputs": [
        {
          "output_type": "execute_result",
          "data": {
            "text/html": [
              "<div>\n",
              "<style scoped>\n",
              "    .dataframe tbody tr th:only-of-type {\n",
              "        vertical-align: middle;\n",
              "    }\n",
              "\n",
              "    .dataframe tbody tr th {\n",
              "        vertical-align: top;\n",
              "    }\n",
              "\n",
              "    .dataframe thead th {\n",
              "        text-align: right;\n",
              "    }\n",
              "</style>\n",
              "<table border=\"1\" class=\"dataframe\">\n",
              "  <thead>\n",
              "    <tr style=\"text-align: right;\">\n",
              "      <th></th>\n",
              "      <th>source_node</th>\n",
              "      <th>r1</th>\n",
              "      <th>target_node</th>\n",
              "    </tr>\n",
              "  </thead>\n",
              "  <tbody>\n",
              "    <tr>\n",
              "      <th>330</th>\n",
              "      <td>http://dbpedia.org/resource/Python_(programmin...</td>\n",
              "      <td>http://dbpedia.org/ontology/wikiPageWikiLink</td>\n",
              "      <td>http://dbpedia.org/resource/Symbian</td>\n",
              "    </tr>\n",
              "    <tr>\n",
              "      <th>331</th>\n",
              "      <td>http://dbpedia.org/resource/Python_(programmin...</td>\n",
              "      <td>http://dbpedia.org/ontology/wikiPageWikiLink</td>\n",
              "      <td>http://dbpedia.org/resource/Syntactic_sugar</td>\n",
              "    </tr>\n",
              "    <tr>\n",
              "      <th>332</th>\n",
              "      <td>http://dbpedia.org/resource/Python_(programmin...</td>\n",
              "      <td>http://dbpedia.org/ontology/wikiPageWikiLink</td>\n",
              "      <td>http://dbpedia.org/resource/Tcl</td>\n",
              "    </tr>\n",
              "    <tr>\n",
              "      <th>333</th>\n",
              "      <td>http://dbpedia.org/resource/Python_(programmin...</td>\n",
              "      <td>http://dbpedia.org/ontology/wikiPageWikiLink</td>\n",
              "      <td>http://dbpedia.org/resource/Standard_library</td>\n",
              "    </tr>\n",
              "    <tr>\n",
              "      <th>334</th>\n",
              "      <td>http://dbpedia.org/resource/Python_(programmin...</td>\n",
              "      <td>http://dbpedia.org/ontology/wikiPageWikiLink</td>\n",
              "      <td>http://dbpedia.org/resource/Infix_notation</td>\n",
              "    </tr>\n",
              "    <tr>\n",
              "      <th>...</th>\n",
              "      <td>...</td>\n",
              "      <td>...</td>\n",
              "      <td>...</td>\n",
              "    </tr>\n",
              "    <tr>\n",
              "      <th>71</th>\n",
              "      <td>http://dbpedia.org/resource/JavaScript</td>\n",
              "      <td>http://dbpedia.org/ontology/wikiPageWikiLink</td>\n",
              "      <td>http://dbpedia.org/resource/Tamarin_(software)</td>\n",
              "    </tr>\n",
              "    <tr>\n",
              "      <th>72</th>\n",
              "      <td>http://dbpedia.org/resource/JavaScript</td>\n",
              "      <td>http://dbpedia.org/ontology/wikiPageWikiLink</td>\n",
              "      <td>http://dbpedia.org/resource/Web_application</td>\n",
              "    </tr>\n",
              "    <tr>\n",
              "      <th>73</th>\n",
              "      <td>http://dbpedia.org/resource/JavaScript</td>\n",
              "      <td>http://dbpedia.org/ontology/wikiPageWikiLink</td>\n",
              "      <td>http://dbpedia.org/resource/High-level_program...</td>\n",
              "    </tr>\n",
              "    <tr>\n",
              "      <th>74</th>\n",
              "      <td>http://dbpedia.org/resource/JavaScript</td>\n",
              "      <td>http://dbpedia.org/ontology/wikiPageWikiLink</td>\n",
              "      <td>http://dbpedia.org/resource/Scripting_language</td>\n",
              "    </tr>\n",
              "    <tr>\n",
              "      <th>75</th>\n",
              "      <td>http://dbpedia.org/resource/JavaScript</td>\n",
              "      <td>http://dbpedia.org/ontology/wikiPageWikiLink</td>\n",
              "      <td>http://dbpedia.org/resource/Imperative_program...</td>\n",
              "    </tr>\n",
              "  </tbody>\n",
              "</table>\n",
              "<p>257 rows × 3 columns</p>\n",
              "</div>"
            ],
            "text/plain": [
              "                                           source_node  ...                                        target_node\n",
              "330  http://dbpedia.org/resource/Python_(programmin...  ...                http://dbpedia.org/resource/Symbian\n",
              "331  http://dbpedia.org/resource/Python_(programmin...  ...        http://dbpedia.org/resource/Syntactic_sugar\n",
              "332  http://dbpedia.org/resource/Python_(programmin...  ...                    http://dbpedia.org/resource/Tcl\n",
              "333  http://dbpedia.org/resource/Python_(programmin...  ...       http://dbpedia.org/resource/Standard_library\n",
              "334  http://dbpedia.org/resource/Python_(programmin...  ...         http://dbpedia.org/resource/Infix_notation\n",
              "..                                                 ...  ...                                                ...\n",
              "71              http://dbpedia.org/resource/JavaScript  ...     http://dbpedia.org/resource/Tamarin_(software)\n",
              "72              http://dbpedia.org/resource/JavaScript  ...        http://dbpedia.org/resource/Web_application\n",
              "73              http://dbpedia.org/resource/JavaScript  ...  http://dbpedia.org/resource/High-level_program...\n",
              "74              http://dbpedia.org/resource/JavaScript  ...     http://dbpedia.org/resource/Scripting_language\n",
              "75              http://dbpedia.org/resource/JavaScript  ...  http://dbpedia.org/resource/Imperative_program...\n",
              "\n",
              "[257 rows x 3 columns]"
            ]
          },
          "metadata": {
            "tags": []
          },
          "execution_count": 49
        }
      ]
    },
    {
      "cell_type": "code",
      "metadata": {
        "id": "WcbJq-E19gv1",
        "colab": {
          "base_uri": "https://localhost:8080/"
        },
        "outputId": "cd5459dd-7142-4171-cd59-74af561a33b1"
      },
      "source": [
        "mapClusters(t1_cluster, t2_cluster, t1_triples_df, t2_triples_df)"
      ],
      "execution_count": null,
      "outputs": [
        {
          "output_type": "execute_result",
          "data": {
            "text/plain": [
              "2.576"
            ]
          },
          "metadata": {
            "tags": []
          },
          "execution_count": 50
        }
      ]
    },
    {
      "cell_type": "code",
      "metadata": {
        "id": "8nHtNjMdKRwe",
        "colab": {
          "base_uri": "https://localhost:8080/"
        },
        "outputId": "b1cc656f-3ba3-41f7-a1bb-acfd41dcf0b2"
      },
      "source": [
        "print(firstRuleOfSimilarity('http://dbpedia.org/resource/Python_(programming_language)', 'http://dbpedia.org/resource/R_(programming_language)', t1_triples_df, t2_triples_df))\n",
        "print(secondRuleOfSimilarity('http://dbpedia.org/resource/Python_(programming_language)', 'http://dbpedia.org/resource/R_(programming_language)', t1_triples_df, t2_triples_df))\n",
        "print(thirdRuleOfSimilarity('http://dbpedia.org/resource/Python_(programming_language)', 'http://dbpedia.org/resource/R_(programming_language)', t1_triples_df, t2_triples_df))"
      ],
      "execution_count": null,
      "outputs": [
        {
          "output_type": "stream",
          "text": [
            "0.09957325746799431\n",
            "0.11336717428087986\n",
            "0.47368421052631576\n"
          ],
          "name": "stdout"
        }
      ]
    },
    {
      "cell_type": "markdown",
      "metadata": {
        "id": "qIK5kS6oFtEV"
      },
      "source": [
        "# Mapping"
      ]
    },
    {
      "cell_type": "code",
      "metadata": {
        "id": "lwBsUAJeMgiC"
      },
      "source": [
        "#JulSep2016, OctDec2016, JanMar2017\n",
        "period_a = \"JanMar2017\"\n",
        "period_b = \"AprJun2017\"\n",
        "period_a_links, period_b_links = getPeriodsClusters(period_a, period_b)"
      ],
      "execution_count": null,
      "outputs": []
    },
    {
      "cell_type": "code",
      "metadata": {
        "id": "i7Tqu43Kf62E",
        "colab": {
          "base_uri": "https://localhost:8080/"
        },
        "outputId": "59b51951-5888-4727-ca0d-a2d0b6be7f2e"
      },
      "source": [
        "sim_matrix = []\n",
        "\n",
        "for t1_cluster in period_a_links:\n",
        "  sim_series = []\n",
        "  for t2_cluster in period_b_links:\n",
        "    t1_triples_df = getDbpediaTriplesOfCluster(t1_cluster)\n",
        "    t2_triples_df = getDbpediaTriplesOfCluster(t2_cluster)\n",
        "    print(t1_cluster)\n",
        "    print(t2_cluster)\n",
        "    \n",
        "    min_cluster_size = min(len(t1_cluster), len(t2_cluster))\n",
        "    sim_score = mapClusters(t1_cluster, t2_cluster, t1_triples_df, t2_triples_df)\n",
        "    norm_sim_score = float(\"{:.3f}\".format(sim_score / min_cluster_size))\n",
        "    print(norm_sim_score)\n",
        "    print(min_cluster_size)\n",
        "    print(\"==============\")\n",
        "    sim_series.append(norm_sim_score)\n",
        "  sim_matrix.append(sim_series)\n",
        "sim_matrix = np.array(sim_matrix)\n",
        "print(sim_matrix)"
      ],
      "execution_count": null,
      "outputs": [
        {
          "output_type": "stream",
          "text": [
            "['http://dbpedia.org/resource/ASP.NET', 'http://dbpedia.org/resource/Perl', 'http://dbpedia.org/resource/NoSQL', 'http://dbpedia.org/resource/Groovy_(programming_language)', 'http://dbpedia.org/resource/.NET_Framework', 'http://dbpedia.org/resource/Selenium_(software)', 'http://dbpedia.org/resource/JavaScript', 'http://dbpedia.org/resource/SQL', 'http://dbpedia.org/resource/Ansible', 'http://dbpedia.org/resource/Relational_database', 'http://dbpedia.org/resource/Git']\n",
            "['http://dbpedia.org/resource/MySQL', 'http://dbpedia.org/resource/AngularJS', 'http://dbpedia.org/resource/Oracle', 'http://dbpedia.org/resource/Database', 'http://dbpedia.org/resource/JSON', 'http://dbpedia.org/resource/PHP', 'http://dbpedia.org/resource/XML', 'http://dbpedia.org/resource/Symfony', 'http://dbpedia.org/resource/HTML', 'http://dbpedia.org/resource/Gradle', 'http://dbpedia.org/resource/Unit_testing', 'http://dbpedia.org/resource/JavaScript']\n",
            "0.274\n",
            "11\n",
            "==============\n",
            "['http://dbpedia.org/resource/ASP.NET', 'http://dbpedia.org/resource/Perl', 'http://dbpedia.org/resource/NoSQL', 'http://dbpedia.org/resource/Groovy_(programming_language)', 'http://dbpedia.org/resource/.NET_Framework', 'http://dbpedia.org/resource/Selenium_(software)', 'http://dbpedia.org/resource/JavaScript', 'http://dbpedia.org/resource/SQL', 'http://dbpedia.org/resource/Ansible', 'http://dbpedia.org/resource/Relational_database', 'http://dbpedia.org/resource/Git']\n",
            "['http://dbpedia.org/resource/Jira', 'http://dbpedia.org/resource/Data_mining', 'http://dbpedia.org/resource/Data_warehouse']\n",
            "0.188\n",
            "3\n",
            "==============\n",
            "['http://dbpedia.org/resource/ASP.NET', 'http://dbpedia.org/resource/Perl', 'http://dbpedia.org/resource/NoSQL', 'http://dbpedia.org/resource/Groovy_(programming_language)', 'http://dbpedia.org/resource/.NET_Framework', 'http://dbpedia.org/resource/Selenium_(software)', 'http://dbpedia.org/resource/JavaScript', 'http://dbpedia.org/resource/SQL', 'http://dbpedia.org/resource/Ansible', 'http://dbpedia.org/resource/Relational_database', 'http://dbpedia.org/resource/Git']\n",
            "['http://dbpedia.org/resource/DevOps', 'http://dbpedia.org/resource/.NET_Framework', 'http://dbpedia.org/resource/Microservices', 'http://dbpedia.org/resource/SQLite', 'http://dbpedia.org/resource/Groovy_(programming_language)', 'http://dbpedia.org/resource/Robotics', 'http://dbpedia.org/resource/Linux', 'http://dbpedia.org/resource/Continuous_integration', 'http://dbpedia.org/resource/Perl', 'http://dbpedia.org/resource/ASP.NET', 'http://dbpedia.org/resource/Scripting_language']\n",
            "0.469\n",
            "11\n",
            "==============\n",
            "['http://dbpedia.org/resource/ASP.NET', 'http://dbpedia.org/resource/Perl', 'http://dbpedia.org/resource/NoSQL', 'http://dbpedia.org/resource/Groovy_(programming_language)', 'http://dbpedia.org/resource/.NET_Framework', 'http://dbpedia.org/resource/Selenium_(software)', 'http://dbpedia.org/resource/JavaScript', 'http://dbpedia.org/resource/SQL', 'http://dbpedia.org/resource/Ansible', 'http://dbpedia.org/resource/Relational_database', 'http://dbpedia.org/resource/Git']\n",
            "['http://dbpedia.org/resource/Git', 'http://dbpedia.org/resource/Ansible', 'http://dbpedia.org/resource/Elasticsearch', 'http://dbpedia.org/resource/Surveillance', 'http://dbpedia.org/resource/Version_control']\n",
            "0.535\n",
            "5\n",
            "==============\n",
            "['http://dbpedia.org/resource/ASP.NET', 'http://dbpedia.org/resource/Perl', 'http://dbpedia.org/resource/NoSQL', 'http://dbpedia.org/resource/Groovy_(programming_language)', 'http://dbpedia.org/resource/.NET_Framework', 'http://dbpedia.org/resource/Selenium_(software)', 'http://dbpedia.org/resource/JavaScript', 'http://dbpedia.org/resource/SQL', 'http://dbpedia.org/resource/Ansible', 'http://dbpedia.org/resource/Relational_database', 'http://dbpedia.org/resource/Git']\n",
            "['http://dbpedia.org/resource/User_experience', 'http://dbpedia.org/resource/NoSQL', 'http://dbpedia.org/resource/User_interface', 'http://dbpedia.org/resource/Computer_hardware', 'http://dbpedia.org/resource/Relational_database', 'http://dbpedia.org/resource/Project_management', 'http://dbpedia.org/resource/SCADA']\n",
            "0.37\n",
            "7\n",
            "==============\n",
            "['http://dbpedia.org/resource/DevOps', 'http://dbpedia.org/resource/Microservices', 'http://dbpedia.org/resource/Data_science']\n",
            "['http://dbpedia.org/resource/MySQL', 'http://dbpedia.org/resource/AngularJS', 'http://dbpedia.org/resource/Oracle', 'http://dbpedia.org/resource/Database', 'http://dbpedia.org/resource/JSON', 'http://dbpedia.org/resource/PHP', 'http://dbpedia.org/resource/XML', 'http://dbpedia.org/resource/Symfony', 'http://dbpedia.org/resource/HTML', 'http://dbpedia.org/resource/Gradle', 'http://dbpedia.org/resource/Unit_testing', 'http://dbpedia.org/resource/JavaScript']\n",
            "0.198\n",
            "3\n",
            "==============\n",
            "['http://dbpedia.org/resource/DevOps', 'http://dbpedia.org/resource/Microservices', 'http://dbpedia.org/resource/Data_science']\n",
            "['http://dbpedia.org/resource/Jira', 'http://dbpedia.org/resource/Data_mining', 'http://dbpedia.org/resource/Data_warehouse']\n",
            "0.163\n",
            "3\n",
            "==============\n",
            "['http://dbpedia.org/resource/DevOps', 'http://dbpedia.org/resource/Microservices', 'http://dbpedia.org/resource/Data_science']\n",
            "['http://dbpedia.org/resource/DevOps', 'http://dbpedia.org/resource/.NET_Framework', 'http://dbpedia.org/resource/Microservices', 'http://dbpedia.org/resource/SQLite', 'http://dbpedia.org/resource/Groovy_(programming_language)', 'http://dbpedia.org/resource/Robotics', 'http://dbpedia.org/resource/Linux', 'http://dbpedia.org/resource/Continuous_integration', 'http://dbpedia.org/resource/Perl', 'http://dbpedia.org/resource/ASP.NET', 'http://dbpedia.org/resource/Scripting_language']\n",
            "0.722\n",
            "3\n",
            "==============\n",
            "['http://dbpedia.org/resource/DevOps', 'http://dbpedia.org/resource/Microservices', 'http://dbpedia.org/resource/Data_science']\n",
            "['http://dbpedia.org/resource/Git', 'http://dbpedia.org/resource/Ansible', 'http://dbpedia.org/resource/Elasticsearch', 'http://dbpedia.org/resource/Surveillance', 'http://dbpedia.org/resource/Version_control']\n",
            "0.187\n",
            "3\n",
            "==============\n",
            "['http://dbpedia.org/resource/DevOps', 'http://dbpedia.org/resource/Microservices', 'http://dbpedia.org/resource/Data_science']\n",
            "['http://dbpedia.org/resource/User_experience', 'http://dbpedia.org/resource/NoSQL', 'http://dbpedia.org/resource/User_interface', 'http://dbpedia.org/resource/Computer_hardware', 'http://dbpedia.org/resource/Relational_database', 'http://dbpedia.org/resource/Project_management', 'http://dbpedia.org/resource/SCADA']\n",
            "0.203\n",
            "3\n",
            "==============\n",
            "['http://dbpedia.org/resource/C++', 'http://dbpedia.org/resource/Continuous_integration', 'http://dbpedia.org/resource/Scripting_language']\n",
            "['http://dbpedia.org/resource/MySQL', 'http://dbpedia.org/resource/AngularJS', 'http://dbpedia.org/resource/Oracle', 'http://dbpedia.org/resource/Database', 'http://dbpedia.org/resource/JSON', 'http://dbpedia.org/resource/PHP', 'http://dbpedia.org/resource/XML', 'http://dbpedia.org/resource/Symfony', 'http://dbpedia.org/resource/HTML', 'http://dbpedia.org/resource/Gradle', 'http://dbpedia.org/resource/Unit_testing', 'http://dbpedia.org/resource/JavaScript']\n",
            "0.216\n",
            "3\n",
            "==============\n",
            "['http://dbpedia.org/resource/C++', 'http://dbpedia.org/resource/Continuous_integration', 'http://dbpedia.org/resource/Scripting_language']\n",
            "['http://dbpedia.org/resource/Jira', 'http://dbpedia.org/resource/Data_mining', 'http://dbpedia.org/resource/Data_warehouse']\n",
            "0.155\n",
            "3\n",
            "==============\n",
            "['http://dbpedia.org/resource/C++', 'http://dbpedia.org/resource/Continuous_integration', 'http://dbpedia.org/resource/Scripting_language']\n",
            "['http://dbpedia.org/resource/DevOps', 'http://dbpedia.org/resource/.NET_Framework', 'http://dbpedia.org/resource/Microservices', 'http://dbpedia.org/resource/SQLite', 'http://dbpedia.org/resource/Groovy_(programming_language)', 'http://dbpedia.org/resource/Robotics', 'http://dbpedia.org/resource/Linux', 'http://dbpedia.org/resource/Continuous_integration', 'http://dbpedia.org/resource/Perl', 'http://dbpedia.org/resource/ASP.NET', 'http://dbpedia.org/resource/Scripting_language']\n",
            "0.724\n",
            "3\n",
            "==============\n",
            "['http://dbpedia.org/resource/C++', 'http://dbpedia.org/resource/Continuous_integration', 'http://dbpedia.org/resource/Scripting_language']\n",
            "['http://dbpedia.org/resource/Git', 'http://dbpedia.org/resource/Ansible', 'http://dbpedia.org/resource/Elasticsearch', 'http://dbpedia.org/resource/Surveillance', 'http://dbpedia.org/resource/Version_control']\n",
            "0.163\n",
            "3\n",
            "==============\n",
            "['http://dbpedia.org/resource/C++', 'http://dbpedia.org/resource/Continuous_integration', 'http://dbpedia.org/resource/Scripting_language']\n",
            "['http://dbpedia.org/resource/User_experience', 'http://dbpedia.org/resource/NoSQL', 'http://dbpedia.org/resource/User_interface', 'http://dbpedia.org/resource/Computer_hardware', 'http://dbpedia.org/resource/Relational_database', 'http://dbpedia.org/resource/Project_management', 'http://dbpedia.org/resource/SCADA']\n",
            "0.183\n",
            "3\n",
            "==============\n",
            "['http://dbpedia.org/resource/Oracle', 'http://dbpedia.org/resource/MySQL', 'http://dbpedia.org/resource/Database']\n",
            "['http://dbpedia.org/resource/MySQL', 'http://dbpedia.org/resource/AngularJS', 'http://dbpedia.org/resource/Oracle', 'http://dbpedia.org/resource/Database', 'http://dbpedia.org/resource/JSON', 'http://dbpedia.org/resource/PHP', 'http://dbpedia.org/resource/XML', 'http://dbpedia.org/resource/Symfony', 'http://dbpedia.org/resource/HTML', 'http://dbpedia.org/resource/Gradle', 'http://dbpedia.org/resource/Unit_testing', 'http://dbpedia.org/resource/JavaScript']\n",
            "1.0\n",
            "3\n",
            "==============\n",
            "['http://dbpedia.org/resource/Oracle', 'http://dbpedia.org/resource/MySQL', 'http://dbpedia.org/resource/Database']\n",
            "['http://dbpedia.org/resource/Jira', 'http://dbpedia.org/resource/Data_mining', 'http://dbpedia.org/resource/Data_warehouse']\n",
            "0.149\n",
            "3\n",
            "==============\n",
            "['http://dbpedia.org/resource/Oracle', 'http://dbpedia.org/resource/MySQL', 'http://dbpedia.org/resource/Database']\n",
            "['http://dbpedia.org/resource/DevOps', 'http://dbpedia.org/resource/.NET_Framework', 'http://dbpedia.org/resource/Microservices', 'http://dbpedia.org/resource/SQLite', 'http://dbpedia.org/resource/Groovy_(programming_language)', 'http://dbpedia.org/resource/Robotics', 'http://dbpedia.org/resource/Linux', 'http://dbpedia.org/resource/Continuous_integration', 'http://dbpedia.org/resource/Perl', 'http://dbpedia.org/resource/ASP.NET', 'http://dbpedia.org/resource/Scripting_language']\n",
            "0.224\n",
            "3\n",
            "==============\n",
            "['http://dbpedia.org/resource/Oracle', 'http://dbpedia.org/resource/MySQL', 'http://dbpedia.org/resource/Database']\n",
            "['http://dbpedia.org/resource/Git', 'http://dbpedia.org/resource/Ansible', 'http://dbpedia.org/resource/Elasticsearch', 'http://dbpedia.org/resource/Surveillance', 'http://dbpedia.org/resource/Version_control']\n",
            "0.21\n",
            "3\n",
            "==============\n",
            "['http://dbpedia.org/resource/Oracle', 'http://dbpedia.org/resource/MySQL', 'http://dbpedia.org/resource/Database']\n",
            "['http://dbpedia.org/resource/User_experience', 'http://dbpedia.org/resource/NoSQL', 'http://dbpedia.org/resource/User_interface', 'http://dbpedia.org/resource/Computer_hardware', 'http://dbpedia.org/resource/Relational_database', 'http://dbpedia.org/resource/Project_management', 'http://dbpedia.org/resource/SCADA']\n",
            "0.194\n",
            "3\n",
            "==============\n",
            "['http://dbpedia.org/resource/Big_data', 'http://dbpedia.org/resource/Computer_architecture', 'http://dbpedia.org/resource/Business_intelligence', 'http://dbpedia.org/resource/Data_management']\n",
            "['http://dbpedia.org/resource/MySQL', 'http://dbpedia.org/resource/AngularJS', 'http://dbpedia.org/resource/Oracle', 'http://dbpedia.org/resource/Database', 'http://dbpedia.org/resource/JSON', 'http://dbpedia.org/resource/PHP', 'http://dbpedia.org/resource/XML', 'http://dbpedia.org/resource/Symfony', 'http://dbpedia.org/resource/HTML', 'http://dbpedia.org/resource/Gradle', 'http://dbpedia.org/resource/Unit_testing', 'http://dbpedia.org/resource/JavaScript']\n",
            "0.205\n",
            "4\n",
            "==============\n",
            "['http://dbpedia.org/resource/Big_data', 'http://dbpedia.org/resource/Computer_architecture', 'http://dbpedia.org/resource/Business_intelligence', 'http://dbpedia.org/resource/Data_management']\n",
            "['http://dbpedia.org/resource/Jira', 'http://dbpedia.org/resource/Data_mining', 'http://dbpedia.org/resource/Data_warehouse']\n",
            "0.227\n",
            "3\n",
            "==============\n",
            "['http://dbpedia.org/resource/Big_data', 'http://dbpedia.org/resource/Computer_architecture', 'http://dbpedia.org/resource/Business_intelligence', 'http://dbpedia.org/resource/Data_management']\n",
            "['http://dbpedia.org/resource/DevOps', 'http://dbpedia.org/resource/.NET_Framework', 'http://dbpedia.org/resource/Microservices', 'http://dbpedia.org/resource/SQLite', 'http://dbpedia.org/resource/Groovy_(programming_language)', 'http://dbpedia.org/resource/Robotics', 'http://dbpedia.org/resource/Linux', 'http://dbpedia.org/resource/Continuous_integration', 'http://dbpedia.org/resource/Perl', 'http://dbpedia.org/resource/ASP.NET', 'http://dbpedia.org/resource/Scripting_language']\n",
            "0.212\n",
            "4\n",
            "==============\n",
            "['http://dbpedia.org/resource/Big_data', 'http://dbpedia.org/resource/Computer_architecture', 'http://dbpedia.org/resource/Business_intelligence', 'http://dbpedia.org/resource/Data_management']\n",
            "['http://dbpedia.org/resource/Git', 'http://dbpedia.org/resource/Ansible', 'http://dbpedia.org/resource/Elasticsearch', 'http://dbpedia.org/resource/Surveillance', 'http://dbpedia.org/resource/Version_control']\n",
            "0.161\n",
            "4\n",
            "==============\n",
            "['http://dbpedia.org/resource/Big_data', 'http://dbpedia.org/resource/Computer_architecture', 'http://dbpedia.org/resource/Business_intelligence', 'http://dbpedia.org/resource/Data_management']\n",
            "['http://dbpedia.org/resource/User_experience', 'http://dbpedia.org/resource/NoSQL', 'http://dbpedia.org/resource/User_interface', 'http://dbpedia.org/resource/Computer_hardware', 'http://dbpedia.org/resource/Relational_database', 'http://dbpedia.org/resource/Project_management', 'http://dbpedia.org/resource/SCADA']\n",
            "0.236\n",
            "4\n",
            "==============\n",
            "['http://dbpedia.org/resource/HTML', 'http://dbpedia.org/resource/User_interface', 'http://dbpedia.org/resource/User_experience']\n",
            "['http://dbpedia.org/resource/MySQL', 'http://dbpedia.org/resource/AngularJS', 'http://dbpedia.org/resource/Oracle', 'http://dbpedia.org/resource/Database', 'http://dbpedia.org/resource/JSON', 'http://dbpedia.org/resource/PHP', 'http://dbpedia.org/resource/XML', 'http://dbpedia.org/resource/Symfony', 'http://dbpedia.org/resource/HTML', 'http://dbpedia.org/resource/Gradle', 'http://dbpedia.org/resource/Unit_testing', 'http://dbpedia.org/resource/JavaScript']\n",
            "0.478\n",
            "3\n",
            "==============\n",
            "['http://dbpedia.org/resource/HTML', 'http://dbpedia.org/resource/User_interface', 'http://dbpedia.org/resource/User_experience']\n",
            "['http://dbpedia.org/resource/Jira', 'http://dbpedia.org/resource/Data_mining', 'http://dbpedia.org/resource/Data_warehouse']\n",
            "0.171\n",
            "3\n",
            "==============\n",
            "['http://dbpedia.org/resource/HTML', 'http://dbpedia.org/resource/User_interface', 'http://dbpedia.org/resource/User_experience']\n",
            "['http://dbpedia.org/resource/DevOps', 'http://dbpedia.org/resource/.NET_Framework', 'http://dbpedia.org/resource/Microservices', 'http://dbpedia.org/resource/SQLite', 'http://dbpedia.org/resource/Groovy_(programming_language)', 'http://dbpedia.org/resource/Robotics', 'http://dbpedia.org/resource/Linux', 'http://dbpedia.org/resource/Continuous_integration', 'http://dbpedia.org/resource/Perl', 'http://dbpedia.org/resource/ASP.NET', 'http://dbpedia.org/resource/Scripting_language']\n",
            "0.193\n",
            "3\n",
            "==============\n",
            "['http://dbpedia.org/resource/HTML', 'http://dbpedia.org/resource/User_interface', 'http://dbpedia.org/resource/User_experience']\n",
            "['http://dbpedia.org/resource/Git', 'http://dbpedia.org/resource/Ansible', 'http://dbpedia.org/resource/Elasticsearch', 'http://dbpedia.org/resource/Surveillance', 'http://dbpedia.org/resource/Version_control']\n",
            "0.167\n",
            "3\n",
            "==============\n",
            "['http://dbpedia.org/resource/HTML', 'http://dbpedia.org/resource/User_interface', 'http://dbpedia.org/resource/User_experience']\n",
            "['http://dbpedia.org/resource/User_experience', 'http://dbpedia.org/resource/NoSQL', 'http://dbpedia.org/resource/User_interface', 'http://dbpedia.org/resource/Computer_hardware', 'http://dbpedia.org/resource/Relational_database', 'http://dbpedia.org/resource/Project_management', 'http://dbpedia.org/resource/SCADA']\n",
            "0.7\n",
            "3\n",
            "==============\n",
            "['http://dbpedia.org/resource/Elasticsearch', 'http://dbpedia.org/resource/Machine_learning', 'http://dbpedia.org/resource/Data_mining']\n",
            "['http://dbpedia.org/resource/MySQL', 'http://dbpedia.org/resource/AngularJS', 'http://dbpedia.org/resource/Oracle', 'http://dbpedia.org/resource/Database', 'http://dbpedia.org/resource/JSON', 'http://dbpedia.org/resource/PHP', 'http://dbpedia.org/resource/XML', 'http://dbpedia.org/resource/Symfony', 'http://dbpedia.org/resource/HTML', 'http://dbpedia.org/resource/Gradle', 'http://dbpedia.org/resource/Unit_testing', 'http://dbpedia.org/resource/JavaScript']\n",
            "0.211\n",
            "3\n",
            "==============\n",
            "['http://dbpedia.org/resource/Elasticsearch', 'http://dbpedia.org/resource/Machine_learning', 'http://dbpedia.org/resource/Data_mining']\n",
            "['http://dbpedia.org/resource/Jira', 'http://dbpedia.org/resource/Data_mining', 'http://dbpedia.org/resource/Data_warehouse']\n",
            "0.415\n",
            "3\n",
            "==============\n",
            "['http://dbpedia.org/resource/Elasticsearch', 'http://dbpedia.org/resource/Machine_learning', 'http://dbpedia.org/resource/Data_mining']\n",
            "['http://dbpedia.org/resource/DevOps', 'http://dbpedia.org/resource/.NET_Framework', 'http://dbpedia.org/resource/Microservices', 'http://dbpedia.org/resource/SQLite', 'http://dbpedia.org/resource/Groovy_(programming_language)', 'http://dbpedia.org/resource/Robotics', 'http://dbpedia.org/resource/Linux', 'http://dbpedia.org/resource/Continuous_integration', 'http://dbpedia.org/resource/Perl', 'http://dbpedia.org/resource/ASP.NET', 'http://dbpedia.org/resource/Scripting_language']\n",
            "0.229\n",
            "3\n",
            "==============\n",
            "['http://dbpedia.org/resource/Elasticsearch', 'http://dbpedia.org/resource/Machine_learning', 'http://dbpedia.org/resource/Data_mining']\n",
            "['http://dbpedia.org/resource/Git', 'http://dbpedia.org/resource/Ansible', 'http://dbpedia.org/resource/Elasticsearch', 'http://dbpedia.org/resource/Surveillance', 'http://dbpedia.org/resource/Version_control']\n",
            "0.475\n",
            "3\n",
            "==============\n",
            "['http://dbpedia.org/resource/Elasticsearch', 'http://dbpedia.org/resource/Machine_learning', 'http://dbpedia.org/resource/Data_mining']\n",
            "['http://dbpedia.org/resource/User_experience', 'http://dbpedia.org/resource/NoSQL', 'http://dbpedia.org/resource/User_interface', 'http://dbpedia.org/resource/Computer_hardware', 'http://dbpedia.org/resource/Relational_database', 'http://dbpedia.org/resource/Project_management', 'http://dbpedia.org/resource/SCADA']\n",
            "0.178\n",
            "3\n",
            "==============\n",
            "[[0.274 0.188 0.469 0.535 0.37 ]\n",
            " [0.198 0.163 0.722 0.187 0.203]\n",
            " [0.216 0.155 0.724 0.163 0.183]\n",
            " [1.    0.149 0.224 0.21  0.194]\n",
            " [0.205 0.227 0.212 0.161 0.236]\n",
            " [0.478 0.171 0.193 0.167 0.7  ]\n",
            " [0.211 0.415 0.229 0.475 0.178]]\n"
          ],
          "name": "stdout"
        }
      ]
    },
    {
      "cell_type": "code",
      "metadata": {
        "id": "vSxBzYO35Cji"
      },
      "source": [
        "a = [4.260274313648173, 2.470715521736053, 3.9306079892661225, 2.302067008355732, 3.367561565650502,\n",
        "3.0, 1.0, 3.0,\n",
        "1.3498491956962968, 2.6338078523750066, 0.2838260668994744, 1.7763223592241961, 2.814083804376451,\n",
        "3.0, 1.4690731458689448, 2.790897954698911, 2.172939948380468,\n",
        "4.0, 4.0, 4.0,\n",
        "2.0, 1.4938994577033764, 2.0, 1.0,\n",
        "2.466519841349037, 2.467401321708789, 2.0 ]"
      ],
      "execution_count": null,
      "outputs": []
    },
    {
      "cell_type": "code",
      "metadata": {
        "colab": {
          "base_uri": "https://localhost:8080/"
        },
        "id": "e4osRxHJ7_fv",
        "outputId": "50b1a740-b4eb-4e34-d9f8-c4b43eecc388"
      },
      "source": [
        "(100 + 41 + 53 + 70 + 72)/ 5"
      ],
      "execution_count": null,
      "outputs": [
        {
          "output_type": "execute_result",
          "data": {
            "text/plain": [
              "67.2"
            ]
          },
          "metadata": {
            "tags": []
          },
          "execution_count": 59
        }
      ]
    },
    {
      "cell_type": "code",
      "metadata": {
        "colab": {
          "base_uri": "https://localhost:8080/"
        },
        "id": "M9DMgqaBTRfF",
        "outputId": "d2742a68-f1b9-4af8-cea1-16b2c485b1ec"
      },
      "source": [
        "(77 + 43 + 74 + 69 + 120 + 23)/ 6"
      ],
      "execution_count": null,
      "outputs": [
        {
          "output_type": "execute_result",
          "data": {
            "text/plain": [
              "67.66666666666667"
            ]
          },
          "metadata": {
            "tags": []
          },
          "execution_count": 60
        }
      ]
    },
    {
      "cell_type": "code",
      "metadata": {
        "id": "PJ2UghzmTYBn"
      },
      "source": [],
      "execution_count": null,
      "outputs": []
    }
  ]
}